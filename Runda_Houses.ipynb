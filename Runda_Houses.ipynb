{
  "nbformat": 4,
  "nbformat_minor": 0,
  "metadata": {
    "colab": {
      "name": "Runda Houses",
      "provenance": [],
      "collapsed_sections": [],
      "toc_visible": true,
      "authorship_tag": "ABX9TyPajqdLr2Th46zI7IS+kDbW",
      "include_colab_link": true
    },
    "kernelspec": {
      "name": "python3",
      "display_name": "Python 3"
    }
  },
  "cells": [
    {
      "cell_type": "markdown",
      "metadata": {
        "id": "view-in-github",
        "colab_type": "text"
      },
      "source": [
        "<a href=\"https://colab.research.google.com/github/wamaithaNyamu/RUNDAHOUSES/blob/master/Runda_Houses.ipynb\" target=\"_parent\"><img src=\"https://colab.research.google.com/assets/colab-badge.svg\" alt=\"Open In Colab\"/></a>"
      ]
    },
    {
      "cell_type": "markdown",
      "metadata": {
        "id": "-uwyxTZ-DzKV",
        "colab_type": "text"
      },
      "source": [
        "\n",
        "# INTRODUCTION\n",
        "\n",
        "Runda is a surburb in the heart of Nairobi. Its an estate of the who is who in the country. Due to the status quo of the class of citizens that live here, it is exepected that the price of land and houses are off the roof (well, from the common mwananchis perspective anyway). This notebook walks through investigating housing prices in Runda. The data has been scrapped from [BuyRentKenya](https://www.buyrentkenya.com/houses-for-sale/westlands/runda?page=1). Download the csv from [here]() .Find a step by step tutorial for the webscrapping [here](https://wamaithanyamu.com/categories/runda-houses/).\n",
        "\n"
      ]
    },
    {
      "cell_type": "markdown",
      "metadata": {
        "id": "KsE1dYOUFKQ0",
        "colab_type": "text"
      },
      "source": [
        "# LOAD THE DATA\n",
        "\n",
        "First import the necessary libraries"
      ]
    },
    {
      "cell_type": "code",
      "metadata": {
        "id": "nYNshciTGU1B",
        "colab_type": "code",
        "colab": {
          "base_uri": "https://localhost:8080/",
          "height": 53
        },
        "outputId": "dd06d945-604f-48c1-fbba-66562de1e16d"
      },
      "source": [
        "# import necessary libraries\n",
        "import pandas as pd\n",
        "import numpy as np\n",
        "import matplotlib.pyplot as plt\n",
        "import seaborn as sns\n",
        "import re\n"
      ],
      "execution_count": 1,
      "outputs": [
        {
          "output_type": "stream",
          "text": [
            "/usr/local/lib/python3.6/dist-packages/statsmodels/tools/_testing.py:19: FutureWarning: pandas.util.testing is deprecated. Use the functions in the public API at pandas.testing instead.\n",
            "  import pandas.util.testing as tm\n"
          ],
          "name": "stderr"
        }
      ]
    },
    {
      "cell_type": "markdown",
      "metadata": {
        "id": "DMD_-KRcGtqI",
        "colab_type": "text"
      },
      "source": [
        "We load the data from the csv file runda_houses.csv and convert it to a dataframe"
      ]
    },
    {
      "cell_type": "code",
      "metadata": {
        "id": "HZiYVNw7Gl1S",
        "colab_type": "code",
        "colab": {
          "base_uri": "https://localhost:8080/",
          "height": 147
        },
        "outputId": "7e07381b-cfa1-45ce-db3c-39285d6bfe8a"
      },
      "source": [
        "df = pd.read_csv('/content/manually_cleaned_runda-houses.csv')\n",
        "df.head(2)"
      ],
      "execution_count": 2,
      "outputs": [
        {
          "output_type": "execute_result",
          "data": {
            "text/html": [
              "<div>\n",
              "<style scoped>\n",
              "    .dataframe tbody tr th:only-of-type {\n",
              "        vertical-align: middle;\n",
              "    }\n",
              "\n",
              "    .dataframe tbody tr th {\n",
              "        vertical-align: top;\n",
              "    }\n",
              "\n",
              "    .dataframe thead th {\n",
              "        text-align: right;\n",
              "    }\n",
              "</style>\n",
              "<table border=\"1\" class=\"dataframe\">\n",
              "  <thead>\n",
              "    <tr style=\"text-align: right;\">\n",
              "      <th></th>\n",
              "      <th>_id</th>\n",
              "      <th>url</th>\n",
              "      <th>__v</th>\n",
              "      <th>area</th>\n",
              "      <th>baths</th>\n",
              "      <th>beds</th>\n",
              "      <th>cars</th>\n",
              "      <th>description</th>\n",
              "      <th>externalFeatures</th>\n",
              "      <th>generalFeatures</th>\n",
              "      <th>internalFeatures</th>\n",
              "      <th>price</th>\n",
              "    </tr>\n",
              "  </thead>\n",
              "  <tbody>\n",
              "    <tr>\n",
              "      <th>0</th>\n",
              "      <td>5f5d1a3e1e441dbaa36b1273</td>\n",
              "      <td>https://www.buyrentkenya.com/listings/6-bed-ho...</td>\n",
              "      <td>0</td>\n",
              "      <td>2428</td>\n",
              "      <td>8</td>\n",
              "      <td>6</td>\n",
              "      <td>0</td>\n",
              "      <td>\\n6 bedroom houseAll rooms en-suiteSitting on ...</td>\n",
              "      <td>[' Built in Cupboards ', ' Ensuite ', ' Kitche...</td>\n",
              "      <td>[' Balcony ', ' Fence ', ' Garden ']</td>\n",
              "      <td>[]</td>\n",
              "      <td>85000000</td>\n",
              "    </tr>\n",
              "    <tr>\n",
              "      <th>1</th>\n",
              "      <td>5f5d1a3f1e441dbaa36b132c</td>\n",
              "      <td>https://www.buyrentkenya.com/listings/4-bed-ho...</td>\n",
              "      <td>0</td>\n",
              "      <td>6001</td>\n",
              "      <td>3</td>\n",
              "      <td>4</td>\n",
              "      <td>0</td>\n",
              "      <td>\\nUnbelievable!!Yet a unique house with charac...</td>\n",
              "      <td>[' Fence ', ' Garden ']</td>\n",
              "      <td>[' Fibre Internet ', ' Pets Allowed ']</td>\n",
              "      <td>[' Alarm ', ' Built in Cupboards ', ' Ensuite ...</td>\n",
              "      <td>75000000</td>\n",
              "    </tr>\n",
              "  </tbody>\n",
              "</table>\n",
              "</div>"
            ],
            "text/plain": [
              "                        _id  ...     price\n",
              "0  5f5d1a3e1e441dbaa36b1273  ...  85000000\n",
              "1  5f5d1a3f1e441dbaa36b132c  ...  75000000\n",
              "\n",
              "[2 rows x 12 columns]"
            ]
          },
          "metadata": {
            "tags": []
          },
          "execution_count": 2
        }
      ]
    },
    {
      "cell_type": "code",
      "metadata": {
        "id": "y_A58v9NHCOr",
        "colab_type": "code",
        "colab": {
          "base_uri": "https://localhost:8080/",
          "height": 147
        },
        "outputId": "a0002a5d-50e8-46db-f724-0e5ae7e7adb9"
      },
      "source": [
        "df.tail(2)"
      ],
      "execution_count": 3,
      "outputs": [
        {
          "output_type": "execute_result",
          "data": {
            "text/html": [
              "<div>\n",
              "<style scoped>\n",
              "    .dataframe tbody tr th:only-of-type {\n",
              "        vertical-align: middle;\n",
              "    }\n",
              "\n",
              "    .dataframe tbody tr th {\n",
              "        vertical-align: top;\n",
              "    }\n",
              "\n",
              "    .dataframe thead th {\n",
              "        text-align: right;\n",
              "    }\n",
              "</style>\n",
              "<table border=\"1\" class=\"dataframe\">\n",
              "  <thead>\n",
              "    <tr style=\"text-align: right;\">\n",
              "      <th></th>\n",
              "      <th>_id</th>\n",
              "      <th>url</th>\n",
              "      <th>__v</th>\n",
              "      <th>area</th>\n",
              "      <th>baths</th>\n",
              "      <th>beds</th>\n",
              "      <th>cars</th>\n",
              "      <th>description</th>\n",
              "      <th>externalFeatures</th>\n",
              "      <th>generalFeatures</th>\n",
              "      <th>internalFeatures</th>\n",
              "      <th>price</th>\n",
              "    </tr>\n",
              "  </thead>\n",
              "  <tbody>\n",
              "    <tr>\n",
              "      <th>140</th>\n",
              "      <td>5f5d202b1e441dbaa36e9b15</td>\n",
              "      <td>https://www.buyrentkenya.com/listings/5-bed-ho...</td>\n",
              "      <td>0</td>\n",
              "      <td>0</td>\n",
              "      <td>0</td>\n",
              "      <td>5</td>\n",
              "      <td>2</td>\n",
              "      <td>\\nIts a magnificent 5bdrm unfurnished ambassad...</td>\n",
              "      <td>[]</td>\n",
              "      <td>[]</td>\n",
              "      <td>[]</td>\n",
              "      <td>140000000</td>\n",
              "    </tr>\n",
              "    <tr>\n",
              "      <th>141</th>\n",
              "      <td>5f5d202c1e441dbaa36e9b93</td>\n",
              "      <td>https://www.buyrentkenya.com/listings/6-bed-to...</td>\n",
              "      <td>0</td>\n",
              "      <td>0</td>\n",
              "      <td>7</td>\n",
              "      <td>6</td>\n",
              "      <td>0</td>\n",
              "      <td>\\n6 Bedroom Ambassadorial House for saleAll en...</td>\n",
              "      <td>[]</td>\n",
              "      <td>[]</td>\n",
              "      <td>[]</td>\n",
              "      <td>0</td>\n",
              "    </tr>\n",
              "  </tbody>\n",
              "</table>\n",
              "</div>"
            ],
            "text/plain": [
              "                          _id  ...      price\n",
              "140  5f5d202b1e441dbaa36e9b15  ...  140000000\n",
              "141  5f5d202c1e441dbaa36e9b93  ...          0\n",
              "\n",
              "[2 rows x 12 columns]"
            ]
          },
          "metadata": {
            "tags": []
          },
          "execution_count": 3
        }
      ]
    },
    {
      "cell_type": "markdown",
      "metadata": {
        "id": "_O3WthM8FST7",
        "colab_type": "text"
      },
      "source": [
        "# DATA CLEANING"
      ]
    },
    {
      "cell_type": "markdown",
      "metadata": {
        "id": "YW2e7GcmG6PB",
        "colab_type": "text"
      },
      "source": [
        "The data needs alot of cleaning inorder to be useful for analysis. Some values are NaN while others are None. The features are also in form of lists and some are also missing. "
      ]
    },
    {
      "cell_type": "markdown",
      "metadata": {
        "id": "ub3OBVJ0ILWP",
        "colab_type": "text"
      },
      "source": [
        "### Drop unnecesaary columns\n",
        "\n",
        "We do not need the url , _id, and the _v columns so we will drop them for they only add clutter to he data we have"
      ]
    },
    {
      "cell_type": "code",
      "metadata": {
        "id": "2Px5Nff-HrBb",
        "colab_type": "code",
        "colab": {
          "base_uri": "https://localhost:8080/",
          "height": 112
        },
        "outputId": "7c953998-2538-4221-bfd9-87b331be1906"
      },
      "source": [
        "# drop columns\n",
        "\n",
        "df =df.drop(['_id', 'url', '__v','cars', 'description'], axis=1)\n",
        "df.head(2)"
      ],
      "execution_count": 4,
      "outputs": [
        {
          "output_type": "execute_result",
          "data": {
            "text/html": [
              "<div>\n",
              "<style scoped>\n",
              "    .dataframe tbody tr th:only-of-type {\n",
              "        vertical-align: middle;\n",
              "    }\n",
              "\n",
              "    .dataframe tbody tr th {\n",
              "        vertical-align: top;\n",
              "    }\n",
              "\n",
              "    .dataframe thead th {\n",
              "        text-align: right;\n",
              "    }\n",
              "</style>\n",
              "<table border=\"1\" class=\"dataframe\">\n",
              "  <thead>\n",
              "    <tr style=\"text-align: right;\">\n",
              "      <th></th>\n",
              "      <th>area</th>\n",
              "      <th>baths</th>\n",
              "      <th>beds</th>\n",
              "      <th>externalFeatures</th>\n",
              "      <th>generalFeatures</th>\n",
              "      <th>internalFeatures</th>\n",
              "      <th>price</th>\n",
              "    </tr>\n",
              "  </thead>\n",
              "  <tbody>\n",
              "    <tr>\n",
              "      <th>0</th>\n",
              "      <td>2428</td>\n",
              "      <td>8</td>\n",
              "      <td>6</td>\n",
              "      <td>[' Built in Cupboards ', ' Ensuite ', ' Kitche...</td>\n",
              "      <td>[' Balcony ', ' Fence ', ' Garden ']</td>\n",
              "      <td>[]</td>\n",
              "      <td>85000000</td>\n",
              "    </tr>\n",
              "    <tr>\n",
              "      <th>1</th>\n",
              "      <td>6001</td>\n",
              "      <td>3</td>\n",
              "      <td>4</td>\n",
              "      <td>[' Fence ', ' Garden ']</td>\n",
              "      <td>[' Fibre Internet ', ' Pets Allowed ']</td>\n",
              "      <td>[' Alarm ', ' Built in Cupboards ', ' Ensuite ...</td>\n",
              "      <td>75000000</td>\n",
              "    </tr>\n",
              "  </tbody>\n",
              "</table>\n",
              "</div>"
            ],
            "text/plain": [
              "   area  baths  ...                                   internalFeatures     price\n",
              "0  2428      8  ...                                                 []  85000000\n",
              "1  6001      3  ...  [' Alarm ', ' Built in Cupboards ', ' Ensuite ...  75000000\n",
              "\n",
              "[2 rows x 7 columns]"
            ]
          },
          "metadata": {
            "tags": []
          },
          "execution_count": 4
        }
      ]
    },
    {
      "cell_type": "code",
      "metadata": {
        "id": "9DRJ6RS_Jh0I",
        "colab_type": "code",
        "colab": {
          "base_uri": "https://localhost:8080/",
          "height": 160
        },
        "outputId": "d7e3e20d-e256-4e47-fd5f-fd528f9bcf47"
      },
      "source": [
        "df.isna().sum()"
      ],
      "execution_count": 5,
      "outputs": [
        {
          "output_type": "execute_result",
          "data": {
            "text/plain": [
              "area                0\n",
              "baths               0\n",
              "beds                0\n",
              "externalFeatures    0\n",
              "generalFeatures     0\n",
              "internalFeatures    0\n",
              "price               0\n",
              "dtype: int64"
            ]
          },
          "metadata": {
            "tags": []
          },
          "execution_count": 5
        }
      ]
    },
    {
      "cell_type": "code",
      "metadata": {
        "id": "hUmWy1oPFUXt",
        "colab_type": "code",
        "colab": {
          "base_uri": "https://localhost:8080/",
          "height": 300
        },
        "outputId": "83779946-1d8f-49cb-8dad-a7bec4097854"
      },
      "source": [
        "df.describe()"
      ],
      "execution_count": 6,
      "outputs": [
        {
          "output_type": "execute_result",
          "data": {
            "text/html": [
              "<div>\n",
              "<style scoped>\n",
              "    .dataframe tbody tr th:only-of-type {\n",
              "        vertical-align: middle;\n",
              "    }\n",
              "\n",
              "    .dataframe tbody tr th {\n",
              "        vertical-align: top;\n",
              "    }\n",
              "\n",
              "    .dataframe thead th {\n",
              "        text-align: right;\n",
              "    }\n",
              "</style>\n",
              "<table border=\"1\" class=\"dataframe\">\n",
              "  <thead>\n",
              "    <tr style=\"text-align: right;\">\n",
              "      <th></th>\n",
              "      <th>area</th>\n",
              "      <th>baths</th>\n",
              "      <th>beds</th>\n",
              "      <th>price</th>\n",
              "    </tr>\n",
              "  </thead>\n",
              "  <tbody>\n",
              "    <tr>\n",
              "      <th>count</th>\n",
              "      <td>142.000000</td>\n",
              "      <td>142.000000</td>\n",
              "      <td>142.000000</td>\n",
              "      <td>1.420000e+02</td>\n",
              "    </tr>\n",
              "    <tr>\n",
              "      <th>mean</th>\n",
              "      <td>1474.000000</td>\n",
              "      <td>4.739437</td>\n",
              "      <td>4.964789</td>\n",
              "      <td>1.106027e+08</td>\n",
              "    </tr>\n",
              "    <tr>\n",
              "      <th>std</th>\n",
              "      <td>1136.997071</td>\n",
              "      <td>2.075455</td>\n",
              "      <td>1.013469</td>\n",
              "      <td>6.002568e+07</td>\n",
              "    </tr>\n",
              "    <tr>\n",
              "      <th>min</th>\n",
              "      <td>0.000000</td>\n",
              "      <td>0.000000</td>\n",
              "      <td>3.000000</td>\n",
              "      <td>0.000000e+00</td>\n",
              "    </tr>\n",
              "    <tr>\n",
              "      <th>25%</th>\n",
              "      <td>0.000000</td>\n",
              "      <td>4.000000</td>\n",
              "      <td>4.000000</td>\n",
              "      <td>7.500000e+07</td>\n",
              "    </tr>\n",
              "    <tr>\n",
              "      <th>50%</th>\n",
              "      <td>2023.000000</td>\n",
              "      <td>5.000000</td>\n",
              "      <td>5.000000</td>\n",
              "      <td>9.500000e+07</td>\n",
              "    </tr>\n",
              "    <tr>\n",
              "      <th>75%</th>\n",
              "      <td>2024.000000</td>\n",
              "      <td>6.000000</td>\n",
              "      <td>5.000000</td>\n",
              "      <td>1.500000e+08</td>\n",
              "    </tr>\n",
              "    <tr>\n",
              "      <th>max</th>\n",
              "      <td>6001.000000</td>\n",
              "      <td>9.000000</td>\n",
              "      <td>8.000000</td>\n",
              "      <td>2.600000e+08</td>\n",
              "    </tr>\n",
              "  </tbody>\n",
              "</table>\n",
              "</div>"
            ],
            "text/plain": [
              "              area       baths        beds         price\n",
              "count   142.000000  142.000000  142.000000  1.420000e+02\n",
              "mean   1474.000000    4.739437    4.964789  1.106027e+08\n",
              "std    1136.997071    2.075455    1.013469  6.002568e+07\n",
              "min       0.000000    0.000000    3.000000  0.000000e+00\n",
              "25%       0.000000    4.000000    4.000000  7.500000e+07\n",
              "50%    2023.000000    5.000000    5.000000  9.500000e+07\n",
              "75%    2024.000000    6.000000    5.000000  1.500000e+08\n",
              "max    6001.000000    9.000000    8.000000  2.600000e+08"
            ]
          },
          "metadata": {
            "tags": []
          },
          "execution_count": 6
        }
      ]
    },
    {
      "cell_type": "markdown",
      "metadata": {
        "id": "TsQ2lK8z7TPM",
        "colab_type": "text"
      },
      "source": [
        "The dataset has a lot of missing values. We need to work with data that is complete or drop those that have few missing values. We check for zeros per column. In our webscraping we assigned a zero to any feature that was not listed. However, the missing data can be most likely found in the  description. "
      ]
    },
    {
      "cell_type": "code",
      "metadata": {
        "id": "CD0oHmWK7lE2",
        "colab_type": "code",
        "colab": {
          "base_uri": "https://localhost:8080/",
          "height": 160
        },
        "outputId": "0a4e36f0-eb4c-45b7-ab54-36fe2df28bb2"
      },
      "source": [
        "# Get number if zeros per column\n",
        "df.isin([0]).sum()"
      ],
      "execution_count": 7,
      "outputs": [
        {
          "output_type": "execute_result",
          "data": {
            "text/plain": [
              "area                37\n",
              "baths               16\n",
              "beds                 0\n",
              "externalFeatures     0\n",
              "generalFeatures      0\n",
              "internalFeatures     0\n",
              "price                3\n",
              "dtype: int64"
            ]
          },
          "metadata": {
            "tags": []
          },
          "execution_count": 7
        }
      ]
    },
    {
      "cell_type": "code",
      "metadata": {
        "id": "0t1tc0VDAgVo",
        "colab_type": "code",
        "colab": {}
      },
      "source": [
        "df = df[~(df == 0).any(axis=1)]"
      ],
      "execution_count": 8,
      "outputs": []
    },
    {
      "cell_type": "markdown",
      "metadata": {
        "id": "bbQgfGE1Wz9B",
        "colab_type": "text"
      },
      "source": [
        "# Quantile binning for price"
      ]
    },
    {
      "cell_type": "code",
      "metadata": {
        "id": "yTSJflk5VO_h",
        "colab_type": "code",
        "colab": {
          "base_uri": "https://localhost:8080/",
          "height": 0
        },
        "outputId": "3f35e9b6-472d-4699-84d6-dfbe31ac4572"
      },
      "source": [
        "fig, ax = plt.subplots()\n",
        "df['price'].hist(bins=30, color='#A9C5D3')\n",
        "ax.set_title('price Histogram', fontsize=12)\n",
        "ax.set_xlabel('price', fontsize=12)\n",
        "ax.set_ylabel('Frequency', fontsize=12)\n",
        "\n"
      ],
      "execution_count": 9,
      "outputs": [
        {
          "output_type": "execute_result",
          "data": {
            "text/plain": [
              "Text(0, 0.5, 'Frequency')"
            ]
          },
          "metadata": {
            "tags": []
          },
          "execution_count": 9
        },
        {
          "output_type": "display_data",
          "data": {
            "image/png": "[encoded data removed]",
            "text/plain": [
              "<Figure size 432x288 with 1 Axes>"
            ]
          },
          "metadata": {
            "tags": [],
            "needs_background": "light"
          }
        }
      ]
    },
    {
      "cell_type": "code",
      "metadata": {
        "id": "qhAcOdVXVaz_",
        "colab_type": "code",
        "colab": {
          "base_uri": "https://localhost:8080/",
          "height": 0
        },
        "outputId": "bde846d1-b496-40c4-9402-549d2f565a68"
      },
      "source": [
        "\n",
        "\n",
        "quantile_list = [0, .25, .5, .75, 1.]\n",
        "quantiles = df['price'].quantile(quantile_list)\n",
        "quantiles\n",
        "\n"
      ],
      "execution_count": 10,
      "outputs": [
        {
          "output_type": "execute_result",
          "data": {
            "text/plain": [
              "0.00       340000.0\n",
              "0.25     85000000.0\n",
              "0.50    120000000.0\n",
              "0.75    158750000.0\n",
              "1.00    260000000.0\n",
              "Name: price, dtype: float64"
            ]
          },
          "metadata": {
            "tags": []
          },
          "execution_count": 10
        }
      ]
    },
    {
      "cell_type": "code",
      "metadata": {
        "id": "IYpJdpPSKNAc",
        "colab_type": "code",
        "colab": {
          "base_uri": "https://localhost:8080/",
          "height": 0
        },
        "outputId": "6e2fc010-16e9-4af7-d9a0-82781c66fb28"
      },
      "source": [
        "fig, ax = plt.subplots()\n",
        "df['price'].hist(bins=30, color='#A9C5D3')\n",
        "\n",
        "for quantile in quantiles:\n",
        "    qvl = plt.axvline(quantile, color='r')\n",
        "ax.legend([qvl], ['Quantiles'], fontsize=10)\n",
        "\n",
        "ax.set_title('Runda houses quantile dist', fontsize=12)\n",
        "ax.set_xlabel('price', fontsize=12)\n",
        "ax.set_ylabel('Frequency', fontsize=12)"
      ],
      "execution_count": 11,
      "outputs": [
        {
          "output_type": "execute_result",
          "data": {
            "text/plain": [
              "Text(0, 0.5, 'Frequency')"
            ]
          },
          "metadata": {
            "tags": []
          },
          "execution_count": 11
        },
        {
          "output_type": "display_data",
          "data": {
            "image/png": "[encoded data removed]",
            "text/plain": [
              "<Figure size 432x288 with 1 Axes>"
            ]
          },
          "metadata": {
            "tags": [],
            "needs_background": "light"
          }
        }
      ]
    },
    {
      "cell_type": "code",
      "metadata": {
        "id": "kFfHIWXrWDyP",
        "colab_type": "code",
        "colab": {
          "base_uri": "https://localhost:8080/",
          "height": 0
        },
        "outputId": "33ebe23f-1d7c-4a5a-b49c-54979fe9e4a5"
      },
      "source": [
        "\n",
        "def transform_price(price):\n",
        "    quantile_list = [0, .25, .5, .75, 1.]\n",
        "    quantile_labels = ['low','fair','medium','high']\n",
        "\n",
        "    df['price'] = pd.qcut(price,q=quantile_list, labels=quantile_labels)\n",
        "\n",
        "transform_price(df['price'])\n",
        "df.head(10)"
      ],
      "execution_count": 12,
      "outputs": [
        {
          "output_type": "execute_result",
          "data": {
            "text/html": [
              "<div>\n",
              "<style scoped>\n",
              "    .dataframe tbody tr th:only-of-type {\n",
              "        vertical-align: middle;\n",
              "    }\n",
              "\n",
              "    .dataframe tbody tr th {\n",
              "        vertical-align: top;\n",
              "    }\n",
              "\n",
              "    .dataframe thead th {\n",
              "        text-align: right;\n",
              "    }\n",
              "</style>\n",
              "<table border=\"1\" class=\"dataframe\">\n",
              "  <thead>\n",
              "    <tr style=\"text-align: right;\">\n",
              "      <th></th>\n",
              "      <th>area</th>\n",
              "      <th>baths</th>\n",
              "      <th>beds</th>\n",
              "      <th>externalFeatures</th>\n",
              "      <th>generalFeatures</th>\n",
              "      <th>internalFeatures</th>\n",
              "      <th>price</th>\n",
              "    </tr>\n",
              "  </thead>\n",
              "  <tbody>\n",
              "    <tr>\n",
              "      <th>0</th>\n",
              "      <td>2428</td>\n",
              "      <td>8</td>\n",
              "      <td>6</td>\n",
              "      <td>[' Built in Cupboards ', ' Ensuite ', ' Kitche...</td>\n",
              "      <td>[' Balcony ', ' Fence ', ' Garden ']</td>\n",
              "      <td>[]</td>\n",
              "      <td>low</td>\n",
              "    </tr>\n",
              "    <tr>\n",
              "      <th>1</th>\n",
              "      <td>6001</td>\n",
              "      <td>3</td>\n",
              "      <td>4</td>\n",
              "      <td>[' Fence ', ' Garden ']</td>\n",
              "      <td>[' Fibre Internet ', ' Pets Allowed ']</td>\n",
              "      <td>[' Alarm ', ' Built in Cupboards ', ' Ensuite ...</td>\n",
              "      <td>low</td>\n",
              "    </tr>\n",
              "    <tr>\n",
              "      <th>3</th>\n",
              "      <td>800</td>\n",
              "      <td>5</td>\n",
              "      <td>5</td>\n",
              "      <td>[' Balcony ', ' Bore Hole ', ' Electric Fence ...</td>\n",
              "      <td>[' Backup Generator ', ' CCTV ', ' Pets Allowe...</td>\n",
              "      <td>[' Aircon ', ' Alarm ', ' Built in Cupboards '...</td>\n",
              "      <td>low</td>\n",
              "    </tr>\n",
              "    <tr>\n",
              "      <th>4</th>\n",
              "      <td>2833</td>\n",
              "      <td>5</td>\n",
              "      <td>5</td>\n",
              "      <td>[' Balcony ', ' Bore Hole ', ' Electric Fence ...</td>\n",
              "      <td>[' CCTV ', ' Electricity Included ', ' Fibre I...</td>\n",
              "      <td>[' Alarm ', ' Built in Cupboards ', ' Ensuite ...</td>\n",
              "      <td>medium</td>\n",
              "    </tr>\n",
              "    <tr>\n",
              "      <th>5</th>\n",
              "      <td>2023</td>\n",
              "      <td>8</td>\n",
              "      <td>8</td>\n",
              "      <td>[' Balcony ', ' Bore Hole ', ' Electric Fence ...</td>\n",
              "      <td>[' Backup Generator ', ' CCTV ', ' Electricity...</td>\n",
              "      <td>[' Aircon ', ' Alarm ', ' Built in Cupboards '...</td>\n",
              "      <td>medium</td>\n",
              "    </tr>\n",
              "    <tr>\n",
              "      <th>6</th>\n",
              "      <td>2023</td>\n",
              "      <td>5</td>\n",
              "      <td>5</td>\n",
              "      <td>[' Built in Cupboards ', ' Ensuite ', ' Kitche...</td>\n",
              "      <td>[' Balcony ', ' Fence ', ' Garden ']</td>\n",
              "      <td>[]</td>\n",
              "      <td>high</td>\n",
              "    </tr>\n",
              "    <tr>\n",
              "      <th>7</th>\n",
              "      <td>506</td>\n",
              "      <td>4</td>\n",
              "      <td>4</td>\n",
              "      <td>[' Bore Hole ', ' Electric Fence ', ' Fence ',...</td>\n",
              "      <td>[' Fibre Internet ', ' Pets Allowed ']</td>\n",
              "      <td>[' Alarm ', ' Built in Cupboards ', ' Ensuite ...</td>\n",
              "      <td>low</td>\n",
              "    </tr>\n",
              "    <tr>\n",
              "      <th>8</th>\n",
              "      <td>2023</td>\n",
              "      <td>5</td>\n",
              "      <td>5</td>\n",
              "      <td>[' Balcony ', ' Bore Hole ', ' Electric Fence ...</td>\n",
              "      <td>[' Backup Generator ', ' CCTV ', ' Electricity...</td>\n",
              "      <td>[' Aircon ', ' Alarm ', ' Built in Cupboards '...</td>\n",
              "      <td>high</td>\n",
              "    </tr>\n",
              "    <tr>\n",
              "      <th>9</th>\n",
              "      <td>2833</td>\n",
              "      <td>7</td>\n",
              "      <td>5</td>\n",
              "      <td>[' Bore Hole ', ' Electric Fence ', ' Garden ']</td>\n",
              "      <td>[' Backup Generator ', ' CCTV ', ' Pets Allowe...</td>\n",
              "      <td>[' Built in Cupboards ', ' Ensuite ', ' Kitche...</td>\n",
              "      <td>fair</td>\n",
              "    </tr>\n",
              "    <tr>\n",
              "      <th>11</th>\n",
              "      <td>2427</td>\n",
              "      <td>6</td>\n",
              "      <td>6</td>\n",
              "      <td>[' Balcony ', ' Electric Fence ', ' Fence ', '...</td>\n",
              "      <td>[' Backup Generator ', ' CCTV ', ' Electricity...</td>\n",
              "      <td>[' Aircon ', ' Alarm ', ' Built in Cupboards '...</td>\n",
              "      <td>low</td>\n",
              "    </tr>\n",
              "  </tbody>\n",
              "</table>\n",
              "</div>"
            ],
            "text/plain": [
              "    area  baths  ...                                   internalFeatures   price\n",
              "0   2428      8  ...                                                 []     low\n",
              "1   6001      3  ...  [' Alarm ', ' Built in Cupboards ', ' Ensuite ...     low\n",
              "3    800      5  ...  [' Aircon ', ' Alarm ', ' Built in Cupboards '...     low\n",
              "4   2833      5  ...  [' Alarm ', ' Built in Cupboards ', ' Ensuite ...  medium\n",
              "5   2023      8  ...  [' Aircon ', ' Alarm ', ' Built in Cupboards '...  medium\n",
              "6   2023      5  ...                                                 []    high\n",
              "7    506      4  ...  [' Alarm ', ' Built in Cupboards ', ' Ensuite ...     low\n",
              "8   2023      5  ...  [' Aircon ', ' Alarm ', ' Built in Cupboards '...    high\n",
              "9   2833      7  ...  [' Built in Cupboards ', ' Ensuite ', ' Kitche...    fair\n",
              "11  2427      6  ...  [' Aircon ', ' Alarm ', ' Built in Cupboards '...     low\n",
              "\n",
              "[10 rows x 7 columns]"
            ]
          },
          "metadata": {
            "tags": []
          },
          "execution_count": 12
        }
      ]
    },
    {
      "cell_type": "code",
      "metadata": {
        "id": "iBX-HK3Mh_-D",
        "colab_type": "code",
        "colab": {
          "base_uri": "https://localhost:8080/",
          "height": 0
        },
        "outputId": "41ef8a8e-c9e8-4481-8713-a6d4a2a51a6e"
      },
      "source": [
        "df= df[df['area'] != 0]\n",
        "df= df[df['baths'] != 0]\n",
        "df= df[df['beds'] != 0]\n",
        "df.head(10)"
      ],
      "execution_count": 13,
      "outputs": [
        {
          "output_type": "execute_result",
          "data": {
            "text/html": [
              "<div>\n",
              "<style scoped>\n",
              "    .dataframe tbody tr th:only-of-type {\n",
              "        vertical-align: middle;\n",
              "    }\n",
              "\n",
              "    .dataframe tbody tr th {\n",
              "        vertical-align: top;\n",
              "    }\n",
              "\n",
              "    .dataframe thead th {\n",
              "        text-align: right;\n",
              "    }\n",
              "</style>\n",
              "<table border=\"1\" class=\"dataframe\">\n",
              "  <thead>\n",
              "    <tr style=\"text-align: right;\">\n",
              "      <th></th>\n",
              "      <th>area</th>\n",
              "      <th>baths</th>\n",
              "      <th>beds</th>\n",
              "      <th>externalFeatures</th>\n",
              "      <th>generalFeatures</th>\n",
              "      <th>internalFeatures</th>\n",
              "      <th>price</th>\n",
              "    </tr>\n",
              "  </thead>\n",
              "  <tbody>\n",
              "    <tr>\n",
              "      <th>0</th>\n",
              "      <td>2428</td>\n",
              "      <td>8</td>\n",
              "      <td>6</td>\n",
              "      <td>[' Built in Cupboards ', ' Ensuite ', ' Kitche...</td>\n",
              "      <td>[' Balcony ', ' Fence ', ' Garden ']</td>\n",
              "      <td>[]</td>\n",
              "      <td>low</td>\n",
              "    </tr>\n",
              "    <tr>\n",
              "      <th>1</th>\n",
              "      <td>6001</td>\n",
              "      <td>3</td>\n",
              "      <td>4</td>\n",
              "      <td>[' Fence ', ' Garden ']</td>\n",
              "      <td>[' Fibre Internet ', ' Pets Allowed ']</td>\n",
              "      <td>[' Alarm ', ' Built in Cupboards ', ' Ensuite ...</td>\n",
              "      <td>low</td>\n",
              "    </tr>\n",
              "    <tr>\n",
              "      <th>3</th>\n",
              "      <td>800</td>\n",
              "      <td>5</td>\n",
              "      <td>5</td>\n",
              "      <td>[' Balcony ', ' Bore Hole ', ' Electric Fence ...</td>\n",
              "      <td>[' Backup Generator ', ' CCTV ', ' Pets Allowe...</td>\n",
              "      <td>[' Aircon ', ' Alarm ', ' Built in Cupboards '...</td>\n",
              "      <td>low</td>\n",
              "    </tr>\n",
              "    <tr>\n",
              "      <th>4</th>\n",
              "      <td>2833</td>\n",
              "      <td>5</td>\n",
              "      <td>5</td>\n",
              "      <td>[' Balcony ', ' Bore Hole ', ' Electric Fence ...</td>\n",
              "      <td>[' CCTV ', ' Electricity Included ', ' Fibre I...</td>\n",
              "      <td>[' Alarm ', ' Built in Cupboards ', ' Ensuite ...</td>\n",
              "      <td>medium</td>\n",
              "    </tr>\n",
              "    <tr>\n",
              "      <th>5</th>\n",
              "      <td>2023</td>\n",
              "      <td>8</td>\n",
              "      <td>8</td>\n",
              "      <td>[' Balcony ', ' Bore Hole ', ' Electric Fence ...</td>\n",
              "      <td>[' Backup Generator ', ' CCTV ', ' Electricity...</td>\n",
              "      <td>[' Aircon ', ' Alarm ', ' Built in Cupboards '...</td>\n",
              "      <td>medium</td>\n",
              "    </tr>\n",
              "    <tr>\n",
              "      <th>6</th>\n",
              "      <td>2023</td>\n",
              "      <td>5</td>\n",
              "      <td>5</td>\n",
              "      <td>[' Built in Cupboards ', ' Ensuite ', ' Kitche...</td>\n",
              "      <td>[' Balcony ', ' Fence ', ' Garden ']</td>\n",
              "      <td>[]</td>\n",
              "      <td>high</td>\n",
              "    </tr>\n",
              "    <tr>\n",
              "      <th>7</th>\n",
              "      <td>506</td>\n",
              "      <td>4</td>\n",
              "      <td>4</td>\n",
              "      <td>[' Bore Hole ', ' Electric Fence ', ' Fence ',...</td>\n",
              "      <td>[' Fibre Internet ', ' Pets Allowed ']</td>\n",
              "      <td>[' Alarm ', ' Built in Cupboards ', ' Ensuite ...</td>\n",
              "      <td>low</td>\n",
              "    </tr>\n",
              "    <tr>\n",
              "      <th>8</th>\n",
              "      <td>2023</td>\n",
              "      <td>5</td>\n",
              "      <td>5</td>\n",
              "      <td>[' Balcony ', ' Bore Hole ', ' Electric Fence ...</td>\n",
              "      <td>[' Backup Generator ', ' CCTV ', ' Electricity...</td>\n",
              "      <td>[' Aircon ', ' Alarm ', ' Built in Cupboards '...</td>\n",
              "      <td>high</td>\n",
              "    </tr>\n",
              "    <tr>\n",
              "      <th>9</th>\n",
              "      <td>2833</td>\n",
              "      <td>7</td>\n",
              "      <td>5</td>\n",
              "      <td>[' Bore Hole ', ' Electric Fence ', ' Garden ']</td>\n",
              "      <td>[' Backup Generator ', ' CCTV ', ' Pets Allowe...</td>\n",
              "      <td>[' Built in Cupboards ', ' Ensuite ', ' Kitche...</td>\n",
              "      <td>fair</td>\n",
              "    </tr>\n",
              "    <tr>\n",
              "      <th>11</th>\n",
              "      <td>2427</td>\n",
              "      <td>6</td>\n",
              "      <td>6</td>\n",
              "      <td>[' Balcony ', ' Electric Fence ', ' Fence ', '...</td>\n",
              "      <td>[' Backup Generator ', ' CCTV ', ' Electricity...</td>\n",
              "      <td>[' Aircon ', ' Alarm ', ' Built in Cupboards '...</td>\n",
              "      <td>low</td>\n",
              "    </tr>\n",
              "  </tbody>\n",
              "</table>\n",
              "</div>"
            ],
            "text/plain": [
              "    area  baths  ...                                   internalFeatures   price\n",
              "0   2428      8  ...                                                 []     low\n",
              "1   6001      3  ...  [' Alarm ', ' Built in Cupboards ', ' Ensuite ...     low\n",
              "3    800      5  ...  [' Aircon ', ' Alarm ', ' Built in Cupboards '...     low\n",
              "4   2833      5  ...  [' Alarm ', ' Built in Cupboards ', ' Ensuite ...  medium\n",
              "5   2023      8  ...  [' Aircon ', ' Alarm ', ' Built in Cupboards '...  medium\n",
              "6   2023      5  ...                                                 []    high\n",
              "7    506      4  ...  [' Alarm ', ' Built in Cupboards ', ' Ensuite ...     low\n",
              "8   2023      5  ...  [' Aircon ', ' Alarm ', ' Built in Cupboards '...    high\n",
              "9   2833      7  ...  [' Built in Cupboards ', ' Ensuite ', ' Kitche...    fair\n",
              "11  2427      6  ...  [' Aircon ', ' Alarm ', ' Built in Cupboards '...     low\n",
              "\n",
              "[10 rows x 7 columns]"
            ]
          },
          "metadata": {
            "tags": []
          },
          "execution_count": 13
        }
      ]
    },
    {
      "cell_type": "code",
      "metadata": {
        "id": "VXEJvwmo6mYH",
        "colab_type": "code",
        "colab": {}
      },
      "source": [
        ""
      ],
      "execution_count": 13,
      "outputs": []
    },
    {
      "cell_type": "code",
      "metadata": {
        "id": "_7-_K1-KVr3W",
        "colab_type": "code",
        "colab": {}
      },
      "source": [
        "\n",
        "def transform_beds(beds):\n",
        "    bin_ranges = [2,4,6,8]\n",
        "    bin_names = [ '2-4 bedrooms','4-6 bedrooms','6-8 bedrooms']\n",
        "\n",
        "    df['beds'] = pd.cut(np.array(beds),   bins=bin_ranges, labels=bin_names)\n",
        "\n",
        "\n",
        "transform_beds(df['beds'])"
      ],
      "execution_count": 14,
      "outputs": []
    },
    {
      "cell_type": "code",
      "metadata": {
        "id": "EEhRL2eINRpb",
        "colab_type": "code",
        "colab": {}
      },
      "source": [
        "\n",
        "def transform_baths(baths):\n",
        "    bin_ranges = [2,4,6,8]\n",
        "    bin_names = [ '2-4 baths','4-6 baths','6-8 baths']\n",
        "\n",
        "    df['baths'] = pd.cut(np.array(baths),bins=bin_ranges, labels=bin_names)\n",
        "\n",
        "\n",
        "\n",
        "transform_baths(df['baths'])"
      ],
      "execution_count": 15,
      "outputs": []
    },
    {
      "cell_type": "code",
      "metadata": {
        "id": "8vn_LMzVQx6j",
        "colab_type": "code",
        "colab": {}
      },
      "source": [
        "\n",
        "def transform_area(area):\n",
        "    bin_ranges = [500,1000,1500,2000 , 2500,3000]\n",
        "    bin_names = [ '500 - 1000','1000-1500','1500-2000','2000-2500','2500-3000']\n",
        "\n",
        "    df['area'] = pd.cut(np.array(area), bins=bin_ranges, labels=bin_names)\n",
        "\n",
        "\n",
        "\n",
        "transform_area(df['area'])"
      ],
      "execution_count": 16,
      "outputs": []
    },
    {
      "cell_type": "code",
      "metadata": {
        "id": "N0-5k52-BUyl",
        "colab_type": "code",
        "colab": {
          "base_uri": "https://localhost:8080/",
          "height": 0
        },
        "outputId": "f7c8c655-9f58-4add-eeca-9300cb5b4e63"
      },
      "source": [
        "df.isna().sum()"
      ],
      "execution_count": 17,
      "outputs": [
        {
          "output_type": "execute_result",
          "data": {
            "text/plain": [
              "area                8\n",
              "baths               1\n",
              "beds                0\n",
              "externalFeatures    0\n",
              "generalFeatures     0\n",
              "internalFeatures    0\n",
              "price               0\n",
              "dtype: int64"
            ]
          },
          "metadata": {
            "tags": []
          },
          "execution_count": 17
        }
      ]
    },
    {
      "cell_type": "code",
      "metadata": {
        "id": "NHQlhYpMBcil",
        "colab_type": "code",
        "colab": {}
      },
      "source": [
        "df = df.dropna()"
      ],
      "execution_count": 18,
      "outputs": []
    },
    {
      "cell_type": "markdown",
      "metadata": {
        "id": "ukJfVWNzW36I",
        "colab_type": "text"
      },
      "source": [
        "# One hot encoding of features"
      ]
    },
    {
      "cell_type": "code",
      "metadata": {
        "id": "lVger_YUp8Tf",
        "colab_type": "code",
        "colab": {}
      },
      "source": [
        "# convert to lists\n",
        "from ast import literal_eval\n",
        "df.loc[:,'generalFeatures'] = df.loc[:,'generalFeatures'].apply(lambda x: literal_eval(x))\n",
        "df.loc[:,'internalFeatures'] = df.loc[:,'internalFeatures'].apply(lambda x: literal_eval(x))\n",
        "df.loc[:,'externalFeatures'] = df.loc[:,'externalFeatures'].apply(lambda x: literal_eval(x))"
      ],
      "execution_count": 19,
      "outputs": []
    },
    {
      "cell_type": "code",
      "metadata": {
        "id": "D-fpbQ4mLhH1",
        "colab_type": "code",
        "colab": {
          "base_uri": "https://localhost:8080/",
          "height": 0
        },
        "outputId": "0c0ff2a6-0bb7-4f00-d516-101f78585f32"
      },
      "source": [
        "all_features =set([]) \n",
        "\n",
        "def get_all_features(text):\n",
        "  for i in range(len(text)):\n",
        "  \n",
        "   all_features.add(text[i].strip())\n",
        "\n",
        "\n",
        "for i in range(len(df)):\n",
        "  get_all_features(df['generalFeatures'].tolist()[i])\n",
        "  get_all_features(df['internalFeatures'].tolist()[i])\n",
        "  get_all_features(df['externalFeatures'].tolist()[i])\n",
        "\n",
        "\n",
        "\n",
        "print(\"All features \", type(all_features),  all_features)\n"
      ],
      "execution_count": 20,
      "outputs": [
        {
          "output_type": "stream",
          "text": [
            "All features  <class 'set'> {'Built in Cupboards', 'Scenic View', 'Alarm', 'Kitchen', 'Balcony', 'Walk In Closet', 'Garden', 'Lift Elevator', 'Ensuite', 'Golf Course', 'Electricity Included', 'Water Included', 'Pets Allowed', 'Fence', 'Aircon', 'Bore Hole', 'Sea View', 'CCTV', 'Wheel Chair Friendly', 'Electric Fence', 'Fibre Internet', 'Backup Generator'}\n"
          ],
          "name": "stdout"
        }
      ]
    },
    {
      "cell_type": "markdown",
      "metadata": {
        "id": "ui5LSyMaCjW8",
        "colab_type": "text"
      },
      "source": [
        "We first need to turn the features to individual column names with intial values of zero. Then iterate trhough the df giving a 1 to a house that has a feature."
      ]
    },
    {
      "cell_type": "code",
      "metadata": {
        "id": "kRMJobWRxUgH",
        "colab_type": "code",
        "colab": {
          "base_uri": "https://localhost:8080/",
          "height": 0
        },
        "outputId": "3b9ed421-017c-4701-e048-1650f8ea8bfb"
      },
      "source": [
        "# turn all features to column names\n",
        "for feature in all_features:\n",
        "  df[feature] = [0] * len(df)\n",
        " \n",
        "df.head(12)  "
      ],
      "execution_count": 21,
      "outputs": [
        {
          "output_type": "execute_result",
          "data": {
            "text/html": [
              "<div>\n",
              "<style scoped>\n",
              "    .dataframe tbody tr th:only-of-type {\n",
              "        vertical-align: middle;\n",
              "    }\n",
              "\n",
              "    .dataframe tbody tr th {\n",
              "        vertical-align: top;\n",
              "    }\n",
              "\n",
              "    .dataframe thead th {\n",
              "        text-align: right;\n",
              "    }\n",
              "</style>\n",
              "<table border=\"1\" class=\"dataframe\">\n",
              "  <thead>\n",
              "    <tr style=\"text-align: right;\">\n",
              "      <th></th>\n",
              "      <th>area</th>\n",
              "      <th>baths</th>\n",
              "      <th>beds</th>\n",
              "      <th>externalFeatures</th>\n",
              "      <th>generalFeatures</th>\n",
              "      <th>internalFeatures</th>\n",
              "      <th>price</th>\n",
              "      <th>Built in Cupboards</th>\n",
              "      <th>Scenic View</th>\n",
              "      <th>Alarm</th>\n",
              "      <th>Kitchen</th>\n",
              "      <th>Balcony</th>\n",
              "      <th>Walk In Closet</th>\n",
              "      <th>Garden</th>\n",
              "      <th>Lift Elevator</th>\n",
              "      <th>Ensuite</th>\n",
              "      <th>Golf Course</th>\n",
              "      <th>Electricity Included</th>\n",
              "      <th>Water Included</th>\n",
              "      <th>Pets Allowed</th>\n",
              "      <th>Fence</th>\n",
              "      <th>Aircon</th>\n",
              "      <th>Bore Hole</th>\n",
              "      <th>Sea View</th>\n",
              "      <th>CCTV</th>\n",
              "      <th>Wheel Chair Friendly</th>\n",
              "      <th>Electric Fence</th>\n",
              "      <th>Fibre Internet</th>\n",
              "      <th>Backup Generator</th>\n",
              "    </tr>\n",
              "  </thead>\n",
              "  <tbody>\n",
              "    <tr>\n",
              "      <th>0</th>\n",
              "      <td>2000-2500</td>\n",
              "      <td>6-8 baths</td>\n",
              "      <td>4-6 bedrooms</td>\n",
              "      <td>[ Built in Cupboards ,  Ensuite ,  Kitchen ]</td>\n",
              "      <td>[ Balcony ,  Fence ,  Garden ]</td>\n",
              "      <td>[]</td>\n",
              "      <td>low</td>\n",
              "      <td>0</td>\n",
              "      <td>0</td>\n",
              "      <td>0</td>\n",
              "      <td>0</td>\n",
              "      <td>0</td>\n",
              "      <td>0</td>\n",
              "      <td>0</td>\n",
              "      <td>0</td>\n",
              "      <td>0</td>\n",
              "      <td>0</td>\n",
              "      <td>0</td>\n",
              "      <td>0</td>\n",
              "      <td>0</td>\n",
              "      <td>0</td>\n",
              "      <td>0</td>\n",
              "      <td>0</td>\n",
              "      <td>0</td>\n",
              "      <td>0</td>\n",
              "      <td>0</td>\n",
              "      <td>0</td>\n",
              "      <td>0</td>\n",
              "      <td>0</td>\n",
              "    </tr>\n",
              "    <tr>\n",
              "      <th>3</th>\n",
              "      <td>500 - 1000</td>\n",
              "      <td>4-6 baths</td>\n",
              "      <td>4-6 bedrooms</td>\n",
              "      <td>[ Balcony ,  Bore Hole ,  Electric Fence ,  Fe...</td>\n",
              "      <td>[ Backup Generator ,  CCTV ,  Pets Allowed ,  ...</td>\n",
              "      <td>[ Aircon ,  Alarm ,  Built in Cupboards ,  Ens...</td>\n",
              "      <td>low</td>\n",
              "      <td>0</td>\n",
              "      <td>0</td>\n",
              "      <td>0</td>\n",
              "      <td>0</td>\n",
              "      <td>0</td>\n",
              "      <td>0</td>\n",
              "      <td>0</td>\n",
              "      <td>0</td>\n",
              "      <td>0</td>\n",
              "      <td>0</td>\n",
              "      <td>0</td>\n",
              "      <td>0</td>\n",
              "      <td>0</td>\n",
              "      <td>0</td>\n",
              "      <td>0</td>\n",
              "      <td>0</td>\n",
              "      <td>0</td>\n",
              "      <td>0</td>\n",
              "      <td>0</td>\n",
              "      <td>0</td>\n",
              "      <td>0</td>\n",
              "      <td>0</td>\n",
              "    </tr>\n",
              "    <tr>\n",
              "      <th>4</th>\n",
              "      <td>2500-3000</td>\n",
              "      <td>4-6 baths</td>\n",
              "      <td>4-6 bedrooms</td>\n",
              "      <td>[ Balcony ,  Bore Hole ,  Electric Fence ,  Fe...</td>\n",
              "      <td>[ CCTV ,  Electricity Included ,  Fibre Intern...</td>\n",
              "      <td>[ Alarm ,  Built in Cupboards ,  Ensuite ,  Ki...</td>\n",
              "      <td>medium</td>\n",
              "      <td>0</td>\n",
              "      <td>0</td>\n",
              "      <td>0</td>\n",
              "      <td>0</td>\n",
              "      <td>0</td>\n",
              "      <td>0</td>\n",
              "      <td>0</td>\n",
              "      <td>0</td>\n",
              "      <td>0</td>\n",
              "      <td>0</td>\n",
              "      <td>0</td>\n",
              "      <td>0</td>\n",
              "      <td>0</td>\n",
              "      <td>0</td>\n",
              "      <td>0</td>\n",
              "      <td>0</td>\n",
              "      <td>0</td>\n",
              "      <td>0</td>\n",
              "      <td>0</td>\n",
              "      <td>0</td>\n",
              "      <td>0</td>\n",
              "      <td>0</td>\n",
              "    </tr>\n",
              "    <tr>\n",
              "      <th>5</th>\n",
              "      <td>2000-2500</td>\n",
              "      <td>6-8 baths</td>\n",
              "      <td>6-8 bedrooms</td>\n",
              "      <td>[ Balcony ,  Bore Hole ,  Electric Fence ,  Fe...</td>\n",
              "      <td>[ Backup Generator ,  CCTV ,  Electricity Incl...</td>\n",
              "      <td>[ Aircon ,  Alarm ,  Built in Cupboards ,  Ens...</td>\n",
              "      <td>medium</td>\n",
              "      <td>0</td>\n",
              "      <td>0</td>\n",
              "      <td>0</td>\n",
              "      <td>0</td>\n",
              "      <td>0</td>\n",
              "      <td>0</td>\n",
              "      <td>0</td>\n",
              "      <td>0</td>\n",
              "      <td>0</td>\n",
              "      <td>0</td>\n",
              "      <td>0</td>\n",
              "      <td>0</td>\n",
              "      <td>0</td>\n",
              "      <td>0</td>\n",
              "      <td>0</td>\n",
              "      <td>0</td>\n",
              "      <td>0</td>\n",
              "      <td>0</td>\n",
              "      <td>0</td>\n",
              "      <td>0</td>\n",
              "      <td>0</td>\n",
              "      <td>0</td>\n",
              "    </tr>\n",
              "    <tr>\n",
              "      <th>6</th>\n",
              "      <td>2000-2500</td>\n",
              "      <td>4-6 baths</td>\n",
              "      <td>4-6 bedrooms</td>\n",
              "      <td>[ Built in Cupboards ,  Ensuite ,  Kitchen ]</td>\n",
              "      <td>[ Balcony ,  Fence ,  Garden ]</td>\n",
              "      <td>[]</td>\n",
              "      <td>high</td>\n",
              "      <td>0</td>\n",
              "      <td>0</td>\n",
              "      <td>0</td>\n",
              "      <td>0</td>\n",
              "      <td>0</td>\n",
              "      <td>0</td>\n",
              "      <td>0</td>\n",
              "      <td>0</td>\n",
              "      <td>0</td>\n",
              "      <td>0</td>\n",
              "      <td>0</td>\n",
              "      <td>0</td>\n",
              "      <td>0</td>\n",
              "      <td>0</td>\n",
              "      <td>0</td>\n",
              "      <td>0</td>\n",
              "      <td>0</td>\n",
              "      <td>0</td>\n",
              "      <td>0</td>\n",
              "      <td>0</td>\n",
              "      <td>0</td>\n",
              "      <td>0</td>\n",
              "    </tr>\n",
              "    <tr>\n",
              "      <th>7</th>\n",
              "      <td>500 - 1000</td>\n",
              "      <td>2-4 baths</td>\n",
              "      <td>2-4 bedrooms</td>\n",
              "      <td>[ Bore Hole ,  Electric Fence ,  Fence ,  Gard...</td>\n",
              "      <td>[ Fibre Internet ,  Pets Allowed ]</td>\n",
              "      <td>[ Alarm ,  Built in Cupboards ,  Ensuite ,  Ki...</td>\n",
              "      <td>low</td>\n",
              "      <td>0</td>\n",
              "      <td>0</td>\n",
              "      <td>0</td>\n",
              "      <td>0</td>\n",
              "      <td>0</td>\n",
              "      <td>0</td>\n",
              "      <td>0</td>\n",
              "      <td>0</td>\n",
              "      <td>0</td>\n",
              "      <td>0</td>\n",
              "      <td>0</td>\n",
              "      <td>0</td>\n",
              "      <td>0</td>\n",
              "      <td>0</td>\n",
              "      <td>0</td>\n",
              "      <td>0</td>\n",
              "      <td>0</td>\n",
              "      <td>0</td>\n",
              "      <td>0</td>\n",
              "      <td>0</td>\n",
              "      <td>0</td>\n",
              "      <td>0</td>\n",
              "    </tr>\n",
              "    <tr>\n",
              "      <th>8</th>\n",
              "      <td>2000-2500</td>\n",
              "      <td>4-6 baths</td>\n",
              "      <td>4-6 bedrooms</td>\n",
              "      <td>[ Balcony ,  Bore Hole ,  Electric Fence ,  Fe...</td>\n",
              "      <td>[ Backup Generator ,  CCTV ,  Electricity Incl...</td>\n",
              "      <td>[ Aircon ,  Alarm ,  Built in Cupboards ,  Ens...</td>\n",
              "      <td>high</td>\n",
              "      <td>0</td>\n",
              "      <td>0</td>\n",
              "      <td>0</td>\n",
              "      <td>0</td>\n",
              "      <td>0</td>\n",
              "      <td>0</td>\n",
              "      <td>0</td>\n",
              "      <td>0</td>\n",
              "      <td>0</td>\n",
              "      <td>0</td>\n",
              "      <td>0</td>\n",
              "      <td>0</td>\n",
              "      <td>0</td>\n",
              "      <td>0</td>\n",
              "      <td>0</td>\n",
              "      <td>0</td>\n",
              "      <td>0</td>\n",
              "      <td>0</td>\n",
              "      <td>0</td>\n",
              "      <td>0</td>\n",
              "      <td>0</td>\n",
              "      <td>0</td>\n",
              "    </tr>\n",
              "    <tr>\n",
              "      <th>9</th>\n",
              "      <td>2500-3000</td>\n",
              "      <td>6-8 baths</td>\n",
              "      <td>4-6 bedrooms</td>\n",
              "      <td>[ Bore Hole ,  Electric Fence ,  Garden ]</td>\n",
              "      <td>[ Backup Generator ,  CCTV ,  Pets Allowed ]</td>\n",
              "      <td>[ Built in Cupboards ,  Ensuite ,  Kitchen ]</td>\n",
              "      <td>fair</td>\n",
              "      <td>0</td>\n",
              "      <td>0</td>\n",
              "      <td>0</td>\n",
              "      <td>0</td>\n",
              "      <td>0</td>\n",
              "      <td>0</td>\n",
              "      <td>0</td>\n",
              "      <td>0</td>\n",
              "      <td>0</td>\n",
              "      <td>0</td>\n",
              "      <td>0</td>\n",
              "      <td>0</td>\n",
              "      <td>0</td>\n",
              "      <td>0</td>\n",
              "      <td>0</td>\n",
              "      <td>0</td>\n",
              "      <td>0</td>\n",
              "      <td>0</td>\n",
              "      <td>0</td>\n",
              "      <td>0</td>\n",
              "      <td>0</td>\n",
              "      <td>0</td>\n",
              "    </tr>\n",
              "    <tr>\n",
              "      <th>11</th>\n",
              "      <td>2000-2500</td>\n",
              "      <td>4-6 baths</td>\n",
              "      <td>4-6 bedrooms</td>\n",
              "      <td>[ Balcony ,  Electric Fence ,  Fence ,  Garden ]</td>\n",
              "      <td>[ Backup Generator ,  CCTV ,  Electricity Incl...</td>\n",
              "      <td>[ Aircon ,  Alarm ,  Built in Cupboards ,  Ens...</td>\n",
              "      <td>low</td>\n",
              "      <td>0</td>\n",
              "      <td>0</td>\n",
              "      <td>0</td>\n",
              "      <td>0</td>\n",
              "      <td>0</td>\n",
              "      <td>0</td>\n",
              "      <td>0</td>\n",
              "      <td>0</td>\n",
              "      <td>0</td>\n",
              "      <td>0</td>\n",
              "      <td>0</td>\n",
              "      <td>0</td>\n",
              "      <td>0</td>\n",
              "      <td>0</td>\n",
              "      <td>0</td>\n",
              "      <td>0</td>\n",
              "      <td>0</td>\n",
              "      <td>0</td>\n",
              "      <td>0</td>\n",
              "      <td>0</td>\n",
              "      <td>0</td>\n",
              "      <td>0</td>\n",
              "    </tr>\n",
              "    <tr>\n",
              "      <th>12</th>\n",
              "      <td>2500-3000</td>\n",
              "      <td>4-6 baths</td>\n",
              "      <td>4-6 bedrooms</td>\n",
              "      <td>[ Balcony ,  Bore Hole ,  Electric Fence ,  Fe...</td>\n",
              "      <td>[ Backup Generator ,  CCTV ,  Pets Allowed ]</td>\n",
              "      <td>[ Alarm ,  Built in Cupboards ,  Ensuite ,  Ki...</td>\n",
              "      <td>medium</td>\n",
              "      <td>0</td>\n",
              "      <td>0</td>\n",
              "      <td>0</td>\n",
              "      <td>0</td>\n",
              "      <td>0</td>\n",
              "      <td>0</td>\n",
              "      <td>0</td>\n",
              "      <td>0</td>\n",
              "      <td>0</td>\n",
              "      <td>0</td>\n",
              "      <td>0</td>\n",
              "      <td>0</td>\n",
              "      <td>0</td>\n",
              "      <td>0</td>\n",
              "      <td>0</td>\n",
              "      <td>0</td>\n",
              "      <td>0</td>\n",
              "      <td>0</td>\n",
              "      <td>0</td>\n",
              "      <td>0</td>\n",
              "      <td>0</td>\n",
              "      <td>0</td>\n",
              "    </tr>\n",
              "    <tr>\n",
              "      <th>13</th>\n",
              "      <td>2000-2500</td>\n",
              "      <td>4-6 baths</td>\n",
              "      <td>4-6 bedrooms</td>\n",
              "      <td>[ Balcony ,  Electric Fence ,  Fence ,  Garden ]</td>\n",
              "      <td>[ CCTV ,  Fibre Internet ,  Pets Allowed ]</td>\n",
              "      <td>[ Built in Cupboards ,  Ensuite ,  Kitchen ,  ...</td>\n",
              "      <td>high</td>\n",
              "      <td>0</td>\n",
              "      <td>0</td>\n",
              "      <td>0</td>\n",
              "      <td>0</td>\n",
              "      <td>0</td>\n",
              "      <td>0</td>\n",
              "      <td>0</td>\n",
              "      <td>0</td>\n",
              "      <td>0</td>\n",
              "      <td>0</td>\n",
              "      <td>0</td>\n",
              "      <td>0</td>\n",
              "      <td>0</td>\n",
              "      <td>0</td>\n",
              "      <td>0</td>\n",
              "      <td>0</td>\n",
              "      <td>0</td>\n",
              "      <td>0</td>\n",
              "      <td>0</td>\n",
              "      <td>0</td>\n",
              "      <td>0</td>\n",
              "      <td>0</td>\n",
              "    </tr>\n",
              "    <tr>\n",
              "      <th>14</th>\n",
              "      <td>2000-2500</td>\n",
              "      <td>6-8 baths</td>\n",
              "      <td>4-6 bedrooms</td>\n",
              "      <td>[ Bore Hole ,  Electric Fence ,  Garden ]</td>\n",
              "      <td>[ CCTV ,  Pets Allowed ]</td>\n",
              "      <td>[ Built in Cupboards ,  Ensuite ,  Kitchen ,  ...</td>\n",
              "      <td>fair</td>\n",
              "      <td>0</td>\n",
              "      <td>0</td>\n",
              "      <td>0</td>\n",
              "      <td>0</td>\n",
              "      <td>0</td>\n",
              "      <td>0</td>\n",
              "      <td>0</td>\n",
              "      <td>0</td>\n",
              "      <td>0</td>\n",
              "      <td>0</td>\n",
              "      <td>0</td>\n",
              "      <td>0</td>\n",
              "      <td>0</td>\n",
              "      <td>0</td>\n",
              "      <td>0</td>\n",
              "      <td>0</td>\n",
              "      <td>0</td>\n",
              "      <td>0</td>\n",
              "      <td>0</td>\n",
              "      <td>0</td>\n",
              "      <td>0</td>\n",
              "      <td>0</td>\n",
              "    </tr>\n",
              "  </tbody>\n",
              "</table>\n",
              "</div>"
            ],
            "text/plain": [
              "          area      baths  ... Fibre Internet Backup Generator\n",
              "0    2000-2500  6-8 baths  ...              0                0\n",
              "3   500 - 1000  4-6 baths  ...              0                0\n",
              "4    2500-3000  4-6 baths  ...              0                0\n",
              "5    2000-2500  6-8 baths  ...              0                0\n",
              "6    2000-2500  4-6 baths  ...              0                0\n",
              "7   500 - 1000  2-4 baths  ...              0                0\n",
              "8    2000-2500  4-6 baths  ...              0                0\n",
              "9    2500-3000  6-8 baths  ...              0                0\n",
              "11   2000-2500  4-6 baths  ...              0                0\n",
              "12   2500-3000  4-6 baths  ...              0                0\n",
              "13   2000-2500  4-6 baths  ...              0                0\n",
              "14   2000-2500  6-8 baths  ...              0                0\n",
              "\n",
              "[12 rows x 29 columns]"
            ]
          },
          "metadata": {
            "tags": []
          },
          "execution_count": 21
        }
      ]
    },
    {
      "cell_type": "code",
      "metadata": {
        "id": "fPJYg0618-JI",
        "colab_type": "code",
        "colab": {
          "base_uri": "https://localhost:8080/",
          "height": 0
        },
        "outputId": "c0d5f805-27b1-4022-c64d-641d5157ba95"
      },
      "source": [
        "df.head(10)"
      ],
      "execution_count": 22,
      "outputs": [
        {
          "output_type": "execute_result",
          "data": {
            "text/html": [
              "<div>\n",
              "<style scoped>\n",
              "    .dataframe tbody tr th:only-of-type {\n",
              "        vertical-align: middle;\n",
              "    }\n",
              "\n",
              "    .dataframe tbody tr th {\n",
              "        vertical-align: top;\n",
              "    }\n",
              "\n",
              "    .dataframe thead th {\n",
              "        text-align: right;\n",
              "    }\n",
              "</style>\n",
              "<table border=\"1\" class=\"dataframe\">\n",
              "  <thead>\n",
              "    <tr style=\"text-align: right;\">\n",
              "      <th></th>\n",
              "      <th>area</th>\n",
              "      <th>baths</th>\n",
              "      <th>beds</th>\n",
              "      <th>externalFeatures</th>\n",
              "      <th>generalFeatures</th>\n",
              "      <th>internalFeatures</th>\n",
              "      <th>price</th>\n",
              "      <th>Built in Cupboards</th>\n",
              "      <th>Scenic View</th>\n",
              "      <th>Alarm</th>\n",
              "      <th>Kitchen</th>\n",
              "      <th>Balcony</th>\n",
              "      <th>Walk In Closet</th>\n",
              "      <th>Garden</th>\n",
              "      <th>Lift Elevator</th>\n",
              "      <th>Ensuite</th>\n",
              "      <th>Golf Course</th>\n",
              "      <th>Electricity Included</th>\n",
              "      <th>Water Included</th>\n",
              "      <th>Pets Allowed</th>\n",
              "      <th>Fence</th>\n",
              "      <th>Aircon</th>\n",
              "      <th>Bore Hole</th>\n",
              "      <th>Sea View</th>\n",
              "      <th>CCTV</th>\n",
              "      <th>Wheel Chair Friendly</th>\n",
              "      <th>Electric Fence</th>\n",
              "      <th>Fibre Internet</th>\n",
              "      <th>Backup Generator</th>\n",
              "    </tr>\n",
              "  </thead>\n",
              "  <tbody>\n",
              "    <tr>\n",
              "      <th>0</th>\n",
              "      <td>2000-2500</td>\n",
              "      <td>6-8 baths</td>\n",
              "      <td>4-6 bedrooms</td>\n",
              "      <td>[ Built in Cupboards ,  Ensuite ,  Kitchen ]</td>\n",
              "      <td>[ Balcony ,  Fence ,  Garden ]</td>\n",
              "      <td>[]</td>\n",
              "      <td>low</td>\n",
              "      <td>0</td>\n",
              "      <td>0</td>\n",
              "      <td>0</td>\n",
              "      <td>0</td>\n",
              "      <td>0</td>\n",
              "      <td>0</td>\n",
              "      <td>0</td>\n",
              "      <td>0</td>\n",
              "      <td>0</td>\n",
              "      <td>0</td>\n",
              "      <td>0</td>\n",
              "      <td>0</td>\n",
              "      <td>0</td>\n",
              "      <td>0</td>\n",
              "      <td>0</td>\n",
              "      <td>0</td>\n",
              "      <td>0</td>\n",
              "      <td>0</td>\n",
              "      <td>0</td>\n",
              "      <td>0</td>\n",
              "      <td>0</td>\n",
              "      <td>0</td>\n",
              "    </tr>\n",
              "    <tr>\n",
              "      <th>3</th>\n",
              "      <td>500 - 1000</td>\n",
              "      <td>4-6 baths</td>\n",
              "      <td>4-6 bedrooms</td>\n",
              "      <td>[ Balcony ,  Bore Hole ,  Electric Fence ,  Fe...</td>\n",
              "      <td>[ Backup Generator ,  CCTV ,  Pets Allowed ,  ...</td>\n",
              "      <td>[ Aircon ,  Alarm ,  Built in Cupboards ,  Ens...</td>\n",
              "      <td>low</td>\n",
              "      <td>0</td>\n",
              "      <td>0</td>\n",
              "      <td>0</td>\n",
              "      <td>0</td>\n",
              "      <td>0</td>\n",
              "      <td>0</td>\n",
              "      <td>0</td>\n",
              "      <td>0</td>\n",
              "      <td>0</td>\n",
              "      <td>0</td>\n",
              "      <td>0</td>\n",
              "      <td>0</td>\n",
              "      <td>0</td>\n",
              "      <td>0</td>\n",
              "      <td>0</td>\n",
              "      <td>0</td>\n",
              "      <td>0</td>\n",
              "      <td>0</td>\n",
              "      <td>0</td>\n",
              "      <td>0</td>\n",
              "      <td>0</td>\n",
              "      <td>0</td>\n",
              "    </tr>\n",
              "    <tr>\n",
              "      <th>4</th>\n",
              "      <td>2500-3000</td>\n",
              "      <td>4-6 baths</td>\n",
              "      <td>4-6 bedrooms</td>\n",
              "      <td>[ Balcony ,  Bore Hole ,  Electric Fence ,  Fe...</td>\n",
              "      <td>[ CCTV ,  Electricity Included ,  Fibre Intern...</td>\n",
              "      <td>[ Alarm ,  Built in Cupboards ,  Ensuite ,  Ki...</td>\n",
              "      <td>medium</td>\n",
              "      <td>0</td>\n",
              "      <td>0</td>\n",
              "      <td>0</td>\n",
              "      <td>0</td>\n",
              "      <td>0</td>\n",
              "      <td>0</td>\n",
              "      <td>0</td>\n",
              "      <td>0</td>\n",
              "      <td>0</td>\n",
              "      <td>0</td>\n",
              "      <td>0</td>\n",
              "      <td>0</td>\n",
              "      <td>0</td>\n",
              "      <td>0</td>\n",
              "      <td>0</td>\n",
              "      <td>0</td>\n",
              "      <td>0</td>\n",
              "      <td>0</td>\n",
              "      <td>0</td>\n",
              "      <td>0</td>\n",
              "      <td>0</td>\n",
              "      <td>0</td>\n",
              "    </tr>\n",
              "    <tr>\n",
              "      <th>5</th>\n",
              "      <td>2000-2500</td>\n",
              "      <td>6-8 baths</td>\n",
              "      <td>6-8 bedrooms</td>\n",
              "      <td>[ Balcony ,  Bore Hole ,  Electric Fence ,  Fe...</td>\n",
              "      <td>[ Backup Generator ,  CCTV ,  Electricity Incl...</td>\n",
              "      <td>[ Aircon ,  Alarm ,  Built in Cupboards ,  Ens...</td>\n",
              "      <td>medium</td>\n",
              "      <td>0</td>\n",
              "      <td>0</td>\n",
              "      <td>0</td>\n",
              "      <td>0</td>\n",
              "      <td>0</td>\n",
              "      <td>0</td>\n",
              "      <td>0</td>\n",
              "      <td>0</td>\n",
              "      <td>0</td>\n",
              "      <td>0</td>\n",
              "      <td>0</td>\n",
              "      <td>0</td>\n",
              "      <td>0</td>\n",
              "      <td>0</td>\n",
              "      <td>0</td>\n",
              "      <td>0</td>\n",
              "      <td>0</td>\n",
              "      <td>0</td>\n",
              "      <td>0</td>\n",
              "      <td>0</td>\n",
              "      <td>0</td>\n",
              "      <td>0</td>\n",
              "    </tr>\n",
              "    <tr>\n",
              "      <th>6</th>\n",
              "      <td>2000-2500</td>\n",
              "      <td>4-6 baths</td>\n",
              "      <td>4-6 bedrooms</td>\n",
              "      <td>[ Built in Cupboards ,  Ensuite ,  Kitchen ]</td>\n",
              "      <td>[ Balcony ,  Fence ,  Garden ]</td>\n",
              "      <td>[]</td>\n",
              "      <td>high</td>\n",
              "      <td>0</td>\n",
              "      <td>0</td>\n",
              "      <td>0</td>\n",
              "      <td>0</td>\n",
              "      <td>0</td>\n",
              "      <td>0</td>\n",
              "      <td>0</td>\n",
              "      <td>0</td>\n",
              "      <td>0</td>\n",
              "      <td>0</td>\n",
              "      <td>0</td>\n",
              "      <td>0</td>\n",
              "      <td>0</td>\n",
              "      <td>0</td>\n",
              "      <td>0</td>\n",
              "      <td>0</td>\n",
              "      <td>0</td>\n",
              "      <td>0</td>\n",
              "      <td>0</td>\n",
              "      <td>0</td>\n",
              "      <td>0</td>\n",
              "      <td>0</td>\n",
              "    </tr>\n",
              "    <tr>\n",
              "      <th>7</th>\n",
              "      <td>500 - 1000</td>\n",
              "      <td>2-4 baths</td>\n",
              "      <td>2-4 bedrooms</td>\n",
              "      <td>[ Bore Hole ,  Electric Fence ,  Fence ,  Gard...</td>\n",
              "      <td>[ Fibre Internet ,  Pets Allowed ]</td>\n",
              "      <td>[ Alarm ,  Built in Cupboards ,  Ensuite ,  Ki...</td>\n",
              "      <td>low</td>\n",
              "      <td>0</td>\n",
              "      <td>0</td>\n",
              "      <td>0</td>\n",
              "      <td>0</td>\n",
              "      <td>0</td>\n",
              "      <td>0</td>\n",
              "      <td>0</td>\n",
              "      <td>0</td>\n",
              "      <td>0</td>\n",
              "      <td>0</td>\n",
              "      <td>0</td>\n",
              "      <td>0</td>\n",
              "      <td>0</td>\n",
              "      <td>0</td>\n",
              "      <td>0</td>\n",
              "      <td>0</td>\n",
              "      <td>0</td>\n",
              "      <td>0</td>\n",
              "      <td>0</td>\n",
              "      <td>0</td>\n",
              "      <td>0</td>\n",
              "      <td>0</td>\n",
              "    </tr>\n",
              "    <tr>\n",
              "      <th>8</th>\n",
              "      <td>2000-2500</td>\n",
              "      <td>4-6 baths</td>\n",
              "      <td>4-6 bedrooms</td>\n",
              "      <td>[ Balcony ,  Bore Hole ,  Electric Fence ,  Fe...</td>\n",
              "      <td>[ Backup Generator ,  CCTV ,  Electricity Incl...</td>\n",
              "      <td>[ Aircon ,  Alarm ,  Built in Cupboards ,  Ens...</td>\n",
              "      <td>high</td>\n",
              "      <td>0</td>\n",
              "      <td>0</td>\n",
              "      <td>0</td>\n",
              "      <td>0</td>\n",
              "      <td>0</td>\n",
              "      <td>0</td>\n",
              "      <td>0</td>\n",
              "      <td>0</td>\n",
              "      <td>0</td>\n",
              "      <td>0</td>\n",
              "      <td>0</td>\n",
              "      <td>0</td>\n",
              "      <td>0</td>\n",
              "      <td>0</td>\n",
              "      <td>0</td>\n",
              "      <td>0</td>\n",
              "      <td>0</td>\n",
              "      <td>0</td>\n",
              "      <td>0</td>\n",
              "      <td>0</td>\n",
              "      <td>0</td>\n",
              "      <td>0</td>\n",
              "    </tr>\n",
              "    <tr>\n",
              "      <th>9</th>\n",
              "      <td>2500-3000</td>\n",
              "      <td>6-8 baths</td>\n",
              "      <td>4-6 bedrooms</td>\n",
              "      <td>[ Bore Hole ,  Electric Fence ,  Garden ]</td>\n",
              "      <td>[ Backup Generator ,  CCTV ,  Pets Allowed ]</td>\n",
              "      <td>[ Built in Cupboards ,  Ensuite ,  Kitchen ]</td>\n",
              "      <td>fair</td>\n",
              "      <td>0</td>\n",
              "      <td>0</td>\n",
              "      <td>0</td>\n",
              "      <td>0</td>\n",
              "      <td>0</td>\n",
              "      <td>0</td>\n",
              "      <td>0</td>\n",
              "      <td>0</td>\n",
              "      <td>0</td>\n",
              "      <td>0</td>\n",
              "      <td>0</td>\n",
              "      <td>0</td>\n",
              "      <td>0</td>\n",
              "      <td>0</td>\n",
              "      <td>0</td>\n",
              "      <td>0</td>\n",
              "      <td>0</td>\n",
              "      <td>0</td>\n",
              "      <td>0</td>\n",
              "      <td>0</td>\n",
              "      <td>0</td>\n",
              "      <td>0</td>\n",
              "    </tr>\n",
              "    <tr>\n",
              "      <th>11</th>\n",
              "      <td>2000-2500</td>\n",
              "      <td>4-6 baths</td>\n",
              "      <td>4-6 bedrooms</td>\n",
              "      <td>[ Balcony ,  Electric Fence ,  Fence ,  Garden ]</td>\n",
              "      <td>[ Backup Generator ,  CCTV ,  Electricity Incl...</td>\n",
              "      <td>[ Aircon ,  Alarm ,  Built in Cupboards ,  Ens...</td>\n",
              "      <td>low</td>\n",
              "      <td>0</td>\n",
              "      <td>0</td>\n",
              "      <td>0</td>\n",
              "      <td>0</td>\n",
              "      <td>0</td>\n",
              "      <td>0</td>\n",
              "      <td>0</td>\n",
              "      <td>0</td>\n",
              "      <td>0</td>\n",
              "      <td>0</td>\n",
              "      <td>0</td>\n",
              "      <td>0</td>\n",
              "      <td>0</td>\n",
              "      <td>0</td>\n",
              "      <td>0</td>\n",
              "      <td>0</td>\n",
              "      <td>0</td>\n",
              "      <td>0</td>\n",
              "      <td>0</td>\n",
              "      <td>0</td>\n",
              "      <td>0</td>\n",
              "      <td>0</td>\n",
              "    </tr>\n",
              "    <tr>\n",
              "      <th>12</th>\n",
              "      <td>2500-3000</td>\n",
              "      <td>4-6 baths</td>\n",
              "      <td>4-6 bedrooms</td>\n",
              "      <td>[ Balcony ,  Bore Hole ,  Electric Fence ,  Fe...</td>\n",
              "      <td>[ Backup Generator ,  CCTV ,  Pets Allowed ]</td>\n",
              "      <td>[ Alarm ,  Built in Cupboards ,  Ensuite ,  Ki...</td>\n",
              "      <td>medium</td>\n",
              "      <td>0</td>\n",
              "      <td>0</td>\n",
              "      <td>0</td>\n",
              "      <td>0</td>\n",
              "      <td>0</td>\n",
              "      <td>0</td>\n",
              "      <td>0</td>\n",
              "      <td>0</td>\n",
              "      <td>0</td>\n",
              "      <td>0</td>\n",
              "      <td>0</td>\n",
              "      <td>0</td>\n",
              "      <td>0</td>\n",
              "      <td>0</td>\n",
              "      <td>0</td>\n",
              "      <td>0</td>\n",
              "      <td>0</td>\n",
              "      <td>0</td>\n",
              "      <td>0</td>\n",
              "      <td>0</td>\n",
              "      <td>0</td>\n",
              "      <td>0</td>\n",
              "    </tr>\n",
              "  </tbody>\n",
              "</table>\n",
              "</div>"
            ],
            "text/plain": [
              "          area      baths  ... Fibre Internet Backup Generator\n",
              "0    2000-2500  6-8 baths  ...              0                0\n",
              "3   500 - 1000  4-6 baths  ...              0                0\n",
              "4    2500-3000  4-6 baths  ...              0                0\n",
              "5    2000-2500  6-8 baths  ...              0                0\n",
              "6    2000-2500  4-6 baths  ...              0                0\n",
              "7   500 - 1000  2-4 baths  ...              0                0\n",
              "8    2000-2500  4-6 baths  ...              0                0\n",
              "9    2500-3000  6-8 baths  ...              0                0\n",
              "11   2000-2500  4-6 baths  ...              0                0\n",
              "12   2500-3000  4-6 baths  ...              0                0\n",
              "\n",
              "[10 rows x 29 columns]"
            ]
          },
          "metadata": {
            "tags": []
          },
          "execution_count": 22
        }
      ]
    },
    {
      "cell_type": "code",
      "metadata": {
        "id": "mMC5Pkg3DJ-k",
        "colab_type": "code",
        "colab": {
          "base_uri": "https://localhost:8080/",
          "height": 0
        },
        "outputId": "f7f4e538-c9f8-4994-d0ff-cb2bde4b583d"
      },
      "source": [
        "def populate_feature( j, text):\n",
        "   for i in range(len(text)):\n",
        "     a = text[i].strip()\n",
        "   \n",
        "     df[a][j] = 1\n",
        "\n",
        "for i in range(len(df)):\n",
        "  populate_feature(i ,df['generalFeatures'].tolist()[i])\n",
        "  populate_feature(i , df['internalFeatures'].tolist()[i])\n",
        "  populate_feature(i ,df['externalFeatures'].tolist()[i])\n",
        "\n",
        "df.head(2)"
      ],
      "execution_count": 23,
      "outputs": [
        {
          "output_type": "stream",
          "text": [
            "/usr/local/lib/python3.6/dist-packages/ipykernel_launcher.py:5: SettingWithCopyWarning: \n",
            "A value is trying to be set on a copy of a slice from a DataFrame\n",
            "\n",
            "See the caveats in the documentation: https://pandas.pydata.org/pandas-docs/stable/user_guide/indexing.html#returning-a-view-versus-a-copy\n",
            "  \"\"\"\n"
          ],
          "name": "stderr"
        },
        {
          "output_type": "execute_result",
          "data": {
            "text/html": [
              "<div>\n",
              "<style scoped>\n",
              "    .dataframe tbody tr th:only-of-type {\n",
              "        vertical-align: middle;\n",
              "    }\n",
              "\n",
              "    .dataframe tbody tr th {\n",
              "        vertical-align: top;\n",
              "    }\n",
              "\n",
              "    .dataframe thead th {\n",
              "        text-align: right;\n",
              "    }\n",
              "</style>\n",
              "<table border=\"1\" class=\"dataframe\">\n",
              "  <thead>\n",
              "    <tr style=\"text-align: right;\">\n",
              "      <th></th>\n",
              "      <th>area</th>\n",
              "      <th>baths</th>\n",
              "      <th>beds</th>\n",
              "      <th>externalFeatures</th>\n",
              "      <th>generalFeatures</th>\n",
              "      <th>internalFeatures</th>\n",
              "      <th>price</th>\n",
              "      <th>Built in Cupboards</th>\n",
              "      <th>Scenic View</th>\n",
              "      <th>Alarm</th>\n",
              "      <th>Kitchen</th>\n",
              "      <th>Balcony</th>\n",
              "      <th>Walk In Closet</th>\n",
              "      <th>Garden</th>\n",
              "      <th>Lift Elevator</th>\n",
              "      <th>Ensuite</th>\n",
              "      <th>Golf Course</th>\n",
              "      <th>Electricity Included</th>\n",
              "      <th>Water Included</th>\n",
              "      <th>Pets Allowed</th>\n",
              "      <th>Fence</th>\n",
              "      <th>Aircon</th>\n",
              "      <th>Bore Hole</th>\n",
              "      <th>Sea View</th>\n",
              "      <th>CCTV</th>\n",
              "      <th>Wheel Chair Friendly</th>\n",
              "      <th>Electric Fence</th>\n",
              "      <th>Fibre Internet</th>\n",
              "      <th>Backup Generator</th>\n",
              "    </tr>\n",
              "  </thead>\n",
              "  <tbody>\n",
              "    <tr>\n",
              "      <th>0</th>\n",
              "      <td>2000-2500</td>\n",
              "      <td>6-8 baths</td>\n",
              "      <td>4-6 bedrooms</td>\n",
              "      <td>[ Built in Cupboards ,  Ensuite ,  Kitchen ]</td>\n",
              "      <td>[ Balcony ,  Fence ,  Garden ]</td>\n",
              "      <td>[]</td>\n",
              "      <td>low</td>\n",
              "      <td>1</td>\n",
              "      <td>0</td>\n",
              "      <td>0</td>\n",
              "      <td>1</td>\n",
              "      <td>1</td>\n",
              "      <td>0</td>\n",
              "      <td>1</td>\n",
              "      <td>0</td>\n",
              "      <td>1</td>\n",
              "      <td>0</td>\n",
              "      <td>0</td>\n",
              "      <td>0</td>\n",
              "      <td>0</td>\n",
              "      <td>1</td>\n",
              "      <td>0</td>\n",
              "      <td>0</td>\n",
              "      <td>0</td>\n",
              "      <td>0</td>\n",
              "      <td>0</td>\n",
              "      <td>0</td>\n",
              "      <td>0</td>\n",
              "      <td>0</td>\n",
              "    </tr>\n",
              "    <tr>\n",
              "      <th>3</th>\n",
              "      <td>500 - 1000</td>\n",
              "      <td>4-6 baths</td>\n",
              "      <td>4-6 bedrooms</td>\n",
              "      <td>[ Balcony ,  Bore Hole ,  Electric Fence ,  Fe...</td>\n",
              "      <td>[ Backup Generator ,  CCTV ,  Pets Allowed ,  ...</td>\n",
              "      <td>[ Aircon ,  Alarm ,  Built in Cupboards ,  Ens...</td>\n",
              "      <td>low</td>\n",
              "      <td>0</td>\n",
              "      <td>0</td>\n",
              "      <td>0</td>\n",
              "      <td>0</td>\n",
              "      <td>0</td>\n",
              "      <td>0</td>\n",
              "      <td>0</td>\n",
              "      <td>0</td>\n",
              "      <td>0</td>\n",
              "      <td>0</td>\n",
              "      <td>0</td>\n",
              "      <td>1</td>\n",
              "      <td>0</td>\n",
              "      <td>0</td>\n",
              "      <td>0</td>\n",
              "      <td>0</td>\n",
              "      <td>0</td>\n",
              "      <td>0</td>\n",
              "      <td>1</td>\n",
              "      <td>0</td>\n",
              "      <td>0</td>\n",
              "      <td>0</td>\n",
              "    </tr>\n",
              "  </tbody>\n",
              "</table>\n",
              "</div>"
            ],
            "text/plain": [
              "         area      baths  ... Fibre Internet Backup Generator\n",
              "0   2000-2500  6-8 baths  ...              0                0\n",
              "3  500 - 1000  4-6 baths  ...              0                0\n",
              "\n",
              "[2 rows x 29 columns]"
            ]
          },
          "metadata": {
            "tags": []
          },
          "execution_count": 23
        }
      ]
    },
    {
      "cell_type": "code",
      "metadata": {
        "id": "TPeZybm0Qk3Q",
        "colab_type": "code",
        "colab": {}
      },
      "source": [
        "df = df.drop(['externalFeatures','generalFeatures','internalFeatures'], axis=1)"
      ],
      "execution_count": 24,
      "outputs": []
    },
    {
      "cell_type": "markdown",
      "metadata": {
        "id": "SPMXF742opAq",
        "colab_type": "text"
      },
      "source": [
        "# Model"
      ]
    },
    {
      "cell_type": "code",
      "metadata": {
        "id": "Iz27W8_-N_Hb",
        "colab_type": "code",
        "colab": {
          "base_uri": "https://localhost:8080/",
          "height": 0
        },
        "outputId": "c6f5f05e-c329-48ee-c6fb-e7c3b0813b60"
      },
      "source": [
        "df.shape"
      ],
      "execution_count": 25,
      "outputs": [
        {
          "output_type": "execute_result",
          "data": {
            "text/plain": [
              "(85, 26)"
            ]
          },
          "metadata": {
            "tags": []
          },
          "execution_count": 25
        }
      ]
    },
    {
      "cell_type": "code",
      "metadata": {
        "id": "ZnK2Oe5OS1th",
        "colab_type": "code",
        "colab": {
          "base_uri": "https://localhost:8080/",
          "height": 0
        },
        "outputId": "11d36bc0-96b0-4492-8aa7-8c303a064f33"
      },
      "source": [
        "df.info()"
      ],
      "execution_count": 26,
      "outputs": [
        {
          "output_type": "stream",
          "text": [
            "<class 'pandas.core.frame.DataFrame'>\n",
            "Int64Index: 85 entries, 0 to 136\n",
            "Data columns (total 26 columns):\n",
            " #   Column                Non-Null Count  Dtype   \n",
            "---  ------                --------------  -----   \n",
            " 0   area                  85 non-null     category\n",
            " 1   baths                 85 non-null     category\n",
            " 2   beds                  85 non-null     category\n",
            " 3   price                 85 non-null     category\n",
            " 4   Built in Cupboards    85 non-null     int64   \n",
            " 5   Scenic View           85 non-null     int64   \n",
            " 6   Alarm                 85 non-null     int64   \n",
            " 7   Kitchen               85 non-null     int64   \n",
            " 8   Balcony               85 non-null     int64   \n",
            " 9   Walk In Closet        85 non-null     int64   \n",
            " 10  Garden                85 non-null     int64   \n",
            " 11  Lift Elevator         85 non-null     int64   \n",
            " 12  Ensuite               85 non-null     int64   \n",
            " 13  Golf Course           85 non-null     int64   \n",
            " 14  Electricity Included  85 non-null     int64   \n",
            " 15  Water Included        85 non-null     int64   \n",
            " 16  Pets Allowed          85 non-null     int64   \n",
            " 17  Fence                 85 non-null     int64   \n",
            " 18  Aircon                85 non-null     int64   \n",
            " 19  Bore Hole             85 non-null     int64   \n",
            " 20  Sea View              85 non-null     int64   \n",
            " 21  CCTV                  85 non-null     int64   \n",
            " 22  Wheel Chair Friendly  85 non-null     int64   \n",
            " 23  Electric Fence        85 non-null     int64   \n",
            " 24  Fibre Internet        85 non-null     int64   \n",
            " 25  Backup Generator      85 non-null     int64   \n",
            "dtypes: category(4), int64(22)\n",
            "memory usage: 18.7 KB\n"
          ],
          "name": "stdout"
        }
      ]
    },
    {
      "cell_type": "code",
      "metadata": {
        "id": "9IQlvRP-T6if",
        "colab_type": "code",
        "colab": {
          "base_uri": "https://localhost:8080/",
          "height": 0
        },
        "outputId": "5e3769ca-f168-435c-e9f3-f914a915a917"
      },
      "source": [
        "from sklearn.preprocessing import LabelEncoder\n",
        "\n",
        "\n",
        "def encoding(price, beds,baths,area):\n",
        "    LE = LabelEncoder()\n",
        "    df['price'] = LE.fit_transform(price)\n",
        "    df['beds'] = LE.fit_transform(beds)\n",
        "    df['baths'] = LE.fit_transform(baths)\n",
        "    df['area'] = LE.fit_transform(area)\n",
        "    df.info()\n",
        "\n",
        "encoding(df['price'],df['beds'],df['baths'],df['area'])"
      ],
      "execution_count": 27,
      "outputs": [
        {
          "output_type": "stream",
          "text": [
            "<class 'pandas.core.frame.DataFrame'>\n",
            "Int64Index: 85 entries, 0 to 136\n",
            "Data columns (total 26 columns):\n",
            " #   Column                Non-Null Count  Dtype\n",
            "---  ------                --------------  -----\n",
            " 0   area                  85 non-null     int64\n",
            " 1   baths                 85 non-null     int64\n",
            " 2   beds                  85 non-null     int64\n",
            " 3   price                 85 non-null     int64\n",
            " 4   Built in Cupboards    85 non-null     int64\n",
            " 5   Scenic View           85 non-null     int64\n",
            " 6   Alarm                 85 non-null     int64\n",
            " 7   Kitchen               85 non-null     int64\n",
            " 8   Balcony               85 non-null     int64\n",
            " 9   Walk In Closet        85 non-null     int64\n",
            " 10  Garden                85 non-null     int64\n",
            " 11  Lift Elevator         85 non-null     int64\n",
            " 12  Ensuite               85 non-null     int64\n",
            " 13  Golf Course           85 non-null     int64\n",
            " 14  Electricity Included  85 non-null     int64\n",
            " 15  Water Included        85 non-null     int64\n",
            " 16  Pets Allowed          85 non-null     int64\n",
            " 17  Fence                 85 non-null     int64\n",
            " 18  Aircon                85 non-null     int64\n",
            " 19  Bore Hole             85 non-null     int64\n",
            " 20  Sea View              85 non-null     int64\n",
            " 21  CCTV                  85 non-null     int64\n",
            " 22  Wheel Chair Friendly  85 non-null     int64\n",
            " 23  Electric Fence        85 non-null     int64\n",
            " 24  Fibre Internet        85 non-null     int64\n",
            " 25  Backup Generator      85 non-null     int64\n",
            "dtypes: int64(26)\n",
            "memory usage: 20.4 KB\n"
          ],
          "name": "stdout"
        }
      ]
    },
    {
      "cell_type": "code",
      "metadata": {
        "id": "EJtJGNdMQXxQ",
        "colab_type": "code",
        "colab": {
          "base_uri": "https://localhost:8080/",
          "height": 0
        },
        "outputId": "79e03954-a886-45f4-cea4-23da77e4f452"
      },
      "source": [
        "df.head(10)"
      ],
      "execution_count": 28,
      "outputs": [
        {
          "output_type": "execute_result",
          "data": {
            "text/html": [
              "<div>\n",
              "<style scoped>\n",
              "    .dataframe tbody tr th:only-of-type {\n",
              "        vertical-align: middle;\n",
              "    }\n",
              "\n",
              "    .dataframe tbody tr th {\n",
              "        vertical-align: top;\n",
              "    }\n",
              "\n",
              "    .dataframe thead th {\n",
              "        text-align: right;\n",
              "    }\n",
              "</style>\n",
              "<table border=\"1\" class=\"dataframe\">\n",
              "  <thead>\n",
              "    <tr style=\"text-align: right;\">\n",
              "      <th></th>\n",
              "      <th>area</th>\n",
              "      <th>baths</th>\n",
              "      <th>beds</th>\n",
              "      <th>price</th>\n",
              "      <th>Built in Cupboards</th>\n",
              "      <th>Scenic View</th>\n",
              "      <th>Alarm</th>\n",
              "      <th>Kitchen</th>\n",
              "      <th>Balcony</th>\n",
              "      <th>Walk In Closet</th>\n",
              "      <th>Garden</th>\n",
              "      <th>Lift Elevator</th>\n",
              "      <th>Ensuite</th>\n",
              "      <th>Golf Course</th>\n",
              "      <th>Electricity Included</th>\n",
              "      <th>Water Included</th>\n",
              "      <th>Pets Allowed</th>\n",
              "      <th>Fence</th>\n",
              "      <th>Aircon</th>\n",
              "      <th>Bore Hole</th>\n",
              "      <th>Sea View</th>\n",
              "      <th>CCTV</th>\n",
              "      <th>Wheel Chair Friendly</th>\n",
              "      <th>Electric Fence</th>\n",
              "      <th>Fibre Internet</th>\n",
              "      <th>Backup Generator</th>\n",
              "    </tr>\n",
              "  </thead>\n",
              "  <tbody>\n",
              "    <tr>\n",
              "      <th>0</th>\n",
              "      <td>2</td>\n",
              "      <td>2</td>\n",
              "      <td>1</td>\n",
              "      <td>2</td>\n",
              "      <td>1</td>\n",
              "      <td>0</td>\n",
              "      <td>0</td>\n",
              "      <td>1</td>\n",
              "      <td>1</td>\n",
              "      <td>0</td>\n",
              "      <td>1</td>\n",
              "      <td>0</td>\n",
              "      <td>1</td>\n",
              "      <td>0</td>\n",
              "      <td>0</td>\n",
              "      <td>0</td>\n",
              "      <td>0</td>\n",
              "      <td>1</td>\n",
              "      <td>0</td>\n",
              "      <td>0</td>\n",
              "      <td>0</td>\n",
              "      <td>0</td>\n",
              "      <td>0</td>\n",
              "      <td>0</td>\n",
              "      <td>0</td>\n",
              "      <td>0</td>\n",
              "    </tr>\n",
              "    <tr>\n",
              "      <th>3</th>\n",
              "      <td>4</td>\n",
              "      <td>1</td>\n",
              "      <td>1</td>\n",
              "      <td>2</td>\n",
              "      <td>0</td>\n",
              "      <td>0</td>\n",
              "      <td>0</td>\n",
              "      <td>0</td>\n",
              "      <td>0</td>\n",
              "      <td>0</td>\n",
              "      <td>0</td>\n",
              "      <td>0</td>\n",
              "      <td>0</td>\n",
              "      <td>0</td>\n",
              "      <td>0</td>\n",
              "      <td>1</td>\n",
              "      <td>0</td>\n",
              "      <td>0</td>\n",
              "      <td>0</td>\n",
              "      <td>0</td>\n",
              "      <td>0</td>\n",
              "      <td>0</td>\n",
              "      <td>1</td>\n",
              "      <td>0</td>\n",
              "      <td>0</td>\n",
              "      <td>0</td>\n",
              "    </tr>\n",
              "    <tr>\n",
              "      <th>4</th>\n",
              "      <td>3</td>\n",
              "      <td>1</td>\n",
              "      <td>1</td>\n",
              "      <td>3</td>\n",
              "      <td>0</td>\n",
              "      <td>0</td>\n",
              "      <td>0</td>\n",
              "      <td>0</td>\n",
              "      <td>0</td>\n",
              "      <td>0</td>\n",
              "      <td>0</td>\n",
              "      <td>0</td>\n",
              "      <td>0</td>\n",
              "      <td>0</td>\n",
              "      <td>0</td>\n",
              "      <td>0</td>\n",
              "      <td>0</td>\n",
              "      <td>0</td>\n",
              "      <td>0</td>\n",
              "      <td>0</td>\n",
              "      <td>0</td>\n",
              "      <td>0</td>\n",
              "      <td>0</td>\n",
              "      <td>0</td>\n",
              "      <td>0</td>\n",
              "      <td>0</td>\n",
              "    </tr>\n",
              "    <tr>\n",
              "      <th>5</th>\n",
              "      <td>2</td>\n",
              "      <td>2</td>\n",
              "      <td>2</td>\n",
              "      <td>3</td>\n",
              "      <td>0</td>\n",
              "      <td>0</td>\n",
              "      <td>0</td>\n",
              "      <td>0</td>\n",
              "      <td>0</td>\n",
              "      <td>0</td>\n",
              "      <td>0</td>\n",
              "      <td>0</td>\n",
              "      <td>0</td>\n",
              "      <td>0</td>\n",
              "      <td>0</td>\n",
              "      <td>0</td>\n",
              "      <td>0</td>\n",
              "      <td>0</td>\n",
              "      <td>0</td>\n",
              "      <td>0</td>\n",
              "      <td>0</td>\n",
              "      <td>0</td>\n",
              "      <td>0</td>\n",
              "      <td>0</td>\n",
              "      <td>0</td>\n",
              "      <td>0</td>\n",
              "    </tr>\n",
              "    <tr>\n",
              "      <th>6</th>\n",
              "      <td>2</td>\n",
              "      <td>1</td>\n",
              "      <td>1</td>\n",
              "      <td>1</td>\n",
              "      <td>0</td>\n",
              "      <td>0</td>\n",
              "      <td>0</td>\n",
              "      <td>0</td>\n",
              "      <td>0</td>\n",
              "      <td>0</td>\n",
              "      <td>0</td>\n",
              "      <td>0</td>\n",
              "      <td>0</td>\n",
              "      <td>0</td>\n",
              "      <td>0</td>\n",
              "      <td>1</td>\n",
              "      <td>0</td>\n",
              "      <td>0</td>\n",
              "      <td>0</td>\n",
              "      <td>0</td>\n",
              "      <td>0</td>\n",
              "      <td>0</td>\n",
              "      <td>1</td>\n",
              "      <td>0</td>\n",
              "      <td>0</td>\n",
              "      <td>0</td>\n",
              "    </tr>\n",
              "    <tr>\n",
              "      <th>7</th>\n",
              "      <td>4</td>\n",
              "      <td>0</td>\n",
              "      <td>0</td>\n",
              "      <td>2</td>\n",
              "      <td>0</td>\n",
              "      <td>0</td>\n",
              "      <td>0</td>\n",
              "      <td>0</td>\n",
              "      <td>0</td>\n",
              "      <td>0</td>\n",
              "      <td>0</td>\n",
              "      <td>0</td>\n",
              "      <td>0</td>\n",
              "      <td>0</td>\n",
              "      <td>0</td>\n",
              "      <td>0</td>\n",
              "      <td>0</td>\n",
              "      <td>0</td>\n",
              "      <td>0</td>\n",
              "      <td>0</td>\n",
              "      <td>0</td>\n",
              "      <td>0</td>\n",
              "      <td>0</td>\n",
              "      <td>0</td>\n",
              "      <td>0</td>\n",
              "      <td>0</td>\n",
              "    </tr>\n",
              "    <tr>\n",
              "      <th>8</th>\n",
              "      <td>2</td>\n",
              "      <td>1</td>\n",
              "      <td>1</td>\n",
              "      <td>1</td>\n",
              "      <td>0</td>\n",
              "      <td>0</td>\n",
              "      <td>0</td>\n",
              "      <td>0</td>\n",
              "      <td>0</td>\n",
              "      <td>0</td>\n",
              "      <td>0</td>\n",
              "      <td>0</td>\n",
              "      <td>0</td>\n",
              "      <td>0</td>\n",
              "      <td>0</td>\n",
              "      <td>1</td>\n",
              "      <td>0</td>\n",
              "      <td>0</td>\n",
              "      <td>0</td>\n",
              "      <td>0</td>\n",
              "      <td>0</td>\n",
              "      <td>0</td>\n",
              "      <td>1</td>\n",
              "      <td>0</td>\n",
              "      <td>0</td>\n",
              "      <td>0</td>\n",
              "    </tr>\n",
              "    <tr>\n",
              "      <th>9</th>\n",
              "      <td>3</td>\n",
              "      <td>2</td>\n",
              "      <td>1</td>\n",
              "      <td>0</td>\n",
              "      <td>0</td>\n",
              "      <td>0</td>\n",
              "      <td>0</td>\n",
              "      <td>0</td>\n",
              "      <td>0</td>\n",
              "      <td>0</td>\n",
              "      <td>0</td>\n",
              "      <td>0</td>\n",
              "      <td>0</td>\n",
              "      <td>0</td>\n",
              "      <td>0</td>\n",
              "      <td>0</td>\n",
              "      <td>0</td>\n",
              "      <td>0</td>\n",
              "      <td>0</td>\n",
              "      <td>0</td>\n",
              "      <td>0</td>\n",
              "      <td>0</td>\n",
              "      <td>0</td>\n",
              "      <td>0</td>\n",
              "      <td>0</td>\n",
              "      <td>0</td>\n",
              "    </tr>\n",
              "    <tr>\n",
              "      <th>11</th>\n",
              "      <td>2</td>\n",
              "      <td>1</td>\n",
              "      <td>1</td>\n",
              "      <td>2</td>\n",
              "      <td>0</td>\n",
              "      <td>0</td>\n",
              "      <td>0</td>\n",
              "      <td>0</td>\n",
              "      <td>0</td>\n",
              "      <td>0</td>\n",
              "      <td>0</td>\n",
              "      <td>0</td>\n",
              "      <td>0</td>\n",
              "      <td>0</td>\n",
              "      <td>0</td>\n",
              "      <td>0</td>\n",
              "      <td>0</td>\n",
              "      <td>0</td>\n",
              "      <td>0</td>\n",
              "      <td>0</td>\n",
              "      <td>0</td>\n",
              "      <td>0</td>\n",
              "      <td>0</td>\n",
              "      <td>0</td>\n",
              "      <td>0</td>\n",
              "      <td>0</td>\n",
              "    </tr>\n",
              "    <tr>\n",
              "      <th>12</th>\n",
              "      <td>3</td>\n",
              "      <td>1</td>\n",
              "      <td>1</td>\n",
              "      <td>3</td>\n",
              "      <td>0</td>\n",
              "      <td>0</td>\n",
              "      <td>0</td>\n",
              "      <td>0</td>\n",
              "      <td>0</td>\n",
              "      <td>0</td>\n",
              "      <td>0</td>\n",
              "      <td>0</td>\n",
              "      <td>0</td>\n",
              "      <td>0</td>\n",
              "      <td>0</td>\n",
              "      <td>1</td>\n",
              "      <td>0</td>\n",
              "      <td>0</td>\n",
              "      <td>0</td>\n",
              "      <td>0</td>\n",
              "      <td>0</td>\n",
              "      <td>0</td>\n",
              "      <td>1</td>\n",
              "      <td>0</td>\n",
              "      <td>0</td>\n",
              "      <td>0</td>\n",
              "    </tr>\n",
              "  </tbody>\n",
              "</table>\n",
              "</div>"
            ],
            "text/plain": [
              "    area  baths  beds  ...  Electric Fence  Fibre Internet  Backup Generator\n",
              "0      2      2     1  ...               0               0                 0\n",
              "3      4      1     1  ...               0               0                 0\n",
              "4      3      1     1  ...               0               0                 0\n",
              "5      2      2     2  ...               0               0                 0\n",
              "6      2      1     1  ...               0               0                 0\n",
              "7      4      0     0  ...               0               0                 0\n",
              "8      2      1     1  ...               0               0                 0\n",
              "9      3      2     1  ...               0               0                 0\n",
              "11     2      1     1  ...               0               0                 0\n",
              "12     3      1     1  ...               0               0                 0\n",
              "\n",
              "[10 rows x 26 columns]"
            ]
          },
          "metadata": {
            "tags": []
          },
          "execution_count": 28
        }
      ]
    },
    {
      "cell_type": "code",
      "metadata": {
        "id": "VPa9lrMTXCtq",
        "colab_type": "code",
        "colab": {}
      },
      "source": [
        "df.rename(columns={'price': 'Class'}, inplace=True)"
      ],
      "execution_count": 29,
      "outputs": []
    },
    {
      "cell_type": "code",
      "metadata": {
        "id": "LcieBUnpUlFO",
        "colab_type": "code",
        "colab": {
          "base_uri": "https://localhost:8080/",
          "height": 0
        },
        "outputId": "1f47b9b3-da62-4c3b-b6c8-0d06cd1e574d"
      },
      "source": [
        "df.head(10)"
      ],
      "execution_count": 30,
      "outputs": [
        {
          "output_type": "execute_result",
          "data": {
            "text/html": [
              "<div>\n",
              "<style scoped>\n",
              "    .dataframe tbody tr th:only-of-type {\n",
              "        vertical-align: middle;\n",
              "    }\n",
              "\n",
              "    .dataframe tbody tr th {\n",
              "        vertical-align: top;\n",
              "    }\n",
              "\n",
              "    .dataframe thead th {\n",
              "        text-align: right;\n",
              "    }\n",
              "</style>\n",
              "<table border=\"1\" class=\"dataframe\">\n",
              "  <thead>\n",
              "    <tr style=\"text-align: right;\">\n",
              "      <th></th>\n",
              "      <th>area</th>\n",
              "      <th>baths</th>\n",
              "      <th>beds</th>\n",
              "      <th>Class</th>\n",
              "      <th>Built in Cupboards</th>\n",
              "      <th>Scenic View</th>\n",
              "      <th>Alarm</th>\n",
              "      <th>Kitchen</th>\n",
              "      <th>Balcony</th>\n",
              "      <th>Walk In Closet</th>\n",
              "      <th>Garden</th>\n",
              "      <th>Lift Elevator</th>\n",
              "      <th>Ensuite</th>\n",
              "      <th>Golf Course</th>\n",
              "      <th>Electricity Included</th>\n",
              "      <th>Water Included</th>\n",
              "      <th>Pets Allowed</th>\n",
              "      <th>Fence</th>\n",
              "      <th>Aircon</th>\n",
              "      <th>Bore Hole</th>\n",
              "      <th>Sea View</th>\n",
              "      <th>CCTV</th>\n",
              "      <th>Wheel Chair Friendly</th>\n",
              "      <th>Electric Fence</th>\n",
              "      <th>Fibre Internet</th>\n",
              "      <th>Backup Generator</th>\n",
              "    </tr>\n",
              "  </thead>\n",
              "  <tbody>\n",
              "    <tr>\n",
              "      <th>0</th>\n",
              "      <td>2</td>\n",
              "      <td>2</td>\n",
              "      <td>1</td>\n",
              "      <td>2</td>\n",
              "      <td>1</td>\n",
              "      <td>0</td>\n",
              "      <td>0</td>\n",
              "      <td>1</td>\n",
              "      <td>1</td>\n",
              "      <td>0</td>\n",
              "      <td>1</td>\n",
              "      <td>0</td>\n",
              "      <td>1</td>\n",
              "      <td>0</td>\n",
              "      <td>0</td>\n",
              "      <td>0</td>\n",
              "      <td>0</td>\n",
              "      <td>1</td>\n",
              "      <td>0</td>\n",
              "      <td>0</td>\n",
              "      <td>0</td>\n",
              "      <td>0</td>\n",
              "      <td>0</td>\n",
              "      <td>0</td>\n",
              "      <td>0</td>\n",
              "      <td>0</td>\n",
              "    </tr>\n",
              "    <tr>\n",
              "      <th>3</th>\n",
              "      <td>4</td>\n",
              "      <td>1</td>\n",
              "      <td>1</td>\n",
              "      <td>2</td>\n",
              "      <td>0</td>\n",
              "      <td>0</td>\n",
              "      <td>0</td>\n",
              "      <td>0</td>\n",
              "      <td>0</td>\n",
              "      <td>0</td>\n",
              "      <td>0</td>\n",
              "      <td>0</td>\n",
              "      <td>0</td>\n",
              "      <td>0</td>\n",
              "      <td>0</td>\n",
              "      <td>1</td>\n",
              "      <td>0</td>\n",
              "      <td>0</td>\n",
              "      <td>0</td>\n",
              "      <td>0</td>\n",
              "      <td>0</td>\n",
              "      <td>0</td>\n",
              "      <td>1</td>\n",
              "      <td>0</td>\n",
              "      <td>0</td>\n",
              "      <td>0</td>\n",
              "    </tr>\n",
              "    <tr>\n",
              "      <th>4</th>\n",
              "      <td>3</td>\n",
              "      <td>1</td>\n",
              "      <td>1</td>\n",
              "      <td>3</td>\n",
              "      <td>0</td>\n",
              "      <td>0</td>\n",
              "      <td>0</td>\n",
              "      <td>0</td>\n",
              "      <td>0</td>\n",
              "      <td>0</td>\n",
              "      <td>0</td>\n",
              "      <td>0</td>\n",
              "      <td>0</td>\n",
              "      <td>0</td>\n",
              "      <td>0</td>\n",
              "      <td>0</td>\n",
              "      <td>0</td>\n",
              "      <td>0</td>\n",
              "      <td>0</td>\n",
              "      <td>0</td>\n",
              "      <td>0</td>\n",
              "      <td>0</td>\n",
              "      <td>0</td>\n",
              "      <td>0</td>\n",
              "      <td>0</td>\n",
              "      <td>0</td>\n",
              "    </tr>\n",
              "    <tr>\n",
              "      <th>5</th>\n",
              "      <td>2</td>\n",
              "      <td>2</td>\n",
              "      <td>2</td>\n",
              "      <td>3</td>\n",
              "      <td>0</td>\n",
              "      <td>0</td>\n",
              "      <td>0</td>\n",
              "      <td>0</td>\n",
              "      <td>0</td>\n",
              "      <td>0</td>\n",
              "      <td>0</td>\n",
              "      <td>0</td>\n",
              "      <td>0</td>\n",
              "      <td>0</td>\n",
              "      <td>0</td>\n",
              "      <td>0</td>\n",
              "      <td>0</td>\n",
              "      <td>0</td>\n",
              "      <td>0</td>\n",
              "      <td>0</td>\n",
              "      <td>0</td>\n",
              "      <td>0</td>\n",
              "      <td>0</td>\n",
              "      <td>0</td>\n",
              "      <td>0</td>\n",
              "      <td>0</td>\n",
              "    </tr>\n",
              "    <tr>\n",
              "      <th>6</th>\n",
              "      <td>2</td>\n",
              "      <td>1</td>\n",
              "      <td>1</td>\n",
              "      <td>1</td>\n",
              "      <td>0</td>\n",
              "      <td>0</td>\n",
              "      <td>0</td>\n",
              "      <td>0</td>\n",
              "      <td>0</td>\n",
              "      <td>0</td>\n",
              "      <td>0</td>\n",
              "      <td>0</td>\n",
              "      <td>0</td>\n",
              "      <td>0</td>\n",
              "      <td>0</td>\n",
              "      <td>1</td>\n",
              "      <td>0</td>\n",
              "      <td>0</td>\n",
              "      <td>0</td>\n",
              "      <td>0</td>\n",
              "      <td>0</td>\n",
              "      <td>0</td>\n",
              "      <td>1</td>\n",
              "      <td>0</td>\n",
              "      <td>0</td>\n",
              "      <td>0</td>\n",
              "    </tr>\n",
              "    <tr>\n",
              "      <th>7</th>\n",
              "      <td>4</td>\n",
              "      <td>0</td>\n",
              "      <td>0</td>\n",
              "      <td>2</td>\n",
              "      <td>0</td>\n",
              "      <td>0</td>\n",
              "      <td>0</td>\n",
              "      <td>0</td>\n",
              "      <td>0</td>\n",
              "      <td>0</td>\n",
              "      <td>0</td>\n",
              "      <td>0</td>\n",
              "      <td>0</td>\n",
              "      <td>0</td>\n",
              "      <td>0</td>\n",
              "      <td>0</td>\n",
              "      <td>0</td>\n",
              "      <td>0</td>\n",
              "      <td>0</td>\n",
              "      <td>0</td>\n",
              "      <td>0</td>\n",
              "      <td>0</td>\n",
              "      <td>0</td>\n",
              "      <td>0</td>\n",
              "      <td>0</td>\n",
              "      <td>0</td>\n",
              "    </tr>\n",
              "    <tr>\n",
              "      <th>8</th>\n",
              "      <td>2</td>\n",
              "      <td>1</td>\n",
              "      <td>1</td>\n",
              "      <td>1</td>\n",
              "      <td>0</td>\n",
              "      <td>0</td>\n",
              "      <td>0</td>\n",
              "      <td>0</td>\n",
              "      <td>0</td>\n",
              "      <td>0</td>\n",
              "      <td>0</td>\n",
              "      <td>0</td>\n",
              "      <td>0</td>\n",
              "      <td>0</td>\n",
              "      <td>0</td>\n",
              "      <td>1</td>\n",
              "      <td>0</td>\n",
              "      <td>0</td>\n",
              "      <td>0</td>\n",
              "      <td>0</td>\n",
              "      <td>0</td>\n",
              "      <td>0</td>\n",
              "      <td>1</td>\n",
              "      <td>0</td>\n",
              "      <td>0</td>\n",
              "      <td>0</td>\n",
              "    </tr>\n",
              "    <tr>\n",
              "      <th>9</th>\n",
              "      <td>3</td>\n",
              "      <td>2</td>\n",
              "      <td>1</td>\n",
              "      <td>0</td>\n",
              "      <td>0</td>\n",
              "      <td>0</td>\n",
              "      <td>0</td>\n",
              "      <td>0</td>\n",
              "      <td>0</td>\n",
              "      <td>0</td>\n",
              "      <td>0</td>\n",
              "      <td>0</td>\n",
              "      <td>0</td>\n",
              "      <td>0</td>\n",
              "      <td>0</td>\n",
              "      <td>0</td>\n",
              "      <td>0</td>\n",
              "      <td>0</td>\n",
              "      <td>0</td>\n",
              "      <td>0</td>\n",
              "      <td>0</td>\n",
              "      <td>0</td>\n",
              "      <td>0</td>\n",
              "      <td>0</td>\n",
              "      <td>0</td>\n",
              "      <td>0</td>\n",
              "    </tr>\n",
              "    <tr>\n",
              "      <th>11</th>\n",
              "      <td>2</td>\n",
              "      <td>1</td>\n",
              "      <td>1</td>\n",
              "      <td>2</td>\n",
              "      <td>0</td>\n",
              "      <td>0</td>\n",
              "      <td>0</td>\n",
              "      <td>0</td>\n",
              "      <td>0</td>\n",
              "      <td>0</td>\n",
              "      <td>0</td>\n",
              "      <td>0</td>\n",
              "      <td>0</td>\n",
              "      <td>0</td>\n",
              "      <td>0</td>\n",
              "      <td>0</td>\n",
              "      <td>0</td>\n",
              "      <td>0</td>\n",
              "      <td>0</td>\n",
              "      <td>0</td>\n",
              "      <td>0</td>\n",
              "      <td>0</td>\n",
              "      <td>0</td>\n",
              "      <td>0</td>\n",
              "      <td>0</td>\n",
              "      <td>0</td>\n",
              "    </tr>\n",
              "    <tr>\n",
              "      <th>12</th>\n",
              "      <td>3</td>\n",
              "      <td>1</td>\n",
              "      <td>1</td>\n",
              "      <td>3</td>\n",
              "      <td>0</td>\n",
              "      <td>0</td>\n",
              "      <td>0</td>\n",
              "      <td>0</td>\n",
              "      <td>0</td>\n",
              "      <td>0</td>\n",
              "      <td>0</td>\n",
              "      <td>0</td>\n",
              "      <td>0</td>\n",
              "      <td>0</td>\n",
              "      <td>0</td>\n",
              "      <td>1</td>\n",
              "      <td>0</td>\n",
              "      <td>0</td>\n",
              "      <td>0</td>\n",
              "      <td>0</td>\n",
              "      <td>0</td>\n",
              "      <td>0</td>\n",
              "      <td>1</td>\n",
              "      <td>0</td>\n",
              "      <td>0</td>\n",
              "      <td>0</td>\n",
              "    </tr>\n",
              "  </tbody>\n",
              "</table>\n",
              "</div>"
            ],
            "text/plain": [
              "    area  baths  beds  ...  Electric Fence  Fibre Internet  Backup Generator\n",
              "0      2      2     1  ...               0               0                 0\n",
              "3      4      1     1  ...               0               0                 0\n",
              "4      3      1     1  ...               0               0                 0\n",
              "5      2      2     2  ...               0               0                 0\n",
              "6      2      1     1  ...               0               0                 0\n",
              "7      4      0     0  ...               0               0                 0\n",
              "8      2      1     1  ...               0               0                 0\n",
              "9      3      2     1  ...               0               0                 0\n",
              "11     2      1     1  ...               0               0                 0\n",
              "12     3      1     1  ...               0               0                 0\n",
              "\n",
              "[10 rows x 26 columns]"
            ]
          },
          "metadata": {
            "tags": []
          },
          "execution_count": 30
        }
      ]
    },
    {
      "cell_type": "code",
      "metadata": {
        "id": "nywbFV3V6_4y",
        "colab_type": "code",
        "colab": {}
      },
      "source": [
        ""
      ],
      "execution_count": 30,
      "outputs": []
    },
    {
      "cell_type": "code",
      "metadata": {
        "id": "LNpUcev2VaPy",
        "colab_type": "code",
        "colab": {
          "base_uri": "https://localhost:8080/",
          "height": 0
        },
        "outputId": "ffa7bebd-680e-4c53-f2a5-d680757408dd"
      },
      "source": [
        "df.isna().sum()"
      ],
      "execution_count": 31,
      "outputs": [
        {
          "output_type": "execute_result",
          "data": {
            "text/plain": [
              "area                    0\n",
              "baths                   0\n",
              "beds                    0\n",
              "Class                   0\n",
              "Built in Cupboards      0\n",
              "Scenic View             0\n",
              "Alarm                   0\n",
              "Kitchen                 0\n",
              "Balcony                 0\n",
              "Walk In Closet          0\n",
              "Garden                  0\n",
              "Lift Elevator           0\n",
              "Ensuite                 0\n",
              "Golf Course             0\n",
              "Electricity Included    0\n",
              "Water Included          0\n",
              "Pets Allowed            0\n",
              "Fence                   0\n",
              "Aircon                  0\n",
              "Bore Hole               0\n",
              "Sea View                0\n",
              "CCTV                    0\n",
              "Wheel Chair Friendly    0\n",
              "Electric Fence          0\n",
              "Fibre Internet          0\n",
              "Backup Generator        0\n",
              "dtype: int64"
            ]
          },
          "metadata": {
            "tags": []
          },
          "execution_count": 31
        }
      ]
    },
    {
      "cell_type": "code",
      "metadata": {
        "id": "F4MmpBNgVfWM",
        "colab_type": "code",
        "colab": {
          "base_uri": "https://localhost:8080/",
          "height": 0
        },
        "outputId": "9264af97-c19c-4bb2-fdf4-b130b0c70fd0"
      },
      "source": [
        "df.isnull().sum()"
      ],
      "execution_count": 32,
      "outputs": [
        {
          "output_type": "execute_result",
          "data": {
            "text/plain": [
              "area                    0\n",
              "baths                   0\n",
              "beds                    0\n",
              "Class                   0\n",
              "Built in Cupboards      0\n",
              "Scenic View             0\n",
              "Alarm                   0\n",
              "Kitchen                 0\n",
              "Balcony                 0\n",
              "Walk In Closet          0\n",
              "Garden                  0\n",
              "Lift Elevator           0\n",
              "Ensuite                 0\n",
              "Golf Course             0\n",
              "Electricity Included    0\n",
              "Water Included          0\n",
              "Pets Allowed            0\n",
              "Fence                   0\n",
              "Aircon                  0\n",
              "Bore Hole               0\n",
              "Sea View                0\n",
              "CCTV                    0\n",
              "Wheel Chair Friendly    0\n",
              "Electric Fence          0\n",
              "Fibre Internet          0\n",
              "Backup Generator        0\n",
              "dtype: int64"
            ]
          },
          "metadata": {
            "tags": []
          },
          "execution_count": 32
        }
      ]
    },
    {
      "cell_type": "markdown",
      "metadata": {
        "id": "LMRjLv8wVkNT",
        "colab_type": "text"
      },
      "source": [
        "# SPLIT"
      ]
    },
    {
      "cell_type": "code",
      "metadata": {
        "id": "4LFXLeb4VmeE",
        "colab_type": "code",
        "colab": {
          "base_uri": "https://localhost:8080/",
          "height": 0
        },
        "outputId": "2896c05b-74b5-454d-c54f-a05577b031b7"
      },
      "source": [
        "from sklearn.model_selection import train_test_split\n",
        "new_cols = [col for col in df.columns if col != 'Class'] + ['Class']\n",
        "df = df[new_cols]\n",
        "df.head(4)"
      ],
      "execution_count": 33,
      "outputs": [
        {
          "output_type": "execute_result",
          "data": {
            "text/html": [
              "<div>\n",
              "<style scoped>\n",
              "    .dataframe tbody tr th:only-of-type {\n",
              "        vertical-align: middle;\n",
              "    }\n",
              "\n",
              "    .dataframe tbody tr th {\n",
              "        vertical-align: top;\n",
              "    }\n",
              "\n",
              "    .dataframe thead th {\n",
              "        text-align: right;\n",
              "    }\n",
              "</style>\n",
              "<table border=\"1\" class=\"dataframe\">\n",
              "  <thead>\n",
              "    <tr style=\"text-align: right;\">\n",
              "      <th></th>\n",
              "      <th>area</th>\n",
              "      <th>baths</th>\n",
              "      <th>beds</th>\n",
              "      <th>Built in Cupboards</th>\n",
              "      <th>Scenic View</th>\n",
              "      <th>Alarm</th>\n",
              "      <th>Kitchen</th>\n",
              "      <th>Balcony</th>\n",
              "      <th>Walk In Closet</th>\n",
              "      <th>Garden</th>\n",
              "      <th>Lift Elevator</th>\n",
              "      <th>Ensuite</th>\n",
              "      <th>Golf Course</th>\n",
              "      <th>Electricity Included</th>\n",
              "      <th>Water Included</th>\n",
              "      <th>Pets Allowed</th>\n",
              "      <th>Fence</th>\n",
              "      <th>Aircon</th>\n",
              "      <th>Bore Hole</th>\n",
              "      <th>Sea View</th>\n",
              "      <th>CCTV</th>\n",
              "      <th>Wheel Chair Friendly</th>\n",
              "      <th>Electric Fence</th>\n",
              "      <th>Fibre Internet</th>\n",
              "      <th>Backup Generator</th>\n",
              "      <th>Class</th>\n",
              "    </tr>\n",
              "  </thead>\n",
              "  <tbody>\n",
              "    <tr>\n",
              "      <th>0</th>\n",
              "      <td>2</td>\n",
              "      <td>2</td>\n",
              "      <td>1</td>\n",
              "      <td>1</td>\n",
              "      <td>0</td>\n",
              "      <td>0</td>\n",
              "      <td>1</td>\n",
              "      <td>1</td>\n",
              "      <td>0</td>\n",
              "      <td>1</td>\n",
              "      <td>0</td>\n",
              "      <td>1</td>\n",
              "      <td>0</td>\n",
              "      <td>0</td>\n",
              "      <td>0</td>\n",
              "      <td>0</td>\n",
              "      <td>1</td>\n",
              "      <td>0</td>\n",
              "      <td>0</td>\n",
              "      <td>0</td>\n",
              "      <td>0</td>\n",
              "      <td>0</td>\n",
              "      <td>0</td>\n",
              "      <td>0</td>\n",
              "      <td>0</td>\n",
              "      <td>2</td>\n",
              "    </tr>\n",
              "    <tr>\n",
              "      <th>3</th>\n",
              "      <td>4</td>\n",
              "      <td>1</td>\n",
              "      <td>1</td>\n",
              "      <td>0</td>\n",
              "      <td>0</td>\n",
              "      <td>0</td>\n",
              "      <td>0</td>\n",
              "      <td>0</td>\n",
              "      <td>0</td>\n",
              "      <td>0</td>\n",
              "      <td>0</td>\n",
              "      <td>0</td>\n",
              "      <td>0</td>\n",
              "      <td>0</td>\n",
              "      <td>1</td>\n",
              "      <td>0</td>\n",
              "      <td>0</td>\n",
              "      <td>0</td>\n",
              "      <td>0</td>\n",
              "      <td>0</td>\n",
              "      <td>0</td>\n",
              "      <td>1</td>\n",
              "      <td>0</td>\n",
              "      <td>0</td>\n",
              "      <td>0</td>\n",
              "      <td>2</td>\n",
              "    </tr>\n",
              "    <tr>\n",
              "      <th>4</th>\n",
              "      <td>3</td>\n",
              "      <td>1</td>\n",
              "      <td>1</td>\n",
              "      <td>0</td>\n",
              "      <td>0</td>\n",
              "      <td>0</td>\n",
              "      <td>0</td>\n",
              "      <td>0</td>\n",
              "      <td>0</td>\n",
              "      <td>0</td>\n",
              "      <td>0</td>\n",
              "      <td>0</td>\n",
              "      <td>0</td>\n",
              "      <td>0</td>\n",
              "      <td>0</td>\n",
              "      <td>0</td>\n",
              "      <td>0</td>\n",
              "      <td>0</td>\n",
              "      <td>0</td>\n",
              "      <td>0</td>\n",
              "      <td>0</td>\n",
              "      <td>0</td>\n",
              "      <td>0</td>\n",
              "      <td>0</td>\n",
              "      <td>0</td>\n",
              "      <td>3</td>\n",
              "    </tr>\n",
              "    <tr>\n",
              "      <th>5</th>\n",
              "      <td>2</td>\n",
              "      <td>2</td>\n",
              "      <td>2</td>\n",
              "      <td>0</td>\n",
              "      <td>0</td>\n",
              "      <td>0</td>\n",
              "      <td>0</td>\n",
              "      <td>0</td>\n",
              "      <td>0</td>\n",
              "      <td>0</td>\n",
              "      <td>0</td>\n",
              "      <td>0</td>\n",
              "      <td>0</td>\n",
              "      <td>0</td>\n",
              "      <td>0</td>\n",
              "      <td>0</td>\n",
              "      <td>0</td>\n",
              "      <td>0</td>\n",
              "      <td>0</td>\n",
              "      <td>0</td>\n",
              "      <td>0</td>\n",
              "      <td>0</td>\n",
              "      <td>0</td>\n",
              "      <td>0</td>\n",
              "      <td>0</td>\n",
              "      <td>3</td>\n",
              "    </tr>\n",
              "  </tbody>\n",
              "</table>\n",
              "</div>"
            ],
            "text/plain": [
              "   area  baths  beds  ...  Fibre Internet  Backup Generator  Class\n",
              "0     2      2     1  ...               0                 0      2\n",
              "3     4      1     1  ...               0                 0      2\n",
              "4     3      1     1  ...               0                 0      3\n",
              "5     2      2     2  ...               0                 0      3\n",
              "\n",
              "[4 rows x 26 columns]"
            ]
          },
          "metadata": {
            "tags": []
          },
          "execution_count": 33
        }
      ]
    },
    {
      "cell_type": "code",
      "metadata": {
        "id": "TZqQxWsEKYEC",
        "colab_type": "code",
        "colab": {
          "base_uri": "https://localhost:8080/",
          "height": 0
        },
        "outputId": "29d8a0c1-dc01-4035-c13e-8462b11a8b95"
      },
      "source": [
        "df.shape"
      ],
      "execution_count": 34,
      "outputs": [
        {
          "output_type": "execute_result",
          "data": {
            "text/plain": [
              "(85, 26)"
            ]
          },
          "metadata": {
            "tags": []
          },
          "execution_count": 34
        }
      ]
    },
    {
      "cell_type": "code",
      "metadata": {
        "id": "WTU1XDPsb6MK",
        "colab_type": "code",
        "colab": {}
      },
      "source": [
        "x= df.iloc[:,0:25].values.astype(int)\n",
        "y= df.iloc[:,25].values.astype(int)"
      ],
      "execution_count": 35,
      "outputs": []
    },
    {
      "cell_type": "code",
      "metadata": {
        "id": "z0qTgbK_XloU",
        "colab_type": "code",
        "colab": {
          "base_uri": "https://localhost:8080/",
          "height": 0
        },
        "outputId": "f39c5d29-2ba3-43ac-910b-6394e6576ed6"
      },
      "source": [
        "x.shape"
      ],
      "execution_count": 36,
      "outputs": [
        {
          "output_type": "execute_result",
          "data": {
            "text/plain": [
              "(85, 25)"
            ]
          },
          "metadata": {
            "tags": []
          },
          "execution_count": 36
        }
      ]
    },
    {
      "cell_type": "code",
      "metadata": {
        "id": "TUhJYgdXXol2",
        "colab_type": "code",
        "colab": {
          "base_uri": "https://localhost:8080/",
          "height": 0
        },
        "outputId": "c22833d2-0f9e-45b1-c739-a4619d47fc2e"
      },
      "source": [
        "y.shape"
      ],
      "execution_count": 37,
      "outputs": [
        {
          "output_type": "execute_result",
          "data": {
            "text/plain": [
              "(85,)"
            ]
          },
          "metadata": {
            "tags": []
          },
          "execution_count": 37
        }
      ]
    },
    {
      "cell_type": "code",
      "metadata": {
        "id": "j46a01ZQKjcu",
        "colab_type": "code",
        "colab": {
          "base_uri": "https://localhost:8080/",
          "height": 0
        },
        "outputId": "6731abb4-57a5-4a1a-8931-a278ba934a3a"
      },
      "source": [
        "y.reshape(1,-1)\n",
        "y.shape"
      ],
      "execution_count": 38,
      "outputs": [
        {
          "output_type": "execute_result",
          "data": {
            "text/plain": [
              "(85,)"
            ]
          },
          "metadata": {
            "tags": []
          },
          "execution_count": 38
        }
      ]
    },
    {
      "cell_type": "code",
      "metadata": {
        "id": "uAnVyvsicJqI",
        "colab_type": "code",
        "colab": {}
      },
      "source": [
        "x_train,x_test,y_train,y_test=train_test_split(x,y,test_size=0.2, random_state=np.random.seed(7))"
      ],
      "execution_count": 39,
      "outputs": []
    },
    {
      "cell_type": "code",
      "metadata": {
        "id": "5APme421JB5X",
        "colab_type": "code",
        "colab": {
          "base_uri": "https://localhost:8080/",
          "height": 0
        },
        "outputId": "f00f1e65-f981-4ead-9f6b-95999cd104ea"
      },
      "source": [
        "len(x_train)\n",
        "x_train.shape"
      ],
      "execution_count": 40,
      "outputs": [
        {
          "output_type": "execute_result",
          "data": {
            "text/plain": [
              "(68, 25)"
            ]
          },
          "metadata": {
            "tags": []
          },
          "execution_count": 40
        }
      ]
    },
    {
      "cell_type": "code",
      "metadata": {
        "id": "0vysMWFgJFAw",
        "colab_type": "code",
        "colab": {
          "base_uri": "https://localhost:8080/",
          "height": 0
        },
        "outputId": "f413e894-ff1e-48b2-f1fa-0f6810bdb59b"
      },
      "source": [
        "x_train"
      ],
      "execution_count": 41,
      "outputs": [
        {
          "output_type": "execute_result",
          "data": {
            "text/plain": [
              "array([[2, 0, 0, ..., 0, 0, 0],\n",
              "       [2, 1, 1, ..., 0, 0, 0],\n",
              "       [2, 1, 1, ..., 0, 0, 0],\n",
              "       ...,\n",
              "       [2, 0, 0, ..., 0, 0, 0],\n",
              "       [2, 1, 1, ..., 0, 0, 0],\n",
              "       [4, 1, 1, ..., 0, 0, 0]])"
            ]
          },
          "metadata": {
            "tags": []
          },
          "execution_count": 41
        }
      ]
    },
    {
      "cell_type": "code",
      "metadata": {
        "id": "TCKhjEbjJGuq",
        "colab_type": "code",
        "colab": {
          "base_uri": "https://localhost:8080/",
          "height": 0
        },
        "outputId": "1ef334a9-3b1a-4ff2-a19a-6d0ffebd98ca"
      },
      "source": [
        "len(y_train)"
      ],
      "execution_count": 42,
      "outputs": [
        {
          "output_type": "execute_result",
          "data": {
            "text/plain": [
              "68"
            ]
          },
          "metadata": {
            "tags": []
          },
          "execution_count": 42
        }
      ]
    },
    {
      "cell_type": "code",
      "metadata": {
        "id": "7CYCVT6UJJMe",
        "colab_type": "code",
        "colab": {
          "base_uri": "https://localhost:8080/",
          "height": 0
        },
        "outputId": "82229891-e017-4b0a-8408-282eaa9d4d61"
      },
      "source": [
        "y_train.shape"
      ],
      "execution_count": 43,
      "outputs": [
        {
          "output_type": "execute_result",
          "data": {
            "text/plain": [
              "(68,)"
            ]
          },
          "metadata": {
            "tags": []
          },
          "execution_count": 43
        }
      ]
    },
    {
      "cell_type": "code",
      "metadata": {
        "id": "PfhSnOrOQkYr",
        "colab_type": "code",
        "colab": {}
      },
      "source": [
        "# from sklearn.preprocessing import StandardScaler\n",
        "# # normalise\n",
        "# sc = StandardScaler()\n",
        "# x_train = sc.fit_transform(x_train)\n",
        "# x_test = sc.transform(x_test)"
      ],
      "execution_count": 44,
      "outputs": []
    },
    {
      "cell_type": "code",
      "metadata": {
        "id": "0VWBInMxcOkQ",
        "colab_type": "code",
        "colab": {
          "base_uri": "https://localhost:8080/",
          "height": 0
        },
        "outputId": "e721bc6b-1876-41e1-863e-ab6685d888d6"
      },
      "source": [
        "pip install wandb"
      ],
      "execution_count": 45,
      "outputs": [
        {
          "output_type": "stream",
          "text": [
            "Collecting wandb\n",
            "\u001b[?25l  Downloading https://files.pythonhosted.org/packages/2e/d2/f864e4fea30223a694b1454fbe8634eab70d409b5185ec56914bae04d1e8/wandb-0.10.2-py2.py3-none-any.whl (1.6MB)\n",
            "\u001b[K     |████████████████████████████████| 1.6MB 2.9MB/s \n",
            "\u001b[?25hRequirement already satisfied: promise<3,>=2.0 in /usr/local/lib/python3.6/dist-packages (from wandb) (2.3)\n",
            "Requirement already satisfied: psutil>=5.0.0 in /usr/local/lib/python3.6/dist-packages (from wandb) (5.4.8)\n",
            "Collecting GitPython>=1.0.0\n",
            "\u001b[?25l  Downloading https://files.pythonhosted.org/packages/09/bc/ae32e07e89cc25b9e5c793d19a1e5454d30a8e37d95040991160f942519e/GitPython-3.1.8-py3-none-any.whl (159kB)\n",
            "\u001b[K     |████████████████████████████████| 163kB 19.8MB/s \n",
            "\u001b[?25hRequirement already satisfied: requests<3,>=2.0.0 in /usr/local/lib/python3.6/dist-packages (from wandb) (2.23.0)\n",
            "Collecting shortuuid>=0.5.0\n",
            "  Downloading https://files.pythonhosted.org/packages/25/a6/2ecc1daa6a304e7f1b216f0896b26156b78e7c38e1211e9b798b4716c53d/shortuuid-1.0.1-py3-none-any.whl\n",
            "Collecting docker-pycreds>=0.4.0\n",
            "  Downloading https://files.pythonhosted.org/packages/f5/e8/f6bd1eee09314e7e6dee49cbe2c5e22314ccdb38db16c9fc72d2fa80d054/docker_pycreds-0.4.0-py2.py3-none-any.whl\n",
            "Collecting configparser>=3.8.1\n",
            "  Downloading https://files.pythonhosted.org/packages/4b/6b/01baa293090240cf0562cc5eccb69c6f5006282127f2b846fad011305c79/configparser-5.0.0-py3-none-any.whl\n",
            "Requirement already satisfied: PyYAML in /usr/local/lib/python3.6/dist-packages (from wandb) (3.13)\n",
            "Requirement already satisfied: protobuf>=3.12.0 in /usr/local/lib/python3.6/dist-packages (from wandb) (3.12.4)\n",
            "Requirement already satisfied: six>=1.13.0 in /usr/local/lib/python3.6/dist-packages (from wandb) (1.15.0)\n",
            "Requirement already satisfied: python-dateutil>=2.6.1 in /usr/local/lib/python3.6/dist-packages (from wandb) (2.8.1)\n",
            "Collecting watchdog>=0.8.3\n",
            "\u001b[?25l  Downloading https://files.pythonhosted.org/packages/0e/06/121302598a4fc01aca942d937f4a2c33430b7181137b35758913a8db10ad/watchdog-0.10.3.tar.gz (94kB)\n",
            "\u001b[K     |████████████████████████████████| 102kB 8.1MB/s \n",
            "\u001b[?25hRequirement already satisfied: Click>=7.0 in /usr/local/lib/python3.6/dist-packages (from wandb) (7.1.2)\n",
            "Collecting subprocess32>=3.5.3\n",
            "\u001b[?25l  Downloading https://files.pythonhosted.org/packages/32/c8/564be4d12629b912ea431f1a50eb8b3b9d00f1a0b1ceff17f266be190007/subprocess32-3.5.4.tar.gz (97kB)\n",
            "\u001b[K     |████████████████████████████████| 102kB 8.2MB/s \n",
            "\u001b[?25hCollecting sentry-sdk>=0.4.0\n",
            "\u001b[?25l  Downloading https://files.pythonhosted.org/packages/6f/0f/fabe13834484d499064198f8ecf6904a4ce569246ce41d2d747432a8f3c8/sentry_sdk-0.17.8-py2.py3-none-any.whl (120kB)\n",
            "\u001b[K     |████████████████████████████████| 122kB 19.6MB/s \n",
            "\u001b[?25hCollecting gitdb<5,>=4.0.1\n",
            "\u001b[?25l  Downloading https://files.pythonhosted.org/packages/48/11/d1800bca0a3bae820b84b7d813ad1eff15a48a64caea9c823fc8c1b119e8/gitdb-4.0.5-py3-none-any.whl (63kB)\n",
            "\u001b[K     |████████████████████████████████| 71kB 7.2MB/s \n",
            "\u001b[?25hRequirement already satisfied: certifi>=2017.4.17 in /usr/local/lib/python3.6/dist-packages (from requests<3,>=2.0.0->wandb) (2020.6.20)\n",
            "Requirement already satisfied: urllib3!=1.25.0,!=1.25.1,<1.26,>=1.21.1 in /usr/local/lib/python3.6/dist-packages (from requests<3,>=2.0.0->wandb) (1.24.3)\n",
            "Requirement already satisfied: idna<3,>=2.5 in /usr/local/lib/python3.6/dist-packages (from requests<3,>=2.0.0->wandb) (2.10)\n",
            "Requirement already satisfied: chardet<4,>=3.0.2 in /usr/local/lib/python3.6/dist-packages (from requests<3,>=2.0.0->wandb) (3.0.4)\n",
            "Requirement already satisfied: setuptools in /usr/local/lib/python3.6/dist-packages (from protobuf>=3.12.0->wandb) (50.3.0)\n",
            "Collecting pathtools>=0.1.1\n",
            "  Downloading https://files.pythonhosted.org/packages/e7/7f/470d6fcdf23f9f3518f6b0b76be9df16dcc8630ad409947f8be2eb0ed13a/pathtools-0.1.2.tar.gz\n",
            "Collecting smmap<4,>=3.0.1\n",
            "  Downloading https://files.pythonhosted.org/packages/b0/9a/4d409a6234eb940e6a78dfdfc66156e7522262f5f2fecca07dc55915952d/smmap-3.0.4-py2.py3-none-any.whl\n",
            "Building wheels for collected packages: watchdog, subprocess32, pathtools\n",
            "  Building wheel for watchdog (setup.py) ... \u001b[?25l\u001b[?25hdone\n",
            "  Created wheel for watchdog: filename=watchdog-0.10.3-cp36-none-any.whl size=73873 sha256=51ffd066160e4452f3415ddb27091d3f34b2d3f967ad8df6a0b8d667b3d04bf0\n",
            "  Stored in directory: /root/.cache/pip/wheels/a8/1d/38/2c19bb311f67cc7b4d07a2ec5ea36ab1a0a0ea50db994a5bc7\n",
            "  Building wheel for subprocess32 (setup.py) ... \u001b[?25l\u001b[?25hdone\n",
            "  Created wheel for subprocess32: filename=subprocess32-3.5.4-cp36-none-any.whl size=6489 sha256=27b25cd78e1510d00a4b793f05dc2bd9a7bc4e12bd9a2ffabde9ea5d688769bf\n",
            "  Stored in directory: /root/.cache/pip/wheels/68/39/1a/5e402bdfdf004af1786c8b853fd92f8c4a04f22aad179654d1\n",
            "  Building wheel for pathtools (setup.py) ... \u001b[?25l\u001b[?25hdone\n",
            "  Created wheel for pathtools: filename=pathtools-0.1.2-cp36-none-any.whl size=8785 sha256=3b06ff7d9721a23476c4a9394cf642e88a529ca601950ce5898e7fa119b5b7ea\n",
            "  Stored in directory: /root/.cache/pip/wheels/0b/04/79/c3b0c3a0266a3cb4376da31e5bfe8bba0c489246968a68e843\n",
            "Successfully built watchdog subprocess32 pathtools\n",
            "Installing collected packages: smmap, gitdb, GitPython, shortuuid, docker-pycreds, configparser, pathtools, watchdog, subprocess32, sentry-sdk, wandb\n",
            "Successfully installed GitPython-3.1.8 configparser-5.0.0 docker-pycreds-0.4.0 gitdb-4.0.5 pathtools-0.1.2 sentry-sdk-0.17.8 shortuuid-1.0.1 smmap-3.0.4 subprocess32-3.5.4 wandb-0.10.2 watchdog-0.10.3\n"
          ],
          "name": "stdout"
        }
      ]
    },
    {
      "cell_type": "markdown",
      "metadata": {
        "id": "PBM4r_6MjZrV",
        "colab_type": "text"
      },
      "source": [
        "# Logistic Regression"
      ]
    },
    {
      "cell_type": "code",
      "metadata": {
        "id": "PRQxDIRmcXpf",
        "colab_type": "code",
        "colab": {}
      },
      "source": [
        "from sklearn.metrics import accuracy_score,precision_recall_fscore_support,classification_report\n",
        "from sklearn.linear_model import LogisticRegression\n",
        "import wandb\n",
        "import time\n"
      ],
      "execution_count": 46,
      "outputs": []
    },
    {
      "cell_type": "code",
      "metadata": {
        "id": "7Yi__xWHcd84",
        "colab_type": "code",
        "colab": {}
      },
      "source": [
        "def train_eval_pipeline(model,train_data,test_data,name):\n",
        "  #Initialize Weights and Biases \n",
        "  wandb.init(project=\"Logistic Example Using Runda Houses Manually Cleaned Dataset\", name=name)\n",
        "  #segregate the datasets\n",
        "  (x_train,y_train)=train_data\n",
        "  (x_test,y_test)=test_data\n",
        " \n",
        "  # train and log all the necessary metrics\n",
        "  start=time.time()\n",
        "  model = model.fit(x_train,y_train)\n",
        "  end=time.time()-start\n",
        "  prediction=model.predict(x_test)\n",
        " \n",
        "  wandb.log({\"accuracy\": accuracy_score(y_test,prediction)*100.0,\n",
        "             \"precision\": precision_recall_fscore_support(y_test,prediction,average='macro')[0],\n",
        "             'recall': precision_recall_fscore_support(y_test,prediction,average='macro')[1],\n",
        "             'Training_time':end})\n",
        "  print(\"Accuracy score of the Logistic Regression Classifier with default hyperparameter values {0:.2f}%\"\\\n",
        "  .format(accuracy_score(y_test,prediction)*100.0))\n",
        "  print('\\n')\n",
        "  print(\"---Classification report of the Logistic Regression classifier with default hyperparameter values----\")\n",
        "  print('\\n')\n",
        "  print(classification_report(y_test,prediction,target_names=['low ','fair ', 'medium', 'overpriced'])) \n",
        "\n",
        "  return model"
      ],
      "execution_count": 47,
      "outputs": []
    },
    {
      "cell_type": "code",
      "metadata": {
        "id": "nvhJI0cecqDc",
        "colab_type": "code",
        "colab": {}
      },
      "source": [
        "logreg = LogisticRegression()"
      ],
      "execution_count": 48,
      "outputs": []
    },
    {
      "cell_type": "code",
      "metadata": {
        "id": "Bq-QxD6lEc_J",
        "colab_type": "code",
        "colab": {
          "base_uri": "https://localhost:8080/",
          "height": 589
        },
        "outputId": "fb53062d-65cd-4399-92fe-c753c5c7ec96"
      },
      "source": [
        "model = train_eval_pipeline(logreg,(x_train, y_train),(x_test,y_test),'Logisitc_regression')"
      ],
      "execution_count": 49,
      "outputs": [
        {
          "output_type": "display_data",
          "data": {
            "application/javascript": [
              "\n",
              "        window._wandbApiKey = new Promise((resolve, reject) => {\n",
              "            function loadScript(url) {\n",
              "            return new Promise(function(resolve, reject) {\n",
              "                let newScript = document.createElement(\"script\");\n",
              "                newScript.onerror = reject;\n",
              "                newScript.onload = resolve;\n",
              "                document.body.appendChild(newScript);\n",
              "                newScript.src = url;\n",
              "            });\n",
              "            }\n",
              "            loadScript(\"https://cdn.jsdelivr.net/npm/postmate/build/postmate.min.js\").then(() => {\n",
              "            const iframe = document.createElement('iframe')\n",
              "            iframe.style.cssText = \"width:0;height:0;border:none\"\n",
              "            document.body.appendChild(iframe)\n",
              "            const handshake = new Postmate({\n",
              "                container: iframe,\n",
              "                url: 'https://wandb.ai/authorize'\n",
              "            });\n",
              "            const timeout = setTimeout(() => reject(\"Couldn't auto authenticate\"), 5000)\n",
              "            handshake.then(function(child) {\n",
              "                child.on('authorize', data => {\n",
              "                    clearTimeout(timeout)\n",
              "                    resolve(data)\n",
              "                });\n",
              "            });\n",
              "            })\n",
              "        });\n",
              "    "
            ],
            "text/plain": [
              "<IPython.core.display.Javascript object>"
            ]
          },
          "metadata": {
            "tags": []
          }
        },
        {
          "output_type": "stream",
          "text": [
            "\u001b[34m\u001b[1mwandb\u001b[0m: You can find your API key in your browser here: https://wandb.ai/authorize\n"
          ],
          "name": "stderr"
        },
        {
          "output_type": "stream",
          "text": [
            "wandb: Paste an API key from your profile and hit enter: ··········\n"
          ],
          "name": "stdout"
        },
        {
          "output_type": "stream",
          "text": [
            "\u001b[34m\u001b[1mwandb\u001b[0m: Appending key for api.wandb.ai to your netrc file: /root/.netrc\n",
            "\u001b[34m\u001b[1mwandb\u001b[0m: Currently logged in as: \u001b[33mwamaitha\u001b[0m (use `wandb login --relogin` to force relogin)\n",
            "\u001b[34m\u001b[1mwandb\u001b[0m: Tracking run with wandb version 0.10.2\n",
            "\u001b[34m\u001b[1mwandb\u001b[0m: Run data is saved locally in wandb/run-20200925_081648-1easdpzd\n",
            "\u001b[34m\u001b[1mwandb\u001b[0m: Syncing run \u001b[33mLogisitc_regression\u001b[0m\n"
          ],
          "name": "stderr"
        },
        {
          "output_type": "display_data",
          "data": {
            "text/html": [
              "\n",
              "                Logging results to <a href=\"https://wandb.com\" target=\"_blank\">Weights & Biases</a> <a href=\"https://docs.wandb.com/integrations/jupyter.html\" target=\"_blank\">(Documentation)</a>.<br/>\n",
              "                Project page: <a href=\"https://wandb.ai/wamaitha/Logistic%20Example%20Using%20Runda%20Houses%20Manually%20Cleaned%20Dataset\" target=\"_blank\">https://wandb.ai/wamaitha/Logistic%20Example%20Using%20Runda%20Houses%20Manually%20Cleaned%20Dataset</a><br/>\n",
              "                Run page: <a href=\"https://wandb.ai/wamaitha/Logistic%20Example%20Using%20Runda%20Houses%20Manually%20Cleaned%20Dataset/runs/1easdpzd\" target=\"_blank\">https://wandb.ai/wamaitha/Logistic%20Example%20Using%20Runda%20Houses%20Manually%20Cleaned%20Dataset/runs/1easdpzd</a><br/>\n",
              "            "
            ],
            "text/plain": [
              "<IPython.core.display.HTML object>"
            ]
          },
          "metadata": {
            "tags": []
          }
        },
        {
          "output_type": "stream",
          "text": [
            "\n",
            "Accuracy score of the Logistic Regression Classifier with default hyperparameter values 41.18%\n",
            "\n",
            "\n",
            "---Classification report of the Logistic Regression classifier with default hyperparameter values----\n",
            "\n",
            "\n",
            "              precision    recall  f1-score   support\n",
            "\n",
            "        low        0.00      0.00      0.00         4\n",
            "       fair        0.50      0.43      0.46         7\n",
            "      medium       1.00      0.50      0.67         4\n",
            "  overpriced       0.22      1.00      0.36         2\n",
            "\n",
            "    accuracy                           0.41        17\n",
            "   macro avg       0.43      0.48      0.37        17\n",
            "weighted avg       0.47      0.41      0.39        17\n",
            "\n"
          ],
          "name": "stdout"
        },
        {
          "output_type": "stream",
          "text": [
            "/usr/local/lib/python3.6/dist-packages/sklearn/metrics/_classification.py:1272: UndefinedMetricWarning: Precision and F-score are ill-defined and being set to 0.0 in labels with no predicted samples. Use `zero_division` parameter to control this behavior.\n",
            "  _warn_prf(average, modifier, msg_start, len(result))\n"
          ],
          "name": "stderr"
        }
      ]
    },
    {
      "cell_type": "code",
      "metadata": {
        "id": "yBRe2-F5E2za",
        "colab_type": "code",
        "colab": {
          "base_uri": "https://localhost:8080/",
          "height": 731
        },
        "outputId": "cf81833b-0396-4631-a527-68eabe847843"
      },
      "source": [
        "df.head(20)"
      ],
      "execution_count": 50,
      "outputs": [
        {
          "output_type": "execute_result",
          "data": {
            "text/html": [
              "<div>\n",
              "<style scoped>\n",
              "    .dataframe tbody tr th:only-of-type {\n",
              "        vertical-align: middle;\n",
              "    }\n",
              "\n",
              "    .dataframe tbody tr th {\n",
              "        vertical-align: top;\n",
              "    }\n",
              "\n",
              "    .dataframe thead th {\n",
              "        text-align: right;\n",
              "    }\n",
              "</style>\n",
              "<table border=\"1\" class=\"dataframe\">\n",
              "  <thead>\n",
              "    <tr style=\"text-align: right;\">\n",
              "      <th></th>\n",
              "      <th>area</th>\n",
              "      <th>baths</th>\n",
              "      <th>beds</th>\n",
              "      <th>Built in Cupboards</th>\n",
              "      <th>Scenic View</th>\n",
              "      <th>Alarm</th>\n",
              "      <th>Kitchen</th>\n",
              "      <th>Balcony</th>\n",
              "      <th>Walk In Closet</th>\n",
              "      <th>Garden</th>\n",
              "      <th>Lift Elevator</th>\n",
              "      <th>Ensuite</th>\n",
              "      <th>Golf Course</th>\n",
              "      <th>Electricity Included</th>\n",
              "      <th>Water Included</th>\n",
              "      <th>Pets Allowed</th>\n",
              "      <th>Fence</th>\n",
              "      <th>Aircon</th>\n",
              "      <th>Bore Hole</th>\n",
              "      <th>Sea View</th>\n",
              "      <th>CCTV</th>\n",
              "      <th>Wheel Chair Friendly</th>\n",
              "      <th>Electric Fence</th>\n",
              "      <th>Fibre Internet</th>\n",
              "      <th>Backup Generator</th>\n",
              "      <th>Class</th>\n",
              "    </tr>\n",
              "  </thead>\n",
              "  <tbody>\n",
              "    <tr>\n",
              "      <th>0</th>\n",
              "      <td>2</td>\n",
              "      <td>2</td>\n",
              "      <td>1</td>\n",
              "      <td>1</td>\n",
              "      <td>0</td>\n",
              "      <td>0</td>\n",
              "      <td>1</td>\n",
              "      <td>1</td>\n",
              "      <td>0</td>\n",
              "      <td>1</td>\n",
              "      <td>0</td>\n",
              "      <td>1</td>\n",
              "      <td>0</td>\n",
              "      <td>0</td>\n",
              "      <td>0</td>\n",
              "      <td>0</td>\n",
              "      <td>1</td>\n",
              "      <td>0</td>\n",
              "      <td>0</td>\n",
              "      <td>0</td>\n",
              "      <td>0</td>\n",
              "      <td>0</td>\n",
              "      <td>0</td>\n",
              "      <td>0</td>\n",
              "      <td>0</td>\n",
              "      <td>2</td>\n",
              "    </tr>\n",
              "    <tr>\n",
              "      <th>3</th>\n",
              "      <td>4</td>\n",
              "      <td>1</td>\n",
              "      <td>1</td>\n",
              "      <td>0</td>\n",
              "      <td>0</td>\n",
              "      <td>0</td>\n",
              "      <td>0</td>\n",
              "      <td>0</td>\n",
              "      <td>0</td>\n",
              "      <td>0</td>\n",
              "      <td>0</td>\n",
              "      <td>0</td>\n",
              "      <td>0</td>\n",
              "      <td>0</td>\n",
              "      <td>1</td>\n",
              "      <td>0</td>\n",
              "      <td>0</td>\n",
              "      <td>0</td>\n",
              "      <td>0</td>\n",
              "      <td>0</td>\n",
              "      <td>0</td>\n",
              "      <td>1</td>\n",
              "      <td>0</td>\n",
              "      <td>0</td>\n",
              "      <td>0</td>\n",
              "      <td>2</td>\n",
              "    </tr>\n",
              "    <tr>\n",
              "      <th>4</th>\n",
              "      <td>3</td>\n",
              "      <td>1</td>\n",
              "      <td>1</td>\n",
              "      <td>0</td>\n",
              "      <td>0</td>\n",
              "      <td>0</td>\n",
              "      <td>0</td>\n",
              "      <td>0</td>\n",
              "      <td>0</td>\n",
              "      <td>0</td>\n",
              "      <td>0</td>\n",
              "      <td>0</td>\n",
              "      <td>0</td>\n",
              "      <td>0</td>\n",
              "      <td>0</td>\n",
              "      <td>0</td>\n",
              "      <td>0</td>\n",
              "      <td>0</td>\n",
              "      <td>0</td>\n",
              "      <td>0</td>\n",
              "      <td>0</td>\n",
              "      <td>0</td>\n",
              "      <td>0</td>\n",
              "      <td>0</td>\n",
              "      <td>0</td>\n",
              "      <td>3</td>\n",
              "    </tr>\n",
              "    <tr>\n",
              "      <th>5</th>\n",
              "      <td>2</td>\n",
              "      <td>2</td>\n",
              "      <td>2</td>\n",
              "      <td>0</td>\n",
              "      <td>0</td>\n",
              "      <td>0</td>\n",
              "      <td>0</td>\n",
              "      <td>0</td>\n",
              "      <td>0</td>\n",
              "      <td>0</td>\n",
              "      <td>0</td>\n",
              "      <td>0</td>\n",
              "      <td>0</td>\n",
              "      <td>0</td>\n",
              "      <td>0</td>\n",
              "      <td>0</td>\n",
              "      <td>0</td>\n",
              "      <td>0</td>\n",
              "      <td>0</td>\n",
              "      <td>0</td>\n",
              "      <td>0</td>\n",
              "      <td>0</td>\n",
              "      <td>0</td>\n",
              "      <td>0</td>\n",
              "      <td>0</td>\n",
              "      <td>3</td>\n",
              "    </tr>\n",
              "    <tr>\n",
              "      <th>6</th>\n",
              "      <td>2</td>\n",
              "      <td>1</td>\n",
              "      <td>1</td>\n",
              "      <td>0</td>\n",
              "      <td>0</td>\n",
              "      <td>0</td>\n",
              "      <td>0</td>\n",
              "      <td>0</td>\n",
              "      <td>0</td>\n",
              "      <td>0</td>\n",
              "      <td>0</td>\n",
              "      <td>0</td>\n",
              "      <td>0</td>\n",
              "      <td>0</td>\n",
              "      <td>1</td>\n",
              "      <td>0</td>\n",
              "      <td>0</td>\n",
              "      <td>0</td>\n",
              "      <td>0</td>\n",
              "      <td>0</td>\n",
              "      <td>0</td>\n",
              "      <td>1</td>\n",
              "      <td>0</td>\n",
              "      <td>0</td>\n",
              "      <td>0</td>\n",
              "      <td>1</td>\n",
              "    </tr>\n",
              "    <tr>\n",
              "      <th>7</th>\n",
              "      <td>4</td>\n",
              "      <td>0</td>\n",
              "      <td>0</td>\n",
              "      <td>0</td>\n",
              "      <td>0</td>\n",
              "      <td>0</td>\n",
              "      <td>0</td>\n",
              "      <td>0</td>\n",
              "      <td>0</td>\n",
              "      <td>0</td>\n",
              "      <td>0</td>\n",
              "      <td>0</td>\n",
              "      <td>0</td>\n",
              "      <td>0</td>\n",
              "      <td>0</td>\n",
              "      <td>0</td>\n",
              "      <td>0</td>\n",
              "      <td>0</td>\n",
              "      <td>0</td>\n",
              "      <td>0</td>\n",
              "      <td>0</td>\n",
              "      <td>0</td>\n",
              "      <td>0</td>\n",
              "      <td>0</td>\n",
              "      <td>0</td>\n",
              "      <td>2</td>\n",
              "    </tr>\n",
              "    <tr>\n",
              "      <th>8</th>\n",
              "      <td>2</td>\n",
              "      <td>1</td>\n",
              "      <td>1</td>\n",
              "      <td>0</td>\n",
              "      <td>0</td>\n",
              "      <td>0</td>\n",
              "      <td>0</td>\n",
              "      <td>0</td>\n",
              "      <td>0</td>\n",
              "      <td>0</td>\n",
              "      <td>0</td>\n",
              "      <td>0</td>\n",
              "      <td>0</td>\n",
              "      <td>0</td>\n",
              "      <td>1</td>\n",
              "      <td>0</td>\n",
              "      <td>0</td>\n",
              "      <td>0</td>\n",
              "      <td>0</td>\n",
              "      <td>0</td>\n",
              "      <td>0</td>\n",
              "      <td>1</td>\n",
              "      <td>0</td>\n",
              "      <td>0</td>\n",
              "      <td>0</td>\n",
              "      <td>1</td>\n",
              "    </tr>\n",
              "    <tr>\n",
              "      <th>9</th>\n",
              "      <td>3</td>\n",
              "      <td>2</td>\n",
              "      <td>1</td>\n",
              "      <td>0</td>\n",
              "      <td>0</td>\n",
              "      <td>0</td>\n",
              "      <td>0</td>\n",
              "      <td>0</td>\n",
              "      <td>0</td>\n",
              "      <td>0</td>\n",
              "      <td>0</td>\n",
              "      <td>0</td>\n",
              "      <td>0</td>\n",
              "      <td>0</td>\n",
              "      <td>0</td>\n",
              "      <td>0</td>\n",
              "      <td>0</td>\n",
              "      <td>0</td>\n",
              "      <td>0</td>\n",
              "      <td>0</td>\n",
              "      <td>0</td>\n",
              "      <td>0</td>\n",
              "      <td>0</td>\n",
              "      <td>0</td>\n",
              "      <td>0</td>\n",
              "      <td>0</td>\n",
              "    </tr>\n",
              "    <tr>\n",
              "      <th>11</th>\n",
              "      <td>2</td>\n",
              "      <td>1</td>\n",
              "      <td>1</td>\n",
              "      <td>0</td>\n",
              "      <td>0</td>\n",
              "      <td>0</td>\n",
              "      <td>0</td>\n",
              "      <td>0</td>\n",
              "      <td>0</td>\n",
              "      <td>0</td>\n",
              "      <td>0</td>\n",
              "      <td>0</td>\n",
              "      <td>0</td>\n",
              "      <td>0</td>\n",
              "      <td>0</td>\n",
              "      <td>0</td>\n",
              "      <td>0</td>\n",
              "      <td>0</td>\n",
              "      <td>0</td>\n",
              "      <td>0</td>\n",
              "      <td>0</td>\n",
              "      <td>0</td>\n",
              "      <td>0</td>\n",
              "      <td>0</td>\n",
              "      <td>0</td>\n",
              "      <td>2</td>\n",
              "    </tr>\n",
              "    <tr>\n",
              "      <th>12</th>\n",
              "      <td>3</td>\n",
              "      <td>1</td>\n",
              "      <td>1</td>\n",
              "      <td>0</td>\n",
              "      <td>0</td>\n",
              "      <td>0</td>\n",
              "      <td>0</td>\n",
              "      <td>0</td>\n",
              "      <td>0</td>\n",
              "      <td>0</td>\n",
              "      <td>0</td>\n",
              "      <td>0</td>\n",
              "      <td>0</td>\n",
              "      <td>0</td>\n",
              "      <td>1</td>\n",
              "      <td>0</td>\n",
              "      <td>0</td>\n",
              "      <td>0</td>\n",
              "      <td>0</td>\n",
              "      <td>0</td>\n",
              "      <td>0</td>\n",
              "      <td>1</td>\n",
              "      <td>0</td>\n",
              "      <td>0</td>\n",
              "      <td>0</td>\n",
              "      <td>3</td>\n",
              "    </tr>\n",
              "    <tr>\n",
              "      <th>13</th>\n",
              "      <td>2</td>\n",
              "      <td>1</td>\n",
              "      <td>1</td>\n",
              "      <td>0</td>\n",
              "      <td>0</td>\n",
              "      <td>0</td>\n",
              "      <td>0</td>\n",
              "      <td>0</td>\n",
              "      <td>0</td>\n",
              "      <td>0</td>\n",
              "      <td>0</td>\n",
              "      <td>0</td>\n",
              "      <td>0</td>\n",
              "      <td>0</td>\n",
              "      <td>1</td>\n",
              "      <td>0</td>\n",
              "      <td>0</td>\n",
              "      <td>0</td>\n",
              "      <td>0</td>\n",
              "      <td>0</td>\n",
              "      <td>0</td>\n",
              "      <td>0</td>\n",
              "      <td>0</td>\n",
              "      <td>0</td>\n",
              "      <td>0</td>\n",
              "      <td>1</td>\n",
              "    </tr>\n",
              "    <tr>\n",
              "      <th>14</th>\n",
              "      <td>2</td>\n",
              "      <td>2</td>\n",
              "      <td>1</td>\n",
              "      <td>0</td>\n",
              "      <td>0</td>\n",
              "      <td>0</td>\n",
              "      <td>0</td>\n",
              "      <td>0</td>\n",
              "      <td>0</td>\n",
              "      <td>0</td>\n",
              "      <td>0</td>\n",
              "      <td>0</td>\n",
              "      <td>0</td>\n",
              "      <td>0</td>\n",
              "      <td>0</td>\n",
              "      <td>0</td>\n",
              "      <td>0</td>\n",
              "      <td>0</td>\n",
              "      <td>0</td>\n",
              "      <td>0</td>\n",
              "      <td>0</td>\n",
              "      <td>0</td>\n",
              "      <td>0</td>\n",
              "      <td>0</td>\n",
              "      <td>0</td>\n",
              "      <td>0</td>\n",
              "    </tr>\n",
              "    <tr>\n",
              "      <th>15</th>\n",
              "      <td>2</td>\n",
              "      <td>1</td>\n",
              "      <td>1</td>\n",
              "      <td>0</td>\n",
              "      <td>0</td>\n",
              "      <td>0</td>\n",
              "      <td>0</td>\n",
              "      <td>0</td>\n",
              "      <td>0</td>\n",
              "      <td>0</td>\n",
              "      <td>0</td>\n",
              "      <td>0</td>\n",
              "      <td>0</td>\n",
              "      <td>0</td>\n",
              "      <td>1</td>\n",
              "      <td>0</td>\n",
              "      <td>0</td>\n",
              "      <td>0</td>\n",
              "      <td>0</td>\n",
              "      <td>0</td>\n",
              "      <td>0</td>\n",
              "      <td>0</td>\n",
              "      <td>0</td>\n",
              "      <td>0</td>\n",
              "      <td>0</td>\n",
              "      <td>1</td>\n",
              "    </tr>\n",
              "    <tr>\n",
              "      <th>16</th>\n",
              "      <td>2</td>\n",
              "      <td>1</td>\n",
              "      <td>1</td>\n",
              "      <td>0</td>\n",
              "      <td>0</td>\n",
              "      <td>0</td>\n",
              "      <td>0</td>\n",
              "      <td>0</td>\n",
              "      <td>0</td>\n",
              "      <td>0</td>\n",
              "      <td>0</td>\n",
              "      <td>0</td>\n",
              "      <td>0</td>\n",
              "      <td>0</td>\n",
              "      <td>0</td>\n",
              "      <td>0</td>\n",
              "      <td>0</td>\n",
              "      <td>0</td>\n",
              "      <td>0</td>\n",
              "      <td>0</td>\n",
              "      <td>0</td>\n",
              "      <td>0</td>\n",
              "      <td>0</td>\n",
              "      <td>0</td>\n",
              "      <td>0</td>\n",
              "      <td>1</td>\n",
              "    </tr>\n",
              "    <tr>\n",
              "      <th>18</th>\n",
              "      <td>2</td>\n",
              "      <td>1</td>\n",
              "      <td>0</td>\n",
              "      <td>0</td>\n",
              "      <td>0</td>\n",
              "      <td>0</td>\n",
              "      <td>0</td>\n",
              "      <td>0</td>\n",
              "      <td>0</td>\n",
              "      <td>0</td>\n",
              "      <td>0</td>\n",
              "      <td>0</td>\n",
              "      <td>0</td>\n",
              "      <td>0</td>\n",
              "      <td>1</td>\n",
              "      <td>0</td>\n",
              "      <td>0</td>\n",
              "      <td>0</td>\n",
              "      <td>0</td>\n",
              "      <td>0</td>\n",
              "      <td>0</td>\n",
              "      <td>0</td>\n",
              "      <td>0</td>\n",
              "      <td>0</td>\n",
              "      <td>0</td>\n",
              "      <td>2</td>\n",
              "    </tr>\n",
              "    <tr>\n",
              "      <th>19</th>\n",
              "      <td>2</td>\n",
              "      <td>0</td>\n",
              "      <td>0</td>\n",
              "      <td>0</td>\n",
              "      <td>0</td>\n",
              "      <td>0</td>\n",
              "      <td>0</td>\n",
              "      <td>0</td>\n",
              "      <td>0</td>\n",
              "      <td>0</td>\n",
              "      <td>0</td>\n",
              "      <td>0</td>\n",
              "      <td>0</td>\n",
              "      <td>0</td>\n",
              "      <td>0</td>\n",
              "      <td>0</td>\n",
              "      <td>0</td>\n",
              "      <td>0</td>\n",
              "      <td>0</td>\n",
              "      <td>0</td>\n",
              "      <td>0</td>\n",
              "      <td>0</td>\n",
              "      <td>0</td>\n",
              "      <td>0</td>\n",
              "      <td>0</td>\n",
              "      <td>2</td>\n",
              "    </tr>\n",
              "    <tr>\n",
              "      <th>21</th>\n",
              "      <td>2</td>\n",
              "      <td>0</td>\n",
              "      <td>0</td>\n",
              "      <td>0</td>\n",
              "      <td>0</td>\n",
              "      <td>0</td>\n",
              "      <td>0</td>\n",
              "      <td>0</td>\n",
              "      <td>0</td>\n",
              "      <td>0</td>\n",
              "      <td>0</td>\n",
              "      <td>0</td>\n",
              "      <td>0</td>\n",
              "      <td>0</td>\n",
              "      <td>0</td>\n",
              "      <td>0</td>\n",
              "      <td>0</td>\n",
              "      <td>0</td>\n",
              "      <td>0</td>\n",
              "      <td>0</td>\n",
              "      <td>0</td>\n",
              "      <td>0</td>\n",
              "      <td>0</td>\n",
              "      <td>0</td>\n",
              "      <td>0</td>\n",
              "      <td>2</td>\n",
              "    </tr>\n",
              "    <tr>\n",
              "      <th>22</th>\n",
              "      <td>4</td>\n",
              "      <td>1</td>\n",
              "      <td>1</td>\n",
              "      <td>0</td>\n",
              "      <td>0</td>\n",
              "      <td>0</td>\n",
              "      <td>0</td>\n",
              "      <td>0</td>\n",
              "      <td>0</td>\n",
              "      <td>0</td>\n",
              "      <td>0</td>\n",
              "      <td>0</td>\n",
              "      <td>0</td>\n",
              "      <td>0</td>\n",
              "      <td>0</td>\n",
              "      <td>0</td>\n",
              "      <td>0</td>\n",
              "      <td>0</td>\n",
              "      <td>0</td>\n",
              "      <td>0</td>\n",
              "      <td>0</td>\n",
              "      <td>0</td>\n",
              "      <td>0</td>\n",
              "      <td>0</td>\n",
              "      <td>0</td>\n",
              "      <td>2</td>\n",
              "    </tr>\n",
              "    <tr>\n",
              "      <th>23</th>\n",
              "      <td>2</td>\n",
              "      <td>2</td>\n",
              "      <td>2</td>\n",
              "      <td>0</td>\n",
              "      <td>0</td>\n",
              "      <td>0</td>\n",
              "      <td>0</td>\n",
              "      <td>0</td>\n",
              "      <td>0</td>\n",
              "      <td>0</td>\n",
              "      <td>0</td>\n",
              "      <td>0</td>\n",
              "      <td>0</td>\n",
              "      <td>0</td>\n",
              "      <td>0</td>\n",
              "      <td>0</td>\n",
              "      <td>0</td>\n",
              "      <td>0</td>\n",
              "      <td>0</td>\n",
              "      <td>0</td>\n",
              "      <td>0</td>\n",
              "      <td>0</td>\n",
              "      <td>0</td>\n",
              "      <td>0</td>\n",
              "      <td>0</td>\n",
              "      <td>1</td>\n",
              "    </tr>\n",
              "    <tr>\n",
              "      <th>26</th>\n",
              "      <td>2</td>\n",
              "      <td>0</td>\n",
              "      <td>0</td>\n",
              "      <td>0</td>\n",
              "      <td>0</td>\n",
              "      <td>0</td>\n",
              "      <td>0</td>\n",
              "      <td>0</td>\n",
              "      <td>0</td>\n",
              "      <td>0</td>\n",
              "      <td>0</td>\n",
              "      <td>0</td>\n",
              "      <td>0</td>\n",
              "      <td>0</td>\n",
              "      <td>0</td>\n",
              "      <td>0</td>\n",
              "      <td>0</td>\n",
              "      <td>0</td>\n",
              "      <td>0</td>\n",
              "      <td>0</td>\n",
              "      <td>0</td>\n",
              "      <td>0</td>\n",
              "      <td>0</td>\n",
              "      <td>0</td>\n",
              "      <td>0</td>\n",
              "      <td>0</td>\n",
              "    </tr>\n",
              "  </tbody>\n",
              "</table>\n",
              "</div>"
            ],
            "text/plain": [
              "    area  baths  beds  ...  Fibre Internet  Backup Generator  Class\n",
              "0      2      2     1  ...               0                 0      2\n",
              "3      4      1     1  ...               0                 0      2\n",
              "4      3      1     1  ...               0                 0      3\n",
              "5      2      2     2  ...               0                 0      3\n",
              "6      2      1     1  ...               0                 0      1\n",
              "7      4      0     0  ...               0                 0      2\n",
              "8      2      1     1  ...               0                 0      1\n",
              "9      3      2     1  ...               0                 0      0\n",
              "11     2      1     1  ...               0                 0      2\n",
              "12     3      1     1  ...               0                 0      3\n",
              "13     2      1     1  ...               0                 0      1\n",
              "14     2      2     1  ...               0                 0      0\n",
              "15     2      1     1  ...               0                 0      1\n",
              "16     2      1     1  ...               0                 0      1\n",
              "18     2      1     0  ...               0                 0      2\n",
              "19     2      0     0  ...               0                 0      2\n",
              "21     2      0     0  ...               0                 0      2\n",
              "22     4      1     1  ...               0                 0      2\n",
              "23     2      2     2  ...               0                 0      1\n",
              "26     2      0     0  ...               0                 0      0\n",
              "\n",
              "[20 rows x 26 columns]"
            ]
          },
          "metadata": {
            "tags": []
          },
          "execution_count": 50
        }
      ]
    },
    {
      "cell_type": "code",
      "metadata": {
        "id": "SxfSGHk2GJPx",
        "colab_type": "code",
        "colab": {}
      },
      "source": [
        "# import gridsearchcv\n",
        "from sklearn.model_selection import RandomizedSearchCV"
      ],
      "execution_count": 51,
      "outputs": []
    },
    {
      "cell_type": "code",
      "metadata": {
        "id": "GPuAC_OeGdLy",
        "colab_type": "code",
        "colab": {
          "base_uri": "https://localhost:8080/",
          "height": 35
        },
        "outputId": "36a9d6d4-60d9-4168-c735-e494f59d14a1"
      },
      "source": [
        "penalty = ['l2']\n",
        "\n",
        "C = [0.8, 0.9, 1.0]\n",
        "\n",
        "tol = [0.01, 0.001,0.0001]\n",
        "\n",
        "max_iter = [100,150,200,250]\n",
        "\n",
        "# create a dictionary where tol and max_iter are keys and the list of their values are the corresponding values\n",
        "\n",
        "param_grid = dict(penalty=penalty, C=C, max_iter=max_iter)\n",
        "\n",
        "param_grid"
      ],
      "execution_count": 52,
      "outputs": [
        {
          "output_type": "execute_result",
          "data": {
            "text/plain": [
              "{'C': [0.8, 0.9, 1.0], 'max_iter': [100, 150, 200, 250], 'penalty': ['l2']}"
            ]
          },
          "metadata": {
            "tags": []
          },
          "execution_count": 52
        }
      ]
    },
    {
      "cell_type": "code",
      "metadata": {
        "id": "KFWotmpEG9jQ",
        "colab_type": "code",
        "colab": {}
      },
      "source": [
        "# Instanstiate a random searcg with the required param\n",
        "random_model = RandomizedSearchCV(estimator=logreg , param_distributions=param_grid, cv=5)"
      ],
      "execution_count": 53,
      "outputs": []
    },
    {
      "cell_type": "code",
      "metadata": {
        "id": "tLIaTDDbHAob",
        "colab_type": "code",
        "colab": {
          "base_uri": "https://localhost:8080/",
          "height": 285
        },
        "outputId": "74520362-3f29-42f9-f166-fcb814dbe318"
      },
      "source": [
        "random_model"
      ],
      "execution_count": 54,
      "outputs": [
        {
          "output_type": "execute_result",
          "data": {
            "text/plain": [
              "RandomizedSearchCV(cv=5, error_score=nan,\n",
              "                   estimator=LogisticRegression(C=1.0, class_weight=None,\n",
              "                                                dual=False, fit_intercept=True,\n",
              "                                                intercept_scaling=1,\n",
              "                                                l1_ratio=None, max_iter=100,\n",
              "                                                multi_class='auto', n_jobs=None,\n",
              "                                                penalty='l2', random_state=None,\n",
              "                                                solver='lbfgs', tol=0.0001,\n",
              "                                                verbose=0, warm_start=False),\n",
              "                   iid='deprecated', n_iter=10, n_jobs=None,\n",
              "                   param_distributions={'C': [0.8, 0.9, 1.0],\n",
              "                                        'max_iter': [100, 150, 200, 250],\n",
              "                                        'penalty': ['l2']},\n",
              "                   pre_dispatch='2*n_jobs', random_state=None, refit=True,\n",
              "                   return_train_score=False, scoring=None, verbose=0)"
            ]
          },
          "metadata": {
            "tags": []
          },
          "execution_count": 54
        }
      ]
    },
    {
      "cell_type": "code",
      "metadata": {
        "id": "hz0DVwi3HC2R",
        "colab_type": "code",
        "colab": {}
      },
      "source": [
        "random_model_result = random_model.fit(x_train, y_train)"
      ],
      "execution_count": 55,
      "outputs": []
    },
    {
      "cell_type": "code",
      "metadata": {
        "id": "UtJQU9uHHFCx",
        "colab_type": "code",
        "colab": {
          "base_uri": "https://localhost:8080/",
          "height": 35
        },
        "outputId": "46bffd16-3adc-4caa-edc2-f25691e776e9"
      },
      "source": [
        "# summarised results\n",
        "\n",
        "best_score , best_params = random_model_result.best_score_, random_model_result.best_params_\n",
        "print(\"Best score : %.2f using %s \" %(best_score*100, best_params)) "
      ],
      "execution_count": 56,
      "outputs": [
        {
          "output_type": "stream",
          "text": [
            "Best score : 44.18 using {'penalty': 'l2', 'max_iter': 250, 'C': 0.9} \n"
          ],
          "name": "stdout"
        }
      ]
    },
    {
      "cell_type": "code",
      "metadata": {
        "id": "cZ9iyfeHHOB5",
        "colab_type": "code",
        "colab": {}
      },
      "source": [
        "config = wandb.config\n",
        "config.tol = 0.01\n",
        "config.penalty ='l2'\n",
        "config.C = 0.9"
      ],
      "execution_count": 57,
      "outputs": []
    },
    {
      "cell_type": "code",
      "metadata": {
        "id": "IMhXSmewHQut",
        "colab_type": "code",
        "colab": {}
      },
      "source": [
        "# Train the model\n",
        "logreg = LogisticRegression(tol=config.tol, penalty=config.penalty, max_iter=100,C=config.C)\n"
      ],
      "execution_count": 58,
      "outputs": []
    },
    {
      "cell_type": "code",
      "metadata": {
        "id": "cnygp_9QHTz9",
        "colab_type": "code",
        "colab": {
          "base_uri": "https://localhost:8080/",
          "height": 947
        },
        "outputId": "6ab66915-5a5d-454a-96ec-b5d9323160de"
      },
      "source": [
        "model = train_eval_pipeline(logreg,(x_train, y_train) , (x_test, y_test), 'Logistic Regression Random Search')"
      ],
      "execution_count": 59,
      "outputs": [
        {
          "output_type": "stream",
          "text": [
            "\u001b[34m\u001b[1mwandb\u001b[0m: Waiting for W&B process to finish, PID 206\n",
            "\u001b[34m\u001b[1mwandb\u001b[0m: Program ended successfully.\n"
          ],
          "name": "stderr"
        },
        {
          "output_type": "stream",
          "text": [
            "\n"
          ],
          "name": "stdout"
        },
        {
          "output_type": "stream",
          "text": [
            "\u001b[34m\u001b[1mwandb\u001b[0m:                                                                                \n",
            "\u001b[34m\u001b[1mwandb\u001b[0m: Find user logs for this run at: wandb/run-20200925_081648-1easdpzd/logs/debug.log\n",
            "\u001b[34m\u001b[1mwandb\u001b[0m: Find internal logs for this run at: wandb/run-20200925_081648-1easdpzd/logs/debug-internal.log\n",
            "\u001b[34m\u001b[1mwandb\u001b[0m: Run summary:\n",
            "\u001b[34m\u001b[1mwandb\u001b[0m:        accuracy 41.17647058823529\n",
            "\u001b[34m\u001b[1mwandb\u001b[0m:       precision 0.4305555555555556\n",
            "\u001b[34m\u001b[1mwandb\u001b[0m:          recall 0.48214285714285715\n",
            "\u001b[34m\u001b[1mwandb\u001b[0m:   Training_time 0.02456355094909668\n",
            "\u001b[34m\u001b[1mwandb\u001b[0m:           _step 0\n",
            "\u001b[34m\u001b[1mwandb\u001b[0m:        _runtime 1\n",
            "\u001b[34m\u001b[1mwandb\u001b[0m:      _timestamp 1601021810\n",
            "\u001b[34m\u001b[1mwandb\u001b[0m: Run history:\n",
            "\u001b[34m\u001b[1mwandb\u001b[0m:        accuracy ▁\n",
            "\u001b[34m\u001b[1mwandb\u001b[0m:       precision ▁\n",
            "\u001b[34m\u001b[1mwandb\u001b[0m:          recall ▁\n",
            "\u001b[34m\u001b[1mwandb\u001b[0m:   Training_time ▁\n",
            "\u001b[34m\u001b[1mwandb\u001b[0m:           _step ▁\n",
            "\u001b[34m\u001b[1mwandb\u001b[0m:        _runtime ▁\n",
            "\u001b[34m\u001b[1mwandb\u001b[0m:      _timestamp ▁\n",
            "\u001b[34m\u001b[1mwandb\u001b[0m: Synced 5 W&B file(s), 0 media file(s), 0 artifact file(s) and 0 other file(s)\n",
            "\u001b[34m\u001b[1mwandb\u001b[0m: \n",
            "\u001b[34m\u001b[1mwandb\u001b[0m: Synced \u001b[33mLogisitc_regression\u001b[0m: \u001b[34mhttps://wandb.ai/wamaitha/Logistic%20Example%20Using%20Runda%20Houses%20Manually%20Cleaned%20Dataset/runs/1easdpzd\u001b[0m\n",
            "\u001b[34m\u001b[1mwandb\u001b[0m: Tracking run with wandb version 0.10.2\n",
            "\u001b[34m\u001b[1mwandb\u001b[0m: Run data is saved locally in wandb/run-20200925_081651-w4hgavgk\n",
            "\u001b[34m\u001b[1mwandb\u001b[0m: Syncing run \u001b[33mLogistic Regression Random Search\u001b[0m\n"
          ],
          "name": "stderr"
        },
        {
          "output_type": "display_data",
          "data": {
            "text/html": [
              "\n",
              "                Logging results to <a href=\"https://wandb.com\" target=\"_blank\">Weights & Biases</a> <a href=\"https://docs.wandb.com/integrations/jupyter.html\" target=\"_blank\">(Documentation)</a>.<br/>\n",
              "                Project page: <a href=\"https://wandb.ai/wamaitha/Logistic%20Example%20Using%20Runda%20Houses%20Manually%20Cleaned%20Dataset\" target=\"_blank\">https://wandb.ai/wamaitha/Logistic%20Example%20Using%20Runda%20Houses%20Manually%20Cleaned%20Dataset</a><br/>\n",
              "                Run page: <a href=\"https://wandb.ai/wamaitha/Logistic%20Example%20Using%20Runda%20Houses%20Manually%20Cleaned%20Dataset/runs/w4hgavgk\" target=\"_blank\">https://wandb.ai/wamaitha/Logistic%20Example%20Using%20Runda%20Houses%20Manually%20Cleaned%20Dataset/runs/w4hgavgk</a><br/>\n",
              "            "
            ],
            "text/plain": [
              "<IPython.core.display.HTML object>"
            ]
          },
          "metadata": {
            "tags": []
          }
        },
        {
          "output_type": "stream",
          "text": [
            "\n",
            "Accuracy score of the Logistic Regression Classifier with default hyperparameter values 47.06%\n",
            "\n",
            "\n",
            "---Classification report of the Logistic Regression classifier with default hyperparameter values----\n",
            "\n",
            "\n",
            "              precision    recall  f1-score   support\n",
            "\n",
            "        low        0.00      0.00      0.00         4\n",
            "       fair        0.50      0.43      0.46         7\n",
            "      medium       1.00      0.75      0.86         4\n",
            "  overpriced       0.25      1.00      0.40         2\n",
            "\n",
            "    accuracy                           0.47        17\n",
            "   macro avg       0.44      0.54      0.43        17\n",
            "weighted avg       0.47      0.47      0.44        17\n",
            "\n"
          ],
          "name": "stdout"
        },
        {
          "output_type": "stream",
          "text": [
            "/usr/local/lib/python3.6/dist-packages/sklearn/metrics/_classification.py:1272: UndefinedMetricWarning: Precision and F-score are ill-defined and being set to 0.0 in labels with no predicted samples. Use `zero_division` parameter to control this behavior.\n",
            "  _warn_prf(average, modifier, msg_start, len(result))\n"
          ],
          "name": "stderr"
        }
      ]
    },
    {
      "cell_type": "markdown",
      "metadata": {
        "id": "AIMMdeugQiQF",
        "colab_type": "text"
      },
      "source": [
        "# PCA"
      ]
    },
    {
      "cell_type": "code",
      "metadata": {
        "id": "fTZ3q96AdXh_",
        "colab_type": "code",
        "colab": {}
      },
      "source": [
        "# https://stackabuse.com/implementing-pca-in-python-with-scikit-learn/"
      ],
      "execution_count": 60,
      "outputs": []
    },
    {
      "cell_type": "code",
      "metadata": {
        "id": "StSSsQKmdDAs",
        "colab_type": "code",
        "colab": {}
      },
      "source": [
        "from sklearn.decomposition import PCA\n",
        "\n",
        "pca = PCA()\n",
        "x_train = pca.fit_transform(x_train)\n",
        "x_test = pca.transform(x_test)"
      ],
      "execution_count": 61,
      "outputs": []
    },
    {
      "cell_type": "code",
      "metadata": {
        "id": "ZvSFvUwAdHOX",
        "colab_type": "code",
        "colab": {}
      },
      "source": [
        "explained_variance = pca.explained_variance_ratio_"
      ],
      "execution_count": 62,
      "outputs": []
    },
    {
      "cell_type": "code",
      "metadata": {
        "id": "YOsM4nrsdLNo",
        "colab_type": "code",
        "colab": {
          "base_uri": "https://localhost:8080/",
          "height": 142
        },
        "outputId": "a23fb641-25d8-4137-a098-4a3fe6e38b01"
      },
      "source": [
        "explained_variance"
      ],
      "execution_count": 63,
      "outputs": [
        {
          "output_type": "execute_result",
          "data": {
            "text/plain": [
              "array([4.21809202e-001, 3.59020957e-001, 8.51262772e-002, 6.49948927e-002,\n",
              "       4.14595702e-002, 1.01994900e-002, 9.19524306e-003, 8.19436786e-003,\n",
              "       7.85799143e-034, 7.92400544e-035, 5.04248689e-035, 1.99342094e-036,\n",
              "       4.90301218e-038, 3.44563977e-061, 1.03925903e-066, 3.66663312e-069,\n",
              "       5.79392018e-071, 7.01488072e-094, 6.56023231e-102, 4.35204666e-128,\n",
              "       8.76269769e-135, 2.09683735e-167, 0.00000000e+000, 0.00000000e+000,\n",
              "       0.00000000e+000])"
            ]
          },
          "metadata": {
            "tags": []
          },
          "execution_count": 63
        }
      ]
    },
    {
      "cell_type": "code",
      "metadata": {
        "id": "qFN2XrMrkNjX",
        "colab_type": "code",
        "colab": {
          "base_uri": "https://localhost:8080/",
          "height": 947
        },
        "outputId": "d3d91ff1-9365-4c9d-a959-e3d4b6ba5d92"
      },
      "source": [
        "pcamodel = train_eval_pipeline(logreg,(x_train, y_train) , (x_test, y_test), 'Logistic Regression PCA ALL')"
      ],
      "execution_count": 64,
      "outputs": [
        {
          "output_type": "stream",
          "text": [
            "\u001b[34m\u001b[1mwandb\u001b[0m: Waiting for W&B process to finish, PID 244\n",
            "\u001b[34m\u001b[1mwandb\u001b[0m: Program ended successfully.\n"
          ],
          "name": "stderr"
        },
        {
          "output_type": "stream",
          "text": [
            "\n"
          ],
          "name": "stdout"
        },
        {
          "output_type": "stream",
          "text": [
            "\u001b[34m\u001b[1mwandb\u001b[0m: \\ 0.01MB of 0.01MB uploaded (0.00MB deduped)\r\u001b[34m\u001b[1mwandb\u001b[0m:                                                                                \n",
            "\u001b[34m\u001b[1mwandb\u001b[0m: Find user logs for this run at: wandb/run-20200925_081651-w4hgavgk/logs/debug.log\n",
            "\u001b[34m\u001b[1mwandb\u001b[0m: Find internal logs for this run at: wandb/run-20200925_081651-w4hgavgk/logs/debug-internal.log\n",
            "\u001b[34m\u001b[1mwandb\u001b[0m: Run summary:\n",
            "\u001b[34m\u001b[1mwandb\u001b[0m:        accuracy 47.05882352941176\n",
            "\u001b[34m\u001b[1mwandb\u001b[0m:       precision 0.4375\n",
            "\u001b[34m\u001b[1mwandb\u001b[0m:          recall 0.5446428571428572\n",
            "\u001b[34m\u001b[1mwandb\u001b[0m:   Training_time 0.020570039749145508\n",
            "\u001b[34m\u001b[1mwandb\u001b[0m:           _step 0\n",
            "\u001b[34m\u001b[1mwandb\u001b[0m:        _runtime 0\n",
            "\u001b[34m\u001b[1mwandb\u001b[0m:      _timestamp 1601021815\n",
            "\u001b[34m\u001b[1mwandb\u001b[0m: Run history:\n",
            "\u001b[34m\u001b[1mwandb\u001b[0m:        accuracy ▁\n",
            "\u001b[34m\u001b[1mwandb\u001b[0m:       precision ▁\n",
            "\u001b[34m\u001b[1mwandb\u001b[0m:          recall ▁\n",
            "\u001b[34m\u001b[1mwandb\u001b[0m:   Training_time ▁\n",
            "\u001b[34m\u001b[1mwandb\u001b[0m:           _step ▁\n",
            "\u001b[34m\u001b[1mwandb\u001b[0m:        _runtime ▁\n",
            "\u001b[34m\u001b[1mwandb\u001b[0m:      _timestamp ▁\n",
            "\u001b[34m\u001b[1mwandb\u001b[0m: Synced 5 W&B file(s), 0 media file(s), 0 artifact file(s) and 0 other file(s)\n",
            "\u001b[34m\u001b[1mwandb\u001b[0m: \n",
            "\u001b[34m\u001b[1mwandb\u001b[0m: Synced \u001b[33mLogistic Regression Random Search\u001b[0m: \u001b[34mhttps://wandb.ai/wamaitha/Logistic%20Example%20Using%20Runda%20Houses%20Manually%20Cleaned%20Dataset/runs/w4hgavgk\u001b[0m\n",
            "\u001b[34m\u001b[1mwandb\u001b[0m: Tracking run with wandb version 0.10.2\n",
            "\u001b[34m\u001b[1mwandb\u001b[0m: Run data is saved locally in wandb/run-20200925_081655-12s1s071\n",
            "\u001b[34m\u001b[1mwandb\u001b[0m: Syncing run \u001b[33mLogistic Regression PCA ALL\u001b[0m\n"
          ],
          "name": "stderr"
        },
        {
          "output_type": "display_data",
          "data": {
            "text/html": [
              "\n",
              "                Logging results to <a href=\"https://wandb.com\" target=\"_blank\">Weights & Biases</a> <a href=\"https://docs.wandb.com/integrations/jupyter.html\" target=\"_blank\">(Documentation)</a>.<br/>\n",
              "                Project page: <a href=\"https://wandb.ai/wamaitha/Logistic%20Example%20Using%20Runda%20Houses%20Manually%20Cleaned%20Dataset\" target=\"_blank\">https://wandb.ai/wamaitha/Logistic%20Example%20Using%20Runda%20Houses%20Manually%20Cleaned%20Dataset</a><br/>\n",
              "                Run page: <a href=\"https://wandb.ai/wamaitha/Logistic%20Example%20Using%20Runda%20Houses%20Manually%20Cleaned%20Dataset/runs/12s1s071\" target=\"_blank\">https://wandb.ai/wamaitha/Logistic%20Example%20Using%20Runda%20Houses%20Manually%20Cleaned%20Dataset/runs/12s1s071</a><br/>\n",
              "            "
            ],
            "text/plain": [
              "<IPython.core.display.HTML object>"
            ]
          },
          "metadata": {
            "tags": []
          }
        },
        {
          "output_type": "stream",
          "text": [
            "\n",
            "Accuracy score of the Logistic Regression Classifier with default hyperparameter values 47.06%\n",
            "\n",
            "\n",
            "---Classification report of the Logistic Regression classifier with default hyperparameter values----\n",
            "\n",
            "\n",
            "              precision    recall  f1-score   support\n",
            "\n",
            "        low        0.00      0.00      0.00         4\n",
            "       fair        0.50      0.43      0.46         7\n",
            "      medium       1.00      0.75      0.86         4\n",
            "  overpriced       0.25      1.00      0.40         2\n",
            "\n",
            "    accuracy                           0.47        17\n",
            "   macro avg       0.44      0.54      0.43        17\n",
            "weighted avg       0.47      0.47      0.44        17\n",
            "\n"
          ],
          "name": "stdout"
        },
        {
          "output_type": "stream",
          "text": [
            "/usr/local/lib/python3.6/dist-packages/sklearn/metrics/_classification.py:1272: UndefinedMetricWarning: Precision and F-score are ill-defined and being set to 0.0 in labels with no predicted samples. Use `zero_division` parameter to control this behavior.\n",
            "  _warn_prf(average, modifier, msg_start, len(result))\n"
          ],
          "name": "stderr"
        }
      ]
    },
    {
      "cell_type": "code",
      "metadata": {
        "id": "8xXs7y0tKo-d",
        "colab_type": "code",
        "colab": {}
      },
      "source": [
        "from sklearn.decomposition import PCA\n",
        "\n",
        "pca = PCA(n_components=1)\n",
        "x_train = pca.fit_transform(x_train)\n",
        "x_test = pca.transform(x_test)"
      ],
      "execution_count": 65,
      "outputs": []
    },
    {
      "cell_type": "code",
      "metadata": {
        "id": "0iFsAEgXKxAr",
        "colab_type": "code",
        "colab": {
          "base_uri": "https://localhost:8080/",
          "height": 35
        },
        "outputId": "6228beb3-ab0d-4e00-c077-e994fce939dc"
      },
      "source": [
        "explained_variance = pca.explained_variance_ratio_\n",
        "explained_variance"
      ],
      "execution_count": 66,
      "outputs": [
        {
          "output_type": "execute_result",
          "data": {
            "text/plain": [
              "array([0.4218092])"
            ]
          },
          "metadata": {
            "tags": []
          },
          "execution_count": 66
        }
      ]
    },
    {
      "cell_type": "code",
      "metadata": {
        "id": "BPSjWK8bK5-Z",
        "colab_type": "code",
        "colab": {
          "base_uri": "https://localhost:8080/",
          "height": 1000
        },
        "outputId": "591377c1-e220-4b5f-dfd6-29beda2cb8d2"
      },
      "source": [
        "train_eval_pipeline(logreg,(x_train, y_train) , (x_test, y_test), 'Logistic Regression PCA ALL')"
      ],
      "execution_count": 67,
      "outputs": [
        {
          "output_type": "stream",
          "text": [
            "\u001b[34m\u001b[1mwandb\u001b[0m: Waiting for W&B process to finish, PID 275\n",
            "\u001b[34m\u001b[1mwandb\u001b[0m: Program ended successfully.\n"
          ],
          "name": "stderr"
        },
        {
          "output_type": "stream",
          "text": [
            "\n"
          ],
          "name": "stdout"
        },
        {
          "output_type": "stream",
          "text": [
            "\u001b[34m\u001b[1mwandb\u001b[0m: \\ 0.01MB of 0.01MB uploaded (0.00MB deduped)\r\u001b[34m\u001b[1mwandb\u001b[0m:                                                                                \n",
            "\u001b[34m\u001b[1mwandb\u001b[0m: Find user logs for this run at: wandb/run-20200925_081655-12s1s071/logs/debug.log\n",
            "\u001b[34m\u001b[1mwandb\u001b[0m: Find internal logs for this run at: wandb/run-20200925_081655-12s1s071/logs/debug-internal.log\n",
            "\u001b[34m\u001b[1mwandb\u001b[0m: Run summary:\n",
            "\u001b[34m\u001b[1mwandb\u001b[0m:        accuracy 47.05882352941176\n",
            "\u001b[34m\u001b[1mwandb\u001b[0m:       precision 0.4375\n",
            "\u001b[34m\u001b[1mwandb\u001b[0m:          recall 0.5446428571428572\n",
            "\u001b[34m\u001b[1mwandb\u001b[0m:   Training_time 0.015753746032714844\n",
            "\u001b[34m\u001b[1mwandb\u001b[0m:           _step 0\n",
            "\u001b[34m\u001b[1mwandb\u001b[0m:        _runtime 1\n",
            "\u001b[34m\u001b[1mwandb\u001b[0m:      _timestamp 1601021820\n",
            "\u001b[34m\u001b[1mwandb\u001b[0m: Run history:\n",
            "\u001b[34m\u001b[1mwandb\u001b[0m:        accuracy ▁\n",
            "\u001b[34m\u001b[1mwandb\u001b[0m:       precision ▁\n",
            "\u001b[34m\u001b[1mwandb\u001b[0m:          recall ▁\n",
            "\u001b[34m\u001b[1mwandb\u001b[0m:   Training_time ▁\n",
            "\u001b[34m\u001b[1mwandb\u001b[0m:           _step ▁\n",
            "\u001b[34m\u001b[1mwandb\u001b[0m:        _runtime ▁\n",
            "\u001b[34m\u001b[1mwandb\u001b[0m:      _timestamp ▁\n",
            "\u001b[34m\u001b[1mwandb\u001b[0m: Synced 5 W&B file(s), 0 media file(s), 0 artifact file(s) and 0 other file(s)\n",
            "\u001b[34m\u001b[1mwandb\u001b[0m: \n",
            "\u001b[34m\u001b[1mwandb\u001b[0m: Synced \u001b[33mLogistic Regression PCA ALL\u001b[0m: \u001b[34mhttps://wandb.ai/wamaitha/Logistic%20Example%20Using%20Runda%20Houses%20Manually%20Cleaned%20Dataset/runs/12s1s071\u001b[0m\n",
            "\u001b[34m\u001b[1mwandb\u001b[0m: Tracking run with wandb version 0.10.2\n",
            "\u001b[34m\u001b[1mwandb\u001b[0m: Run data is saved locally in wandb/run-20200925_081700-16wwmf8u\n",
            "\u001b[34m\u001b[1mwandb\u001b[0m: Syncing run \u001b[33mLogistic Regression PCA ALL\u001b[0m\n"
          ],
          "name": "stderr"
        },
        {
          "output_type": "display_data",
          "data": {
            "text/html": [
              "\n",
              "                Logging results to <a href=\"https://wandb.com\" target=\"_blank\">Weights & Biases</a> <a href=\"https://docs.wandb.com/integrations/jupyter.html\" target=\"_blank\">(Documentation)</a>.<br/>\n",
              "                Project page: <a href=\"https://wandb.ai/wamaitha/Logistic%20Example%20Using%20Runda%20Houses%20Manually%20Cleaned%20Dataset\" target=\"_blank\">https://wandb.ai/wamaitha/Logistic%20Example%20Using%20Runda%20Houses%20Manually%20Cleaned%20Dataset</a><br/>\n",
              "                Run page: <a href=\"https://wandb.ai/wamaitha/Logistic%20Example%20Using%20Runda%20Houses%20Manually%20Cleaned%20Dataset/runs/16wwmf8u\" target=\"_blank\">https://wandb.ai/wamaitha/Logistic%20Example%20Using%20Runda%20Houses%20Manually%20Cleaned%20Dataset/runs/16wwmf8u</a><br/>\n",
              "            "
            ],
            "text/plain": [
              "<IPython.core.display.HTML object>"
            ]
          },
          "metadata": {
            "tags": []
          }
        },
        {
          "output_type": "stream",
          "text": [
            "\n",
            "Accuracy score of the Logistic Regression Classifier with default hyperparameter values 47.06%\n",
            "\n",
            "\n",
            "---Classification report of the Logistic Regression classifier with default hyperparameter values----\n",
            "\n",
            "\n",
            "              precision    recall  f1-score   support\n",
            "\n",
            "        low        0.00      0.00      0.00         4\n",
            "       fair        0.75      0.43      0.55         7\n",
            "      medium       0.80      1.00      0.89         4\n",
            "  overpriced       0.12      0.50      0.20         2\n",
            "\n",
            "    accuracy                           0.47        17\n",
            "   macro avg       0.42      0.48      0.41        17\n",
            "weighted avg       0.51      0.47      0.46        17\n",
            "\n"
          ],
          "name": "stdout"
        },
        {
          "output_type": "stream",
          "text": [
            "/usr/local/lib/python3.6/dist-packages/sklearn/metrics/_classification.py:1272: UndefinedMetricWarning: Precision and F-score are ill-defined and being set to 0.0 in labels with no predicted samples. Use `zero_division` parameter to control this behavior.\n",
            "  _warn_prf(average, modifier, msg_start, len(result))\n"
          ],
          "name": "stderr"
        },
        {
          "output_type": "execute_result",
          "data": {
            "text/plain": [
              "LogisticRegression(C=0.9, class_weight=None, dual=False, fit_intercept=True,\n",
              "                   intercept_scaling=1, l1_ratio=None, max_iter=100,\n",
              "                   multi_class='auto', n_jobs=None, penalty='l2',\n",
              "                   random_state=None, solver='lbfgs', tol=0.01, verbose=0,\n",
              "                   warm_start=False)"
            ]
          },
          "metadata": {
            "tags": []
          },
          "execution_count": 67
        }
      ]
    },
    {
      "cell_type": "markdown",
      "metadata": {
        "id": "-G-sCzJ5owQR",
        "colab_type": "text"
      },
      "source": [
        "# Save model for deployment"
      ]
    },
    {
      "cell_type": "code",
      "metadata": {
        "id": "K-vPFelhozLs",
        "colab_type": "code",
        "colab": {}
      },
      "source": [
        "import pickle"
      ],
      "execution_count": 71,
      "outputs": []
    },
    {
      "cell_type": "code",
      "metadata": {
        "id": "zAmsOfEzo3tK",
        "colab_type": "code",
        "colab": {}
      },
      "source": [
        "# save model that used all of them\n",
        "pickle.dump(model, open('model.pkl','wb'))\n"
      ],
      "execution_count": 72,
      "outputs": []
    }
  ]
}
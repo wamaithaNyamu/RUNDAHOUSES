{
  "nbformat": 4,
  "nbformat_minor": 0,
  "metadata": {
    "colab": {
      "name": "Runda Houses",
      "provenance": [],
      "collapsed_sections": [],
      "toc_visible": true,
      "authorship_tag": "ABX9TyMjh56VDiMQbV2WKNU88120",
      "include_colab_link": true
    },
    "kernelspec": {
      "name": "python3",
      "display_name": "Python 3"
    }
  },
  "cells": [
    {
      "cell_type": "markdown",
      "metadata": {
        "id": "view-in-github",
        "colab_type": "text"
      },
      "source": [
        "<a href=\"https://colab.research.google.com/github/wamaithaNyamu/RUNDAHOUSES/blob/master/Runda_Houses.ipynb\" target=\"_parent\"><img src=\"https://colab.research.google.com/assets/colab-badge.svg\" alt=\"Open In Colab\"/></a>"
      ]
    },
    {
      "cell_type": "markdown",
      "metadata": {
        "id": "-uwyxTZ-DzKV",
        "colab_type": "text"
      },
      "source": [
        "\n",
        "# INTRODUCTION\n",
        "\n",
        "Runda is a surburb in the heart of Nairobi. Its an estate of the who is who in the country. Due to the status quo of the class of citizens that live here, it is exepected that the price of land and houses are off the roof (well, from the common mwananchis perspective anyway). This notebook walks through investigating housing prices in Runda. The data has been scrapped from [BuyRentKenya](https://www.buyrentkenya.com/houses-for-sale/westlands/runda?page=1). Download the csv from [here]() .Find a step by step tutorial for the webscrapping [here](https://wamaithanyamu.com/categories/runda-houses/).\n",
        "\n"
      ]
    },
    {
      "cell_type": "markdown",
      "metadata": {
        "id": "KsE1dYOUFKQ0",
        "colab_type": "text"
      },
      "source": [
        "# LOAD THE DATA\n",
        "\n",
        "First import the necessary libraries"
      ]
    },
    {
      "cell_type": "code",
      "metadata": {
        "id": "nYNshciTGU1B",
        "colab_type": "code",
        "colab": {
          "base_uri": "https://localhost:8080/",
          "height": 53
        },
        "outputId": "6d473db5-ce00-4890-c797-44d7f0be9e58"
      },
      "source": [
        "# import necessary libraries\n",
        "import pandas as pd\n",
        "import numpy as np\n",
        "import matplotlib.pyplot as plt\n",
        "import seaborn as sns\n",
        "import re\n"
      ],
      "execution_count": 2,
      "outputs": [
        {
          "output_type": "stream",
          "text": [
            "/usr/local/lib/python3.6/dist-packages/statsmodels/tools/_testing.py:19: FutureWarning: pandas.util.testing is deprecated. Use the functions in the public API at pandas.testing instead.\n",
            "  import pandas.util.testing as tm\n"
          ],
          "name": "stderr"
        }
      ]
    },
    {
      "cell_type": "markdown",
      "metadata": {
        "id": "DMD_-KRcGtqI",
        "colab_type": "text"
      },
      "source": [
        "We load the data from the csv file runda_houses.csv and convert it to a dataframe"
      ]
    },
    {
      "cell_type": "code",
      "metadata": {
        "id": "HZiYVNw7Gl1S",
        "colab_type": "code",
        "colab": {
          "base_uri": "https://localhost:8080/",
          "height": 147
        },
        "outputId": "6a9edb8b-7093-4e12-d943-abcbb68d2d4b"
      },
      "source": [
        "df = pd.read_csv('/content/runda-houses.csv')\n",
        "df.head(2)"
      ],
      "execution_count": 3,
      "outputs": [
        {
          "output_type": "execute_result",
          "data": {
            "text/html": [
              "<div>\n",
              "<style scoped>\n",
              "    .dataframe tbody tr th:only-of-type {\n",
              "        vertical-align: middle;\n",
              "    }\n",
              "\n",
              "    .dataframe tbody tr th {\n",
              "        vertical-align: top;\n",
              "    }\n",
              "\n",
              "    .dataframe thead th {\n",
              "        text-align: right;\n",
              "    }\n",
              "</style>\n",
              "<table border=\"1\" class=\"dataframe\">\n",
              "  <thead>\n",
              "    <tr style=\"text-align: right;\">\n",
              "      <th></th>\n",
              "      <th>_id</th>\n",
              "      <th>url</th>\n",
              "      <th>__v</th>\n",
              "      <th>area</th>\n",
              "      <th>baths</th>\n",
              "      <th>beds</th>\n",
              "      <th>cars</th>\n",
              "      <th>description</th>\n",
              "      <th>externalFeatures</th>\n",
              "      <th>generalFeatures</th>\n",
              "      <th>internalFeatures</th>\n",
              "      <th>price</th>\n",
              "    </tr>\n",
              "  </thead>\n",
              "  <tbody>\n",
              "    <tr>\n",
              "      <th>0</th>\n",
              "      <td>5f5d1a3e1e441dbaa36b1273</td>\n",
              "      <td>https://www.buyrentkenya.com/listings/6-bed-ho...</td>\n",
              "      <td>0</td>\n",
              "      <td>2428</td>\n",
              "      <td>8</td>\n",
              "      <td>6</td>\n",
              "      <td>0</td>\n",
              "      <td>\\n6 bedroom houseAll rooms en-suiteSitting on ...</td>\n",
              "      <td>[' Built in Cupboards ', ' Ensuite ', ' Kitche...</td>\n",
              "      <td>[' Balcony ', ' Fence ', ' Garden ']</td>\n",
              "      <td>[]</td>\n",
              "      <td>85000000</td>\n",
              "    </tr>\n",
              "    <tr>\n",
              "      <th>1</th>\n",
              "      <td>5f5d1a3f1e441dbaa36b132c</td>\n",
              "      <td>https://www.buyrentkenya.com/listings/4-bed-ho...</td>\n",
              "      <td>0</td>\n",
              "      <td>6001</td>\n",
              "      <td>3</td>\n",
              "      <td>4</td>\n",
              "      <td>0</td>\n",
              "      <td>\\nUnbelievable!!Yet a unique house with charac...</td>\n",
              "      <td>[' Fence ', ' Garden ']</td>\n",
              "      <td>[' Fibre Internet ', ' Pets Allowed ']</td>\n",
              "      <td>[' Alarm ', ' Built in Cupboards ', ' Ensuite ...</td>\n",
              "      <td>75000000</td>\n",
              "    </tr>\n",
              "  </tbody>\n",
              "</table>\n",
              "</div>"
            ],
            "text/plain": [
              "                        _id  ...     price\n",
              "0  5f5d1a3e1e441dbaa36b1273  ...  85000000\n",
              "1  5f5d1a3f1e441dbaa36b132c  ...  75000000\n",
              "\n",
              "[2 rows x 12 columns]"
            ]
          },
          "metadata": {
            "tags": []
          },
          "execution_count": 3
        }
      ]
    },
    {
      "cell_type": "code",
      "metadata": {
        "id": "y_A58v9NHCOr",
        "colab_type": "code",
        "colab": {
          "base_uri": "https://localhost:8080/",
          "height": 147
        },
        "outputId": "d9b0a3a0-0fdb-42d6-c4cb-4728cbaa86fe"
      },
      "source": [
        "df.tail(2)"
      ],
      "execution_count": 4,
      "outputs": [
        {
          "output_type": "execute_result",
          "data": {
            "text/html": [
              "<div>\n",
              "<style scoped>\n",
              "    .dataframe tbody tr th:only-of-type {\n",
              "        vertical-align: middle;\n",
              "    }\n",
              "\n",
              "    .dataframe tbody tr th {\n",
              "        vertical-align: top;\n",
              "    }\n",
              "\n",
              "    .dataframe thead th {\n",
              "        text-align: right;\n",
              "    }\n",
              "</style>\n",
              "<table border=\"1\" class=\"dataframe\">\n",
              "  <thead>\n",
              "    <tr style=\"text-align: right;\">\n",
              "      <th></th>\n",
              "      <th>_id</th>\n",
              "      <th>url</th>\n",
              "      <th>__v</th>\n",
              "      <th>area</th>\n",
              "      <th>baths</th>\n",
              "      <th>beds</th>\n",
              "      <th>cars</th>\n",
              "      <th>description</th>\n",
              "      <th>externalFeatures</th>\n",
              "      <th>generalFeatures</th>\n",
              "      <th>internalFeatures</th>\n",
              "      <th>price</th>\n",
              "    </tr>\n",
              "  </thead>\n",
              "  <tbody>\n",
              "    <tr>\n",
              "      <th>140</th>\n",
              "      <td>5f5d202b1e441dbaa36e9b15</td>\n",
              "      <td>https://www.buyrentkenya.com/listings/5-bed-ho...</td>\n",
              "      <td>0</td>\n",
              "      <td>0</td>\n",
              "      <td>0</td>\n",
              "      <td>5</td>\n",
              "      <td>0</td>\n",
              "      <td>\\nIts a magnificent 5bdrm unfurnished ambassad...</td>\n",
              "      <td>[]</td>\n",
              "      <td>[]</td>\n",
              "      <td>[]</td>\n",
              "      <td>140000000</td>\n",
              "    </tr>\n",
              "    <tr>\n",
              "      <th>141</th>\n",
              "      <td>5f5d202c1e441dbaa36e9b93</td>\n",
              "      <td>https://www.buyrentkenya.com/listings/6-bed-to...</td>\n",
              "      <td>0</td>\n",
              "      <td>0</td>\n",
              "      <td>7</td>\n",
              "      <td>6</td>\n",
              "      <td>0</td>\n",
              "      <td>\\n6 Bedroom Ambassadorial House for saleAll en...</td>\n",
              "      <td>[]</td>\n",
              "      <td>[]</td>\n",
              "      <td>[]</td>\n",
              "      <td>0</td>\n",
              "    </tr>\n",
              "  </tbody>\n",
              "</table>\n",
              "</div>"
            ],
            "text/plain": [
              "                          _id  ...      price\n",
              "140  5f5d202b1e441dbaa36e9b15  ...  140000000\n",
              "141  5f5d202c1e441dbaa36e9b93  ...          0\n",
              "\n",
              "[2 rows x 12 columns]"
            ]
          },
          "metadata": {
            "tags": []
          },
          "execution_count": 4
        }
      ]
    },
    {
      "cell_type": "markdown",
      "metadata": {
        "id": "_O3WthM8FST7",
        "colab_type": "text"
      },
      "source": [
        "# DATA CLEANING"
      ]
    },
    {
      "cell_type": "markdown",
      "metadata": {
        "id": "YW2e7GcmG6PB",
        "colab_type": "text"
      },
      "source": [
        "The data needs alot of cleaning inorder to be useful for analysis. Some values are NaN while others are None. The features are also in form of lists and some are also missing. "
      ]
    },
    {
      "cell_type": "markdown",
      "metadata": {
        "id": "ub3OBVJ0ILWP",
        "colab_type": "text"
      },
      "source": [
        "### Drop unnecesaary columns\n",
        "\n",
        "We do not need the url , _id, and the _v columns so we will drop them for they only add clutter to he data we have"
      ]
    },
    {
      "cell_type": "code",
      "metadata": {
        "id": "2Px5Nff-HrBb",
        "colab_type": "code",
        "colab": {
          "base_uri": "https://localhost:8080/",
          "height": 112
        },
        "outputId": "7edb1bfb-2b39-4e53-8529-21772b3cdec2"
      },
      "source": [
        "# drop columns\n",
        "\n",
        "df =df.drop(['_id', 'url', '__v'], axis=1)\n",
        "df.head(2)"
      ],
      "execution_count": 5,
      "outputs": [
        {
          "output_type": "execute_result",
          "data": {
            "text/html": [
              "<div>\n",
              "<style scoped>\n",
              "    .dataframe tbody tr th:only-of-type {\n",
              "        vertical-align: middle;\n",
              "    }\n",
              "\n",
              "    .dataframe tbody tr th {\n",
              "        vertical-align: top;\n",
              "    }\n",
              "\n",
              "    .dataframe thead th {\n",
              "        text-align: right;\n",
              "    }\n",
              "</style>\n",
              "<table border=\"1\" class=\"dataframe\">\n",
              "  <thead>\n",
              "    <tr style=\"text-align: right;\">\n",
              "      <th></th>\n",
              "      <th>area</th>\n",
              "      <th>baths</th>\n",
              "      <th>beds</th>\n",
              "      <th>cars</th>\n",
              "      <th>description</th>\n",
              "      <th>externalFeatures</th>\n",
              "      <th>generalFeatures</th>\n",
              "      <th>internalFeatures</th>\n",
              "      <th>price</th>\n",
              "    </tr>\n",
              "  </thead>\n",
              "  <tbody>\n",
              "    <tr>\n",
              "      <th>0</th>\n",
              "      <td>2428</td>\n",
              "      <td>8</td>\n",
              "      <td>6</td>\n",
              "      <td>0</td>\n",
              "      <td>\\n6 bedroom houseAll rooms en-suiteSitting on ...</td>\n",
              "      <td>[' Built in Cupboards ', ' Ensuite ', ' Kitche...</td>\n",
              "      <td>[' Balcony ', ' Fence ', ' Garden ']</td>\n",
              "      <td>[]</td>\n",
              "      <td>85000000</td>\n",
              "    </tr>\n",
              "    <tr>\n",
              "      <th>1</th>\n",
              "      <td>6001</td>\n",
              "      <td>3</td>\n",
              "      <td>4</td>\n",
              "      <td>0</td>\n",
              "      <td>\\nUnbelievable!!Yet a unique house with charac...</td>\n",
              "      <td>[' Fence ', ' Garden ']</td>\n",
              "      <td>[' Fibre Internet ', ' Pets Allowed ']</td>\n",
              "      <td>[' Alarm ', ' Built in Cupboards ', ' Ensuite ...</td>\n",
              "      <td>75000000</td>\n",
              "    </tr>\n",
              "  </tbody>\n",
              "</table>\n",
              "</div>"
            ],
            "text/plain": [
              "   area  baths  ...                                   internalFeatures     price\n",
              "0  2428      8  ...                                                 []  85000000\n",
              "1  6001      3  ...  [' Alarm ', ' Built in Cupboards ', ' Ensuite ...  75000000\n",
              "\n",
              "[2 rows x 9 columns]"
            ]
          },
          "metadata": {
            "tags": []
          },
          "execution_count": 5
        }
      ]
    },
    {
      "cell_type": "code",
      "metadata": {
        "id": "9DRJ6RS_Jh0I",
        "colab_type": "code",
        "colab": {
          "base_uri": "https://localhost:8080/",
          "height": 196
        },
        "outputId": "7a0f791a-c362-4951-88d6-4c481f225c7b"
      },
      "source": [
        "df.isna().sum()"
      ],
      "execution_count": 6,
      "outputs": [
        {
          "output_type": "execute_result",
          "data": {
            "text/plain": [
              "area                0\n",
              "baths               0\n",
              "beds                0\n",
              "cars                0\n",
              "description         0\n",
              "externalFeatures    0\n",
              "generalFeatures     0\n",
              "internalFeatures    0\n",
              "price               0\n",
              "dtype: int64"
            ]
          },
          "metadata": {
            "tags": []
          },
          "execution_count": 6
        }
      ]
    },
    {
      "cell_type": "code",
      "metadata": {
        "id": "hUmWy1oPFUXt",
        "colab_type": "code",
        "colab": {
          "base_uri": "https://localhost:8080/",
          "height": 300
        },
        "outputId": "a5acc2b0-50d8-40d9-e6f5-a1fdbbd14ae0"
      },
      "source": [
        "df.describe()"
      ],
      "execution_count": 7,
      "outputs": [
        {
          "output_type": "execute_result",
          "data": {
            "text/html": [
              "<div>\n",
              "<style scoped>\n",
              "    .dataframe tbody tr th:only-of-type {\n",
              "        vertical-align: middle;\n",
              "    }\n",
              "\n",
              "    .dataframe tbody tr th {\n",
              "        vertical-align: top;\n",
              "    }\n",
              "\n",
              "    .dataframe thead th {\n",
              "        text-align: right;\n",
              "    }\n",
              "</style>\n",
              "<table border=\"1\" class=\"dataframe\">\n",
              "  <thead>\n",
              "    <tr style=\"text-align: right;\">\n",
              "      <th></th>\n",
              "      <th>area</th>\n",
              "      <th>baths</th>\n",
              "      <th>beds</th>\n",
              "      <th>cars</th>\n",
              "      <th>price</th>\n",
              "    </tr>\n",
              "  </thead>\n",
              "  <tbody>\n",
              "    <tr>\n",
              "      <th>count</th>\n",
              "      <td>142.000000</td>\n",
              "      <td>142.000000</td>\n",
              "      <td>142.000000</td>\n",
              "      <td>142.000000</td>\n",
              "      <td>1.420000e+02</td>\n",
              "    </tr>\n",
              "    <tr>\n",
              "      <th>mean</th>\n",
              "      <td>3313.683099</td>\n",
              "      <td>4.612676</td>\n",
              "      <td>4.964789</td>\n",
              "      <td>0.464789</td>\n",
              "      <td>1.106027e+08</td>\n",
              "    </tr>\n",
              "    <tr>\n",
              "      <th>std</th>\n",
              "      <td>25400.116125</td>\n",
              "      <td>2.172845</td>\n",
              "      <td>1.013469</td>\n",
              "      <td>1.335080</td>\n",
              "      <td>6.002568e+07</td>\n",
              "    </tr>\n",
              "    <tr>\n",
              "      <th>min</th>\n",
              "      <td>0.000000</td>\n",
              "      <td>0.000000</td>\n",
              "      <td>3.000000</td>\n",
              "      <td>0.000000</td>\n",
              "      <td>0.000000e+00</td>\n",
              "    </tr>\n",
              "    <tr>\n",
              "      <th>25%</th>\n",
              "      <td>0.000000</td>\n",
              "      <td>4.000000</td>\n",
              "      <td>4.000000</td>\n",
              "      <td>0.000000</td>\n",
              "      <td>7.500000e+07</td>\n",
              "    </tr>\n",
              "    <tr>\n",
              "      <th>50%</th>\n",
              "      <td>1113.000000</td>\n",
              "      <td>5.000000</td>\n",
              "      <td>5.000000</td>\n",
              "      <td>0.000000</td>\n",
              "      <td>9.500000e+07</td>\n",
              "    </tr>\n",
              "    <tr>\n",
              "      <th>75%</th>\n",
              "      <td>2024.000000</td>\n",
              "      <td>6.000000</td>\n",
              "      <td>5.000000</td>\n",
              "      <td>0.000000</td>\n",
              "      <td>1.500000e+08</td>\n",
              "    </tr>\n",
              "    <tr>\n",
              "      <th>max</th>\n",
              "      <td>303525.000000</td>\n",
              "      <td>9.000000</td>\n",
              "      <td>8.000000</td>\n",
              "      <td>10.000000</td>\n",
              "      <td>2.600000e+08</td>\n",
              "    </tr>\n",
              "  </tbody>\n",
              "</table>\n",
              "</div>"
            ],
            "text/plain": [
              "                area       baths        beds        cars         price\n",
              "count     142.000000  142.000000  142.000000  142.000000  1.420000e+02\n",
              "mean     3313.683099    4.612676    4.964789    0.464789  1.106027e+08\n",
              "std     25400.116125    2.172845    1.013469    1.335080  6.002568e+07\n",
              "min         0.000000    0.000000    3.000000    0.000000  0.000000e+00\n",
              "25%         0.000000    4.000000    4.000000    0.000000  7.500000e+07\n",
              "50%      1113.000000    5.000000    5.000000    0.000000  9.500000e+07\n",
              "75%      2024.000000    6.000000    5.000000    0.000000  1.500000e+08\n",
              "max    303525.000000    9.000000    8.000000   10.000000  2.600000e+08"
            ]
          },
          "metadata": {
            "tags": []
          },
          "execution_count": 7
        }
      ]
    },
    {
      "cell_type": "markdown",
      "metadata": {
        "id": "TsQ2lK8z7TPM",
        "colab_type": "text"
      },
      "source": [
        "The dataset has a lot of missing values. We need to work with data that is complete or drop those that have few missing values. We check for zeros per column. In our webscraping we assigned a zero to any feature that was not listed. However, the missing data can be most likely found in the  description. "
      ]
    },
    {
      "cell_type": "code",
      "metadata": {
        "id": "CD0oHmWK7lE2",
        "colab_type": "code",
        "colab": {
          "base_uri": "https://localhost:8080/",
          "height": 196
        },
        "outputId": "52c67ff9-bf69-45a1-d6d6-9fa7521346ba"
      },
      "source": [
        "# Get number if zeros per column\n",
        "df.isin([0]).sum()"
      ],
      "execution_count": 8,
      "outputs": [
        {
          "output_type": "execute_result",
          "data": {
            "text/plain": [
              "area                 56\n",
              "baths                19\n",
              "beds                  0\n",
              "cars                120\n",
              "description           0\n",
              "externalFeatures      0\n",
              "generalFeatures       0\n",
              "internalFeatures      0\n",
              "price                 3\n",
              "dtype: int64"
            ]
          },
          "metadata": {
            "tags": []
          },
          "execution_count": 8
        }
      ]
    },
    {
      "cell_type": "code",
      "metadata": {
        "id": "l5o-4EDePWUZ",
        "colab_type": "code",
        "colab": {
          "base_uri": "https://localhost:8080/",
          "height": 424
        },
        "outputId": "5ca67a2d-b0a9-4377-c4ba-5a932c9662d5"
      },
      "source": [
        "df.drop(['cars'], axis=1)"
      ],
      "execution_count": 10,
      "outputs": [
        {
          "output_type": "execute_result",
          "data": {
            "text/html": [
              "<div>\n",
              "<style scoped>\n",
              "    .dataframe tbody tr th:only-of-type {\n",
              "        vertical-align: middle;\n",
              "    }\n",
              "\n",
              "    .dataframe tbody tr th {\n",
              "        vertical-align: top;\n",
              "    }\n",
              "\n",
              "    .dataframe thead th {\n",
              "        text-align: right;\n",
              "    }\n",
              "</style>\n",
              "<table border=\"1\" class=\"dataframe\">\n",
              "  <thead>\n",
              "    <tr style=\"text-align: right;\">\n",
              "      <th></th>\n",
              "      <th>area</th>\n",
              "      <th>baths</th>\n",
              "      <th>beds</th>\n",
              "      <th>description</th>\n",
              "      <th>externalFeatures</th>\n",
              "      <th>generalFeatures</th>\n",
              "      <th>internalFeatures</th>\n",
              "      <th>price</th>\n",
              "    </tr>\n",
              "  </thead>\n",
              "  <tbody>\n",
              "    <tr>\n",
              "      <th>0</th>\n",
              "      <td>2428</td>\n",
              "      <td>8</td>\n",
              "      <td>6</td>\n",
              "      <td>\\n6 bedroom houseAll rooms en-suiteSitting on ...</td>\n",
              "      <td>[' Built in Cupboards ', ' Ensuite ', ' Kitche...</td>\n",
              "      <td>[' Balcony ', ' Fence ', ' Garden ']</td>\n",
              "      <td>[]</td>\n",
              "      <td>85000000</td>\n",
              "    </tr>\n",
              "    <tr>\n",
              "      <th>1</th>\n",
              "      <td>6001</td>\n",
              "      <td>3</td>\n",
              "      <td>4</td>\n",
              "      <td>\\nUnbelievable!!Yet a unique house with charac...</td>\n",
              "      <td>[' Fence ', ' Garden ']</td>\n",
              "      <td>[' Fibre Internet ', ' Pets Allowed ']</td>\n",
              "      <td>[' Alarm ', ' Built in Cupboards ', ' Ensuite ...</td>\n",
              "      <td>75000000</td>\n",
              "    </tr>\n",
              "    <tr>\n",
              "      <th>2</th>\n",
              "      <td>0</td>\n",
              "      <td>3</td>\n",
              "      <td>4</td>\n",
              "      <td>\\nHOUSE FEATURES:* Ultra-modern 4 Bedrooms, 2 ...</td>\n",
              "      <td>[' Balcony ', ' Bore Hole ', ' Electric Fence ...</td>\n",
              "      <td>[' Backup Generator ', ' CCTV ', ' Electricity...</td>\n",
              "      <td>[' Alarm ', ' Built in Cupboards ', ' Kitchen ...</td>\n",
              "      <td>27450000</td>\n",
              "    </tr>\n",
              "    <tr>\n",
              "      <th>3</th>\n",
              "      <td>800</td>\n",
              "      <td>5</td>\n",
              "      <td>5</td>\n",
              "      <td>\\nA stunning modern Five bedroom house built o...</td>\n",
              "      <td>[' Balcony ', ' Bore Hole ', ' Electric Fence ...</td>\n",
              "      <td>[' Backup Generator ', ' CCTV ', ' Pets Allowe...</td>\n",
              "      <td>[' Aircon ', ' Alarm ', ' Built in Cupboards '...</td>\n",
              "      <td>340000</td>\n",
              "    </tr>\n",
              "    <tr>\n",
              "      <th>4</th>\n",
              "      <td>2833</td>\n",
              "      <td>5</td>\n",
              "      <td>5</td>\n",
              "      <td>\\nRunda home 5 bedroom all en-suite- 2 living ...</td>\n",
              "      <td>[' Balcony ', ' Bore Hole ', ' Electric Fence ...</td>\n",
              "      <td>[' CCTV ', ' Electricity Included ', ' Fibre I...</td>\n",
              "      <td>[' Alarm ', ' Built in Cupboards ', ' Ensuite ...</td>\n",
              "      <td>150000000</td>\n",
              "    </tr>\n",
              "    <tr>\n",
              "      <th>...</th>\n",
              "      <td>...</td>\n",
              "      <td>...</td>\n",
              "      <td>...</td>\n",
              "      <td>...</td>\n",
              "      <td>...</td>\n",
              "      <td>...</td>\n",
              "      <td>...</td>\n",
              "      <td>...</td>\n",
              "    </tr>\n",
              "    <tr>\n",
              "      <th>137</th>\n",
              "      <td>0</td>\n",
              "      <td>0</td>\n",
              "      <td>5</td>\n",
              "      <td>\\nSitting on an expansive garden full of lush ...</td>\n",
              "      <td>[' Balcony ', ' Electric Fence ', ' Fence ', '...</td>\n",
              "      <td>[' Scenic View ']</td>\n",
              "      <td>[' Built in Cupboards ', ' Ensuite ', ' Kitche...</td>\n",
              "      <td>90000000</td>\n",
              "    </tr>\n",
              "    <tr>\n",
              "      <th>138</th>\n",
              "      <td>0</td>\n",
              "      <td>6</td>\n",
              "      <td>5</td>\n",
              "      <td>\\nExquisite 5 Bedroom all en-suite house in th...</td>\n",
              "      <td>[]</td>\n",
              "      <td>[]</td>\n",
              "      <td>[]</td>\n",
              "      <td>130000000</td>\n",
              "    </tr>\n",
              "    <tr>\n",
              "      <th>139</th>\n",
              "      <td>0</td>\n",
              "      <td>0</td>\n",
              "      <td>5</td>\n",
              "      <td>\\nTucked in the posh and elite RUNDA MIMOSA in...</td>\n",
              "      <td>[' Garden ']</td>\n",
              "      <td>[' Electricity Included ', ' Water Included ']</td>\n",
              "      <td>[' Ensuite ', ' Kitchen ']</td>\n",
              "      <td>150000000</td>\n",
              "    </tr>\n",
              "    <tr>\n",
              "      <th>140</th>\n",
              "      <td>0</td>\n",
              "      <td>0</td>\n",
              "      <td>5</td>\n",
              "      <td>\\nIts a magnificent 5bdrm unfurnished ambassad...</td>\n",
              "      <td>[]</td>\n",
              "      <td>[]</td>\n",
              "      <td>[]</td>\n",
              "      <td>140000000</td>\n",
              "    </tr>\n",
              "    <tr>\n",
              "      <th>141</th>\n",
              "      <td>0</td>\n",
              "      <td>7</td>\n",
              "      <td>6</td>\n",
              "      <td>\\n6 Bedroom Ambassadorial House for saleAll en...</td>\n",
              "      <td>[]</td>\n",
              "      <td>[]</td>\n",
              "      <td>[]</td>\n",
              "      <td>0</td>\n",
              "    </tr>\n",
              "  </tbody>\n",
              "</table>\n",
              "<p>142 rows × 8 columns</p>\n",
              "</div>"
            ],
            "text/plain": [
              "     area  baths  ...                                   internalFeatures      price\n",
              "0    2428      8  ...                                                 []   85000000\n",
              "1    6001      3  ...  [' Alarm ', ' Built in Cupboards ', ' Ensuite ...   75000000\n",
              "2       0      3  ...  [' Alarm ', ' Built in Cupboards ', ' Kitchen ...   27450000\n",
              "3     800      5  ...  [' Aircon ', ' Alarm ', ' Built in Cupboards '...     340000\n",
              "4    2833      5  ...  [' Alarm ', ' Built in Cupboards ', ' Ensuite ...  150000000\n",
              "..    ...    ...  ...                                                ...        ...\n",
              "137     0      0  ...  [' Built in Cupboards ', ' Ensuite ', ' Kitche...   90000000\n",
              "138     0      6  ...                                                 []  130000000\n",
              "139     0      0  ...                         [' Ensuite ', ' Kitchen ']  150000000\n",
              "140     0      0  ...                                                 []  140000000\n",
              "141     0      7  ...                                                 []          0\n",
              "\n",
              "[142 rows x 8 columns]"
            ]
          },
          "metadata": {
            "tags": []
          },
          "execution_count": 10
        }
      ]
    },
    {
      "cell_type": "markdown",
      "metadata": {
        "id": "bbQgfGE1Wz9B",
        "colab_type": "text"
      },
      "source": [
        "# Quantile binning for price"
      ]
    },
    {
      "cell_type": "code",
      "metadata": {
        "id": "yTSJflk5VO_h",
        "colab_type": "code",
        "colab": {
          "base_uri": "https://localhost:8080/",
          "height": 316
        },
        "outputId": "585eab0c-80ce-4c30-8a09-8e30b31e8dbb"
      },
      "source": [
        "fig, ax = plt.subplots()\n",
        "df['price'].hist(bins=30, color='#A9C5D3')\n",
        "ax.set_title('price Histogram', fontsize=12)\n",
        "ax.set_xlabel('price', fontsize=12)\n",
        "ax.set_ylabel('Frequency', fontsize=12)\n",
        "\n"
      ],
      "execution_count": 11,
      "outputs": [
        {
          "output_type": "execute_result",
          "data": {
            "text/plain": [
              "Text(0, 0.5, 'Frequency')"
            ]
          },
          "metadata": {
            "tags": []
          },
          "execution_count": 11
        },
        {
          "output_type": "display_data",
          "data": {
            "image/png": "[encoded data removed]",
            "text/plain": [
              "<Figure size 432x288 with 1 Axes>"
            ]
          },
          "metadata": {
            "tags": [],
            "needs_background": "light"
          }
        }
      ]
    },
    {
      "cell_type": "code",
      "metadata": {
        "id": "qhAcOdVXVaz_",
        "colab_type": "code",
        "colab": {
          "base_uri": "https://localhost:8080/",
          "height": 124
        },
        "outputId": "34bdf46a-b544-4592-bbb9-5b762685def4"
      },
      "source": [
        "\n",
        "\n",
        "quantile_list = [0, .25, .5, .75, 1.]\n",
        "quantiles = df['price'].quantile(quantile_list)\n",
        "quantiles\n",
        "\n"
      ],
      "execution_count": 12,
      "outputs": [
        {
          "output_type": "execute_result",
          "data": {
            "text/plain": [
              "0.00            0.0\n",
              "0.25     75000000.0\n",
              "0.50     95000000.0\n",
              "0.75    150000000.0\n",
              "1.00    260000000.0\n",
              "Name: price, dtype: float64"
            ]
          },
          "metadata": {
            "tags": []
          },
          "execution_count": 12
        }
      ]
    },
    {
      "cell_type": "code",
      "metadata": {
        "id": "_7-_K1-KVr3W",
        "colab_type": "code",
        "colab": {
          "base_uri": "https://localhost:8080/",
          "height": 316
        },
        "outputId": "63794c6b-2430-48da-a699-040203097fe8"
      },
      "source": [
        "fig, ax = plt.subplots()\n",
        "df['price'].hist(bins=30, color='#A9C5D3')\n",
        "\n",
        "for quantile in quantiles:\n",
        "    qvl = plt.axvline(quantile, color='r')\n",
        "ax.legend([qvl], ['Quantiles'], fontsize=10)\n",
        "\n",
        "ax.set_title('Runda houses quantile dist', fontsize=12)\n",
        "ax.set_xlabel('Price', fontsize=12)\n",
        "ax.set_ylabel('Frequency', fontsize=12)"
      ],
      "execution_count": 13,
      "outputs": [
        {
          "output_type": "execute_result",
          "data": {
            "text/plain": [
              "Text(0, 0.5, 'Frequency')"
            ]
          },
          "metadata": {
            "tags": []
          },
          "execution_count": 13
        },
        {
          "output_type": "display_data",
          "data": {
            "image/png": "[encoded data removed]",
            "text/plain": [
              "<Figure size 432x288 with 1 Axes>"
            ]
          },
          "metadata": {
            "tags": [],
            "needs_background": "light"
          }
        }
      ]
    },
    {
      "cell_type": "code",
      "metadata": {
        "id": "kFfHIWXrWDyP",
        "colab_type": "code",
        "colab": {
          "base_uri": "https://localhost:8080/",
          "height": 537
        },
        "outputId": "df2e5c8c-d41d-4fe0-c6ad-ede105041a3d"
      },
      "source": [
        "quantile_labels = ['Low', 'Fair', 'Medium', 'High']\n",
        "df['price_class'] = pd.qcut(df['price'],  q=quantile_list)\n",
        "df['price_class_label'] = pd.qcut(df['price'], \n",
        "                                                 q=quantile_list, labels=quantile_labels)\n",
        "df.head(10)"
      ],
      "execution_count": 14,
      "outputs": [
        {
          "output_type": "execute_result",
          "data": {
            "text/html": [
              "<div>\n",
              "<style scoped>\n",
              "    .dataframe tbody tr th:only-of-type {\n",
              "        vertical-align: middle;\n",
              "    }\n",
              "\n",
              "    .dataframe tbody tr th {\n",
              "        vertical-align: top;\n",
              "    }\n",
              "\n",
              "    .dataframe thead th {\n",
              "        text-align: right;\n",
              "    }\n",
              "</style>\n",
              "<table border=\"1\" class=\"dataframe\">\n",
              "  <thead>\n",
              "    <tr style=\"text-align: right;\">\n",
              "      <th></th>\n",
              "      <th>area</th>\n",
              "      <th>baths</th>\n",
              "      <th>beds</th>\n",
              "      <th>cars</th>\n",
              "      <th>description</th>\n",
              "      <th>externalFeatures</th>\n",
              "      <th>generalFeatures</th>\n",
              "      <th>internalFeatures</th>\n",
              "      <th>price</th>\n",
              "      <th>price_class</th>\n",
              "      <th>price_class_label</th>\n",
              "    </tr>\n",
              "  </thead>\n",
              "  <tbody>\n",
              "    <tr>\n",
              "      <th>0</th>\n",
              "      <td>2428</td>\n",
              "      <td>8</td>\n",
              "      <td>6</td>\n",
              "      <td>0</td>\n",
              "      <td>\\n6 bedroom houseAll rooms en-suiteSitting on ...</td>\n",
              "      <td>[' Built in Cupboards ', ' Ensuite ', ' Kitche...</td>\n",
              "      <td>[' Balcony ', ' Fence ', ' Garden ']</td>\n",
              "      <td>[]</td>\n",
              "      <td>85000000</td>\n",
              "      <td>(75000000.0, 95000000.0]</td>\n",
              "      <td>Fair</td>\n",
              "    </tr>\n",
              "    <tr>\n",
              "      <th>1</th>\n",
              "      <td>6001</td>\n",
              "      <td>3</td>\n",
              "      <td>4</td>\n",
              "      <td>0</td>\n",
              "      <td>\\nUnbelievable!!Yet a unique house with charac...</td>\n",
              "      <td>[' Fence ', ' Garden ']</td>\n",
              "      <td>[' Fibre Internet ', ' Pets Allowed ']</td>\n",
              "      <td>[' Alarm ', ' Built in Cupboards ', ' Ensuite ...</td>\n",
              "      <td>75000000</td>\n",
              "      <td>(-0.001, 75000000.0]</td>\n",
              "      <td>Low</td>\n",
              "    </tr>\n",
              "    <tr>\n",
              "      <th>2</th>\n",
              "      <td>0</td>\n",
              "      <td>3</td>\n",
              "      <td>4</td>\n",
              "      <td>3</td>\n",
              "      <td>\\nHOUSE FEATURES:* Ultra-modern 4 Bedrooms, 2 ...</td>\n",
              "      <td>[' Balcony ', ' Bore Hole ', ' Electric Fence ...</td>\n",
              "      <td>[' Backup Generator ', ' CCTV ', ' Electricity...</td>\n",
              "      <td>[' Alarm ', ' Built in Cupboards ', ' Kitchen ...</td>\n",
              "      <td>27450000</td>\n",
              "      <td>(-0.001, 75000000.0]</td>\n",
              "      <td>Low</td>\n",
              "    </tr>\n",
              "    <tr>\n",
              "      <th>3</th>\n",
              "      <td>800</td>\n",
              "      <td>5</td>\n",
              "      <td>5</td>\n",
              "      <td>0</td>\n",
              "      <td>\\nA stunning modern Five bedroom house built o...</td>\n",
              "      <td>[' Balcony ', ' Bore Hole ', ' Electric Fence ...</td>\n",
              "      <td>[' Backup Generator ', ' CCTV ', ' Pets Allowe...</td>\n",
              "      <td>[' Aircon ', ' Alarm ', ' Built in Cupboards '...</td>\n",
              "      <td>340000</td>\n",
              "      <td>(-0.001, 75000000.0]</td>\n",
              "      <td>Low</td>\n",
              "    </tr>\n",
              "    <tr>\n",
              "      <th>4</th>\n",
              "      <td>2833</td>\n",
              "      <td>5</td>\n",
              "      <td>5</td>\n",
              "      <td>0</td>\n",
              "      <td>\\nRunda home 5 bedroom all en-suite- 2 living ...</td>\n",
              "      <td>[' Balcony ', ' Bore Hole ', ' Electric Fence ...</td>\n",
              "      <td>[' CCTV ', ' Electricity Included ', ' Fibre I...</td>\n",
              "      <td>[' Alarm ', ' Built in Cupboards ', ' Ensuite ...</td>\n",
              "      <td>150000000</td>\n",
              "      <td>(95000000.0, 150000000.0]</td>\n",
              "      <td>Medium</td>\n",
              "    </tr>\n",
              "    <tr>\n",
              "      <th>5</th>\n",
              "      <td>2023</td>\n",
              "      <td>8</td>\n",
              "      <td>8</td>\n",
              "      <td>0</td>\n",
              "      <td>\\nThis is a newly built prime property located...</td>\n",
              "      <td>[' Balcony ', ' Bore Hole ', ' Electric Fence ...</td>\n",
              "      <td>[' Backup Generator ', ' CCTV ', ' Electricity...</td>\n",
              "      <td>[' Aircon ', ' Alarm ', ' Built in Cupboards '...</td>\n",
              "      <td>150000000</td>\n",
              "      <td>(95000000.0, 150000000.0]</td>\n",
              "      <td>Medium</td>\n",
              "    </tr>\n",
              "    <tr>\n",
              "      <th>6</th>\n",
              "      <td>2023</td>\n",
              "      <td>5</td>\n",
              "      <td>5</td>\n",
              "      <td>0</td>\n",
              "      <td>\\n5 Bedroom Home For SaleThis gorgeous propert...</td>\n",
              "      <td>[' Built in Cupboards ', ' Ensuite ', ' Kitche...</td>\n",
              "      <td>[' Balcony ', ' Fence ', ' Garden ']</td>\n",
              "      <td>[]</td>\n",
              "      <td>200000000</td>\n",
              "      <td>(150000000.0, 260000000.0]</td>\n",
              "      <td>High</td>\n",
              "    </tr>\n",
              "    <tr>\n",
              "      <th>7</th>\n",
              "      <td>506</td>\n",
              "      <td>4</td>\n",
              "      <td>4</td>\n",
              "      <td>0</td>\n",
              "      <td>\\nGood!These is a well structured and designed...</td>\n",
              "      <td>[' Bore Hole ', ' Electric Fence ', ' Fence ',...</td>\n",
              "      <td>[' Fibre Internet ', ' Pets Allowed ']</td>\n",
              "      <td>[' Alarm ', ' Built in Cupboards ', ' Ensuite ...</td>\n",
              "      <td>28000000</td>\n",
              "      <td>(-0.001, 75000000.0]</td>\n",
              "      <td>Low</td>\n",
              "    </tr>\n",
              "    <tr>\n",
              "      <th>8</th>\n",
              "      <td>2023</td>\n",
              "      <td>5</td>\n",
              "      <td>5</td>\n",
              "      <td>0</td>\n",
              "      <td>\\nThis is a magnificent 5 bedroom house all en...</td>\n",
              "      <td>[' Balcony ', ' Bore Hole ', ' Electric Fence ...</td>\n",
              "      <td>[' Backup Generator ', ' CCTV ', ' Electricity...</td>\n",
              "      <td>[' Aircon ', ' Alarm ', ' Built in Cupboards '...</td>\n",
              "      <td>220000000</td>\n",
              "      <td>(150000000.0, 260000000.0]</td>\n",
              "      <td>High</td>\n",
              "    </tr>\n",
              "    <tr>\n",
              "      <th>9</th>\n",
              "      <td>2833</td>\n",
              "      <td>7</td>\n",
              "      <td>5</td>\n",
              "      <td>0</td>\n",
              "      <td>\\nIts Doubled Storeyed HouseSitting on 0.5 Acr...</td>\n",
              "      <td>[' Bore Hole ', ' Electric Fence ', ' Garden ']</td>\n",
              "      <td>[' Backup Generator ', ' CCTV ', ' Pets Allowe...</td>\n",
              "      <td>[' Built in Cupboards ', ' Ensuite ', ' Kitche...</td>\n",
              "      <td>95000000</td>\n",
              "      <td>(75000000.0, 95000000.0]</td>\n",
              "      <td>Fair</td>\n",
              "    </tr>\n",
              "  </tbody>\n",
              "</table>\n",
              "</div>"
            ],
            "text/plain": [
              "   area  baths  beds  ...      price                 price_class price_class_label\n",
              "0  2428      8     6  ...   85000000    (75000000.0, 95000000.0]              Fair\n",
              "1  6001      3     4  ...   75000000        (-0.001, 75000000.0]               Low\n",
              "2     0      3     4  ...   27450000        (-0.001, 75000000.0]               Low\n",
              "3   800      5     5  ...     340000        (-0.001, 75000000.0]               Low\n",
              "4  2833      5     5  ...  150000000   (95000000.0, 150000000.0]            Medium\n",
              "5  2023      8     8  ...  150000000   (95000000.0, 150000000.0]            Medium\n",
              "6  2023      5     5  ...  200000000  (150000000.0, 260000000.0]              High\n",
              "7   506      4     4  ...   28000000        (-0.001, 75000000.0]               Low\n",
              "8  2023      5     5  ...  220000000  (150000000.0, 260000000.0]              High\n",
              "9  2833      7     5  ...   95000000    (75000000.0, 95000000.0]              Fair\n",
              "\n",
              "[10 rows x 11 columns]"
            ]
          },
          "metadata": {
            "tags": []
          },
          "execution_count": 14
        }
      ]
    },
    {
      "cell_type": "markdown",
      "metadata": {
        "id": "ukJfVWNzW36I",
        "colab_type": "text"
      },
      "source": [
        "# One hot encoding of features"
      ]
    },
    {
      "cell_type": "code",
      "metadata": {
        "id": "lVger_YUp8Tf",
        "colab_type": "code",
        "colab": {}
      },
      "source": [
        "# convert to lists\n",
        "from ast import literal_eval\n",
        "df.loc[:,'generalFeatures'] = df.loc[:,'generalFeatures'].apply(lambda x: literal_eval(x))\n",
        "df.loc[:,'internalFeatures'] = df.loc[:,'internalFeatures'].apply(lambda x: literal_eval(x))\n",
        "df.loc[:,'externalFeatures'] = df.loc[:,'externalFeatures'].apply(lambda x: literal_eval(x))"
      ],
      "execution_count": 15,
      "outputs": []
    },
    {
      "cell_type": "code",
      "metadata": {
        "id": "D-fpbQ4mLhH1",
        "colab_type": "code",
        "colab": {
          "base_uri": "https://localhost:8080/",
          "height": 55
        },
        "outputId": "de986caa-3cb0-491a-e6a3-caace62a09a2"
      },
      "source": [
        "all_features =set([]) \n",
        "\n",
        "def get_all_features(text):\n",
        "  for i in range(len(text)):\n",
        "  \n",
        "   all_features.add(text[i].strip())\n",
        "\n",
        "\n",
        "for i in range(len(df)):\n",
        "  get_all_features(df['generalFeatures'][i])\n",
        "  get_all_features(df['internalFeatures'][i])\n",
        "  get_all_features(df['externalFeatures'][i])\n",
        "\n",
        "\n",
        "print(\"All features \", type(all_features),  all_features)\n"
      ],
      "execution_count": 16,
      "outputs": [
        {
          "output_type": "stream",
          "text": [
            "All features  <class 'set'> {'Wheel Chair Friendly', 'Scenic View', 'Sea View', 'Electricity Included', 'Garden', 'Water Included', 'Kitchen', 'Alarm', 'Lift Elevator', 'Bore Hole', 'Balcony', 'Electric Fence', 'Pets Allowed', 'Golf Course', 'Fence', 'Fibre Internet', 'Ensuite', 'Backup Generator', 'CCTV', 'Walk In Closet', 'Built in Cupboards', 'Aircon'}\n"
          ],
          "name": "stdout"
        }
      ]
    },
    {
      "cell_type": "markdown",
      "metadata": {
        "id": "ui5LSyMaCjW8",
        "colab_type": "text"
      },
      "source": [
        "We first need to turn the features to individual column names with intial values of zero. Then iterate trhough the df giving a 1 to a house that has a feature."
      ]
    },
    {
      "cell_type": "code",
      "metadata": {
        "id": "kRMJobWRxUgH",
        "colab_type": "code",
        "colab": {
          "base_uri": "https://localhost:8080/",
          "height": 254
        },
        "outputId": "9053d102-17f4-4d89-e01a-39a482c063ad"
      },
      "source": [
        "# turn all features to column names\n",
        "for feature in all_features:\n",
        "  df[feature] = [0] * len(df)\n",
        " \n",
        "df.head(2)  "
      ],
      "execution_count": 17,
      "outputs": [
        {
          "output_type": "execute_result",
          "data": {
            "text/html": [
              "<div>\n",
              "<style scoped>\n",
              "    .dataframe tbody tr th:only-of-type {\n",
              "        vertical-align: middle;\n",
              "    }\n",
              "\n",
              "    .dataframe tbody tr th {\n",
              "        vertical-align: top;\n",
              "    }\n",
              "\n",
              "    .dataframe thead th {\n",
              "        text-align: right;\n",
              "    }\n",
              "</style>\n",
              "<table border=\"1\" class=\"dataframe\">\n",
              "  <thead>\n",
              "    <tr style=\"text-align: right;\">\n",
              "      <th></th>\n",
              "      <th>area</th>\n",
              "      <th>baths</th>\n",
              "      <th>beds</th>\n",
              "      <th>cars</th>\n",
              "      <th>description</th>\n",
              "      <th>externalFeatures</th>\n",
              "      <th>generalFeatures</th>\n",
              "      <th>internalFeatures</th>\n",
              "      <th>price</th>\n",
              "      <th>price_class</th>\n",
              "      <th>price_class_label</th>\n",
              "      <th>Wheel Chair Friendly</th>\n",
              "      <th>Scenic View</th>\n",
              "      <th>Sea View</th>\n",
              "      <th>Electricity Included</th>\n",
              "      <th>Garden</th>\n",
              "      <th>Water Included</th>\n",
              "      <th>Kitchen</th>\n",
              "      <th>Alarm</th>\n",
              "      <th>Lift Elevator</th>\n",
              "      <th>Bore Hole</th>\n",
              "      <th>Balcony</th>\n",
              "      <th>Electric Fence</th>\n",
              "      <th>Pets Allowed</th>\n",
              "      <th>Golf Course</th>\n",
              "      <th>Fence</th>\n",
              "      <th>Fibre Internet</th>\n",
              "      <th>Ensuite</th>\n",
              "      <th>Backup Generator</th>\n",
              "      <th>CCTV</th>\n",
              "      <th>Walk In Closet</th>\n",
              "      <th>Built in Cupboards</th>\n",
              "      <th>Aircon</th>\n",
              "    </tr>\n",
              "  </thead>\n",
              "  <tbody>\n",
              "    <tr>\n",
              "      <th>0</th>\n",
              "      <td>2428</td>\n",
              "      <td>8</td>\n",
              "      <td>6</td>\n",
              "      <td>0</td>\n",
              "      <td>\\n6 bedroom houseAll rooms en-suiteSitting on ...</td>\n",
              "      <td>[ Built in Cupboards ,  Ensuite ,  Kitchen ]</td>\n",
              "      <td>[ Balcony ,  Fence ,  Garden ]</td>\n",
              "      <td>[]</td>\n",
              "      <td>85000000</td>\n",
              "      <td>(75000000.0, 95000000.0]</td>\n",
              "      <td>Fair</td>\n",
              "      <td>0</td>\n",
              "      <td>0</td>\n",
              "      <td>0</td>\n",
              "      <td>0</td>\n",
              "      <td>0</td>\n",
              "      <td>0</td>\n",
              "      <td>0</td>\n",
              "      <td>0</td>\n",
              "      <td>0</td>\n",
              "      <td>0</td>\n",
              "      <td>0</td>\n",
              "      <td>0</td>\n",
              "      <td>0</td>\n",
              "      <td>0</td>\n",
              "      <td>0</td>\n",
              "      <td>0</td>\n",
              "      <td>0</td>\n",
              "      <td>0</td>\n",
              "      <td>0</td>\n",
              "      <td>0</td>\n",
              "      <td>0</td>\n",
              "      <td>0</td>\n",
              "    </tr>\n",
              "    <tr>\n",
              "      <th>1</th>\n",
              "      <td>6001</td>\n",
              "      <td>3</td>\n",
              "      <td>4</td>\n",
              "      <td>0</td>\n",
              "      <td>\\nUnbelievable!!Yet a unique house with charac...</td>\n",
              "      <td>[ Fence ,  Garden ]</td>\n",
              "      <td>[ Fibre Internet ,  Pets Allowed ]</td>\n",
              "      <td>[ Alarm ,  Built in Cupboards ,  Ensuite ,  Ki...</td>\n",
              "      <td>75000000</td>\n",
              "      <td>(-0.001, 75000000.0]</td>\n",
              "      <td>Low</td>\n",
              "      <td>0</td>\n",
              "      <td>0</td>\n",
              "      <td>0</td>\n",
              "      <td>0</td>\n",
              "      <td>0</td>\n",
              "      <td>0</td>\n",
              "      <td>0</td>\n",
              "      <td>0</td>\n",
              "      <td>0</td>\n",
              "      <td>0</td>\n",
              "      <td>0</td>\n",
              "      <td>0</td>\n",
              "      <td>0</td>\n",
              "      <td>0</td>\n",
              "      <td>0</td>\n",
              "      <td>0</td>\n",
              "      <td>0</td>\n",
              "      <td>0</td>\n",
              "      <td>0</td>\n",
              "      <td>0</td>\n",
              "      <td>0</td>\n",
              "      <td>0</td>\n",
              "    </tr>\n",
              "  </tbody>\n",
              "</table>\n",
              "</div>"
            ],
            "text/plain": [
              "   area  baths  beds  cars  ... CCTV Walk In Closet Built in Cupboards Aircon\n",
              "0  2428      8     6     0  ...    0              0                  0      0\n",
              "1  6001      3     4     0  ...    0              0                  0      0\n",
              "\n",
              "[2 rows x 33 columns]"
            ]
          },
          "metadata": {
            "tags": []
          },
          "execution_count": 17
        }
      ]
    },
    {
      "cell_type": "code",
      "metadata": {
        "id": "mMC5Pkg3DJ-k",
        "colab_type": "code",
        "colab": {
          "base_uri": "https://localhost:8080/",
          "height": 343
        },
        "outputId": "8e60675d-4e82-4515-ea93-55cb8d0b79ea"
      },
      "source": [
        "def populate_feature( j, text):\n",
        "   for i in range(len(text)):\n",
        "     a = text[i].strip()\n",
        "   \n",
        "     df[a][j] = 1\n",
        "\n",
        "for i in range(len(df)):\n",
        "  populate_feature(i ,df['generalFeatures'][i])\n",
        "  populate_feature(i , df['internalFeatures'][i])\n",
        "  populate_feature(i ,df['externalFeatures'][i])\n",
        "\n",
        "df.head(2)"
      ],
      "execution_count": 18,
      "outputs": [
        {
          "output_type": "stream",
          "text": [
            "/usr/local/lib/python3.6/dist-packages/ipykernel_launcher.py:5: SettingWithCopyWarning: \n",
            "A value is trying to be set on a copy of a slice from a DataFrame\n",
            "\n",
            "See the caveats in the documentation: https://pandas.pydata.org/pandas-docs/stable/user_guide/indexing.html#returning-a-view-versus-a-copy\n",
            "  \"\"\"\n"
          ],
          "name": "stderr"
        },
        {
          "output_type": "execute_result",
          "data": {
            "text/html": [
              "<div>\n",
              "<style scoped>\n",
              "    .dataframe tbody tr th:only-of-type {\n",
              "        vertical-align: middle;\n",
              "    }\n",
              "\n",
              "    .dataframe tbody tr th {\n",
              "        vertical-align: top;\n",
              "    }\n",
              "\n",
              "    .dataframe thead th {\n",
              "        text-align: right;\n",
              "    }\n",
              "</style>\n",
              "<table border=\"1\" class=\"dataframe\">\n",
              "  <thead>\n",
              "    <tr style=\"text-align: right;\">\n",
              "      <th></th>\n",
              "      <th>area</th>\n",
              "      <th>baths</th>\n",
              "      <th>beds</th>\n",
              "      <th>cars</th>\n",
              "      <th>description</th>\n",
              "      <th>externalFeatures</th>\n",
              "      <th>generalFeatures</th>\n",
              "      <th>internalFeatures</th>\n",
              "      <th>price</th>\n",
              "      <th>price_class</th>\n",
              "      <th>price_class_label</th>\n",
              "      <th>Wheel Chair Friendly</th>\n",
              "      <th>Scenic View</th>\n",
              "      <th>Sea View</th>\n",
              "      <th>Electricity Included</th>\n",
              "      <th>Garden</th>\n",
              "      <th>Water Included</th>\n",
              "      <th>Kitchen</th>\n",
              "      <th>Alarm</th>\n",
              "      <th>Lift Elevator</th>\n",
              "      <th>Bore Hole</th>\n",
              "      <th>Balcony</th>\n",
              "      <th>Electric Fence</th>\n",
              "      <th>Pets Allowed</th>\n",
              "      <th>Golf Course</th>\n",
              "      <th>Fence</th>\n",
              "      <th>Fibre Internet</th>\n",
              "      <th>Ensuite</th>\n",
              "      <th>Backup Generator</th>\n",
              "      <th>CCTV</th>\n",
              "      <th>Walk In Closet</th>\n",
              "      <th>Built in Cupboards</th>\n",
              "      <th>Aircon</th>\n",
              "    </tr>\n",
              "  </thead>\n",
              "  <tbody>\n",
              "    <tr>\n",
              "      <th>0</th>\n",
              "      <td>2428</td>\n",
              "      <td>8</td>\n",
              "      <td>6</td>\n",
              "      <td>0</td>\n",
              "      <td>\\n6 bedroom houseAll rooms en-suiteSitting on ...</td>\n",
              "      <td>[ Built in Cupboards ,  Ensuite ,  Kitchen ]</td>\n",
              "      <td>[ Balcony ,  Fence ,  Garden ]</td>\n",
              "      <td>[]</td>\n",
              "      <td>85000000</td>\n",
              "      <td>(75000000.0, 95000000.0]</td>\n",
              "      <td>Fair</td>\n",
              "      <td>0</td>\n",
              "      <td>0</td>\n",
              "      <td>0</td>\n",
              "      <td>0</td>\n",
              "      <td>1</td>\n",
              "      <td>0</td>\n",
              "      <td>1</td>\n",
              "      <td>0</td>\n",
              "      <td>0</td>\n",
              "      <td>0</td>\n",
              "      <td>1</td>\n",
              "      <td>0</td>\n",
              "      <td>0</td>\n",
              "      <td>0</td>\n",
              "      <td>1</td>\n",
              "      <td>0</td>\n",
              "      <td>1</td>\n",
              "      <td>0</td>\n",
              "      <td>0</td>\n",
              "      <td>0</td>\n",
              "      <td>1</td>\n",
              "      <td>0</td>\n",
              "    </tr>\n",
              "    <tr>\n",
              "      <th>1</th>\n",
              "      <td>6001</td>\n",
              "      <td>3</td>\n",
              "      <td>4</td>\n",
              "      <td>0</td>\n",
              "      <td>\\nUnbelievable!!Yet a unique house with charac...</td>\n",
              "      <td>[ Fence ,  Garden ]</td>\n",
              "      <td>[ Fibre Internet ,  Pets Allowed ]</td>\n",
              "      <td>[ Alarm ,  Built in Cupboards ,  Ensuite ,  Ki...</td>\n",
              "      <td>75000000</td>\n",
              "      <td>(-0.001, 75000000.0]</td>\n",
              "      <td>Low</td>\n",
              "      <td>0</td>\n",
              "      <td>0</td>\n",
              "      <td>0</td>\n",
              "      <td>0</td>\n",
              "      <td>1</td>\n",
              "      <td>0</td>\n",
              "      <td>1</td>\n",
              "      <td>1</td>\n",
              "      <td>0</td>\n",
              "      <td>0</td>\n",
              "      <td>0</td>\n",
              "      <td>0</td>\n",
              "      <td>1</td>\n",
              "      <td>0</td>\n",
              "      <td>1</td>\n",
              "      <td>1</td>\n",
              "      <td>1</td>\n",
              "      <td>0</td>\n",
              "      <td>0</td>\n",
              "      <td>1</td>\n",
              "      <td>1</td>\n",
              "      <td>0</td>\n",
              "    </tr>\n",
              "  </tbody>\n",
              "</table>\n",
              "</div>"
            ],
            "text/plain": [
              "   area  baths  beds  cars  ... CCTV Walk In Closet Built in Cupboards Aircon\n",
              "0  2428      8     6     0  ...    0              0                  1      0\n",
              "1  6001      3     4     0  ...    0              1                  1      0\n",
              "\n",
              "[2 rows x 33 columns]"
            ]
          },
          "metadata": {
            "tags": []
          },
          "execution_count": 18
        }
      ]
    }
  ]
}
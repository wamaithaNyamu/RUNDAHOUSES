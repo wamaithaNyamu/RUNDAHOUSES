{
  "nbformat": 4,
  "nbformat_minor": 0,
  "metadata": {
    "colab": {
      "name": "Runda Houses",
      "provenance": [],
      "collapsed_sections": [],
      "authorship_tag": "ABX9TyOjGEd8I9ODtbmizbR0AtbC",
      "include_colab_link": true
    },
    "kernelspec": {
      "name": "python3",
      "display_name": "Python 3"
    }
  },
  "cells": [
    {
      "cell_type": "markdown",
      "metadata": {
        "id": "view-in-github",
        "colab_type": "text"
      },
      "source": [
        "<a href=\"https://colab.research.google.com/github/wamaithaNyamu/RUNDAHOUSES/blob/master/Runda_Houses.ipynb\" target=\"_parent\"><img src=\"https://colab.research.google.com/assets/colab-badge.svg\" alt=\"Open In Colab\"/></a>"
      ]
    },
    {
      "cell_type": "markdown",
      "metadata": {
        "id": "-uwyxTZ-DzKV",
        "colab_type": "text"
      },
      "source": [
        "\n",
        "# INTRODUCTION\n",
        "\n",
        "Runda is a surburb in the heart of Nairobi. Its an estate of the who is who in the country. Due to the status quo of the class of citizens that live here, it is exepected that the price of land and houses are off the roof (well, from the common mwananchis perspective anyway). This notebook walks through investigating housing prices in Runda. The data has been scrapped from [BuyRentKenya](https://www.buyrentkenya.com/houses-for-sale/westlands/runda?page=1). Download the csv from [here]() .Find a step by step tutorial for the webscrapping [here]().\n",
        "\n"
      ]
    },
    {
      "cell_type": "markdown",
      "metadata": {
        "id": "KsE1dYOUFKQ0",
        "colab_type": "text"
      },
      "source": [
        "# LOAD THE DATA\n",
        "\n",
        "First import the necessary libraries"
      ]
    },
    {
      "cell_type": "code",
      "metadata": {
        "id": "nYNshciTGU1B",
        "colab_type": "code",
        "colab": {
          "base_uri": "https://localhost:8080/",
          "height": 73
        },
        "outputId": "568d95e0-3177-4c01-9a08-e4d04210132e"
      },
      "source": [
        "# import necessary libraries\n",
        "import pandas as pd\n",
        "import numpy as np\n",
        "import matplotlib.pyplot as plt\n",
        "import seaborn as sns\n",
        "import re\n"
      ],
      "execution_count": null,
      "outputs": [
        {
          "output_type": "stream",
          "text": [
            "/usr/local/lib/python3.6/dist-packages/statsmodels/tools/_testing.py:19: FutureWarning: pandas.util.testing is deprecated. Use the functions in the public API at pandas.testing instead.\n",
            "  import pandas.util.testing as tm\n"
          ],
          "name": "stderr"
        }
      ]
    },
    {
      "cell_type": "markdown",
      "metadata": {
        "id": "DMD_-KRcGtqI",
        "colab_type": "text"
      },
      "source": [
        "We load the data from the csv file runda_houses.csv and convert it to a dataframe"
      ]
    },
    {
      "cell_type": "code",
      "metadata": {
        "id": "HZiYVNw7Gl1S",
        "colab_type": "code",
        "colab": {
          "base_uri": "https://localhost:8080/",
          "height": 219
        },
        "outputId": "241f22f3-d923-4652-e6bc-3064447fa3b1"
      },
      "source": [
        "df = pd.read_csv('/content/runda-houses.csv')\n",
        "df.head(2)"
      ],
      "execution_count": null,
      "outputs": [
        {
          "output_type": "execute_result",
          "data": {
            "text/html": [
              "<div>\n",
              "<style scoped>\n",
              "    .dataframe tbody tr th:only-of-type {\n",
              "        vertical-align: middle;\n",
              "    }\n",
              "\n",
              "    .dataframe tbody tr th {\n",
              "        vertical-align: top;\n",
              "    }\n",
              "\n",
              "    .dataframe thead th {\n",
              "        text-align: right;\n",
              "    }\n",
              "</style>\n",
              "<table border=\"1\" class=\"dataframe\">\n",
              "  <thead>\n",
              "    <tr style=\"text-align: right;\">\n",
              "      <th></th>\n",
              "      <th>_id</th>\n",
              "      <th>url</th>\n",
              "      <th>__v</th>\n",
              "      <th>area</th>\n",
              "      <th>baths</th>\n",
              "      <th>beds</th>\n",
              "      <th>cars</th>\n",
              "      <th>description</th>\n",
              "      <th>externalFeatures</th>\n",
              "      <th>generalFeatures</th>\n",
              "      <th>internalFeatures</th>\n",
              "      <th>price</th>\n",
              "    </tr>\n",
              "  </thead>\n",
              "  <tbody>\n",
              "    <tr>\n",
              "      <th>0</th>\n",
              "      <td>5f5d1a3e1e441dbaa36b1273</td>\n",
              "      <td>https://www.buyrentkenya.com/listings/6-bed-ho...</td>\n",
              "      <td>0</td>\n",
              "      <td>2428</td>\n",
              "      <td>8</td>\n",
              "      <td>6</td>\n",
              "      <td>0</td>\n",
              "      <td>\\n6 bedroom houseAll rooms en-suiteSitting on ...</td>\n",
              "      <td>[' Built in Cupboards ', ' Ensuite ', ' Kitche...</td>\n",
              "      <td>[' Balcony ', ' Fence ', ' Garden ']</td>\n",
              "      <td>[]</td>\n",
              "      <td>85000000</td>\n",
              "    </tr>\n",
              "    <tr>\n",
              "      <th>1</th>\n",
              "      <td>5f5d1a3f1e441dbaa36b132c</td>\n",
              "      <td>https://www.buyrentkenya.com/listings/4-bed-ho...</td>\n",
              "      <td>0</td>\n",
              "      <td>6001</td>\n",
              "      <td>3</td>\n",
              "      <td>4</td>\n",
              "      <td>0</td>\n",
              "      <td>\\nUnbelievable!!Yet a unique house with charac...</td>\n",
              "      <td>[' Fence ', ' Garden ']</td>\n",
              "      <td>[' Fibre Internet ', ' Pets Allowed ']</td>\n",
              "      <td>[' Alarm ', ' Built in Cupboards ', ' Ensuite ...</td>\n",
              "      <td>75000000</td>\n",
              "    </tr>\n",
              "  </tbody>\n",
              "</table>\n",
              "</div>"
            ],
            "text/plain": [
              "                        _id  ...     price\n",
              "0  5f5d1a3e1e441dbaa36b1273  ...  85000000\n",
              "1  5f5d1a3f1e441dbaa36b132c  ...  75000000\n",
              "\n",
              "[2 rows x 12 columns]"
            ]
          },
          "metadata": {
            "tags": []
          },
          "execution_count": 2
        }
      ]
    },
    {
      "cell_type": "code",
      "metadata": {
        "id": "y_A58v9NHCOr",
        "colab_type": "code",
        "colab": {
          "base_uri": "https://localhost:8080/",
          "height": 254
        },
        "outputId": "e9d33fea-1f28-4eda-8852-6ec4c0b4b84a"
      },
      "source": [
        "df.tail(2)"
      ],
      "execution_count": null,
      "outputs": [
        {
          "output_type": "execute_result",
          "data": {
            "text/html": [
              "<div>\n",
              "<style scoped>\n",
              "    .dataframe tbody tr th:only-of-type {\n",
              "        vertical-align: middle;\n",
              "    }\n",
              "\n",
              "    .dataframe tbody tr th {\n",
              "        vertical-align: top;\n",
              "    }\n",
              "\n",
              "    .dataframe thead th {\n",
              "        text-align: right;\n",
              "    }\n",
              "</style>\n",
              "<table border=\"1\" class=\"dataframe\">\n",
              "  <thead>\n",
              "    <tr style=\"text-align: right;\">\n",
              "      <th></th>\n",
              "      <th>_id</th>\n",
              "      <th>url</th>\n",
              "      <th>__v</th>\n",
              "      <th>area</th>\n",
              "      <th>baths</th>\n",
              "      <th>beds</th>\n",
              "      <th>cars</th>\n",
              "      <th>description</th>\n",
              "      <th>externalFeatures</th>\n",
              "      <th>generalFeatures</th>\n",
              "      <th>internalFeatures</th>\n",
              "      <th>price</th>\n",
              "    </tr>\n",
              "  </thead>\n",
              "  <tbody>\n",
              "    <tr>\n",
              "      <th>140</th>\n",
              "      <td>5f5d202b1e441dbaa36e9b15</td>\n",
              "      <td>https://www.buyrentkenya.com/listings/5-bed-ho...</td>\n",
              "      <td>0</td>\n",
              "      <td>0</td>\n",
              "      <td>0</td>\n",
              "      <td>5</td>\n",
              "      <td>0</td>\n",
              "      <td>\\nIts a magnificent 5bdrm unfurnished ambassad...</td>\n",
              "      <td>[]</td>\n",
              "      <td>[]</td>\n",
              "      <td>[]</td>\n",
              "      <td>140000000</td>\n",
              "    </tr>\n",
              "    <tr>\n",
              "      <th>141</th>\n",
              "      <td>5f5d202c1e441dbaa36e9b93</td>\n",
              "      <td>https://www.buyrentkenya.com/listings/6-bed-to...</td>\n",
              "      <td>0</td>\n",
              "      <td>0</td>\n",
              "      <td>7</td>\n",
              "      <td>6</td>\n",
              "      <td>0</td>\n",
              "      <td>\\n6 Bedroom Ambassadorial House for saleAll en...</td>\n",
              "      <td>[]</td>\n",
              "      <td>[]</td>\n",
              "      <td>[]</td>\n",
              "      <td>0</td>\n",
              "    </tr>\n",
              "  </tbody>\n",
              "</table>\n",
              "</div>"
            ],
            "text/plain": [
              "                          _id  ...      price\n",
              "140  5f5d202b1e441dbaa36e9b15  ...  140000000\n",
              "141  5f5d202c1e441dbaa36e9b93  ...          0\n",
              "\n",
              "[2 rows x 12 columns]"
            ]
          },
          "metadata": {
            "tags": []
          },
          "execution_count": 3
        }
      ]
    },
    {
      "cell_type": "markdown",
      "metadata": {
        "id": "_O3WthM8FST7",
        "colab_type": "text"
      },
      "source": [
        "# DATA CLEANING"
      ]
    },
    {
      "cell_type": "markdown",
      "metadata": {
        "id": "YW2e7GcmG6PB",
        "colab_type": "text"
      },
      "source": [
        "The data needs alot of cleaning inorder to be useful for analysis. Some values are NaN while others are None. The features are also in form of lists and some are also missing. "
      ]
    },
    {
      "cell_type": "markdown",
      "metadata": {
        "id": "ub3OBVJ0ILWP",
        "colab_type": "text"
      },
      "source": [
        "### Drop unnecesaary columns\n",
        "\n",
        "We do not need the url , _id, and the _v columns so we will drop them for they only add clutter to he data we have"
      ]
    },
    {
      "cell_type": "code",
      "metadata": {
        "id": "2Px5Nff-HrBb",
        "colab_type": "code",
        "colab": {
          "base_uri": "https://localhost:8080/",
          "height": 219
        },
        "outputId": "337a66c6-29ac-444e-e094-90bfe9465e94"
      },
      "source": [
        "# drop columns\n",
        "\n",
        "df =df.drop(['_id', 'url', '__v'], axis=1)\n",
        "df.head(2)"
      ],
      "execution_count": null,
      "outputs": [
        {
          "output_type": "execute_result",
          "data": {
            "text/html": [
              "<div>\n",
              "<style scoped>\n",
              "    .dataframe tbody tr th:only-of-type {\n",
              "        vertical-align: middle;\n",
              "    }\n",
              "\n",
              "    .dataframe tbody tr th {\n",
              "        vertical-align: top;\n",
              "    }\n",
              "\n",
              "    .dataframe thead th {\n",
              "        text-align: right;\n",
              "    }\n",
              "</style>\n",
              "<table border=\"1\" class=\"dataframe\">\n",
              "  <thead>\n",
              "    <tr style=\"text-align: right;\">\n",
              "      <th></th>\n",
              "      <th>area</th>\n",
              "      <th>baths</th>\n",
              "      <th>beds</th>\n",
              "      <th>cars</th>\n",
              "      <th>description</th>\n",
              "      <th>externalFeatures</th>\n",
              "      <th>generalFeatures</th>\n",
              "      <th>internalFeatures</th>\n",
              "      <th>price</th>\n",
              "    </tr>\n",
              "  </thead>\n",
              "  <tbody>\n",
              "    <tr>\n",
              "      <th>0</th>\n",
              "      <td>2428</td>\n",
              "      <td>8</td>\n",
              "      <td>6</td>\n",
              "      <td>0</td>\n",
              "      <td>\\n6 bedroom houseAll rooms en-suiteSitting on ...</td>\n",
              "      <td>[' Built in Cupboards ', ' Ensuite ', ' Kitche...</td>\n",
              "      <td>[' Balcony ', ' Fence ', ' Garden ']</td>\n",
              "      <td>[]</td>\n",
              "      <td>85000000</td>\n",
              "    </tr>\n",
              "    <tr>\n",
              "      <th>1</th>\n",
              "      <td>6001</td>\n",
              "      <td>3</td>\n",
              "      <td>4</td>\n",
              "      <td>0</td>\n",
              "      <td>\\nUnbelievable!!Yet a unique house with charac...</td>\n",
              "      <td>[' Fence ', ' Garden ']</td>\n",
              "      <td>[' Fibre Internet ', ' Pets Allowed ']</td>\n",
              "      <td>[' Alarm ', ' Built in Cupboards ', ' Ensuite ...</td>\n",
              "      <td>75000000</td>\n",
              "    </tr>\n",
              "  </tbody>\n",
              "</table>\n",
              "</div>"
            ],
            "text/plain": [
              "   area  baths  ...                                   internalFeatures     price\n",
              "0  2428      8  ...                                                 []  85000000\n",
              "1  6001      3  ...  [' Alarm ', ' Built in Cupboards ', ' Ensuite ...  75000000\n",
              "\n",
              "[2 rows x 9 columns]"
            ]
          },
          "metadata": {
            "tags": []
          },
          "execution_count": 4
        }
      ]
    },
    {
      "cell_type": "code",
      "metadata": {
        "id": "9DRJ6RS_Jh0I",
        "colab_type": "code",
        "colab": {
          "base_uri": "https://localhost:8080/",
          "height": 196
        },
        "outputId": "f56f9bd4-183b-4b87-cd3a-38ced8e10a65"
      },
      "source": [
        "df.isna().sum()"
      ],
      "execution_count": null,
      "outputs": [
        {
          "output_type": "execute_result",
          "data": {
            "text/plain": [
              "area                0\n",
              "baths               0\n",
              "beds                0\n",
              "cars                0\n",
              "description         0\n",
              "externalFeatures    0\n",
              "generalFeatures     0\n",
              "internalFeatures    0\n",
              "price               0\n",
              "dtype: int64"
            ]
          },
          "metadata": {
            "tags": []
          },
          "execution_count": 5
        }
      ]
    },
    {
      "cell_type": "code",
      "metadata": {
        "id": "hUmWy1oPFUXt",
        "colab_type": "code",
        "colab": {
          "base_uri": "https://localhost:8080/",
          "height": 300
        },
        "outputId": "d61dc37b-25ab-4870-f3aa-3495159fe7f0"
      },
      "source": [
        "df.describe()"
      ],
      "execution_count": null,
      "outputs": [
        {
          "output_type": "execute_result",
          "data": {
            "text/html": [
              "<div>\n",
              "<style scoped>\n",
              "    .dataframe tbody tr th:only-of-type {\n",
              "        vertical-align: middle;\n",
              "    }\n",
              "\n",
              "    .dataframe tbody tr th {\n",
              "        vertical-align: top;\n",
              "    }\n",
              "\n",
              "    .dataframe thead th {\n",
              "        text-align: right;\n",
              "    }\n",
              "</style>\n",
              "<table border=\"1\" class=\"dataframe\">\n",
              "  <thead>\n",
              "    <tr style=\"text-align: right;\">\n",
              "      <th></th>\n",
              "      <th>area</th>\n",
              "      <th>baths</th>\n",
              "      <th>beds</th>\n",
              "      <th>cars</th>\n",
              "      <th>price</th>\n",
              "    </tr>\n",
              "  </thead>\n",
              "  <tbody>\n",
              "    <tr>\n",
              "      <th>count</th>\n",
              "      <td>142.000000</td>\n",
              "      <td>142.000000</td>\n",
              "      <td>142.000000</td>\n",
              "      <td>142.000000</td>\n",
              "      <td>1.420000e+02</td>\n",
              "    </tr>\n",
              "    <tr>\n",
              "      <th>mean</th>\n",
              "      <td>3313.683099</td>\n",
              "      <td>4.612676</td>\n",
              "      <td>4.964789</td>\n",
              "      <td>0.464789</td>\n",
              "      <td>1.106027e+08</td>\n",
              "    </tr>\n",
              "    <tr>\n",
              "      <th>std</th>\n",
              "      <td>25400.116125</td>\n",
              "      <td>2.172845</td>\n",
              "      <td>1.013469</td>\n",
              "      <td>1.335080</td>\n",
              "      <td>6.002568e+07</td>\n",
              "    </tr>\n",
              "    <tr>\n",
              "      <th>min</th>\n",
              "      <td>0.000000</td>\n",
              "      <td>0.000000</td>\n",
              "      <td>3.000000</td>\n",
              "      <td>0.000000</td>\n",
              "      <td>0.000000e+00</td>\n",
              "    </tr>\n",
              "    <tr>\n",
              "      <th>25%</th>\n",
              "      <td>0.000000</td>\n",
              "      <td>4.000000</td>\n",
              "      <td>4.000000</td>\n",
              "      <td>0.000000</td>\n",
              "      <td>7.500000e+07</td>\n",
              "    </tr>\n",
              "    <tr>\n",
              "      <th>50%</th>\n",
              "      <td>1113.000000</td>\n",
              "      <td>5.000000</td>\n",
              "      <td>5.000000</td>\n",
              "      <td>0.000000</td>\n",
              "      <td>9.500000e+07</td>\n",
              "    </tr>\n",
              "    <tr>\n",
              "      <th>75%</th>\n",
              "      <td>2024.000000</td>\n",
              "      <td>6.000000</td>\n",
              "      <td>5.000000</td>\n",
              "      <td>0.000000</td>\n",
              "      <td>1.500000e+08</td>\n",
              "    </tr>\n",
              "    <tr>\n",
              "      <th>max</th>\n",
              "      <td>303525.000000</td>\n",
              "      <td>9.000000</td>\n",
              "      <td>8.000000</td>\n",
              "      <td>10.000000</td>\n",
              "      <td>2.600000e+08</td>\n",
              "    </tr>\n",
              "  </tbody>\n",
              "</table>\n",
              "</div>"
            ],
            "text/plain": [
              "                area       baths        beds        cars         price\n",
              "count     142.000000  142.000000  142.000000  142.000000  1.420000e+02\n",
              "mean     3313.683099    4.612676    4.964789    0.464789  1.106027e+08\n",
              "std     25400.116125    2.172845    1.013469    1.335080  6.002568e+07\n",
              "min         0.000000    0.000000    3.000000    0.000000  0.000000e+00\n",
              "25%         0.000000    4.000000    4.000000    0.000000  7.500000e+07\n",
              "50%      1113.000000    5.000000    5.000000    0.000000  9.500000e+07\n",
              "75%      2024.000000    6.000000    5.000000    0.000000  1.500000e+08\n",
              "max    303525.000000    9.000000    8.000000   10.000000  2.600000e+08"
            ]
          },
          "metadata": {
            "tags": []
          },
          "execution_count": 6
        }
      ]
    },
    {
      "cell_type": "markdown",
      "metadata": {
        "id": "TsQ2lK8z7TPM",
        "colab_type": "text"
      },
      "source": [
        "The dataset has a lot of missing values. We need to work with data that is complete or drop those that have few missing values. We check for zeros per column. In our webscraping we assigned a zero to any feature that was not listed. However, the missing data can be most likely found in the  description. "
      ]
    },
    {
      "cell_type": "code",
      "metadata": {
        "id": "CD0oHmWK7lE2",
        "colab_type": "code",
        "colab": {
          "base_uri": "https://localhost:8080/",
          "height": 196
        },
        "outputId": "dc871776-fe13-447f-cdad-a4c7ca830ccc"
      },
      "source": [
        "# Get number if zeros per column\n",
        "df.isin([0]).sum()"
      ],
      "execution_count": null,
      "outputs": [
        {
          "output_type": "execute_result",
          "data": {
            "text/plain": [
              "area                 56\n",
              "baths                19\n",
              "beds                  0\n",
              "cars                120\n",
              "description           0\n",
              "externalFeatures      0\n",
              "generalFeatures       0\n",
              "internalFeatures      0\n",
              "price                 3\n",
              "dtype: int64"
            ]
          },
          "metadata": {
            "tags": []
          },
          "execution_count": 7
        }
      ]
    },
    {
      "cell_type": "markdown",
      "metadata": {
        "id": "pbABM4T69frN",
        "colab_type": "text"
      },
      "source": [
        "The cars column seems to have the most missing values. Followed by area. The price and beds are the most useable in the dataset. A look at the sixth home in the df . The area was not given by the agency but it can be found in the description."
      ]
    },
    {
      "cell_type": "code",
      "metadata": {
        "id": "j7vqx6ik-DmP",
        "colab_type": "code",
        "colab": {
          "base_uri": "https://localhost:8080/",
          "height": 196
        },
        "outputId": "8facf7bf-f3df-4709-ff9a-70a8d14e10e1"
      },
      "source": [
        "# Make a df with only the sixth house\n",
        "\n",
        "df1 = df.iloc[5,].copy() \n",
        "df1"
      ],
      "execution_count": null,
      "outputs": [
        {
          "output_type": "execute_result",
          "data": {
            "text/plain": [
              "area                                                             2023\n",
              "baths                                                               8\n",
              "beds                                                                8\n",
              "cars                                                                0\n",
              "description         \\nThis is a newly built prime property located...\n",
              "externalFeatures    [' Balcony ', ' Bore Hole ', ' Electric Fence ...\n",
              "generalFeatures     [' Backup Generator ', ' CCTV ', ' Electricity...\n",
              "internalFeatures    [' Aircon ', ' Alarm ', ' Built in Cupboards '...\n",
              "price                                                       150000000\n",
              "Name: 5, dtype: object"
            ]
          },
          "metadata": {
            "tags": []
          },
          "execution_count": 8
        }
      ]
    },
    {
      "cell_type": "code",
      "metadata": {
        "id": "6evS8Ex-9uli",
        "colab_type": "code",
        "colab": {
          "base_uri": "https://localhost:8080/",
          "height": 89
        },
        "outputId": "8368bda6-8b8d-4db8-9626-76540b7d2ee5"
      },
      "source": [
        "# The area can be seen in the description\n",
        "\n",
        "df1['description']"
      ],
      "execution_count": null,
      "outputs": [
        {
          "output_type": "execute_result",
          "data": {
            "application/vnd.google.colaboratory.intrinsic+json": {
              "type": "string"
            },
            "text/plain": [
              "\"\\nThis is a newly built prime property located in Runda estate. It's eight bedrooms all ensuite house modern home. Situated on a half an acre. Spacious rooms and fitted with modern amenities and facilities. Back up generator, locable garage, DSQ and swimming pool. Security systems enhanced and electrified fence all round. For more information kindly contact us.\\n\""
            ]
          },
          "metadata": {
            "tags": []
          },
          "execution_count": 9
        }
      ]
    },
    {
      "cell_type": "markdown",
      "metadata": {
        "id": "MT1XCZtW97Cu",
        "colab_type": "text"
      },
      "source": [
        "From the above, you can see that the area is in the description. As such it warrants extraction of missing values in the dataset."
      ]
    },
    {
      "cell_type": "markdown",
      "metadata": {
        "id": "b6dcGnOwI2ks",
        "colab_type": "text"
      },
      "source": [
        "### Cleaning the description\n",
        "\n",
        "The description has some elements that do not add to the importance of the tesxt. We will remove the following as part of our preprocessing:\n",
        "\n",
        "*  paragraph numbers\n",
        "* trailing new line (\\n).\n",
        "* apostrophes\n",
        "* commas\n",
        "* hyphens\n",
        "* add space between words with caps"
      ]
    },
    {
      "cell_type": "code",
      "metadata": {
        "id": "71gXbS9XFZHy",
        "colab_type": "code",
        "colab": {}
      },
      "source": [
        "# cleaning\n",
        "def clean_description(text):\n",
        "  \"\"\"\n",
        "  args text {String} the description of the current house\n",
        "  return text {String} returns a string of the preprocessed description\n",
        "  \n",
        "  \"\"\"\n",
        "  pattern = re.compile(r'((?<=[^\\W[A-Z])[A-Z]|(?<=\\S)[A-Z](?=[a-z]))')\n",
        "  # removing paragraph numbers\n",
        "  text = re.sub('[0-9]+.\\t','',str(text))\n",
        "  # removing new line \n",
        "  text = re.sub('\\n ','',str(text))\n",
        "\n",
        "  text = re.sub('\\\\n',' ',str(text))\n",
        "  # removing apostrophes\n",
        "  text = re.sub(\"'s\",'',str(text))\n",
        "  # removing commas\n",
        "  text = re.sub(\",\",'',str(text))\n",
        "  # remove astreisk\n",
        "  # text = re.sub(\"*\",'',str(text))\n",
        "  # removing hyphens\n",
        "  text = re.sub(\"-\",' ',str(text))\n",
        "  text = re.sub(\"— \",'',str(text))\n",
        "  # add space between words with caps\n",
        "  text = pattern.sub(r' \\1', str(text))\n",
        " \n",
        "\n",
        "  \n",
        "  \n",
        "  return text"
      ],
      "execution_count": null,
      "outputs": []
    },
    {
      "cell_type": "markdown",
      "metadata": {
        "id": "s5_c6s75KR85",
        "colab_type": "text"
      },
      "source": [
        "Clean the description in the dataframe and store it as clean_description"
      ]
    },
    {
      "cell_type": "code",
      "metadata": {
        "id": "7-y7zdzuKWKk",
        "colab_type": "code",
        "colab": {}
      },
      "source": [
        "df['clean_description'] = df['description'].apply(clean_description)\n"
      ],
      "execution_count": null,
      "outputs": []
    },
    {
      "cell_type": "code",
      "metadata": {
        "id": "PKOWc7_eLOtX",
        "colab_type": "code",
        "colab": {
          "base_uri": "https://localhost:8080/",
          "height": 219
        },
        "outputId": "0235e015-bf38-49cb-efae-4ceb3ff6f40c"
      },
      "source": [
        "df.head(2)"
      ],
      "execution_count": null,
      "outputs": [
        {
          "output_type": "execute_result",
          "data": {
            "text/html": [
              "<div>\n",
              "<style scoped>\n",
              "    .dataframe tbody tr th:only-of-type {\n",
              "        vertical-align: middle;\n",
              "    }\n",
              "\n",
              "    .dataframe tbody tr th {\n",
              "        vertical-align: top;\n",
              "    }\n",
              "\n",
              "    .dataframe thead th {\n",
              "        text-align: right;\n",
              "    }\n",
              "</style>\n",
              "<table border=\"1\" class=\"dataframe\">\n",
              "  <thead>\n",
              "    <tr style=\"text-align: right;\">\n",
              "      <th></th>\n",
              "      <th>area</th>\n",
              "      <th>baths</th>\n",
              "      <th>beds</th>\n",
              "      <th>cars</th>\n",
              "      <th>description</th>\n",
              "      <th>externalFeatures</th>\n",
              "      <th>generalFeatures</th>\n",
              "      <th>internalFeatures</th>\n",
              "      <th>price</th>\n",
              "      <th>clean_description</th>\n",
              "    </tr>\n",
              "  </thead>\n",
              "  <tbody>\n",
              "    <tr>\n",
              "      <th>0</th>\n",
              "      <td>2428</td>\n",
              "      <td>8</td>\n",
              "      <td>6</td>\n",
              "      <td>0</td>\n",
              "      <td>\\n6 bedroom houseAll rooms en-suiteSitting on ...</td>\n",
              "      <td>[' Built in Cupboards ', ' Ensuite ', ' Kitche...</td>\n",
              "      <td>[' Balcony ', ' Fence ', ' Garden ']</td>\n",
              "      <td>[]</td>\n",
              "      <td>85000000</td>\n",
              "      <td>6 bedroom house All rooms en suite Sitting on...</td>\n",
              "    </tr>\n",
              "    <tr>\n",
              "      <th>1</th>\n",
              "      <td>6001</td>\n",
              "      <td>3</td>\n",
              "      <td>4</td>\n",
              "      <td>0</td>\n",
              "      <td>\\nUnbelievable!!Yet a unique house with charac...</td>\n",
              "      <td>[' Fence ', ' Garden ']</td>\n",
              "      <td>[' Fibre Internet ', ' Pets Allowed ']</td>\n",
              "      <td>[' Alarm ', ' Built in Cupboards ', ' Ensuite ...</td>\n",
              "      <td>75000000</td>\n",
              "      <td>Unbelievable!! Yet a unique house with charac...</td>\n",
              "    </tr>\n",
              "  </tbody>\n",
              "</table>\n",
              "</div>"
            ],
            "text/plain": [
              "   area  baths  ...     price                                  clean_description\n",
              "0  2428      8  ...  85000000   6 bedroom house All rooms en suite Sitting on...\n",
              "1  6001      3  ...  75000000   Unbelievable!! Yet a unique house with charac...\n",
              "\n",
              "[2 rows x 10 columns]"
            ]
          },
          "metadata": {
            "tags": []
          },
          "execution_count": 12
        }
      ]
    },
    {
      "cell_type": "code",
      "metadata": {
        "id": "Mf42NujKO3kX",
        "colab_type": "code",
        "colab": {
          "base_uri": "https://localhost:8080/",
          "height": 89
        },
        "outputId": "00af75be-92a2-4561-d4d4-49a69d8a6f18"
      },
      "source": [
        "df['clean_description'][15]"
      ],
      "execution_count": null,
      "outputs": [
        {
          "output_type": "execute_result",
          "data": {
            "application/vnd.google.colaboratory.intrinsic+json": {
              "type": "string"
            },
            "text/plain": [
              "' RUNDA Selling this magnificent 6 bedroom Palatial home with all bedrooms ensuite plus Servant quarter brand new has TV roomfamily room gymwalk in closet for the master bedroom steam bathsauna in the Quiet and Leafy heart of Runda. Sitting on half acre with swimming pool Asking price is kes 210million slightly negotiable. Contact us on show me or show me for more information. '"
            ]
          },
          "metadata": {
            "tags": []
          },
          "execution_count": 13
        }
      ]
    },
    {
      "cell_type": "markdown",
      "metadata": {
        "id": "G9zY4YeiN2Fs",
        "colab_type": "text"
      },
      "source": [
        "The clean description also contains text in shortform such as No. to mean number, we need to replace this so as to have a consistent and correct parts of speech tag."
      ]
    },
    {
      "cell_type": "code",
      "metadata": {
        "id": "lxjAL1PeSfrs",
        "colab_type": "code",
        "colab": {}
      },
      "source": [
        "def replace_shortforms(text):\n",
        "  \"\"\"\n",
        "  args text {String} the description of the current house\n",
        "  return text {String} returns a string of the preprocessed description after shortforms have been replaced\n",
        "  \n",
        "  \"\"\"\n",
        "  text = text.replace('N0.', ' ')\n",
        "  text = text.replace(\"No.\", \" \")\n",
        "  text = text.replace('no.', ' ')\n",
        "  text = text.replace('NO.', '')\n",
        "\n",
        "  return text"
      ],
      "execution_count": null,
      "outputs": []
    },
    {
      "cell_type": "code",
      "metadata": {
        "id": "8QpGL0G5TLdk",
        "colab_type": "code",
        "colab": {}
      },
      "source": [
        "df['clean_description'] = df['clean_description'].apply(replace_shortforms)"
      ],
      "execution_count": null,
      "outputs": []
    },
    {
      "cell_type": "code",
      "metadata": {
        "id": "b4PdVWq_TQ3k",
        "colab_type": "code",
        "colab": {
          "base_uri": "https://localhost:8080/",
          "height": 161
        },
        "outputId": "bb3c3844-a69f-4db8-f726-d54e3805fcbf"
      },
      "source": [
        "df['clean_description'][1]"
      ],
      "execution_count": null,
      "outputs": [
        {
          "output_type": "execute_result",
          "data": {
            "application/vnd.google.colaboratory.intrinsic+json": {
              "type": "string"
            },
            "text/plain": [
              "' Unbelievable!! Yet a unique house with character in the after lush of Runda area. It comes with 4   bedrooms 2  ensuite in a quiet neighborhood. Salient features include: Entrance Lounge with functional fire place Dining area  Common cloak room Guest ensuite bedroom with ample ward robesshowersink basin and dressing mirror FIRST FLOOR LEVEL: 2 sharing bedrooms with ample wardrobesshowersink basin and dressing mirror Master ensuite bedroom with ample walk in closetscubicle showersink basin and dressing mirror EXTERNAL FEATURES: Dhobi area Manicured lawn with talk trees and branches  Secured by perimeter wall Sufficient water tanks for storage This is a gold minea place to be for few investors with high value returns.GRAB OPPORTUNITY!! '"
            ]
          },
          "metadata": {
            "tags": []
          },
          "execution_count": 16
        }
      ]
    },
    {
      "cell_type": "markdown",
      "metadata": {
        "id": "ze0_-29fcf4x",
        "colab_type": "text"
      },
      "source": [
        "We split the description into sentences"
      ]
    },
    {
      "cell_type": "code",
      "metadata": {
        "id": "GCmoV3X1brcF",
        "colab_type": "code",
        "colab": {}
      },
      "source": [
        "def split_to_sentence(text):\n",
        "  # split sentences and questions\n",
        "    text = re.split('[.?]', text)\n",
        "    clean_sent = []\n",
        "    for sent in text:\n",
        "        clean_sent.append(sent)\n",
        "    return clean_sent"
      ],
      "execution_count": null,
      "outputs": []
    },
    {
      "cell_type": "code",
      "metadata": {
        "id": "gtXvhH_jb9p4",
        "colab_type": "code",
        "colab": {}
      },
      "source": [
        "df['clean_description'] = df['clean_description'].apply(split_to_sentence)"
      ],
      "execution_count": null,
      "outputs": []
    },
    {
      "cell_type": "code",
      "metadata": {
        "id": "OvrE4rMxcDFL",
        "colab_type": "code",
        "colab": {
          "base_uri": "https://localhost:8080/",
          "height": 198
        },
        "outputId": "2f967ba5-89fc-4567-df36-bbc2d4ede95d"
      },
      "source": [
        "df['clean_description'][6]"
      ],
      "execution_count": null,
      "outputs": [
        {
          "output_type": "execute_result",
          "data": {
            "text/plain": [
              "[' 5 Bedroom Home For Sale This gorgeous property located in the heart of Runda along Runda Drive sits on 1',\n",
              " '2 acres   a short driving distance from the UN',\n",
              " ' The property features 5 bedrooms which are all en suite with built in wardrobes',\n",
              " ' The master bedroom features a large fireplace with an adjoining Jacuzzi Room',\n",
              " ' The property boasts a fully fitted kitchen with two large pantries in addition to a safe room',\n",
              " ' The living room features a fireplace which opens onto an outdoor terrace which is spacious and ideal for entertaining guests',\n",
              " ' The mature garden area has a solar heated swimming pool',\n",
              " ' The house also has an additional 2 bedroom self contained guesthouse',\n",
              " ' This house is the perfect place to call home! Call us to arrange a viewing today! ']"
            ]
          },
          "metadata": {
            "tags": []
          },
          "execution_count": 19
        }
      ]
    },
    {
      "cell_type": "code",
      "metadata": {
        "id": "dgzhL_bmRzvx",
        "colab_type": "code",
        "colab": {
          "base_uri": "https://localhost:8080/",
          "height": 91
        },
        "outputId": "1950f515-2a6c-468c-9dfe-5957514697c1"
      },
      "source": [
        "!pip install visualise_spacy_tree\n",
        "import spacy\n",
        "from spacy.matcher import Matcher \n",
        "\n",
        "from spacy import displacy \n",
        "import visualise_spacy_tree\n",
        "from IPython.display import Image, display\n",
        "\n",
        "# load english language model\n",
        "nlp = spacy.load('en_core_web_sm',disable=['ner','textcat'])"
      ],
      "execution_count": null,
      "outputs": [
        {
          "output_type": "stream",
          "text": [
            "Requirement already satisfied: visualise_spacy_tree in /usr/local/lib/python3.6/dist-packages (0.0.6)\n",
            "Requirement already satisfied: pydot==1.4.1 in /usr/local/lib/python3.6/dist-packages (from visualise_spacy_tree) (1.4.1)\n",
            "Requirement already satisfied: pyparsing>=2.1.4 in /usr/local/lib/python3.6/dist-packages (from pydot==1.4.1->visualise_spacy_tree) (2.4.7)\n"
          ],
          "name": "stdout"
        }
      ]
    },
    {
      "cell_type": "code",
      "metadata": {
        "id": "ATqZ888dSHzt",
        "colab_type": "code",
        "colab": {
          "base_uri": "https://localhost:8080/",
          "height": 528
        },
        "outputId": "41ae7ee1-6b48-4c37-b00c-5ef0992e4959"
      },
      "source": [
        "# create spacy \n",
        "\n",
        "text = df['clean_description'][15]\n",
        "doc = nlp(text[1])\n",
        "\n",
        "displacy.render(doc, style='dep',jupyter=True)"
      ],
      "execution_count": null,
      "outputs": [
        {
          "output_type": "display_data",
          "data": {
            "text/html": [
              "<span class=\"tex2jax_ignore\"><svg xmlns=\"http://www.w3.org/2000/svg\" xmlns:xlink=\"http://www.w3.org/1999/xlink\" xml:lang=\"en\" id=\"70eaa76d7e4f4535a5331668d154d3ec-0\" class=\"displacy\" width=\"2675\" height=\"487.0\" direction=\"ltr\" style=\"max-width: none; height: 487.0px; color: #000000; background: #ffffff; font-family: Arial; direction: ltr\">\n",
              "<text class=\"displacy-token\" fill=\"currentColor\" text-anchor=\"middle\" y=\"397.0\">\n",
              "    <tspan class=\"displacy-word\" fill=\"currentColor\" x=\"50\"> </tspan>\n",
              "    <tspan class=\"displacy-tag\" dy=\"2em\" fill=\"currentColor\" x=\"50\">SPACE</tspan>\n",
              "</text>\n",
              "\n",
              "<text class=\"displacy-token\" fill=\"currentColor\" text-anchor=\"middle\" y=\"397.0\">\n",
              "    <tspan class=\"displacy-word\" fill=\"currentColor\" x=\"225\">Sitting</tspan>\n",
              "    <tspan class=\"displacy-tag\" dy=\"2em\" fill=\"currentColor\" x=\"225\">VERB</tspan>\n",
              "</text>\n",
              "\n",
              "<text class=\"displacy-token\" fill=\"currentColor\" text-anchor=\"middle\" y=\"397.0\">\n",
              "    <tspan class=\"displacy-word\" fill=\"currentColor\" x=\"400\">on</tspan>\n",
              "    <tspan class=\"displacy-tag\" dy=\"2em\" fill=\"currentColor\" x=\"400\">ADP</tspan>\n",
              "</text>\n",
              "\n",
              "<text class=\"displacy-token\" fill=\"currentColor\" text-anchor=\"middle\" y=\"397.0\">\n",
              "    <tspan class=\"displacy-word\" fill=\"currentColor\" x=\"575\">half</tspan>\n",
              "    <tspan class=\"displacy-tag\" dy=\"2em\" fill=\"currentColor\" x=\"575\">ADJ</tspan>\n",
              "</text>\n",
              "\n",
              "<text class=\"displacy-token\" fill=\"currentColor\" text-anchor=\"middle\" y=\"397.0\">\n",
              "    <tspan class=\"displacy-word\" fill=\"currentColor\" x=\"750\">acre</tspan>\n",
              "    <tspan class=\"displacy-tag\" dy=\"2em\" fill=\"currentColor\" x=\"750\">NOUN</tspan>\n",
              "</text>\n",
              "\n",
              "<text class=\"displacy-token\" fill=\"currentColor\" text-anchor=\"middle\" y=\"397.0\">\n",
              "    <tspan class=\"displacy-word\" fill=\"currentColor\" x=\"925\">with</tspan>\n",
              "    <tspan class=\"displacy-tag\" dy=\"2em\" fill=\"currentColor\" x=\"925\">ADP</tspan>\n",
              "</text>\n",
              "\n",
              "<text class=\"displacy-token\" fill=\"currentColor\" text-anchor=\"middle\" y=\"397.0\">\n",
              "    <tspan class=\"displacy-word\" fill=\"currentColor\" x=\"1100\">swimming</tspan>\n",
              "    <tspan class=\"displacy-tag\" dy=\"2em\" fill=\"currentColor\" x=\"1100\">VERB</tspan>\n",
              "</text>\n",
              "\n",
              "<text class=\"displacy-token\" fill=\"currentColor\" text-anchor=\"middle\" y=\"397.0\">\n",
              "    <tspan class=\"displacy-word\" fill=\"currentColor\" x=\"1275\">pool</tspan>\n",
              "    <tspan class=\"displacy-tag\" dy=\"2em\" fill=\"currentColor\" x=\"1275\">NOUN</tspan>\n",
              "</text>\n",
              "\n",
              "<text class=\"displacy-token\" fill=\"currentColor\" text-anchor=\"middle\" y=\"397.0\">\n",
              "    <tspan class=\"displacy-word\" fill=\"currentColor\" x=\"1450\">Asking</tspan>\n",
              "    <tspan class=\"displacy-tag\" dy=\"2em\" fill=\"currentColor\" x=\"1450\">PROPN</tspan>\n",
              "</text>\n",
              "\n",
              "<text class=\"displacy-token\" fill=\"currentColor\" text-anchor=\"middle\" y=\"397.0\">\n",
              "    <tspan class=\"displacy-word\" fill=\"currentColor\" x=\"1625\">price</tspan>\n",
              "    <tspan class=\"displacy-tag\" dy=\"2em\" fill=\"currentColor\" x=\"1625\">NOUN</tspan>\n",
              "</text>\n",
              "\n",
              "<text class=\"displacy-token\" fill=\"currentColor\" text-anchor=\"middle\" y=\"397.0\">\n",
              "    <tspan class=\"displacy-word\" fill=\"currentColor\" x=\"1800\">is</tspan>\n",
              "    <tspan class=\"displacy-tag\" dy=\"2em\" fill=\"currentColor\" x=\"1800\">AUX</tspan>\n",
              "</text>\n",
              "\n",
              "<text class=\"displacy-token\" fill=\"currentColor\" text-anchor=\"middle\" y=\"397.0\">\n",
              "    <tspan class=\"displacy-word\" fill=\"currentColor\" x=\"1975\">kes</tspan>\n",
              "    <tspan class=\"displacy-tag\" dy=\"2em\" fill=\"currentColor\" x=\"1975\">PROPN</tspan>\n",
              "</text>\n",
              "\n",
              "<text class=\"displacy-token\" fill=\"currentColor\" text-anchor=\"middle\" y=\"397.0\">\n",
              "    <tspan class=\"displacy-word\" fill=\"currentColor\" x=\"2150\">210million</tspan>\n",
              "    <tspan class=\"displacy-tag\" dy=\"2em\" fill=\"currentColor\" x=\"2150\">PROPN</tspan>\n",
              "</text>\n",
              "\n",
              "<text class=\"displacy-token\" fill=\"currentColor\" text-anchor=\"middle\" y=\"397.0\">\n",
              "    <tspan class=\"displacy-word\" fill=\"currentColor\" x=\"2325\">slightly</tspan>\n",
              "    <tspan class=\"displacy-tag\" dy=\"2em\" fill=\"currentColor\" x=\"2325\">ADV</tspan>\n",
              "</text>\n",
              "\n",
              "<text class=\"displacy-token\" fill=\"currentColor\" text-anchor=\"middle\" y=\"397.0\">\n",
              "    <tspan class=\"displacy-word\" fill=\"currentColor\" x=\"2500\">negotiable</tspan>\n",
              "    <tspan class=\"displacy-tag\" dy=\"2em\" fill=\"currentColor\" x=\"2500\">ADJ</tspan>\n",
              "</text>\n",
              "\n",
              "<g class=\"displacy-arrow\">\n",
              "    <path class=\"displacy-arc\" id=\"arrow-70eaa76d7e4f4535a5331668d154d3ec-0-0\" stroke-width=\"2px\" d=\"M70,352.0 C70,264.5 210.0,264.5 210.0,352.0\" fill=\"none\" stroke=\"currentColor\"/>\n",
              "    <text dy=\"1.25em\" style=\"font-size: 0.8em; letter-spacing: 1px\">\n",
              "        <textPath xlink:href=\"#arrow-70eaa76d7e4f4535a5331668d154d3ec-0-0\" class=\"displacy-label\" startOffset=\"50%\" side=\"left\" fill=\"currentColor\" text-anchor=\"middle\"></textPath>\n",
              "    </text>\n",
              "    <path class=\"displacy-arrowhead\" d=\"M70,354.0 L62,342.0 78,342.0\" fill=\"currentColor\"/>\n",
              "</g>\n",
              "\n",
              "<g class=\"displacy-arrow\">\n",
              "    <path class=\"displacy-arc\" id=\"arrow-70eaa76d7e4f4535a5331668d154d3ec-0-1\" stroke-width=\"2px\" d=\"M245,352.0 C245,2.0 1800.0,2.0 1800.0,352.0\" fill=\"none\" stroke=\"currentColor\"/>\n",
              "    <text dy=\"1.25em\" style=\"font-size: 0.8em; letter-spacing: 1px\">\n",
              "        <textPath xlink:href=\"#arrow-70eaa76d7e4f4535a5331668d154d3ec-0-1\" class=\"displacy-label\" startOffset=\"50%\" side=\"left\" fill=\"currentColor\" text-anchor=\"middle\">nsubj</textPath>\n",
              "    </text>\n",
              "    <path class=\"displacy-arrowhead\" d=\"M245,354.0 L237,342.0 253,342.0\" fill=\"currentColor\"/>\n",
              "</g>\n",
              "\n",
              "<g class=\"displacy-arrow\">\n",
              "    <path class=\"displacy-arc\" id=\"arrow-70eaa76d7e4f4535a5331668d154d3ec-0-2\" stroke-width=\"2px\" d=\"M245,352.0 C245,264.5 385.0,264.5 385.0,352.0\" fill=\"none\" stroke=\"currentColor\"/>\n",
              "    <text dy=\"1.25em\" style=\"font-size: 0.8em; letter-spacing: 1px\">\n",
              "        <textPath xlink:href=\"#arrow-70eaa76d7e4f4535a5331668d154d3ec-0-2\" class=\"displacy-label\" startOffset=\"50%\" side=\"left\" fill=\"currentColor\" text-anchor=\"middle\">prep</textPath>\n",
              "    </text>\n",
              "    <path class=\"displacy-arrowhead\" d=\"M385.0,354.0 L393.0,342.0 377.0,342.0\" fill=\"currentColor\"/>\n",
              "</g>\n",
              "\n",
              "<g class=\"displacy-arrow\">\n",
              "    <path class=\"displacy-arc\" id=\"arrow-70eaa76d7e4f4535a5331668d154d3ec-0-3\" stroke-width=\"2px\" d=\"M595,352.0 C595,264.5 735.0,264.5 735.0,352.0\" fill=\"none\" stroke=\"currentColor\"/>\n",
              "    <text dy=\"1.25em\" style=\"font-size: 0.8em; letter-spacing: 1px\">\n",
              "        <textPath xlink:href=\"#arrow-70eaa76d7e4f4535a5331668d154d3ec-0-3\" class=\"displacy-label\" startOffset=\"50%\" side=\"left\" fill=\"currentColor\" text-anchor=\"middle\">nummod</textPath>\n",
              "    </text>\n",
              "    <path class=\"displacy-arrowhead\" d=\"M595,354.0 L587,342.0 603,342.0\" fill=\"currentColor\"/>\n",
              "</g>\n",
              "\n",
              "<g class=\"displacy-arrow\">\n",
              "    <path class=\"displacy-arc\" id=\"arrow-70eaa76d7e4f4535a5331668d154d3ec-0-4\" stroke-width=\"2px\" d=\"M420,352.0 C420,177.0 740.0,177.0 740.0,352.0\" fill=\"none\" stroke=\"currentColor\"/>\n",
              "    <text dy=\"1.25em\" style=\"font-size: 0.8em; letter-spacing: 1px\">\n",
              "        <textPath xlink:href=\"#arrow-70eaa76d7e4f4535a5331668d154d3ec-0-4\" class=\"displacy-label\" startOffset=\"50%\" side=\"left\" fill=\"currentColor\" text-anchor=\"middle\">pobj</textPath>\n",
              "    </text>\n",
              "    <path class=\"displacy-arrowhead\" d=\"M740.0,354.0 L748.0,342.0 732.0,342.0\" fill=\"currentColor\"/>\n",
              "</g>\n",
              "\n",
              "<g class=\"displacy-arrow\">\n",
              "    <path class=\"displacy-arc\" id=\"arrow-70eaa76d7e4f4535a5331668d154d3ec-0-5\" stroke-width=\"2px\" d=\"M770,352.0 C770,264.5 910.0,264.5 910.0,352.0\" fill=\"none\" stroke=\"currentColor\"/>\n",
              "    <text dy=\"1.25em\" style=\"font-size: 0.8em; letter-spacing: 1px\">\n",
              "        <textPath xlink:href=\"#arrow-70eaa76d7e4f4535a5331668d154d3ec-0-5\" class=\"displacy-label\" startOffset=\"50%\" side=\"left\" fill=\"currentColor\" text-anchor=\"middle\">prep</textPath>\n",
              "    </text>\n",
              "    <path class=\"displacy-arrowhead\" d=\"M910.0,354.0 L918.0,342.0 902.0,342.0\" fill=\"currentColor\"/>\n",
              "</g>\n",
              "\n",
              "<g class=\"displacy-arrow\">\n",
              "    <path class=\"displacy-arc\" id=\"arrow-70eaa76d7e4f4535a5331668d154d3ec-0-6\" stroke-width=\"2px\" d=\"M1120,352.0 C1120,264.5 1260.0,264.5 1260.0,352.0\" fill=\"none\" stroke=\"currentColor\"/>\n",
              "    <text dy=\"1.25em\" style=\"font-size: 0.8em; letter-spacing: 1px\">\n",
              "        <textPath xlink:href=\"#arrow-70eaa76d7e4f4535a5331668d154d3ec-0-6\" class=\"displacy-label\" startOffset=\"50%\" side=\"left\" fill=\"currentColor\" text-anchor=\"middle\">compound</textPath>\n",
              "    </text>\n",
              "    <path class=\"displacy-arrowhead\" d=\"M1120,354.0 L1112,342.0 1128,342.0\" fill=\"currentColor\"/>\n",
              "</g>\n",
              "\n",
              "<g class=\"displacy-arrow\">\n",
              "    <path class=\"displacy-arc\" id=\"arrow-70eaa76d7e4f4535a5331668d154d3ec-0-7\" stroke-width=\"2px\" d=\"M1295,352.0 C1295,177.0 1615.0,177.0 1615.0,352.0\" fill=\"none\" stroke=\"currentColor\"/>\n",
              "    <text dy=\"1.25em\" style=\"font-size: 0.8em; letter-spacing: 1px\">\n",
              "        <textPath xlink:href=\"#arrow-70eaa76d7e4f4535a5331668d154d3ec-0-7\" class=\"displacy-label\" startOffset=\"50%\" side=\"left\" fill=\"currentColor\" text-anchor=\"middle\">compound</textPath>\n",
              "    </text>\n",
              "    <path class=\"displacy-arrowhead\" d=\"M1295,354.0 L1287,342.0 1303,342.0\" fill=\"currentColor\"/>\n",
              "</g>\n",
              "\n",
              "<g class=\"displacy-arrow\">\n",
              "    <path class=\"displacy-arc\" id=\"arrow-70eaa76d7e4f4535a5331668d154d3ec-0-8\" stroke-width=\"2px\" d=\"M1470,352.0 C1470,264.5 1610.0,264.5 1610.0,352.0\" fill=\"none\" stroke=\"currentColor\"/>\n",
              "    <text dy=\"1.25em\" style=\"font-size: 0.8em; letter-spacing: 1px\">\n",
              "        <textPath xlink:href=\"#arrow-70eaa76d7e4f4535a5331668d154d3ec-0-8\" class=\"displacy-label\" startOffset=\"50%\" side=\"left\" fill=\"currentColor\" text-anchor=\"middle\">compound</textPath>\n",
              "    </text>\n",
              "    <path class=\"displacy-arrowhead\" d=\"M1470,354.0 L1462,342.0 1478,342.0\" fill=\"currentColor\"/>\n",
              "</g>\n",
              "\n",
              "<g class=\"displacy-arrow\">\n",
              "    <path class=\"displacy-arc\" id=\"arrow-70eaa76d7e4f4535a5331668d154d3ec-0-9\" stroke-width=\"2px\" d=\"M945,352.0 C945,89.5 1620.0,89.5 1620.0,352.0\" fill=\"none\" stroke=\"currentColor\"/>\n",
              "    <text dy=\"1.25em\" style=\"font-size: 0.8em; letter-spacing: 1px\">\n",
              "        <textPath xlink:href=\"#arrow-70eaa76d7e4f4535a5331668d154d3ec-0-9\" class=\"displacy-label\" startOffset=\"50%\" side=\"left\" fill=\"currentColor\" text-anchor=\"middle\">pobj</textPath>\n",
              "    </text>\n",
              "    <path class=\"displacy-arrowhead\" d=\"M1620.0,354.0 L1628.0,342.0 1612.0,342.0\" fill=\"currentColor\"/>\n",
              "</g>\n",
              "\n",
              "<g class=\"displacy-arrow\">\n",
              "    <path class=\"displacy-arc\" id=\"arrow-70eaa76d7e4f4535a5331668d154d3ec-0-10\" stroke-width=\"2px\" d=\"M1820,352.0 C1820,264.5 1960.0,264.5 1960.0,352.0\" fill=\"none\" stroke=\"currentColor\"/>\n",
              "    <text dy=\"1.25em\" style=\"font-size: 0.8em; letter-spacing: 1px\">\n",
              "        <textPath xlink:href=\"#arrow-70eaa76d7e4f4535a5331668d154d3ec-0-10\" class=\"displacy-label\" startOffset=\"50%\" side=\"left\" fill=\"currentColor\" text-anchor=\"middle\">attr</textPath>\n",
              "    </text>\n",
              "    <path class=\"displacy-arrowhead\" d=\"M1960.0,354.0 L1968.0,342.0 1952.0,342.0\" fill=\"currentColor\"/>\n",
              "</g>\n",
              "\n",
              "<g class=\"displacy-arrow\">\n",
              "    <path class=\"displacy-arc\" id=\"arrow-70eaa76d7e4f4535a5331668d154d3ec-0-11\" stroke-width=\"2px\" d=\"M1820,352.0 C1820,177.0 2140.0,177.0 2140.0,352.0\" fill=\"none\" stroke=\"currentColor\"/>\n",
              "    <text dy=\"1.25em\" style=\"font-size: 0.8em; letter-spacing: 1px\">\n",
              "        <textPath xlink:href=\"#arrow-70eaa76d7e4f4535a5331668d154d3ec-0-11\" class=\"displacy-label\" startOffset=\"50%\" side=\"left\" fill=\"currentColor\" text-anchor=\"middle\">intj</textPath>\n",
              "    </text>\n",
              "    <path class=\"displacy-arrowhead\" d=\"M2140.0,354.0 L2148.0,342.0 2132.0,342.0\" fill=\"currentColor\"/>\n",
              "</g>\n",
              "\n",
              "<g class=\"displacy-arrow\">\n",
              "    <path class=\"displacy-arc\" id=\"arrow-70eaa76d7e4f4535a5331668d154d3ec-0-12\" stroke-width=\"2px\" d=\"M2345,352.0 C2345,264.5 2485.0,264.5 2485.0,352.0\" fill=\"none\" stroke=\"currentColor\"/>\n",
              "    <text dy=\"1.25em\" style=\"font-size: 0.8em; letter-spacing: 1px\">\n",
              "        <textPath xlink:href=\"#arrow-70eaa76d7e4f4535a5331668d154d3ec-0-12\" class=\"displacy-label\" startOffset=\"50%\" side=\"left\" fill=\"currentColor\" text-anchor=\"middle\">advmod</textPath>\n",
              "    </text>\n",
              "    <path class=\"displacy-arrowhead\" d=\"M2345,354.0 L2337,342.0 2353,342.0\" fill=\"currentColor\"/>\n",
              "</g>\n",
              "\n",
              "<g class=\"displacy-arrow\">\n",
              "    <path class=\"displacy-arc\" id=\"arrow-70eaa76d7e4f4535a5331668d154d3ec-0-13\" stroke-width=\"2px\" d=\"M1820,352.0 C1820,89.5 2495.0,89.5 2495.0,352.0\" fill=\"none\" stroke=\"currentColor\"/>\n",
              "    <text dy=\"1.25em\" style=\"font-size: 0.8em; letter-spacing: 1px\">\n",
              "        <textPath xlink:href=\"#arrow-70eaa76d7e4f4535a5331668d154d3ec-0-13\" class=\"displacy-label\" startOffset=\"50%\" side=\"left\" fill=\"currentColor\" text-anchor=\"middle\">acomp</textPath>\n",
              "    </text>\n",
              "    <path class=\"displacy-arrowhead\" d=\"M2495.0,354.0 L2503.0,342.0 2487.0,342.0\" fill=\"currentColor\"/>\n",
              "</g>\n",
              "</svg></span>"
            ],
            "text/plain": [
              "<IPython.core.display.HTML object>"
            ]
          },
          "metadata": {
            "tags": []
          }
        }
      ]
    },
    {
      "cell_type": "markdown",
      "metadata": {
        "id": "NjiFcM2pYZ6R",
        "colab_type": "text"
      },
      "source": [
        "### Information extraction\n",
        "\n",
        "\n",
        "\n",
        "We need to extract mentions of area, cars and bathrooms. Spacy has a matcher class that matches a specified pattern to a given string. From the above visualisation, we can identify that spaCy identifies numbers as num and has a built in method of returning tokens with a number. First we filter through sentences in the description that have a number then from there we can decide if the number describes a bedroom a bathroom, land size etc.\n",
        "\n"
      ]
    },
    {
      "cell_type": "code",
      "metadata": {
        "id": "dwFYinVxprkn",
        "colab_type": "code",
        "colab": {}
      },
      "source": [
        "def extract_sentences_with_numbers(text):\n",
        "  \"\"\"  Takes in a sentence and returns the sentence if it contains a number\n",
        "    Arguments:\n",
        "        text {str} -- string sequence to have keywords extracted from\n",
        "    \n",
        "    \n",
        "    Returns:\n",
        "        text {str} -- string of the text with numbers\n",
        "    \"\"\"  \n",
        "  doc = nlp(text)\n",
        "  for token in doc:\n",
        "    if token.like_num: \n",
        "       if token.like_num:\n",
        "          return text\n",
        "   "
      ],
      "execution_count": null,
      "outputs": []
    },
    {
      "cell_type": "code",
      "metadata": {
        "id": "tnT1HEyoH6V8",
        "colab_type": "code",
        "colab": {}
      },
      "source": [
        "# TODO : \n",
        "# Find a method that doesnt assume all descriptions have atleast one sentence with a number\n",
        "\n",
        "list_of_sentences_with_numbers = []\n",
        "\n",
        "for j in range(len(df)):\n",
        "  has_num = []\n",
        "  sentences = df['clean_description'][j]\n",
        "  for i in range(len(sentences)):\n",
        "      has_num.append(extract_sentences_with_numbers(sentences[i]))\n",
        "  removed_none = [] \n",
        "  for sent in has_num: \n",
        "      if sent != None : \n",
        "          removed_none.append(sent) \n",
        "  list_of_sentences_with_numbers.append(removed_none)    \n",
        "df['num_sent']= list_of_sentences_with_numbers"
      ],
      "execution_count": null,
      "outputs": []
    },
    {
      "cell_type": "code",
      "metadata": {
        "id": "SK3msZD4KFaM",
        "colab_type": "code",
        "colab": {
          "base_uri": "https://localhost:8080/",
          "height": 73
        },
        "outputId": "5f25124f-1d17-4c69-fe89-a7eaa28e176f"
      },
      "source": [
        "df['num_sent'][1]"
      ],
      "execution_count": null,
      "outputs": [
        {
          "output_type": "execute_result",
          "data": {
            "text/plain": [
              "[' It comes with 4   bedrooms 2  ensuite in a quiet neighborhood',\n",
              " ' Salient features include: Entrance Lounge with functional fire place Dining area  Common cloak room Guest ensuite bedroom with ample ward robesshowersink basin and dressing mirror FIRST FLOOR LEVEL: 2 sharing bedrooms with ample wardrobesshowersink basin and dressing mirror Master ensuite bedroom with ample walk in closetscubicle showersink basin and dressing mirror EXTERNAL FEATURES: Dhobi area Manicured lawn with talk trees and branches  Secured by perimeter wall Sufficient water tanks for storage This is a gold minea place to be for few investors with high value returns']"
            ]
          },
          "metadata": {
            "tags": []
          },
          "execution_count": 24
        }
      ]
    },
    {
      "cell_type": "code",
      "metadata": {
        "id": "lUgbp5NDQgh-",
        "colab_type": "code",
        "colab": {
          "base_uri": "https://localhost:8080/",
          "height": 441
        },
        "outputId": "4abff815-7cd7-4769-c909-0e870a12cb5c"
      },
      "source": [
        "text = df['num_sent'][11]\n",
        "doc = nlp(text[0])\n",
        "displacy.render(doc, style='dep',jupyter=True)"
      ],
      "execution_count": null,
      "outputs": [
        {
          "output_type": "display_data",
          "data": {
            "text/html": [
              "<span class=\"tex2jax_ignore\"><svg xmlns=\"http://www.w3.org/2000/svg\" xmlns:xlink=\"http://www.w3.org/1999/xlink\" xml:lang=\"en\" id=\"683c10466bcd4a24a893210c2ade70f4-0\" class=\"displacy\" width=\"1800\" height=\"399.5\" direction=\"ltr\" style=\"max-width: none; height: 399.5px; color: #000000; background: #ffffff; font-family: Arial; direction: ltr\">\n",
              "<text class=\"displacy-token\" fill=\"currentColor\" text-anchor=\"middle\" y=\"309.5\">\n",
              "    <tspan class=\"displacy-word\" fill=\"currentColor\" x=\"50\"> </tspan>\n",
              "    <tspan class=\"displacy-tag\" dy=\"2em\" fill=\"currentColor\" x=\"50\">SPACE</tspan>\n",
              "</text>\n",
              "\n",
              "<text class=\"displacy-token\" fill=\"currentColor\" text-anchor=\"middle\" y=\"309.5\">\n",
              "    <tspan class=\"displacy-word\" fill=\"currentColor\" x=\"225\">6</tspan>\n",
              "    <tspan class=\"displacy-tag\" dy=\"2em\" fill=\"currentColor\" x=\"225\">NUM</tspan>\n",
              "</text>\n",
              "\n",
              "<text class=\"displacy-token\" fill=\"currentColor\" text-anchor=\"middle\" y=\"309.5\">\n",
              "    <tspan class=\"displacy-word\" fill=\"currentColor\" x=\"400\">bedroom</tspan>\n",
              "    <tspan class=\"displacy-tag\" dy=\"2em\" fill=\"currentColor\" x=\"400\">NOUN</tspan>\n",
              "</text>\n",
              "\n",
              "<text class=\"displacy-token\" fill=\"currentColor\" text-anchor=\"middle\" y=\"309.5\">\n",
              "    <tspan class=\"displacy-word\" fill=\"currentColor\" x=\"575\">house</tspan>\n",
              "    <tspan class=\"displacy-tag\" dy=\"2em\" fill=\"currentColor\" x=\"575\">NOUN</tspan>\n",
              "</text>\n",
              "\n",
              "<text class=\"displacy-token\" fill=\"currentColor\" text-anchor=\"middle\" y=\"309.5\">\n",
              "    <tspan class=\"displacy-word\" fill=\"currentColor\" x=\"750\">at</tspan>\n",
              "    <tspan class=\"displacy-tag\" dy=\"2em\" fill=\"currentColor\" x=\"750\">ADP</tspan>\n",
              "</text>\n",
              "\n",
              "<text class=\"displacy-token\" fill=\"currentColor\" text-anchor=\"middle\" y=\"309.5\">\n",
              "    <tspan class=\"displacy-word\" fill=\"currentColor\" x=\"925\">Old</tspan>\n",
              "    <tspan class=\"displacy-tag\" dy=\"2em\" fill=\"currentColor\" x=\"925\">PROPN</tspan>\n",
              "</text>\n",
              "\n",
              "<text class=\"displacy-token\" fill=\"currentColor\" text-anchor=\"middle\" y=\"309.5\">\n",
              "    <tspan class=\"displacy-word\" fill=\"currentColor\" x=\"1100\">Runda</tspan>\n",
              "    <tspan class=\"displacy-tag\" dy=\"2em\" fill=\"currentColor\" x=\"1100\">PROPN</tspan>\n",
              "</text>\n",
              "\n",
              "<text class=\"displacy-token\" fill=\"currentColor\" text-anchor=\"middle\" y=\"309.5\">\n",
              "    <tspan class=\"displacy-word\" fill=\"currentColor\" x=\"1275\">sitting</tspan>\n",
              "    <tspan class=\"displacy-tag\" dy=\"2em\" fill=\"currentColor\" x=\"1275\">VERB</tspan>\n",
              "</text>\n",
              "\n",
              "<text class=\"displacy-token\" fill=\"currentColor\" text-anchor=\"middle\" y=\"309.5\">\n",
              "    <tspan class=\"displacy-word\" fill=\"currentColor\" x=\"1450\">on</tspan>\n",
              "    <tspan class=\"displacy-tag\" dy=\"2em\" fill=\"currentColor\" x=\"1450\">ADP</tspan>\n",
              "</text>\n",
              "\n",
              "<text class=\"displacy-token\" fill=\"currentColor\" text-anchor=\"middle\" y=\"309.5\">\n",
              "    <tspan class=\"displacy-word\" fill=\"currentColor\" x=\"1625\">0</tspan>\n",
              "    <tspan class=\"displacy-tag\" dy=\"2em\" fill=\"currentColor\" x=\"1625\">NUM</tspan>\n",
              "</text>\n",
              "\n",
              "<g class=\"displacy-arrow\">\n",
              "    <path class=\"displacy-arc\" id=\"arrow-683c10466bcd4a24a893210c2ade70f4-0-0\" stroke-width=\"2px\" d=\"M70,264.5 C70,177.0 215.0,177.0 215.0,264.5\" fill=\"none\" stroke=\"currentColor\"/>\n",
              "    <text dy=\"1.25em\" style=\"font-size: 0.8em; letter-spacing: 1px\">\n",
              "        <textPath xlink:href=\"#arrow-683c10466bcd4a24a893210c2ade70f4-0-0\" class=\"displacy-label\" startOffset=\"50%\" side=\"left\" fill=\"currentColor\" text-anchor=\"middle\"></textPath>\n",
              "    </text>\n",
              "    <path class=\"displacy-arrowhead\" d=\"M70,266.5 L62,254.5 78,254.5\" fill=\"currentColor\"/>\n",
              "</g>\n",
              "\n",
              "<g class=\"displacy-arrow\">\n",
              "    <path class=\"displacy-arc\" id=\"arrow-683c10466bcd4a24a893210c2ade70f4-0-1\" stroke-width=\"2px\" d=\"M245,264.5 C245,89.5 570.0,89.5 570.0,264.5\" fill=\"none\" stroke=\"currentColor\"/>\n",
              "    <text dy=\"1.25em\" style=\"font-size: 0.8em; letter-spacing: 1px\">\n",
              "        <textPath xlink:href=\"#arrow-683c10466bcd4a24a893210c2ade70f4-0-1\" class=\"displacy-label\" startOffset=\"50%\" side=\"left\" fill=\"currentColor\" text-anchor=\"middle\">nummod</textPath>\n",
              "    </text>\n",
              "    <path class=\"displacy-arrowhead\" d=\"M245,266.5 L237,254.5 253,254.5\" fill=\"currentColor\"/>\n",
              "</g>\n",
              "\n",
              "<g class=\"displacy-arrow\">\n",
              "    <path class=\"displacy-arc\" id=\"arrow-683c10466bcd4a24a893210c2ade70f4-0-2\" stroke-width=\"2px\" d=\"M420,264.5 C420,177.0 565.0,177.0 565.0,264.5\" fill=\"none\" stroke=\"currentColor\"/>\n",
              "    <text dy=\"1.25em\" style=\"font-size: 0.8em; letter-spacing: 1px\">\n",
              "        <textPath xlink:href=\"#arrow-683c10466bcd4a24a893210c2ade70f4-0-2\" class=\"displacy-label\" startOffset=\"50%\" side=\"left\" fill=\"currentColor\" text-anchor=\"middle\">compound</textPath>\n",
              "    </text>\n",
              "    <path class=\"displacy-arrowhead\" d=\"M420,266.5 L412,254.5 428,254.5\" fill=\"currentColor\"/>\n",
              "</g>\n",
              "\n",
              "<g class=\"displacy-arrow\">\n",
              "    <path class=\"displacy-arc\" id=\"arrow-683c10466bcd4a24a893210c2ade70f4-0-3\" stroke-width=\"2px\" d=\"M595,264.5 C595,2.0 1275.0,2.0 1275.0,264.5\" fill=\"none\" stroke=\"currentColor\"/>\n",
              "    <text dy=\"1.25em\" style=\"font-size: 0.8em; letter-spacing: 1px\">\n",
              "        <textPath xlink:href=\"#arrow-683c10466bcd4a24a893210c2ade70f4-0-3\" class=\"displacy-label\" startOffset=\"50%\" side=\"left\" fill=\"currentColor\" text-anchor=\"middle\">nsubj</textPath>\n",
              "    </text>\n",
              "    <path class=\"displacy-arrowhead\" d=\"M595,266.5 L587,254.5 603,254.5\" fill=\"currentColor\"/>\n",
              "</g>\n",
              "\n",
              "<g class=\"displacy-arrow\">\n",
              "    <path class=\"displacy-arc\" id=\"arrow-683c10466bcd4a24a893210c2ade70f4-0-4\" stroke-width=\"2px\" d=\"M595,264.5 C595,177.0 740.0,177.0 740.0,264.5\" fill=\"none\" stroke=\"currentColor\"/>\n",
              "    <text dy=\"1.25em\" style=\"font-size: 0.8em; letter-spacing: 1px\">\n",
              "        <textPath xlink:href=\"#arrow-683c10466bcd4a24a893210c2ade70f4-0-4\" class=\"displacy-label\" startOffset=\"50%\" side=\"left\" fill=\"currentColor\" text-anchor=\"middle\">prep</textPath>\n",
              "    </text>\n",
              "    <path class=\"displacy-arrowhead\" d=\"M740.0,266.5 L748.0,254.5 732.0,254.5\" fill=\"currentColor\"/>\n",
              "</g>\n",
              "\n",
              "<g class=\"displacy-arrow\">\n",
              "    <path class=\"displacy-arc\" id=\"arrow-683c10466bcd4a24a893210c2ade70f4-0-5\" stroke-width=\"2px\" d=\"M945,264.5 C945,177.0 1090.0,177.0 1090.0,264.5\" fill=\"none\" stroke=\"currentColor\"/>\n",
              "    <text dy=\"1.25em\" style=\"font-size: 0.8em; letter-spacing: 1px\">\n",
              "        <textPath xlink:href=\"#arrow-683c10466bcd4a24a893210c2ade70f4-0-5\" class=\"displacy-label\" startOffset=\"50%\" side=\"left\" fill=\"currentColor\" text-anchor=\"middle\">compound</textPath>\n",
              "    </text>\n",
              "    <path class=\"displacy-arrowhead\" d=\"M945,266.5 L937,254.5 953,254.5\" fill=\"currentColor\"/>\n",
              "</g>\n",
              "\n",
              "<g class=\"displacy-arrow\">\n",
              "    <path class=\"displacy-arc\" id=\"arrow-683c10466bcd4a24a893210c2ade70f4-0-6\" stroke-width=\"2px\" d=\"M770,264.5 C770,89.5 1095.0,89.5 1095.0,264.5\" fill=\"none\" stroke=\"currentColor\"/>\n",
              "    <text dy=\"1.25em\" style=\"font-size: 0.8em; letter-spacing: 1px\">\n",
              "        <textPath xlink:href=\"#arrow-683c10466bcd4a24a893210c2ade70f4-0-6\" class=\"displacy-label\" startOffset=\"50%\" side=\"left\" fill=\"currentColor\" text-anchor=\"middle\">pobj</textPath>\n",
              "    </text>\n",
              "    <path class=\"displacy-arrowhead\" d=\"M1095.0,266.5 L1103.0,254.5 1087.0,254.5\" fill=\"currentColor\"/>\n",
              "</g>\n",
              "\n",
              "<g class=\"displacy-arrow\">\n",
              "    <path class=\"displacy-arc\" id=\"arrow-683c10466bcd4a24a893210c2ade70f4-0-7\" stroke-width=\"2px\" d=\"M1295,264.5 C1295,177.0 1440.0,177.0 1440.0,264.5\" fill=\"none\" stroke=\"currentColor\"/>\n",
              "    <text dy=\"1.25em\" style=\"font-size: 0.8em; letter-spacing: 1px\">\n",
              "        <textPath xlink:href=\"#arrow-683c10466bcd4a24a893210c2ade70f4-0-7\" class=\"displacy-label\" startOffset=\"50%\" side=\"left\" fill=\"currentColor\" text-anchor=\"middle\">prep</textPath>\n",
              "    </text>\n",
              "    <path class=\"displacy-arrowhead\" d=\"M1440.0,266.5 L1448.0,254.5 1432.0,254.5\" fill=\"currentColor\"/>\n",
              "</g>\n",
              "\n",
              "<g class=\"displacy-arrow\">\n",
              "    <path class=\"displacy-arc\" id=\"arrow-683c10466bcd4a24a893210c2ade70f4-0-8\" stroke-width=\"2px\" d=\"M1470,264.5 C1470,177.0 1615.0,177.0 1615.0,264.5\" fill=\"none\" stroke=\"currentColor\"/>\n",
              "    <text dy=\"1.25em\" style=\"font-size: 0.8em; letter-spacing: 1px\">\n",
              "        <textPath xlink:href=\"#arrow-683c10466bcd4a24a893210c2ade70f4-0-8\" class=\"displacy-label\" startOffset=\"50%\" side=\"left\" fill=\"currentColor\" text-anchor=\"middle\">pobj</textPath>\n",
              "    </text>\n",
              "    <path class=\"displacy-arrowhead\" d=\"M1615.0,266.5 L1623.0,254.5 1607.0,254.5\" fill=\"currentColor\"/>\n",
              "</g>\n",
              "</svg></span>"
            ],
            "text/plain": [
              "<IPython.core.display.HTML object>"
            ]
          },
          "metadata": {
            "tags": []
          }
        }
      ]
    },
    {
      "cell_type": "markdown",
      "metadata": {
        "id": "hJZKHVuwPUxz",
        "colab_type": "text"
      },
      "source": [
        "Now that we have sentences with a number, we need to figure out if the number referes to a bedroom or something else. Also note that some descriptions with all ensuite mean that the baths are equal to the number of bedrooms."
      ]
    },
    {
      "cell_type": "code",
      "metadata": {
        "id": "U5tVNYOU9rzP",
        "colab_type": "code",
        "colab": {}
      },
      "source": [
        "# TODO :\n",
        "# - Find a way to clean this data with spacy "
      ],
      "execution_count": null,
      "outputs": []
    },
    {
      "cell_type": "markdown",
      "metadata": {
        "id": "aMaT7rEM9z7X",
        "colab_type": "text"
      },
      "source": [
        "# USING MANUALLY CLEANED DATA\n",
        " \n",
        " We first load the manually cleaned data "
      ]
    },
    {
      "cell_type": "code",
      "metadata": {
        "id": "k3J6bKM399JE",
        "colab_type": "code",
        "colab": {
          "base_uri": "https://localhost:8080/",
          "height": 219
        },
        "outputId": "719bdabd-26d7-47f4-b5ff-fe3ffd0a0ad2"
      },
      "source": [
        "df = pd.read_csv('/content/manually_cleaned_runda-houses.csv')\n",
        "df.head(2)"
      ],
      "execution_count": null,
      "outputs": [
        {
          "output_type": "execute_result",
          "data": {
            "text/html": [
              "<div>\n",
              "<style scoped>\n",
              "    .dataframe tbody tr th:only-of-type {\n",
              "        vertical-align: middle;\n",
              "    }\n",
              "\n",
              "    .dataframe tbody tr th {\n",
              "        vertical-align: top;\n",
              "    }\n",
              "\n",
              "    .dataframe thead th {\n",
              "        text-align: right;\n",
              "    }\n",
              "</style>\n",
              "<table border=\"1\" class=\"dataframe\">\n",
              "  <thead>\n",
              "    <tr style=\"text-align: right;\">\n",
              "      <th></th>\n",
              "      <th>_id</th>\n",
              "      <th>url</th>\n",
              "      <th>__v</th>\n",
              "      <th>area</th>\n",
              "      <th>baths</th>\n",
              "      <th>beds</th>\n",
              "      <th>cars</th>\n",
              "      <th>description</th>\n",
              "      <th>externalFeatures</th>\n",
              "      <th>generalFeatures</th>\n",
              "      <th>internalFeatures</th>\n",
              "      <th>price</th>\n",
              "    </tr>\n",
              "  </thead>\n",
              "  <tbody>\n",
              "    <tr>\n",
              "      <th>0</th>\n",
              "      <td>5f5d1a3e1e441dbaa36b1273</td>\n",
              "      <td>https://www.buyrentkenya.com/listings/6-bed-ho...</td>\n",
              "      <td>0</td>\n",
              "      <td>2428</td>\n",
              "      <td>8</td>\n",
              "      <td>6</td>\n",
              "      <td>0</td>\n",
              "      <td>\\n6 bedroom houseAll rooms en-suiteSitting on ...</td>\n",
              "      <td>[' Built in Cupboards ', ' Ensuite ', ' Kitche...</td>\n",
              "      <td>[' Balcony ', ' Fence ', ' Garden ']</td>\n",
              "      <td>[]</td>\n",
              "      <td>85000000</td>\n",
              "    </tr>\n",
              "    <tr>\n",
              "      <th>1</th>\n",
              "      <td>5f5d1a3f1e441dbaa36b132c</td>\n",
              "      <td>https://www.buyrentkenya.com/listings/4-bed-ho...</td>\n",
              "      <td>0</td>\n",
              "      <td>6001</td>\n",
              "      <td>3</td>\n",
              "      <td>4</td>\n",
              "      <td>0</td>\n",
              "      <td>\\nUnbelievable!!Yet a unique house with charac...</td>\n",
              "      <td>[' Fence ', ' Garden ']</td>\n",
              "      <td>[' Fibre Internet ', ' Pets Allowed ']</td>\n",
              "      <td>[' Alarm ', ' Built in Cupboards ', ' Ensuite ...</td>\n",
              "      <td>75000000</td>\n",
              "    </tr>\n",
              "  </tbody>\n",
              "</table>\n",
              "</div>"
            ],
            "text/plain": [
              "                        _id  ...     price\n",
              "0  5f5d1a3e1e441dbaa36b1273  ...  85000000\n",
              "1  5f5d1a3f1e441dbaa36b132c  ...  75000000\n",
              "\n",
              "[2 rows x 12 columns]"
            ]
          },
          "metadata": {
            "tags": []
          },
          "execution_count": 27
        }
      ]
    },
    {
      "cell_type": "markdown",
      "metadata": {
        "id": "mUiUes-m-IkW",
        "colab_type": "text"
      },
      "source": [
        "Use area, price and baths of the houses with this three figures. Drop unecessary columns\n"
      ]
    },
    {
      "cell_type": "code",
      "metadata": {
        "id": "V1r3Qx8F-VYz",
        "colab_type": "code",
        "colab": {
          "base_uri": "https://localhost:8080/",
          "height": 147
        },
        "outputId": "6fa220b8-0c56-4f5b-b500-18babaa6e9e3"
      },
      "source": [
        "# drop columns\n",
        "\n",
        "df =df.drop(['_id', 'url', '__v', 'cars','description'], axis=1)\n",
        "df.head(2)"
      ],
      "execution_count": null,
      "outputs": [
        {
          "output_type": "execute_result",
          "data": {
            "text/html": [
              "<div>\n",
              "<style scoped>\n",
              "    .dataframe tbody tr th:only-of-type {\n",
              "        vertical-align: middle;\n",
              "    }\n",
              "\n",
              "    .dataframe tbody tr th {\n",
              "        vertical-align: top;\n",
              "    }\n",
              "\n",
              "    .dataframe thead th {\n",
              "        text-align: right;\n",
              "    }\n",
              "</style>\n",
              "<table border=\"1\" class=\"dataframe\">\n",
              "  <thead>\n",
              "    <tr style=\"text-align: right;\">\n",
              "      <th></th>\n",
              "      <th>area</th>\n",
              "      <th>baths</th>\n",
              "      <th>beds</th>\n",
              "      <th>externalFeatures</th>\n",
              "      <th>generalFeatures</th>\n",
              "      <th>internalFeatures</th>\n",
              "      <th>price</th>\n",
              "    </tr>\n",
              "  </thead>\n",
              "  <tbody>\n",
              "    <tr>\n",
              "      <th>0</th>\n",
              "      <td>2428</td>\n",
              "      <td>8</td>\n",
              "      <td>6</td>\n",
              "      <td>[' Built in Cupboards ', ' Ensuite ', ' Kitche...</td>\n",
              "      <td>[' Balcony ', ' Fence ', ' Garden ']</td>\n",
              "      <td>[]</td>\n",
              "      <td>85000000</td>\n",
              "    </tr>\n",
              "    <tr>\n",
              "      <th>1</th>\n",
              "      <td>6001</td>\n",
              "      <td>3</td>\n",
              "      <td>4</td>\n",
              "      <td>[' Fence ', ' Garden ']</td>\n",
              "      <td>[' Fibre Internet ', ' Pets Allowed ']</td>\n",
              "      <td>[' Alarm ', ' Built in Cupboards ', ' Ensuite ...</td>\n",
              "      <td>75000000</td>\n",
              "    </tr>\n",
              "  </tbody>\n",
              "</table>\n",
              "</div>"
            ],
            "text/plain": [
              "   area  baths  ...                                   internalFeatures     price\n",
              "0  2428      8  ...                                                 []  85000000\n",
              "1  6001      3  ...  [' Alarm ', ' Built in Cupboards ', ' Ensuite ...  75000000\n",
              "\n",
              "[2 rows x 7 columns]"
            ]
          },
          "metadata": {
            "tags": []
          },
          "execution_count": 28
        }
      ]
    },
    {
      "cell_type": "code",
      "metadata": {
        "id": "0oSVxhyg_BeK",
        "colab_type": "code",
        "colab": {
          "base_uri": "https://localhost:8080/",
          "height": 160
        },
        "outputId": "4f91898e-21e1-4429-b526-f9b72cb795cd"
      },
      "source": [
        "# Get number if zeros per column\n",
        "df.isin([0]).sum()"
      ],
      "execution_count": null,
      "outputs": [
        {
          "output_type": "execute_result",
          "data": {
            "text/plain": [
              "area                37\n",
              "baths               16\n",
              "beds                 0\n",
              "externalFeatures     0\n",
              "generalFeatures      0\n",
              "internalFeatures     0\n",
              "price                3\n",
              "dtype: int64"
            ]
          },
          "metadata": {
            "tags": []
          },
          "execution_count": 29
        }
      ]
    },
    {
      "cell_type": "code",
      "metadata": {
        "id": "7JFPM3HO_EDc",
        "colab_type": "code",
        "colab": {}
      },
      "source": [
        "# drop columns where price is 0\n",
        "df = df[df.price != 0]\n"
      ],
      "execution_count": null,
      "outputs": []
    },
    {
      "cell_type": "code",
      "metadata": {
        "id": "d4xp8t_F_Yva",
        "colab_type": "code",
        "colab": {
          "base_uri": "https://localhost:8080/",
          "height": 160
        },
        "outputId": "82160c73-e65a-4403-eeac-d865ace1e936"
      },
      "source": [
        "# Get number if zeros per column\n",
        "df.isin([0]).sum()\n"
      ],
      "execution_count": null,
      "outputs": [
        {
          "output_type": "execute_result",
          "data": {
            "text/plain": [
              "area                35\n",
              "baths               16\n",
              "beds                 0\n",
              "externalFeatures     0\n",
              "generalFeatures      0\n",
              "internalFeatures     0\n",
              "price                0\n",
              "dtype: int64"
            ]
          },
          "metadata": {
            "tags": []
          },
          "execution_count": 31
        }
      ]
    },
    {
      "cell_type": "code",
      "metadata": {
        "id": "qihkWHTT_5-a",
        "colab_type": "code",
        "colab": {}
      },
      "source": [
        "# drop columns where area is 0\n",
        "df = df[df.area != 0]\n"
      ],
      "execution_count": null,
      "outputs": []
    },
    {
      "cell_type": "code",
      "metadata": {
        "id": "dd330JCF_cVc",
        "colab_type": "code",
        "colab": {
          "base_uri": "https://localhost:8080/",
          "height": 160
        },
        "outputId": "e5a320a5-1e0f-4e2a-970f-6a3fdbaf25c0"
      },
      "source": [
        "# Get number if zeros per column\n",
        "df.isin([0]).sum()"
      ],
      "execution_count": null,
      "outputs": [
        {
          "output_type": "execute_result",
          "data": {
            "text/plain": [
              "area                 0\n",
              "baths               10\n",
              "beds                 0\n",
              "externalFeatures     0\n",
              "generalFeatures      0\n",
              "internalFeatures     0\n",
              "price                0\n",
              "dtype: int64"
            ]
          },
          "metadata": {
            "tags": []
          },
          "execution_count": 33
        }
      ]
    },
    {
      "cell_type": "code",
      "metadata": {
        "id": "G7r0WJWNAFL7",
        "colab_type": "code",
        "colab": {}
      },
      "source": [
        "# drop columns where baths is 0\n",
        "df = df[df.baths != 0]\n"
      ],
      "execution_count": null,
      "outputs": []
    },
    {
      "cell_type": "code",
      "metadata": {
        "id": "KSPc-qOnAR5b",
        "colab_type": "code",
        "colab": {
          "base_uri": "https://localhost:8080/",
          "height": 160
        },
        "outputId": "a723d96e-0829-46e1-a416-7ffe725b110b"
      },
      "source": [
        "# Get number if zeros per column\n",
        "df.isin([0]).sum()"
      ],
      "execution_count": null,
      "outputs": [
        {
          "output_type": "execute_result",
          "data": {
            "text/plain": [
              "area                0\n",
              "baths               0\n",
              "beds                0\n",
              "externalFeatures    0\n",
              "generalFeatures     0\n",
              "internalFeatures    0\n",
              "price               0\n",
              "dtype: int64"
            ]
          },
          "metadata": {
            "tags": []
          },
          "execution_count": 35
        }
      ]
    },
    {
      "cell_type": "code",
      "metadata": {
        "id": "TZVwCRirAWUj",
        "colab_type": "code",
        "colab": {
          "base_uri": "https://localhost:8080/",
          "height": 35
        },
        "outputId": "1985b504-7c25-46f8-a50c-57c8c7a1d794"
      },
      "source": [
        "len(df)"
      ],
      "execution_count": null,
      "outputs": [
        {
          "output_type": "execute_result",
          "data": {
            "text/plain": [
              "94"
            ]
          },
          "metadata": {
            "tags": []
          },
          "execution_count": 36
        }
      ]
    },
    {
      "cell_type": "markdown",
      "metadata": {
        "id": "Cw3E1kZ8F7o-",
        "colab_type": "text"
      },
      "source": [
        "This takes care of the numerical values but doesnt sort the issue of missing features."
      ]
    },
    {
      "cell_type": "code",
      "metadata": {
        "id": "l3z90Dn5F4AE",
        "colab_type": "code",
        "colab": {
          "base_uri": "https://localhost:8080/",
          "height": 537
        },
        "outputId": "1f3a6fef-3961-434f-89c0-28f0373a64e2"
      },
      "source": [
        "df.head(10)"
      ],
      "execution_count": null,
      "outputs": [
        {
          "output_type": "execute_result",
          "data": {
            "text/html": [
              "<div>\n",
              "<style scoped>\n",
              "    .dataframe tbody tr th:only-of-type {\n",
              "        vertical-align: middle;\n",
              "    }\n",
              "\n",
              "    .dataframe tbody tr th {\n",
              "        vertical-align: top;\n",
              "    }\n",
              "\n",
              "    .dataframe thead th {\n",
              "        text-align: right;\n",
              "    }\n",
              "</style>\n",
              "<table border=\"1\" class=\"dataframe\">\n",
              "  <thead>\n",
              "    <tr style=\"text-align: right;\">\n",
              "      <th></th>\n",
              "      <th>area</th>\n",
              "      <th>baths</th>\n",
              "      <th>beds</th>\n",
              "      <th>externalFeatures</th>\n",
              "      <th>generalFeatures</th>\n",
              "      <th>internalFeatures</th>\n",
              "      <th>price</th>\n",
              "    </tr>\n",
              "  </thead>\n",
              "  <tbody>\n",
              "    <tr>\n",
              "      <th>0</th>\n",
              "      <td>2428</td>\n",
              "      <td>8</td>\n",
              "      <td>6</td>\n",
              "      <td>[' Built in Cupboards ', ' Ensuite ', ' Kitche...</td>\n",
              "      <td>[' Balcony ', ' Fence ', ' Garden ']</td>\n",
              "      <td>[]</td>\n",
              "      <td>85000000</td>\n",
              "    </tr>\n",
              "    <tr>\n",
              "      <th>1</th>\n",
              "      <td>6001</td>\n",
              "      <td>3</td>\n",
              "      <td>4</td>\n",
              "      <td>[' Fence ', ' Garden ']</td>\n",
              "      <td>[' Fibre Internet ', ' Pets Allowed ']</td>\n",
              "      <td>[' Alarm ', ' Built in Cupboards ', ' Ensuite ...</td>\n",
              "      <td>75000000</td>\n",
              "    </tr>\n",
              "    <tr>\n",
              "      <th>3</th>\n",
              "      <td>800</td>\n",
              "      <td>5</td>\n",
              "      <td>5</td>\n",
              "      <td>[' Balcony ', ' Bore Hole ', ' Electric Fence ...</td>\n",
              "      <td>[' Backup Generator ', ' CCTV ', ' Pets Allowe...</td>\n",
              "      <td>[' Aircon ', ' Alarm ', ' Built in Cupboards '...</td>\n",
              "      <td>340000</td>\n",
              "    </tr>\n",
              "    <tr>\n",
              "      <th>4</th>\n",
              "      <td>2833</td>\n",
              "      <td>5</td>\n",
              "      <td>5</td>\n",
              "      <td>[' Balcony ', ' Bore Hole ', ' Electric Fence ...</td>\n",
              "      <td>[' CCTV ', ' Electricity Included ', ' Fibre I...</td>\n",
              "      <td>[' Alarm ', ' Built in Cupboards ', ' Ensuite ...</td>\n",
              "      <td>150000000</td>\n",
              "    </tr>\n",
              "    <tr>\n",
              "      <th>5</th>\n",
              "      <td>2023</td>\n",
              "      <td>8</td>\n",
              "      <td>8</td>\n",
              "      <td>[' Balcony ', ' Bore Hole ', ' Electric Fence ...</td>\n",
              "      <td>[' Backup Generator ', ' CCTV ', ' Electricity...</td>\n",
              "      <td>[' Aircon ', ' Alarm ', ' Built in Cupboards '...</td>\n",
              "      <td>150000000</td>\n",
              "    </tr>\n",
              "    <tr>\n",
              "      <th>6</th>\n",
              "      <td>2023</td>\n",
              "      <td>5</td>\n",
              "      <td>5</td>\n",
              "      <td>[' Built in Cupboards ', ' Ensuite ', ' Kitche...</td>\n",
              "      <td>[' Balcony ', ' Fence ', ' Garden ']</td>\n",
              "      <td>[]</td>\n",
              "      <td>200000000</td>\n",
              "    </tr>\n",
              "    <tr>\n",
              "      <th>7</th>\n",
              "      <td>506</td>\n",
              "      <td>4</td>\n",
              "      <td>4</td>\n",
              "      <td>[' Bore Hole ', ' Electric Fence ', ' Fence ',...</td>\n",
              "      <td>[' Fibre Internet ', ' Pets Allowed ']</td>\n",
              "      <td>[' Alarm ', ' Built in Cupboards ', ' Ensuite ...</td>\n",
              "      <td>28000000</td>\n",
              "    </tr>\n",
              "    <tr>\n",
              "      <th>8</th>\n",
              "      <td>2023</td>\n",
              "      <td>5</td>\n",
              "      <td>5</td>\n",
              "      <td>[' Balcony ', ' Bore Hole ', ' Electric Fence ...</td>\n",
              "      <td>[' Backup Generator ', ' CCTV ', ' Electricity...</td>\n",
              "      <td>[' Aircon ', ' Alarm ', ' Built in Cupboards '...</td>\n",
              "      <td>220000000</td>\n",
              "    </tr>\n",
              "    <tr>\n",
              "      <th>9</th>\n",
              "      <td>2833</td>\n",
              "      <td>7</td>\n",
              "      <td>5</td>\n",
              "      <td>[' Bore Hole ', ' Electric Fence ', ' Garden ']</td>\n",
              "      <td>[' Backup Generator ', ' CCTV ', ' Pets Allowe...</td>\n",
              "      <td>[' Built in Cupboards ', ' Ensuite ', ' Kitche...</td>\n",
              "      <td>95000000</td>\n",
              "    </tr>\n",
              "    <tr>\n",
              "      <th>11</th>\n",
              "      <td>2427</td>\n",
              "      <td>6</td>\n",
              "      <td>6</td>\n",
              "      <td>[' Balcony ', ' Electric Fence ', ' Fence ', '...</td>\n",
              "      <td>[' Backup Generator ', ' CCTV ', ' Electricity...</td>\n",
              "      <td>[' Aircon ', ' Alarm ', ' Built in Cupboards '...</td>\n",
              "      <td>80000000</td>\n",
              "    </tr>\n",
              "  </tbody>\n",
              "</table>\n",
              "</div>"
            ],
            "text/plain": [
              "    area  baths  ...                                   internalFeatures      price\n",
              "0   2428      8  ...                                                 []   85000000\n",
              "1   6001      3  ...  [' Alarm ', ' Built in Cupboards ', ' Ensuite ...   75000000\n",
              "3    800      5  ...  [' Aircon ', ' Alarm ', ' Built in Cupboards '...     340000\n",
              "4   2833      5  ...  [' Alarm ', ' Built in Cupboards ', ' Ensuite ...  150000000\n",
              "5   2023      8  ...  [' Aircon ', ' Alarm ', ' Built in Cupboards '...  150000000\n",
              "6   2023      5  ...                                                 []  200000000\n",
              "7    506      4  ...  [' Alarm ', ' Built in Cupboards ', ' Ensuite ...   28000000\n",
              "8   2023      5  ...  [' Aircon ', ' Alarm ', ' Built in Cupboards '...  220000000\n",
              "9   2833      7  ...  [' Built in Cupboards ', ' Ensuite ', ' Kitche...   95000000\n",
              "11  2427      6  ...  [' Aircon ', ' Alarm ', ' Built in Cupboards '...   80000000\n",
              "\n",
              "[10 rows x 7 columns]"
            ]
          },
          "metadata": {
            "tags": []
          },
          "execution_count": 37
        }
      ]
    },
    {
      "cell_type": "code",
      "metadata": {
        "id": "VsTpTzHxGwer",
        "colab_type": "code",
        "colab": {}
      },
      "source": [
        "length_of_df = len(df)\n",
        "\n",
        "df.reset_index(drop=True, inplace=True)"
      ],
      "execution_count": null,
      "outputs": []
    },
    {
      "cell_type": "markdown",
      "metadata": {
        "id": "MUTjDA9yAanx",
        "colab_type": "text"
      },
      "source": [
        "Dropping so many columns has significantly reduced our original dataset of 146 to 56. However inorder to make correct prediction based on actual housing data without making assumptions, we'll let the dataset remain as is. Our model analysis will help in making a decision on whether the data is enough to generalise on unseen data. "
      ]
    },
    {
      "cell_type": "markdown",
      "metadata": {
        "id": "2TOP38JxJ1_N",
        "colab_type": "text"
      },
      "source": [
        "## Working with the features\n",
        "\n",
        "The features are in a list and as such are hard to use so we need to convert them to individual features"
      ]
    },
    {
      "cell_type": "code",
      "metadata": {
        "id": "nYESmghGHVMv",
        "colab_type": "code",
        "colab": {
          "base_uri": "https://localhost:8080/",
          "height": 1000
        },
        "outputId": "865f3853-bd07-4965-d181-c28c2a283f9d"
      },
      "source": [
        "\n",
        "plt.figure(figsize=(10,5))\n",
        "chart = sns.countplot(\n",
        "    \n",
        "    x=df['generalFeatures'],\n",
        "    palette='Set1'\n",
        ")\n",
        "chart.set_xticklabels(chart.get_xticklabels(), rotation=45)"
      ],
      "execution_count": null,
      "outputs": [
        {
          "output_type": "execute_result",
          "data": {
            "text/plain": [
              "[Text(0, 0, \"[' Balcony ', ' Fence ', ' Garden ']\"),\n",
              " Text(0, 0, \"[' Fibre Internet ', ' Pets Allowed ']\"),\n",
              " Text(0, 0, \"[' Backup Generator ', ' CCTV ', ' Pets Allowed ', ' Scenic View ']\"),\n",
              " Text(0, 0, \"[' CCTV ', ' Electricity Included ', ' Fibre Internet ']\"),\n",
              " Text(0, 0, \"[' Backup Generator ', ' CCTV ', ' Electricity Included ', ' Fibre Internet ', ' Pets Allowed ', ' Scenic View ', ' Water Included ', ' Wheel Chair Friendly ']\"),\n",
              " Text(0, 0, \"[' Backup Generator ', ' CCTV ', ' Pets Allowed ']\"),\n",
              " Text(0, 0, \"[' CCTV ', ' Fibre Internet ', ' Pets Allowed ']\"),\n",
              " Text(0, 0, \"[' CCTV ', ' Pets Allowed ']\"),\n",
              " Text(0, 0, \"[' CCTV ', ' Electricity Included ', ' Fibre Internet ', ' Pets Allowed ', ' Water Included ', ' Wheel Chair Friendly ']\"),\n",
              " Text(0, 0, \"[' Electricity Included ', ' Scenic View ', ' Water Included ']\"),\n",
              " Text(0, 0, \"[' Backup Generator ', ' Fibre Internet ', ' Golf Course ', ' Pets Allowed ']\"),\n",
              " Text(0, 0, \"[' Balcony ', ' Bore Hole ', ' Electric Fence ', ' Garden ']\"),\n",
              " Text(0, 0, \"[' Electricity Included ', ' Pets Allowed ', ' Scenic View ', ' Water Included ']\"),\n",
              " Text(0, 0, \"[' Fibre Internet ']\"),\n",
              " Text(0, 0, \"[' Backup Generator ', ' CCTV ', ' Electricity Included ', ' Fibre Internet ', ' Golf Course ', ' Pets Allowed ', ' Scenic View ']\"),\n",
              " Text(0, 0, \"[' Backup Generator ', ' Electricity Included ', ' Pets Allowed ', ' Scenic View ', ' Water Included ']\"),\n",
              " Text(0, 0, '[]'),\n",
              " Text(0, 0, \"[' CCTV ', ' Electricity Included ', ' Fibre Internet ', ' Pets Allowed ', ' Scenic View ', ' Water Included ']\"),\n",
              " Text(0, 0, \"[' Backup Generator ', ' CCTV ', ' Electricity Included ', ' Fibre Internet ', ' Pets Allowed ', ' Water Included ', ' Wheel Chair Friendly ']\"),\n",
              " Text(0, 0, \"[' Bore Hole ', ' Electric Fence ', ' Fence ', ' Garden ']\"),\n",
              " Text(0, 0, \"[' Backup Generator ', ' Fibre Internet ', ' Pets Allowed ']\"),\n",
              " Text(0, 0, \"[' Backup Generator ', ' CCTV ', ' Fibre Internet ', ' Pets Allowed ']\"),\n",
              " Text(0, 0, \"[' Backup Generator ', ' Fibre Internet ', ' Pets Allowed ', ' Scenic View ']\"),\n",
              " Text(0, 0, \"[' Fibre Internet ', ' Pets Allowed ', ' Scenic View ']\"),\n",
              " Text(0, 0, \"[' Backup Generator ', ' CCTV ', ' Scenic View ']\"),\n",
              " Text(0, 0, \"[' Scenic View ']\"),\n",
              " Text(0, 0, \"[' Pets Allowed ', ' Wheel Chair Friendly ']\"),\n",
              " Text(0, 0, \"[' Backup Generator ', ' CCTV ', ' Fibre Internet ', ' Pets Allowed ', ' Wheel Chair Friendly ']\"),\n",
              " Text(0, 0, \"[' Pets Allowed ']\"),\n",
              " Text(0, 0, \"[' Backup Generator ', ' CCTV ', ' Electricity Included ', ' Fibre Internet ', ' Lift Elevator ', ' Pets Allowed ', ' Scenic View ', ' Water Included ']\"),\n",
              " Text(0, 0, \"[' Backup Generator ', ' CCTV ', ' Electricity Included ', ' Fibre Internet ', ' Lift Elevator ', ' Pets Allowed ', ' Scenic View ', ' Water Included ', ' Wheel Chair Friendly ']\"),\n",
              " Text(0, 0, \"[' Backup Generator ', ' CCTV ', ' Electricity Included ', ' Fibre Internet ', ' Golf Course ', ' Pets Allowed ', ' Scenic View ', ' Water Included ', ' Wheel Chair Friendly ']\"),\n",
              " Text(0, 0, \"[' Backup Generator ', ' CCTV ', ' Fibre Internet ', ' Pets Allowed ', ' Scenic View ']\"),\n",
              " Text(0, 0, \"[' Electric Fence ', ' Fence ', ' Garden ']\"),\n",
              " Text(0, 0, \"[' Pets Allowed ', ' Scenic View ', ' Water Included ', ' Wheel Chair Friendly ']\"),\n",
              " Text(0, 0, \"[' Fence ', ' Garden ']\"),\n",
              " Text(0, 0, \"[' Electricity Included ', ' Pets Allowed ', ' Sea View ', ' Water Included ']\")]"
            ]
          },
          "metadata": {
            "tags": []
          },
          "execution_count": 39
        },
        {
          "output_type": "display_data",
          "data": {
            "image/png": "[encoded data removed]",
            "text/plain": [
              "<Figure size 720x360 with 1 Axes>"
            ]
          },
          "metadata": {
            "tags": [],
            "needs_background": "light"
          }
        }
      ]
    },
    {
      "cell_type": "markdown",
      "metadata": {
        "id": "_n45qP1REsy9",
        "colab_type": "text"
      },
      "source": [
        "The features as they are do not provide the needed value and as such we will split them into distinct columns and indicate whether or not the house has the said features. It is for this reason we did not drop the columns with no features. This also solves the problem of having features mixed up during webscrapping. Also, the lists have been stored as strings instead of lists. We need to first convert them to lists"
      ]
    },
    {
      "cell_type": "code",
      "metadata": {
        "id": "lVger_YUp8Tf",
        "colab_type": "code",
        "colab": {}
      },
      "source": [
        "# convert to lists\n",
        "from ast import literal_eval\n",
        "df.loc[:,'generalFeatures'] = df.loc[:,'generalFeatures'].apply(lambda x: literal_eval(x))\n",
        "df.loc[:,'internalFeatures'] = df.loc[:,'internalFeatures'].apply(lambda x: literal_eval(x))\n",
        "df.loc[:,'externalFeatures'] = df.loc[:,'externalFeatures'].apply(lambda x: literal_eval(x))"
      ],
      "execution_count": null,
      "outputs": []
    },
    {
      "cell_type": "code",
      "metadata": {
        "id": "D-fpbQ4mLhH1",
        "colab_type": "code",
        "colab": {
          "base_uri": "https://localhost:8080/",
          "height": 55
        },
        "outputId": "81a998ca-f8fe-4895-fa96-a0b4570ce0e3"
      },
      "source": [
        "all_features =set([]) \n",
        "\n",
        "def get_all_features(text):\n",
        "  for i in range(len(text)):\n",
        "  \n",
        "   all_features.add(text[i].strip())\n",
        "\n",
        "\n",
        "for i in range(length_of_df):\n",
        "  get_all_features(df['generalFeatures'][i])\n",
        "  get_all_features(df['internalFeatures'][i])\n",
        "  get_all_features(df['externalFeatures'][i])\n",
        "\n",
        "\n",
        "print(\"All features \", type(all_features),  all_features)\n"
      ],
      "execution_count": null,
      "outputs": [
        {
          "output_type": "stream",
          "text": [
            "All features  <class 'set'> {'Electric Fence', 'Built in Cupboards', 'Pets Allowed', 'Fence', 'CCTV', 'Sea View', 'Golf Course', 'Backup Generator', 'Lift Elevator', 'Walk In Closet', 'Water Included', 'Kitchen', 'Aircon', 'Electricity Included', 'Bore Hole', 'Wheel Chair Friendly', 'Balcony', 'Fibre Internet', 'Alarm', 'Garden', 'Scenic View', 'Ensuite'}\n"
          ],
          "name": "stdout"
        }
      ]
    },
    {
      "cell_type": "markdown",
      "metadata": {
        "id": "ui5LSyMaCjW8",
        "colab_type": "text"
      },
      "source": [
        "We first need to turn the features to individual column names with intial values of zero. Then iterate trhough the df giving a 1 to a house that has a feature."
      ]
    },
    {
      "cell_type": "code",
      "metadata": {
        "id": "kRMJobWRxUgH",
        "colab_type": "code",
        "colab": {
          "base_uri": "https://localhost:8080/",
          "height": 219
        },
        "outputId": "b8fb63ed-4adc-4ee1-c9be-d74ac0670ef4"
      },
      "source": [
        "# turn all features to column names\n",
        "for feature in all_features:\n",
        "  df[feature] = [0] * length_of_df\n",
        " \n",
        "df.head(2)  "
      ],
      "execution_count": null,
      "outputs": [
        {
          "output_type": "execute_result",
          "data": {
            "text/html": [
              "<div>\n",
              "<style scoped>\n",
              "    .dataframe tbody tr th:only-of-type {\n",
              "        vertical-align: middle;\n",
              "    }\n",
              "\n",
              "    .dataframe tbody tr th {\n",
              "        vertical-align: top;\n",
              "    }\n",
              "\n",
              "    .dataframe thead th {\n",
              "        text-align: right;\n",
              "    }\n",
              "</style>\n",
              "<table border=\"1\" class=\"dataframe\">\n",
              "  <thead>\n",
              "    <tr style=\"text-align: right;\">\n",
              "      <th></th>\n",
              "      <th>area</th>\n",
              "      <th>baths</th>\n",
              "      <th>beds</th>\n",
              "      <th>externalFeatures</th>\n",
              "      <th>generalFeatures</th>\n",
              "      <th>internalFeatures</th>\n",
              "      <th>price</th>\n",
              "      <th>Electric Fence</th>\n",
              "      <th>Built in Cupboards</th>\n",
              "      <th>Pets Allowed</th>\n",
              "      <th>Fence</th>\n",
              "      <th>CCTV</th>\n",
              "      <th>Sea View</th>\n",
              "      <th>Golf Course</th>\n",
              "      <th>Backup Generator</th>\n",
              "      <th>Lift Elevator</th>\n",
              "      <th>Walk In Closet</th>\n",
              "      <th>Water Included</th>\n",
              "      <th>Kitchen</th>\n",
              "      <th>Aircon</th>\n",
              "      <th>Electricity Included</th>\n",
              "      <th>Bore Hole</th>\n",
              "      <th>Wheel Chair Friendly</th>\n",
              "      <th>Balcony</th>\n",
              "      <th>Fibre Internet</th>\n",
              "      <th>Alarm</th>\n",
              "      <th>Garden</th>\n",
              "      <th>Scenic View</th>\n",
              "      <th>Ensuite</th>\n",
              "    </tr>\n",
              "  </thead>\n",
              "  <tbody>\n",
              "    <tr>\n",
              "      <th>0</th>\n",
              "      <td>2428</td>\n",
              "      <td>8</td>\n",
              "      <td>6</td>\n",
              "      <td>[ Built in Cupboards ,  Ensuite ,  Kitchen ]</td>\n",
              "      <td>[ Balcony ,  Fence ,  Garden ]</td>\n",
              "      <td>[]</td>\n",
              "      <td>85000000</td>\n",
              "      <td>0</td>\n",
              "      <td>0</td>\n",
              "      <td>0</td>\n",
              "      <td>0</td>\n",
              "      <td>0</td>\n",
              "      <td>0</td>\n",
              "      <td>0</td>\n",
              "      <td>0</td>\n",
              "      <td>0</td>\n",
              "      <td>0</td>\n",
              "      <td>0</td>\n",
              "      <td>0</td>\n",
              "      <td>0</td>\n",
              "      <td>0</td>\n",
              "      <td>0</td>\n",
              "      <td>0</td>\n",
              "      <td>0</td>\n",
              "      <td>0</td>\n",
              "      <td>0</td>\n",
              "      <td>0</td>\n",
              "      <td>0</td>\n",
              "      <td>0</td>\n",
              "    </tr>\n",
              "    <tr>\n",
              "      <th>1</th>\n",
              "      <td>6001</td>\n",
              "      <td>3</td>\n",
              "      <td>4</td>\n",
              "      <td>[ Fence ,  Garden ]</td>\n",
              "      <td>[ Fibre Internet ,  Pets Allowed ]</td>\n",
              "      <td>[ Alarm ,  Built in Cupboards ,  Ensuite ,  Ki...</td>\n",
              "      <td>75000000</td>\n",
              "      <td>0</td>\n",
              "      <td>0</td>\n",
              "      <td>0</td>\n",
              "      <td>0</td>\n",
              "      <td>0</td>\n",
              "      <td>0</td>\n",
              "      <td>0</td>\n",
              "      <td>0</td>\n",
              "      <td>0</td>\n",
              "      <td>0</td>\n",
              "      <td>0</td>\n",
              "      <td>0</td>\n",
              "      <td>0</td>\n",
              "      <td>0</td>\n",
              "      <td>0</td>\n",
              "      <td>0</td>\n",
              "      <td>0</td>\n",
              "      <td>0</td>\n",
              "      <td>0</td>\n",
              "      <td>0</td>\n",
              "      <td>0</td>\n",
              "      <td>0</td>\n",
              "    </tr>\n",
              "  </tbody>\n",
              "</table>\n",
              "</div>"
            ],
            "text/plain": [
              "   area  baths  beds  ... Garden Scenic View Ensuite\n",
              "0  2428      8     6  ...      0           0       0\n",
              "1  6001      3     4  ...      0           0       0\n",
              "\n",
              "[2 rows x 29 columns]"
            ]
          },
          "metadata": {
            "tags": []
          },
          "execution_count": 42
        }
      ]
    },
    {
      "cell_type": "code",
      "metadata": {
        "id": "mMC5Pkg3DJ-k",
        "colab_type": "code",
        "colab": {
          "base_uri": "https://localhost:8080/",
          "height": 308
        },
        "outputId": "40ee896c-942d-47ff-cd59-b93fb0f8a858"
      },
      "source": [
        "def populate_feature( j, text):\n",
        "   for i in range(len(text)):\n",
        "     a = text[i].strip()\n",
        "   \n",
        "     df[a][j] = 1\n",
        "\n",
        "for i in range(length_of_df):\n",
        "  populate_feature(i ,df['generalFeatures'][i])\n",
        "  populate_feature(i , df['internalFeatures'][i])\n",
        "  populate_feature(i ,df['externalFeatures'][i])\n",
        "\n",
        "df.head(2)"
      ],
      "execution_count": null,
      "outputs": [
        {
          "output_type": "stream",
          "text": [
            "/usr/local/lib/python3.6/dist-packages/ipykernel_launcher.py:5: SettingWithCopyWarning: \n",
            "A value is trying to be set on a copy of a slice from a DataFrame\n",
            "\n",
            "See the caveats in the documentation: https://pandas.pydata.org/pandas-docs/stable/user_guide/indexing.html#returning-a-view-versus-a-copy\n",
            "  \"\"\"\n"
          ],
          "name": "stderr"
        },
        {
          "output_type": "execute_result",
          "data": {
            "text/html": [
              "<div>\n",
              "<style scoped>\n",
              "    .dataframe tbody tr th:only-of-type {\n",
              "        vertical-align: middle;\n",
              "    }\n",
              "\n",
              "    .dataframe tbody tr th {\n",
              "        vertical-align: top;\n",
              "    }\n",
              "\n",
              "    .dataframe thead th {\n",
              "        text-align: right;\n",
              "    }\n",
              "</style>\n",
              "<table border=\"1\" class=\"dataframe\">\n",
              "  <thead>\n",
              "    <tr style=\"text-align: right;\">\n",
              "      <th></th>\n",
              "      <th>area</th>\n",
              "      <th>baths</th>\n",
              "      <th>beds</th>\n",
              "      <th>externalFeatures</th>\n",
              "      <th>generalFeatures</th>\n",
              "      <th>internalFeatures</th>\n",
              "      <th>price</th>\n",
              "      <th>Electric Fence</th>\n",
              "      <th>Built in Cupboards</th>\n",
              "      <th>Pets Allowed</th>\n",
              "      <th>Fence</th>\n",
              "      <th>CCTV</th>\n",
              "      <th>Sea View</th>\n",
              "      <th>Golf Course</th>\n",
              "      <th>Backup Generator</th>\n",
              "      <th>Lift Elevator</th>\n",
              "      <th>Walk In Closet</th>\n",
              "      <th>Water Included</th>\n",
              "      <th>Kitchen</th>\n",
              "      <th>Aircon</th>\n",
              "      <th>Electricity Included</th>\n",
              "      <th>Bore Hole</th>\n",
              "      <th>Wheel Chair Friendly</th>\n",
              "      <th>Balcony</th>\n",
              "      <th>Fibre Internet</th>\n",
              "      <th>Alarm</th>\n",
              "      <th>Garden</th>\n",
              "      <th>Scenic View</th>\n",
              "      <th>Ensuite</th>\n",
              "    </tr>\n",
              "  </thead>\n",
              "  <tbody>\n",
              "    <tr>\n",
              "      <th>0</th>\n",
              "      <td>2428</td>\n",
              "      <td>8</td>\n",
              "      <td>6</td>\n",
              "      <td>[ Built in Cupboards ,  Ensuite ,  Kitchen ]</td>\n",
              "      <td>[ Balcony ,  Fence ,  Garden ]</td>\n",
              "      <td>[]</td>\n",
              "      <td>85000000</td>\n",
              "      <td>0</td>\n",
              "      <td>1</td>\n",
              "      <td>0</td>\n",
              "      <td>1</td>\n",
              "      <td>0</td>\n",
              "      <td>0</td>\n",
              "      <td>0</td>\n",
              "      <td>0</td>\n",
              "      <td>0</td>\n",
              "      <td>0</td>\n",
              "      <td>0</td>\n",
              "      <td>1</td>\n",
              "      <td>0</td>\n",
              "      <td>0</td>\n",
              "      <td>0</td>\n",
              "      <td>0</td>\n",
              "      <td>1</td>\n",
              "      <td>0</td>\n",
              "      <td>0</td>\n",
              "      <td>1</td>\n",
              "      <td>0</td>\n",
              "      <td>1</td>\n",
              "    </tr>\n",
              "    <tr>\n",
              "      <th>1</th>\n",
              "      <td>6001</td>\n",
              "      <td>3</td>\n",
              "      <td>4</td>\n",
              "      <td>[ Fence ,  Garden ]</td>\n",
              "      <td>[ Fibre Internet ,  Pets Allowed ]</td>\n",
              "      <td>[ Alarm ,  Built in Cupboards ,  Ensuite ,  Ki...</td>\n",
              "      <td>75000000</td>\n",
              "      <td>0</td>\n",
              "      <td>1</td>\n",
              "      <td>1</td>\n",
              "      <td>1</td>\n",
              "      <td>0</td>\n",
              "      <td>0</td>\n",
              "      <td>0</td>\n",
              "      <td>0</td>\n",
              "      <td>0</td>\n",
              "      <td>1</td>\n",
              "      <td>0</td>\n",
              "      <td>1</td>\n",
              "      <td>0</td>\n",
              "      <td>0</td>\n",
              "      <td>0</td>\n",
              "      <td>0</td>\n",
              "      <td>0</td>\n",
              "      <td>1</td>\n",
              "      <td>1</td>\n",
              "      <td>1</td>\n",
              "      <td>0</td>\n",
              "      <td>1</td>\n",
              "    </tr>\n",
              "  </tbody>\n",
              "</table>\n",
              "</div>"
            ],
            "text/plain": [
              "   area  baths  beds  ... Garden Scenic View Ensuite\n",
              "0  2428      8     6  ...      1           0       1\n",
              "1  6001      3     4  ...      1           0       1\n",
              "\n",
              "[2 rows x 29 columns]"
            ]
          },
          "metadata": {
            "tags": []
          },
          "execution_count": 43
        }
      ]
    },
    {
      "cell_type": "markdown",
      "metadata": {
        "id": "5poSPQTIJNdb",
        "colab_type": "text"
      },
      "source": [
        "We can now drop the lists columns"
      ]
    },
    {
      "cell_type": "code",
      "metadata": {
        "id": "c_K--ANyEDLR",
        "colab_type": "code",
        "colab": {
          "base_uri": "https://localhost:8080/",
          "height": 479
        },
        "outputId": "ccef9545-a2cb-41da-c702-73f40de8d90b"
      },
      "source": [
        "df.drop(['generalFeatures','externalFeatures', 'internalFeatures'],axis=1)"
      ],
      "execution_count": null,
      "outputs": [
        {
          "output_type": "execute_result",
          "data": {
            "text/html": [
              "<div>\n",
              "<style scoped>\n",
              "    .dataframe tbody tr th:only-of-type {\n",
              "        vertical-align: middle;\n",
              "    }\n",
              "\n",
              "    .dataframe tbody tr th {\n",
              "        vertical-align: top;\n",
              "    }\n",
              "\n",
              "    .dataframe thead th {\n",
              "        text-align: right;\n",
              "    }\n",
              "</style>\n",
              "<table border=\"1\" class=\"dataframe\">\n",
              "  <thead>\n",
              "    <tr style=\"text-align: right;\">\n",
              "      <th></th>\n",
              "      <th>area</th>\n",
              "      <th>baths</th>\n",
              "      <th>beds</th>\n",
              "      <th>price</th>\n",
              "      <th>Electric Fence</th>\n",
              "      <th>Built in Cupboards</th>\n",
              "      <th>Pets Allowed</th>\n",
              "      <th>Fence</th>\n",
              "      <th>CCTV</th>\n",
              "      <th>Sea View</th>\n",
              "      <th>Golf Course</th>\n",
              "      <th>Backup Generator</th>\n",
              "      <th>Lift Elevator</th>\n",
              "      <th>Walk In Closet</th>\n",
              "      <th>Water Included</th>\n",
              "      <th>Kitchen</th>\n",
              "      <th>Aircon</th>\n",
              "      <th>Electricity Included</th>\n",
              "      <th>Bore Hole</th>\n",
              "      <th>Wheel Chair Friendly</th>\n",
              "      <th>Balcony</th>\n",
              "      <th>Fibre Internet</th>\n",
              "      <th>Alarm</th>\n",
              "      <th>Garden</th>\n",
              "      <th>Scenic View</th>\n",
              "      <th>Ensuite</th>\n",
              "    </tr>\n",
              "  </thead>\n",
              "  <tbody>\n",
              "    <tr>\n",
              "      <th>0</th>\n",
              "      <td>2428</td>\n",
              "      <td>8</td>\n",
              "      <td>6</td>\n",
              "      <td>85000000</td>\n",
              "      <td>0</td>\n",
              "      <td>1</td>\n",
              "      <td>0</td>\n",
              "      <td>1</td>\n",
              "      <td>0</td>\n",
              "      <td>0</td>\n",
              "      <td>0</td>\n",
              "      <td>0</td>\n",
              "      <td>0</td>\n",
              "      <td>0</td>\n",
              "      <td>0</td>\n",
              "      <td>1</td>\n",
              "      <td>0</td>\n",
              "      <td>0</td>\n",
              "      <td>0</td>\n",
              "      <td>0</td>\n",
              "      <td>1</td>\n",
              "      <td>0</td>\n",
              "      <td>0</td>\n",
              "      <td>1</td>\n",
              "      <td>0</td>\n",
              "      <td>1</td>\n",
              "    </tr>\n",
              "    <tr>\n",
              "      <th>1</th>\n",
              "      <td>6001</td>\n",
              "      <td>3</td>\n",
              "      <td>4</td>\n",
              "      <td>75000000</td>\n",
              "      <td>0</td>\n",
              "      <td>1</td>\n",
              "      <td>1</td>\n",
              "      <td>1</td>\n",
              "      <td>0</td>\n",
              "      <td>0</td>\n",
              "      <td>0</td>\n",
              "      <td>0</td>\n",
              "      <td>0</td>\n",
              "      <td>1</td>\n",
              "      <td>0</td>\n",
              "      <td>1</td>\n",
              "      <td>0</td>\n",
              "      <td>0</td>\n",
              "      <td>0</td>\n",
              "      <td>0</td>\n",
              "      <td>0</td>\n",
              "      <td>1</td>\n",
              "      <td>1</td>\n",
              "      <td>1</td>\n",
              "      <td>0</td>\n",
              "      <td>1</td>\n",
              "    </tr>\n",
              "    <tr>\n",
              "      <th>2</th>\n",
              "      <td>800</td>\n",
              "      <td>5</td>\n",
              "      <td>5</td>\n",
              "      <td>340000</td>\n",
              "      <td>1</td>\n",
              "      <td>1</td>\n",
              "      <td>1</td>\n",
              "      <td>1</td>\n",
              "      <td>1</td>\n",
              "      <td>0</td>\n",
              "      <td>0</td>\n",
              "      <td>1</td>\n",
              "      <td>0</td>\n",
              "      <td>1</td>\n",
              "      <td>0</td>\n",
              "      <td>1</td>\n",
              "      <td>1</td>\n",
              "      <td>0</td>\n",
              "      <td>1</td>\n",
              "      <td>0</td>\n",
              "      <td>1</td>\n",
              "      <td>0</td>\n",
              "      <td>1</td>\n",
              "      <td>1</td>\n",
              "      <td>1</td>\n",
              "      <td>1</td>\n",
              "    </tr>\n",
              "    <tr>\n",
              "      <th>3</th>\n",
              "      <td>2833</td>\n",
              "      <td>5</td>\n",
              "      <td>5</td>\n",
              "      <td>150000000</td>\n",
              "      <td>1</td>\n",
              "      <td>1</td>\n",
              "      <td>0</td>\n",
              "      <td>1</td>\n",
              "      <td>1</td>\n",
              "      <td>0</td>\n",
              "      <td>0</td>\n",
              "      <td>0</td>\n",
              "      <td>0</td>\n",
              "      <td>1</td>\n",
              "      <td>0</td>\n",
              "      <td>1</td>\n",
              "      <td>0</td>\n",
              "      <td>1</td>\n",
              "      <td>1</td>\n",
              "      <td>0</td>\n",
              "      <td>1</td>\n",
              "      <td>1</td>\n",
              "      <td>1</td>\n",
              "      <td>1</td>\n",
              "      <td>0</td>\n",
              "      <td>1</td>\n",
              "    </tr>\n",
              "    <tr>\n",
              "      <th>4</th>\n",
              "      <td>2023</td>\n",
              "      <td>8</td>\n",
              "      <td>8</td>\n",
              "      <td>150000000</td>\n",
              "      <td>1</td>\n",
              "      <td>1</td>\n",
              "      <td>1</td>\n",
              "      <td>1</td>\n",
              "      <td>1</td>\n",
              "      <td>0</td>\n",
              "      <td>0</td>\n",
              "      <td>1</td>\n",
              "      <td>0</td>\n",
              "      <td>1</td>\n",
              "      <td>1</td>\n",
              "      <td>1</td>\n",
              "      <td>1</td>\n",
              "      <td>1</td>\n",
              "      <td>1</td>\n",
              "      <td>1</td>\n",
              "      <td>1</td>\n",
              "      <td>1</td>\n",
              "      <td>1</td>\n",
              "      <td>1</td>\n",
              "      <td>1</td>\n",
              "      <td>1</td>\n",
              "    </tr>\n",
              "    <tr>\n",
              "      <th>...</th>\n",
              "      <td>...</td>\n",
              "      <td>...</td>\n",
              "      <td>...</td>\n",
              "      <td>...</td>\n",
              "      <td>...</td>\n",
              "      <td>...</td>\n",
              "      <td>...</td>\n",
              "      <td>...</td>\n",
              "      <td>...</td>\n",
              "      <td>...</td>\n",
              "      <td>...</td>\n",
              "      <td>...</td>\n",
              "      <td>...</td>\n",
              "      <td>...</td>\n",
              "      <td>...</td>\n",
              "      <td>...</td>\n",
              "      <td>...</td>\n",
              "      <td>...</td>\n",
              "      <td>...</td>\n",
              "      <td>...</td>\n",
              "      <td>...</td>\n",
              "      <td>...</td>\n",
              "      <td>...</td>\n",
              "      <td>...</td>\n",
              "      <td>...</td>\n",
              "      <td>...</td>\n",
              "    </tr>\n",
              "    <tr>\n",
              "      <th>89</th>\n",
              "      <td>2000</td>\n",
              "      <td>6</td>\n",
              "      <td>5</td>\n",
              "      <td>150000000</td>\n",
              "      <td>1</td>\n",
              "      <td>1</td>\n",
              "      <td>1</td>\n",
              "      <td>1</td>\n",
              "      <td>1</td>\n",
              "      <td>0</td>\n",
              "      <td>0</td>\n",
              "      <td>1</td>\n",
              "      <td>0</td>\n",
              "      <td>1</td>\n",
              "      <td>1</td>\n",
              "      <td>1</td>\n",
              "      <td>1</td>\n",
              "      <td>1</td>\n",
              "      <td>1</td>\n",
              "      <td>1</td>\n",
              "      <td>1</td>\n",
              "      <td>1</td>\n",
              "      <td>1</td>\n",
              "      <td>1</td>\n",
              "      <td>1</td>\n",
              "      <td>1</td>\n",
              "    </tr>\n",
              "    <tr>\n",
              "      <th>90</th>\n",
              "      <td>2023</td>\n",
              "      <td>8</td>\n",
              "      <td>6</td>\n",
              "      <td>200000000</td>\n",
              "      <td>1</td>\n",
              "      <td>1</td>\n",
              "      <td>1</td>\n",
              "      <td>1</td>\n",
              "      <td>1</td>\n",
              "      <td>0</td>\n",
              "      <td>0</td>\n",
              "      <td>1</td>\n",
              "      <td>0</td>\n",
              "      <td>1</td>\n",
              "      <td>0</td>\n",
              "      <td>1</td>\n",
              "      <td>0</td>\n",
              "      <td>0</td>\n",
              "      <td>1</td>\n",
              "      <td>0</td>\n",
              "      <td>1</td>\n",
              "      <td>0</td>\n",
              "      <td>1</td>\n",
              "      <td>1</td>\n",
              "      <td>0</td>\n",
              "      <td>1</td>\n",
              "    </tr>\n",
              "    <tr>\n",
              "      <th>91</th>\n",
              "      <td>2023</td>\n",
              "      <td>7</td>\n",
              "      <td>7</td>\n",
              "      <td>150000000</td>\n",
              "      <td>1</td>\n",
              "      <td>1</td>\n",
              "      <td>1</td>\n",
              "      <td>0</td>\n",
              "      <td>0</td>\n",
              "      <td>1</td>\n",
              "      <td>0</td>\n",
              "      <td>0</td>\n",
              "      <td>0</td>\n",
              "      <td>1</td>\n",
              "      <td>1</td>\n",
              "      <td>1</td>\n",
              "      <td>1</td>\n",
              "      <td>1</td>\n",
              "      <td>0</td>\n",
              "      <td>0</td>\n",
              "      <td>0</td>\n",
              "      <td>0</td>\n",
              "      <td>1</td>\n",
              "      <td>0</td>\n",
              "      <td>0</td>\n",
              "      <td>1</td>\n",
              "    </tr>\n",
              "    <tr>\n",
              "      <th>92</th>\n",
              "      <td>2023</td>\n",
              "      <td>4</td>\n",
              "      <td>4</td>\n",
              "      <td>83000000</td>\n",
              "      <td>0</td>\n",
              "      <td>0</td>\n",
              "      <td>0</td>\n",
              "      <td>0</td>\n",
              "      <td>0</td>\n",
              "      <td>0</td>\n",
              "      <td>0</td>\n",
              "      <td>0</td>\n",
              "      <td>0</td>\n",
              "      <td>0</td>\n",
              "      <td>0</td>\n",
              "      <td>0</td>\n",
              "      <td>0</td>\n",
              "      <td>0</td>\n",
              "      <td>0</td>\n",
              "      <td>0</td>\n",
              "      <td>0</td>\n",
              "      <td>0</td>\n",
              "      <td>0</td>\n",
              "      <td>0</td>\n",
              "      <td>0</td>\n",
              "      <td>0</td>\n",
              "    </tr>\n",
              "    <tr>\n",
              "      <th>93</th>\n",
              "      <td>2023</td>\n",
              "      <td>7</td>\n",
              "      <td>7</td>\n",
              "      <td>90000000</td>\n",
              "      <td>0</td>\n",
              "      <td>0</td>\n",
              "      <td>0</td>\n",
              "      <td>0</td>\n",
              "      <td>0</td>\n",
              "      <td>0</td>\n",
              "      <td>0</td>\n",
              "      <td>0</td>\n",
              "      <td>0</td>\n",
              "      <td>0</td>\n",
              "      <td>0</td>\n",
              "      <td>0</td>\n",
              "      <td>0</td>\n",
              "      <td>0</td>\n",
              "      <td>0</td>\n",
              "      <td>0</td>\n",
              "      <td>0</td>\n",
              "      <td>0</td>\n",
              "      <td>0</td>\n",
              "      <td>0</td>\n",
              "      <td>0</td>\n",
              "      <td>0</td>\n",
              "    </tr>\n",
              "  </tbody>\n",
              "</table>\n",
              "<p>94 rows × 26 columns</p>\n",
              "</div>"
            ],
            "text/plain": [
              "    area  baths  beds      price  ...  Alarm  Garden  Scenic View  Ensuite\n",
              "0   2428      8     6   85000000  ...      0       1            0        1\n",
              "1   6001      3     4   75000000  ...      1       1            0        1\n",
              "2    800      5     5     340000  ...      1       1            1        1\n",
              "3   2833      5     5  150000000  ...      1       1            0        1\n",
              "4   2023      8     8  150000000  ...      1       1            1        1\n",
              "..   ...    ...   ...        ...  ...    ...     ...          ...      ...\n",
              "89  2000      6     5  150000000  ...      1       1            1        1\n",
              "90  2023      8     6  200000000  ...      1       1            0        1\n",
              "91  2023      7     7  150000000  ...      1       0            0        1\n",
              "92  2023      4     4   83000000  ...      0       0            0        0\n",
              "93  2023      7     7   90000000  ...      0       0            0        0\n",
              "\n",
              "[94 rows x 26 columns]"
            ]
          },
          "metadata": {
            "tags": []
          },
          "execution_count": 44
        }
      ]
    },
    {
      "cell_type": "markdown",
      "metadata": {
        "id": "vHuESU79MHNW",
        "colab_type": "text"
      },
      "source": [
        "Our price being the target variable needs to be at the end"
      ]
    },
    {
      "cell_type": "code",
      "metadata": {
        "id": "gYcT_V6TMLjM",
        "colab_type": "code",
        "colab": {
          "base_uri": "https://localhost:8080/",
          "height": 219
        },
        "outputId": "9dd659fb-f62a-45d7-aa74-9602264bc9f9"
      },
      "source": [
        "df1 = df.pop('price')\n",
        "df['price']  = df1\n",
        "df.head(2)"
      ],
      "execution_count": null,
      "outputs": [
        {
          "output_type": "execute_result",
          "data": {
            "text/html": [
              "<div>\n",
              "<style scoped>\n",
              "    .dataframe tbody tr th:only-of-type {\n",
              "        vertical-align: middle;\n",
              "    }\n",
              "\n",
              "    .dataframe tbody tr th {\n",
              "        vertical-align: top;\n",
              "    }\n",
              "\n",
              "    .dataframe thead th {\n",
              "        text-align: right;\n",
              "    }\n",
              "</style>\n",
              "<table border=\"1\" class=\"dataframe\">\n",
              "  <thead>\n",
              "    <tr style=\"text-align: right;\">\n",
              "      <th></th>\n",
              "      <th>area</th>\n",
              "      <th>baths</th>\n",
              "      <th>beds</th>\n",
              "      <th>externalFeatures</th>\n",
              "      <th>generalFeatures</th>\n",
              "      <th>internalFeatures</th>\n",
              "      <th>Electric Fence</th>\n",
              "      <th>Built in Cupboards</th>\n",
              "      <th>Pets Allowed</th>\n",
              "      <th>Fence</th>\n",
              "      <th>CCTV</th>\n",
              "      <th>Sea View</th>\n",
              "      <th>Golf Course</th>\n",
              "      <th>Backup Generator</th>\n",
              "      <th>Lift Elevator</th>\n",
              "      <th>Walk In Closet</th>\n",
              "      <th>Water Included</th>\n",
              "      <th>Kitchen</th>\n",
              "      <th>Aircon</th>\n",
              "      <th>Electricity Included</th>\n",
              "      <th>Bore Hole</th>\n",
              "      <th>Wheel Chair Friendly</th>\n",
              "      <th>Balcony</th>\n",
              "      <th>Fibre Internet</th>\n",
              "      <th>Alarm</th>\n",
              "      <th>Garden</th>\n",
              "      <th>Scenic View</th>\n",
              "      <th>Ensuite</th>\n",
              "      <th>price</th>\n",
              "    </tr>\n",
              "  </thead>\n",
              "  <tbody>\n",
              "    <tr>\n",
              "      <th>0</th>\n",
              "      <td>2428</td>\n",
              "      <td>8</td>\n",
              "      <td>6</td>\n",
              "      <td>[ Built in Cupboards ,  Ensuite ,  Kitchen ]</td>\n",
              "      <td>[ Balcony ,  Fence ,  Garden ]</td>\n",
              "      <td>[]</td>\n",
              "      <td>0</td>\n",
              "      <td>1</td>\n",
              "      <td>0</td>\n",
              "      <td>1</td>\n",
              "      <td>0</td>\n",
              "      <td>0</td>\n",
              "      <td>0</td>\n",
              "      <td>0</td>\n",
              "      <td>0</td>\n",
              "      <td>0</td>\n",
              "      <td>0</td>\n",
              "      <td>1</td>\n",
              "      <td>0</td>\n",
              "      <td>0</td>\n",
              "      <td>0</td>\n",
              "      <td>0</td>\n",
              "      <td>1</td>\n",
              "      <td>0</td>\n",
              "      <td>0</td>\n",
              "      <td>1</td>\n",
              "      <td>0</td>\n",
              "      <td>1</td>\n",
              "      <td>85000000</td>\n",
              "    </tr>\n",
              "    <tr>\n",
              "      <th>1</th>\n",
              "      <td>6001</td>\n",
              "      <td>3</td>\n",
              "      <td>4</td>\n",
              "      <td>[ Fence ,  Garden ]</td>\n",
              "      <td>[ Fibre Internet ,  Pets Allowed ]</td>\n",
              "      <td>[ Alarm ,  Built in Cupboards ,  Ensuite ,  Ki...</td>\n",
              "      <td>0</td>\n",
              "      <td>1</td>\n",
              "      <td>1</td>\n",
              "      <td>1</td>\n",
              "      <td>0</td>\n",
              "      <td>0</td>\n",
              "      <td>0</td>\n",
              "      <td>0</td>\n",
              "      <td>0</td>\n",
              "      <td>1</td>\n",
              "      <td>0</td>\n",
              "      <td>1</td>\n",
              "      <td>0</td>\n",
              "      <td>0</td>\n",
              "      <td>0</td>\n",
              "      <td>0</td>\n",
              "      <td>0</td>\n",
              "      <td>1</td>\n",
              "      <td>1</td>\n",
              "      <td>1</td>\n",
              "      <td>0</td>\n",
              "      <td>1</td>\n",
              "      <td>75000000</td>\n",
              "    </tr>\n",
              "  </tbody>\n",
              "</table>\n",
              "</div>"
            ],
            "text/plain": [
              "   area  baths  beds  ... Scenic View Ensuite     price\n",
              "0  2428      8     6  ...           0       1  85000000\n",
              "1  6001      3     4  ...           0       1  75000000\n",
              "\n",
              "[2 rows x 29 columns]"
            ]
          },
          "metadata": {
            "tags": []
          },
          "execution_count": 45
        }
      ]
    },
    {
      "cell_type": "markdown",
      "metadata": {
        "id": "c52O5QMIFZ8q",
        "colab_type": "text"
      },
      "source": [
        "#  EXPLORATORY DATA ANALYSIS"
      ]
    },
    {
      "cell_type": "markdown",
      "metadata": {
        "id": "Z8J7RgHRBZbU",
        "colab_type": "text"
      },
      "source": [
        "We need to make sure that our data is now cleaned"
      ]
    },
    {
      "cell_type": "code",
      "metadata": {
        "id": "LcP21wUcBUuI",
        "colab_type": "code",
        "colab": {
          "base_uri": "https://localhost:8080/",
          "height": 660
        },
        "outputId": "7ca33165-e642-41fc-c41c-1f677514927a"
      },
      "source": [
        "df.info()"
      ],
      "execution_count": null,
      "outputs": [
        {
          "output_type": "stream",
          "text": [
            "<class 'pandas.core.frame.DataFrame'>\n",
            "RangeIndex: 94 entries, 0 to 93\n",
            "Data columns (total 29 columns):\n",
            " #   Column                Non-Null Count  Dtype \n",
            "---  ------                --------------  ----- \n",
            " 0   area                  94 non-null     int64 \n",
            " 1   baths                 94 non-null     int64 \n",
            " 2   beds                  94 non-null     int64 \n",
            " 3   externalFeatures      94 non-null     object\n",
            " 4   generalFeatures       94 non-null     object\n",
            " 5   internalFeatures      94 non-null     object\n",
            " 6   Electric Fence        94 non-null     int64 \n",
            " 7   Built in Cupboards    94 non-null     int64 \n",
            " 8   Pets Allowed          94 non-null     int64 \n",
            " 9   Fence                 94 non-null     int64 \n",
            " 10  CCTV                  94 non-null     int64 \n",
            " 11  Sea View              94 non-null     int64 \n",
            " 12  Golf Course           94 non-null     int64 \n",
            " 13  Backup Generator      94 non-null     int64 \n",
            " 14  Lift Elevator         94 non-null     int64 \n",
            " 15  Walk In Closet        94 non-null     int64 \n",
            " 16  Water Included        94 non-null     int64 \n",
            " 17  Kitchen               94 non-null     int64 \n",
            " 18  Aircon                94 non-null     int64 \n",
            " 19  Electricity Included  94 non-null     int64 \n",
            " 20  Bore Hole             94 non-null     int64 \n",
            " 21  Wheel Chair Friendly  94 non-null     int64 \n",
            " 22  Balcony               94 non-null     int64 \n",
            " 23  Fibre Internet        94 non-null     int64 \n",
            " 24  Alarm                 94 non-null     int64 \n",
            " 25  Garden                94 non-null     int64 \n",
            " 26  Scenic View           94 non-null     int64 \n",
            " 27  Ensuite               94 non-null     int64 \n",
            " 28  price                 94 non-null     int64 \n",
            "dtypes: int64(26), object(3)\n",
            "memory usage: 21.4+ KB\n"
          ],
          "name": "stdout"
        }
      ]
    },
    {
      "cell_type": "code",
      "metadata": {
        "id": "Z-o0uotLBinV",
        "colab_type": "code",
        "colab": {
          "base_uri": "https://localhost:8080/",
          "height": 35
        },
        "outputId": "131d1ad3-18e4-4a2f-9d5b-4c71b7ab6489"
      },
      "source": [
        "df.shape"
      ],
      "execution_count": null,
      "outputs": [
        {
          "output_type": "execute_result",
          "data": {
            "text/plain": [
              "(94, 29)"
            ]
          },
          "metadata": {
            "tags": []
          },
          "execution_count": 47
        }
      ]
    },
    {
      "cell_type": "markdown",
      "metadata": {
        "id": "fyruVHkEBlcl",
        "colab_type": "text"
      },
      "source": [
        "Our dataset has 94 data points with 29 columns. We have 28 features and on target variable the price ."
      ]
    },
    {
      "cell_type": "code",
      "metadata": {
        "id": "x0rvKzNRBtPL",
        "colab_type": "code",
        "colab": {
          "base_uri": "https://localhost:8080/",
          "height": 282
        },
        "outputId": "059dd8ce-34e1-48d8-e5e5-2c082ee4ec6d"
      },
      "source": [
        "import math\n",
        "# all_numerical = ['Sea View', 'Kitchen', 'Lift Elevator', 'Water Included', 'Balcony', 'Garden', 'Wheel Chair Friendly', 'Fence', 'Golf Course', 'Scenic View', 'CCTV', 'Walk In Closet', 'Alarm', 'Backup Generator', 'Electric Fence', 'Fibre Internet', 'Aircon', 'Electricity Included', 'Pets Allowed', 'Built in Cupboards', 'Ensuite', 'Bore Hole','price','area','beds','baths']\n",
        "all_numerical = [ 'Balcony','area','beds','baths']\n",
        "\n",
        "# this plots multiple seaborn histograms on different subplots.\n",
        "#\n",
        "def plot_multiple_histograms(df, cols):\n",
        "    num_plots = len(cols)\n",
        "    num_cols = math.ceil(np.sqrt(num_plots))\n",
        "    num_rows = math.ceil(num_plots/num_cols)\n",
        "        \n",
        "    fig, axs = plt.subplots(num_rows, num_cols)\n",
        "    \n",
        "    for ind, col in enumerate(cols):\n",
        "        i = math.floor(ind/num_cols)\n",
        "        j = ind - i*num_cols\n",
        "            \n",
        "        if num_rows == 1:\n",
        "            if num_cols == 1:\n",
        "                sns.distplot(df[col], kde=True, ax=axs)\n",
        "            else:\n",
        "                sns.distplot(df[col], kde=True, ax=axs[j])\n",
        "        else:\n",
        "            sns.distplot(df[col], kde=True, ax=axs[i, j])\n",
        "\n",
        "            \n",
        "plot_multiple_histograms(df,all_numerical)"
      ],
      "execution_count": null,
      "outputs": [
        {
          "output_type": "display_data",
          "data": {
            "image/png": "[encoded data removed]",
            "text/plain": [
              "<Figure size 432x288 with 4 Axes>"
            ]
          },
          "metadata": {
            "tags": [],
            "needs_background": "light"
          }
        }
      ]
    },
    {
      "cell_type": "code",
      "metadata": {
        "id": "CBR7z_1vQkGv",
        "colab_type": "code",
        "colab": {
          "base_uri": "https://localhost:8080/",
          "height": 934
        },
        "outputId": "2fd0cf21-7d1d-4bb5-e2b3-fe7438e43aed"
      },
      "source": [
        "df.describe().T"
      ],
      "execution_count": null,
      "outputs": [
        {
          "output_type": "execute_result",
          "data": {
            "text/html": [
              "<div>\n",
              "<style scoped>\n",
              "    .dataframe tbody tr th:only-of-type {\n",
              "        vertical-align: middle;\n",
              "    }\n",
              "\n",
              "    .dataframe tbody tr th {\n",
              "        vertical-align: top;\n",
              "    }\n",
              "\n",
              "    .dataframe thead th {\n",
              "        text-align: right;\n",
              "    }\n",
              "</style>\n",
              "<table border=\"1\" class=\"dataframe\">\n",
              "  <thead>\n",
              "    <tr style=\"text-align: right;\">\n",
              "      <th></th>\n",
              "      <th>count</th>\n",
              "      <th>mean</th>\n",
              "      <th>std</th>\n",
              "      <th>min</th>\n",
              "      <th>25%</th>\n",
              "      <th>50%</th>\n",
              "      <th>75%</th>\n",
              "      <th>max</th>\n",
              "    </tr>\n",
              "  </thead>\n",
              "  <tbody>\n",
              "    <tr>\n",
              "      <th>area</th>\n",
              "      <td>94.0</td>\n",
              "      <td>2.024862e+03</td>\n",
              "      <td>8.604055e+02</td>\n",
              "      <td>186.0</td>\n",
              "      <td>2023.0</td>\n",
              "      <td>2024.0</td>\n",
              "      <td>2.024000e+03</td>\n",
              "      <td>6001.0</td>\n",
              "    </tr>\n",
              "    <tr>\n",
              "      <th>baths</th>\n",
              "      <td>94.0</td>\n",
              "      <td>5.436170e+00</td>\n",
              "      <td>1.223063e+00</td>\n",
              "      <td>3.0</td>\n",
              "      <td>5.0</td>\n",
              "      <td>5.0</td>\n",
              "      <td>6.000000e+00</td>\n",
              "      <td>9.0</td>\n",
              "    </tr>\n",
              "    <tr>\n",
              "      <th>beds</th>\n",
              "      <td>94.0</td>\n",
              "      <td>5.063830e+00</td>\n",
              "      <td>1.013972e+00</td>\n",
              "      <td>3.0</td>\n",
              "      <td>4.0</td>\n",
              "      <td>5.0</td>\n",
              "      <td>6.000000e+00</td>\n",
              "      <td>8.0</td>\n",
              "    </tr>\n",
              "    <tr>\n",
              "      <th>Electric Fence</th>\n",
              "      <td>94.0</td>\n",
              "      <td>5.638298e-01</td>\n",
              "      <td>4.985681e-01</td>\n",
              "      <td>0.0</td>\n",
              "      <td>0.0</td>\n",
              "      <td>1.0</td>\n",
              "      <td>1.000000e+00</td>\n",
              "      <td>1.0</td>\n",
              "    </tr>\n",
              "    <tr>\n",
              "      <th>Built in Cupboards</th>\n",
              "      <td>94.0</td>\n",
              "      <td>6.489362e-01</td>\n",
              "      <td>4.798621e-01</td>\n",
              "      <td>0.0</td>\n",
              "      <td>0.0</td>\n",
              "      <td>1.0</td>\n",
              "      <td>1.000000e+00</td>\n",
              "      <td>1.0</td>\n",
              "    </tr>\n",
              "    <tr>\n",
              "      <th>Pets Allowed</th>\n",
              "      <td>94.0</td>\n",
              "      <td>5.106383e-01</td>\n",
              "      <td>5.025672e-01</td>\n",
              "      <td>0.0</td>\n",
              "      <td>0.0</td>\n",
              "      <td>1.0</td>\n",
              "      <td>1.000000e+00</td>\n",
              "      <td>1.0</td>\n",
              "    </tr>\n",
              "    <tr>\n",
              "      <th>Fence</th>\n",
              "      <td>94.0</td>\n",
              "      <td>5.638298e-01</td>\n",
              "      <td>4.985681e-01</td>\n",
              "      <td>0.0</td>\n",
              "      <td>0.0</td>\n",
              "      <td>1.0</td>\n",
              "      <td>1.000000e+00</td>\n",
              "      <td>1.0</td>\n",
              "    </tr>\n",
              "    <tr>\n",
              "      <th>CCTV</th>\n",
              "      <td>94.0</td>\n",
              "      <td>3.829787e-01</td>\n",
              "      <td>4.887197e-01</td>\n",
              "      <td>0.0</td>\n",
              "      <td>0.0</td>\n",
              "      <td>0.0</td>\n",
              "      <td>1.000000e+00</td>\n",
              "      <td>1.0</td>\n",
              "    </tr>\n",
              "    <tr>\n",
              "      <th>Sea View</th>\n",
              "      <td>94.0</td>\n",
              "      <td>1.063830e-02</td>\n",
              "      <td>1.031421e-01</td>\n",
              "      <td>0.0</td>\n",
              "      <td>0.0</td>\n",
              "      <td>0.0</td>\n",
              "      <td>0.000000e+00</td>\n",
              "      <td>1.0</td>\n",
              "    </tr>\n",
              "    <tr>\n",
              "      <th>Golf Course</th>\n",
              "      <td>94.0</td>\n",
              "      <td>3.191489e-02</td>\n",
              "      <td>1.767160e-01</td>\n",
              "      <td>0.0</td>\n",
              "      <td>0.0</td>\n",
              "      <td>0.0</td>\n",
              "      <td>0.000000e+00</td>\n",
              "      <td>1.0</td>\n",
              "    </tr>\n",
              "    <tr>\n",
              "      <th>Backup Generator</th>\n",
              "      <td>94.0</td>\n",
              "      <td>3.510638e-01</td>\n",
              "      <td>4.798621e-01</td>\n",
              "      <td>0.0</td>\n",
              "      <td>0.0</td>\n",
              "      <td>0.0</td>\n",
              "      <td>1.000000e+00</td>\n",
              "      <td>1.0</td>\n",
              "    </tr>\n",
              "    <tr>\n",
              "      <th>Lift Elevator</th>\n",
              "      <td>94.0</td>\n",
              "      <td>2.127660e-02</td>\n",
              "      <td>1.450787e-01</td>\n",
              "      <td>0.0</td>\n",
              "      <td>0.0</td>\n",
              "      <td>0.0</td>\n",
              "      <td>0.000000e+00</td>\n",
              "      <td>1.0</td>\n",
              "    </tr>\n",
              "    <tr>\n",
              "      <th>Walk In Closet</th>\n",
              "      <td>94.0</td>\n",
              "      <td>5.106383e-01</td>\n",
              "      <td>5.025672e-01</td>\n",
              "      <td>0.0</td>\n",
              "      <td>0.0</td>\n",
              "      <td>1.0</td>\n",
              "      <td>1.000000e+00</td>\n",
              "      <td>1.0</td>\n",
              "    </tr>\n",
              "    <tr>\n",
              "      <th>Water Included</th>\n",
              "      <td>94.0</td>\n",
              "      <td>2.659574e-01</td>\n",
              "      <td>4.442108e-01</td>\n",
              "      <td>0.0</td>\n",
              "      <td>0.0</td>\n",
              "      <td>0.0</td>\n",
              "      <td>1.000000e+00</td>\n",
              "      <td>1.0</td>\n",
              "    </tr>\n",
              "    <tr>\n",
              "      <th>Kitchen</th>\n",
              "      <td>94.0</td>\n",
              "      <td>6.702128e-01</td>\n",
              "      <td>4.726566e-01</td>\n",
              "      <td>0.0</td>\n",
              "      <td>0.0</td>\n",
              "      <td>1.0</td>\n",
              "      <td>1.000000e+00</td>\n",
              "      <td>1.0</td>\n",
              "    </tr>\n",
              "    <tr>\n",
              "      <th>Aircon</th>\n",
              "      <td>94.0</td>\n",
              "      <td>2.553191e-01</td>\n",
              "      <td>4.383785e-01</td>\n",
              "      <td>0.0</td>\n",
              "      <td>0.0</td>\n",
              "      <td>0.0</td>\n",
              "      <td>7.500000e-01</td>\n",
              "      <td>1.0</td>\n",
              "    </tr>\n",
              "    <tr>\n",
              "      <th>Electricity Included</th>\n",
              "      <td>94.0</td>\n",
              "      <td>2.765957e-01</td>\n",
              "      <td>4.497133e-01</td>\n",
              "      <td>0.0</td>\n",
              "      <td>0.0</td>\n",
              "      <td>0.0</td>\n",
              "      <td>1.000000e+00</td>\n",
              "      <td>1.0</td>\n",
              "    </tr>\n",
              "    <tr>\n",
              "      <th>Bore Hole</th>\n",
              "      <td>94.0</td>\n",
              "      <td>3.936170e-01</td>\n",
              "      <td>4.911712e-01</td>\n",
              "      <td>0.0</td>\n",
              "      <td>0.0</td>\n",
              "      <td>0.0</td>\n",
              "      <td>1.000000e+00</td>\n",
              "      <td>1.0</td>\n",
              "    </tr>\n",
              "    <tr>\n",
              "      <th>Wheel Chair Friendly</th>\n",
              "      <td>94.0</td>\n",
              "      <td>2.340426e-01</td>\n",
              "      <td>4.256692e-01</td>\n",
              "      <td>0.0</td>\n",
              "      <td>0.0</td>\n",
              "      <td>0.0</td>\n",
              "      <td>0.000000e+00</td>\n",
              "      <td>1.0</td>\n",
              "    </tr>\n",
              "    <tr>\n",
              "      <th>Balcony</th>\n",
              "      <td>94.0</td>\n",
              "      <td>5.000000e-01</td>\n",
              "      <td>5.026810e-01</td>\n",
              "      <td>0.0</td>\n",
              "      <td>0.0</td>\n",
              "      <td>0.5</td>\n",
              "      <td>1.000000e+00</td>\n",
              "      <td>1.0</td>\n",
              "    </tr>\n",
              "    <tr>\n",
              "      <th>Fibre Internet</th>\n",
              "      <td>94.0</td>\n",
              "      <td>3.936170e-01</td>\n",
              "      <td>4.911712e-01</td>\n",
              "      <td>0.0</td>\n",
              "      <td>0.0</td>\n",
              "      <td>0.0</td>\n",
              "      <td>1.000000e+00</td>\n",
              "      <td>1.0</td>\n",
              "    </tr>\n",
              "    <tr>\n",
              "      <th>Alarm</th>\n",
              "      <td>94.0</td>\n",
              "      <td>4.361702e-01</td>\n",
              "      <td>4.985681e-01</td>\n",
              "      <td>0.0</td>\n",
              "      <td>0.0</td>\n",
              "      <td>0.0</td>\n",
              "      <td>1.000000e+00</td>\n",
              "      <td>1.0</td>\n",
              "    </tr>\n",
              "    <tr>\n",
              "      <th>Garden</th>\n",
              "      <td>94.0</td>\n",
              "      <td>6.382979e-01</td>\n",
              "      <td>4.830696e-01</td>\n",
              "      <td>0.0</td>\n",
              "      <td>0.0</td>\n",
              "      <td>1.0</td>\n",
              "      <td>1.000000e+00</td>\n",
              "      <td>1.0</td>\n",
              "    </tr>\n",
              "    <tr>\n",
              "      <th>Scenic View</th>\n",
              "      <td>94.0</td>\n",
              "      <td>2.765957e-01</td>\n",
              "      <td>4.497133e-01</td>\n",
              "      <td>0.0</td>\n",
              "      <td>0.0</td>\n",
              "      <td>0.0</td>\n",
              "      <td>1.000000e+00</td>\n",
              "      <td>1.0</td>\n",
              "    </tr>\n",
              "    <tr>\n",
              "      <th>Ensuite</th>\n",
              "      <td>94.0</td>\n",
              "      <td>6.702128e-01</td>\n",
              "      <td>4.726566e-01</td>\n",
              "      <td>0.0</td>\n",
              "      <td>0.0</td>\n",
              "      <td>1.0</td>\n",
              "      <td>1.000000e+00</td>\n",
              "      <td>1.0</td>\n",
              "    </tr>\n",
              "    <tr>\n",
              "      <th>price</th>\n",
              "      <td>94.0</td>\n",
              "      <td>1.232536e+08</td>\n",
              "      <td>5.631485e+07</td>\n",
              "      <td>340000.0</td>\n",
              "      <td>85000000.0</td>\n",
              "      <td>120000000.0</td>\n",
              "      <td>1.587500e+08</td>\n",
              "      <td>260000000.0</td>\n",
              "    </tr>\n",
              "  </tbody>\n",
              "</table>\n",
              "</div>"
            ],
            "text/plain": [
              "                      count          mean  ...           75%          max\n",
              "area                   94.0  2.024862e+03  ...  2.024000e+03       6001.0\n",
              "baths                  94.0  5.436170e+00  ...  6.000000e+00          9.0\n",
              "beds                   94.0  5.063830e+00  ...  6.000000e+00          8.0\n",
              "Electric Fence         94.0  5.638298e-01  ...  1.000000e+00          1.0\n",
              "Built in Cupboards     94.0  6.489362e-01  ...  1.000000e+00          1.0\n",
              "Pets Allowed           94.0  5.106383e-01  ...  1.000000e+00          1.0\n",
              "Fence                  94.0  5.638298e-01  ...  1.000000e+00          1.0\n",
              "CCTV                   94.0  3.829787e-01  ...  1.000000e+00          1.0\n",
              "Sea View               94.0  1.063830e-02  ...  0.000000e+00          1.0\n",
              "Golf Course            94.0  3.191489e-02  ...  0.000000e+00          1.0\n",
              "Backup Generator       94.0  3.510638e-01  ...  1.000000e+00          1.0\n",
              "Lift Elevator          94.0  2.127660e-02  ...  0.000000e+00          1.0\n",
              "Walk In Closet         94.0  5.106383e-01  ...  1.000000e+00          1.0\n",
              "Water Included         94.0  2.659574e-01  ...  1.000000e+00          1.0\n",
              "Kitchen                94.0  6.702128e-01  ...  1.000000e+00          1.0\n",
              "Aircon                 94.0  2.553191e-01  ...  7.500000e-01          1.0\n",
              "Electricity Included   94.0  2.765957e-01  ...  1.000000e+00          1.0\n",
              "Bore Hole              94.0  3.936170e-01  ...  1.000000e+00          1.0\n",
              "Wheel Chair Friendly   94.0  2.340426e-01  ...  0.000000e+00          1.0\n",
              "Balcony                94.0  5.000000e-01  ...  1.000000e+00          1.0\n",
              "Fibre Internet         94.0  3.936170e-01  ...  1.000000e+00          1.0\n",
              "Alarm                  94.0  4.361702e-01  ...  1.000000e+00          1.0\n",
              "Garden                 94.0  6.382979e-01  ...  1.000000e+00          1.0\n",
              "Scenic View            94.0  2.765957e-01  ...  1.000000e+00          1.0\n",
              "Ensuite                94.0  6.702128e-01  ...  1.000000e+00          1.0\n",
              "price                  94.0  1.232536e+08  ...  1.587500e+08  260000000.0\n",
              "\n",
              "[26 rows x 8 columns]"
            ]
          },
          "metadata": {
            "tags": []
          },
          "execution_count": 49
        }
      ]
    },
    {
      "cell_type": "markdown",
      "metadata": {
        "id": "cs41_FLYDC9E",
        "colab_type": "text"
      },
      "source": [
        "What is the relationship between area and price?"
      ]
    },
    {
      "cell_type": "code",
      "metadata": {
        "id": "XvnmcOpGDHxQ",
        "colab_type": "code",
        "colab": {
          "base_uri": "https://localhost:8080/",
          "height": 290
        },
        "outputId": "0cbfce79-6766-4642-fd44-dcf59bd75918"
      },
      "source": [
        "sns.scatterplot(x=df['area'], y=df['price']);"
      ],
      "execution_count": null,
      "outputs": [
        {
          "output_type": "display_data",
          "data": {
            "image/png": "[encoded data removed]",
            "text/plain": [
              "<Figure size 432x288 with 1 Axes>"
            ]
          },
          "metadata": {
            "tags": [],
            "needs_background": "light"
          }
        }
      ]
    },
    {
      "cell_type": "markdown",
      "metadata": {
        "id": "zqzXazg_DP6V",
        "colab_type": "text"
      },
      "source": [
        "from the above, most houses are within the same area. From skiming throught the data one can see that most of the houses are on half an acre as can be shown on the scatterplot. "
      ]
    },
    {
      "cell_type": "markdown",
      "metadata": {
        "id": "sDC4jNuGDl6l",
        "colab_type": "text"
      },
      "source": [
        "What is the relationship between number of bathrooms and price?"
      ]
    },
    {
      "cell_type": "code",
      "metadata": {
        "id": "QBHzCdxJDPaK",
        "colab_type": "code",
        "colab": {
          "base_uri": "https://localhost:8080/",
          "height": 290
        },
        "outputId": "f5f55f4f-c1a5-4173-ffaa-c2fe7ca7ef28"
      },
      "source": [
        "sns.scatterplot(x=df['baths'], y=df['price']);"
      ],
      "execution_count": null,
      "outputs": [
        {
          "output_type": "display_data",
          "data": {
            "image/png": "[encoded data removed]",
            "text/plain": [
              "<Figure size 432x288 with 1 Axes>"
            ]
          },
          "metadata": {
            "tags": [],
            "needs_background": "light"
          }
        }
      ]
    },
    {
      "cell_type": "markdown",
      "metadata": {
        "id": "zskSuHk6Heeg",
        "colab_type": "text"
      },
      "source": [
        "Naturally the more the bathrooms the pricier the house. "
      ]
    },
    {
      "cell_type": "markdown",
      "metadata": {
        "id": "pxwlMwikFep3",
        "colab_type": "text"
      },
      "source": [
        "# MODEL BUILDING\n",
        "\n",
        "In this task we will use linear regression and neural networks to determine the price of a house in runda."
      ]
    },
    {
      "cell_type": "markdown",
      "metadata": {
        "id": "5ayPiRKaaI5n",
        "colab_type": "text"
      },
      "source": [
        "1 . SPLIT DATA INTO TEST AND TRAINING SET"
      ]
    },
    {
      "cell_type": "markdown",
      "metadata": {
        "id": "yg4J9K1Hbku4",
        "colab_type": "text"
      },
      "source": [
        "Data needs to be split in testing and training sets to avoid overfitting"
      ]
    },
    {
      "cell_type": "code",
      "metadata": {
        "id": "tbww-_SBbjlt",
        "colab_type": "code",
        "colab": {}
      },
      "source": [
        "from sklearn.model_selection import train_test_split"
      ],
      "execution_count": null,
      "outputs": []
    },
    {
      "cell_type": "markdown",
      "metadata": {
        "id": "eTerbtP2b3uZ",
        "colab_type": "text"
      },
      "source": [
        "The data needs to be split into the features and the target variable. We are using all features to describe the price of a house."
      ]
    },
    {
      "cell_type": "code",
      "metadata": {
        "id": "cm4L4KOpnBRQ",
        "colab_type": "code",
        "colab": {
          "base_uri": "https://localhost:8080/",
          "height": 53
        },
        "outputId": "a21756ae-314f-4168-b725-1f21d588ca57"
      },
      "source": [
        "all_numerical = ['Sea View', 'Kitchen', 'Lift Elevator', 'Water Included', 'Balcony', 'Garden', 'Wheel Chair Friendly', 'Fence', 'Golf Course', 'Scenic View', 'CCTV', 'Walk In Closet', 'Alarm', 'Backup Generator', 'Electric Fence', 'Fibre Internet', 'Aircon', 'Electricity Included', 'Pets Allowed', 'Built in Cupboards', 'Ensuite', 'Bore Hole','price','area','beds','baths']\n",
        "# X - features\n",
        "num_of_columns = len(df.columns)\n",
        "a =num_of_columns-1\n",
        "X = df[['Sea View', 'Kitchen', 'Lift Elevator', 'Water Included', 'Balcony', 'Garden', 'Wheel Chair Friendly', 'Fence', 'Golf Course', 'Scenic View', 'CCTV', 'Walk In Closet', 'Alarm', 'Backup Generator', 'Electric Fence', 'Fibre Internet', 'Aircon', 'Electricity Included', 'Pets Allowed', 'Built in Cupboards', 'Ensuite', 'Bore Hole','area','beds','baths']]\n",
        "\n",
        "print(\"X shape\" , X.shape)\n",
        "# y price\n",
        "y = df['price']\n",
        "print(\"y shape\" , y.shape)\n"
      ],
      "execution_count": null,
      "outputs": [
        {
          "output_type": "stream",
          "text": [
            "X shape (94, 25)\n",
            "y shape (94,)\n"
          ],
          "name": "stdout"
        }
      ]
    },
    {
      "cell_type": "code",
      "metadata": {
        "id": "8a3btYApeMB3",
        "colab_type": "code",
        "colab": {}
      },
      "source": [
        " X_train, X_test, y_train, y_test = train_test_split(X, y, test_size=0.3, random_state=42)"
      ],
      "execution_count": null,
      "outputs": []
    },
    {
      "cell_type": "markdown",
      "metadata": {
        "id": "fLvRNJ4vdGTA",
        "colab_type": "text"
      },
      "source": [
        "## Linear Regression\n",
        "\n"
      ]
    },
    {
      "cell_type": "code",
      "metadata": {
        "id": "FvyhISXxepn2",
        "colab_type": "code",
        "colab": {}
      },
      "source": [
        "from sklearn.linear_model import LinearRegression\n",
        "from sklearn import metrics\n",
        "%matplotlib inline"
      ],
      "execution_count": null,
      "outputs": []
    },
    {
      "cell_type": "code",
      "metadata": {
        "id": "k1V57xoPk7pH",
        "colab_type": "code",
        "colab": {
          "base_uri": "https://localhost:8080/",
          "height": 35
        },
        "outputId": "78760dbe-7eb4-4f97-9464-139d959f2d92"
      },
      "source": [
        "regressor = LinearRegression()  \n",
        "regressor.fit(X_train, y_train)"
      ],
      "execution_count": null,
      "outputs": [
        {
          "output_type": "execute_result",
          "data": {
            "text/plain": [
              "LinearRegression(copy_X=True, fit_intercept=True, n_jobs=None, normalize=False)"
            ]
          },
          "metadata": {
            "tags": []
          },
          "execution_count": 56
        }
      ]
    },
    {
      "cell_type": "code",
      "metadata": {
        "id": "lDpcw6YloDdG",
        "colab_type": "code",
        "colab": {
          "base_uri": "https://localhost:8080/",
          "height": 834
        },
        "outputId": "ccd80112-e808-4519-ab2c-da507982da41"
      },
      "source": [
        "coeff_df = pd.DataFrame(regressor.coef_, X.columns, columns=['Coefficient'])  \n",
        "coeff_df"
      ],
      "execution_count": null,
      "outputs": [
        {
          "output_type": "execute_result",
          "data": {
            "text/html": [
              "<div>\n",
              "<style scoped>\n",
              "    .dataframe tbody tr th:only-of-type {\n",
              "        vertical-align: middle;\n",
              "    }\n",
              "\n",
              "    .dataframe tbody tr th {\n",
              "        vertical-align: top;\n",
              "    }\n",
              "\n",
              "    .dataframe thead th {\n",
              "        text-align: right;\n",
              "    }\n",
              "</style>\n",
              "<table border=\"1\" class=\"dataframe\">\n",
              "  <thead>\n",
              "    <tr style=\"text-align: right;\">\n",
              "      <th></th>\n",
              "      <th>Coefficient</th>\n",
              "    </tr>\n",
              "  </thead>\n",
              "  <tbody>\n",
              "    <tr>\n",
              "      <th>Sea View</th>\n",
              "      <td>8.371216e+07</td>\n",
              "    </tr>\n",
              "    <tr>\n",
              "      <th>Kitchen</th>\n",
              "      <td>3.026551e+07</td>\n",
              "    </tr>\n",
              "    <tr>\n",
              "      <th>Lift Elevator</th>\n",
              "      <td>5.529048e+07</td>\n",
              "    </tr>\n",
              "    <tr>\n",
              "      <th>Water Included</th>\n",
              "      <td>4.408421e+07</td>\n",
              "    </tr>\n",
              "    <tr>\n",
              "      <th>Balcony</th>\n",
              "      <td>1.398452e+07</td>\n",
              "    </tr>\n",
              "    <tr>\n",
              "      <th>Garden</th>\n",
              "      <td>-7.111794e+06</td>\n",
              "    </tr>\n",
              "    <tr>\n",
              "      <th>Wheel Chair Friendly</th>\n",
              "      <td>7.944083e+07</td>\n",
              "    </tr>\n",
              "    <tr>\n",
              "      <th>Fence</th>\n",
              "      <td>-2.379128e+07</td>\n",
              "    </tr>\n",
              "    <tr>\n",
              "      <th>Golf Course</th>\n",
              "      <td>2.138513e+07</td>\n",
              "    </tr>\n",
              "    <tr>\n",
              "      <th>Scenic View</th>\n",
              "      <td>-6.009416e+06</td>\n",
              "    </tr>\n",
              "    <tr>\n",
              "      <th>CCTV</th>\n",
              "      <td>-2.215613e+07</td>\n",
              "    </tr>\n",
              "    <tr>\n",
              "      <th>Walk In Closet</th>\n",
              "      <td>-3.804818e+07</td>\n",
              "    </tr>\n",
              "    <tr>\n",
              "      <th>Alarm</th>\n",
              "      <td>-6.713300e+04</td>\n",
              "    </tr>\n",
              "    <tr>\n",
              "      <th>Backup Generator</th>\n",
              "      <td>1.214290e+07</td>\n",
              "    </tr>\n",
              "    <tr>\n",
              "      <th>Electric Fence</th>\n",
              "      <td>-6.170145e+06</td>\n",
              "    </tr>\n",
              "    <tr>\n",
              "      <th>Fibre Internet</th>\n",
              "      <td>7.141195e+07</td>\n",
              "    </tr>\n",
              "    <tr>\n",
              "      <th>Aircon</th>\n",
              "      <td>-4.967615e+07</td>\n",
              "    </tr>\n",
              "    <tr>\n",
              "      <th>Electricity Included</th>\n",
              "      <td>-2.070820e+07</td>\n",
              "    </tr>\n",
              "    <tr>\n",
              "      <th>Pets Allowed</th>\n",
              "      <td>-5.845744e+07</td>\n",
              "    </tr>\n",
              "    <tr>\n",
              "      <th>Built in Cupboards</th>\n",
              "      <td>-2.960370e+07</td>\n",
              "    </tr>\n",
              "    <tr>\n",
              "      <th>Ensuite</th>\n",
              "      <td>3.026551e+07</td>\n",
              "    </tr>\n",
              "    <tr>\n",
              "      <th>Bore Hole</th>\n",
              "      <td>2.624601e+07</td>\n",
              "    </tr>\n",
              "    <tr>\n",
              "      <th>area</th>\n",
              "      <td>1.347570e+04</td>\n",
              "    </tr>\n",
              "    <tr>\n",
              "      <th>beds</th>\n",
              "      <td>2.597478e+07</td>\n",
              "    </tr>\n",
              "    <tr>\n",
              "      <th>baths</th>\n",
              "      <td>9.935446e+03</td>\n",
              "    </tr>\n",
              "  </tbody>\n",
              "</table>\n",
              "</div>"
            ],
            "text/plain": [
              "                       Coefficient\n",
              "Sea View              8.371216e+07\n",
              "Kitchen               3.026551e+07\n",
              "Lift Elevator         5.529048e+07\n",
              "Water Included        4.408421e+07\n",
              "Balcony               1.398452e+07\n",
              "Garden               -7.111794e+06\n",
              "Wheel Chair Friendly  7.944083e+07\n",
              "Fence                -2.379128e+07\n",
              "Golf Course           2.138513e+07\n",
              "Scenic View          -6.009416e+06\n",
              "CCTV                 -2.215613e+07\n",
              "Walk In Closet       -3.804818e+07\n",
              "Alarm                -6.713300e+04\n",
              "Backup Generator      1.214290e+07\n",
              "Electric Fence       -6.170145e+06\n",
              "Fibre Internet        7.141195e+07\n",
              "Aircon               -4.967615e+07\n",
              "Electricity Included -2.070820e+07\n",
              "Pets Allowed         -5.845744e+07\n",
              "Built in Cupboards   -2.960370e+07\n",
              "Ensuite               3.026551e+07\n",
              "Bore Hole             2.624601e+07\n",
              "area                  1.347570e+04\n",
              "beds                  2.597478e+07\n",
              "baths                 9.935446e+03"
            ]
          },
          "metadata": {
            "tags": []
          },
          "execution_count": 57
        }
      ]
    },
    {
      "cell_type": "code",
      "metadata": {
        "id": "cl-Fdye7oJVx",
        "colab_type": "code",
        "colab": {}
      },
      "source": [
        "y_pred = regressor.predict(X_test)"
      ],
      "execution_count": null,
      "outputs": []
    },
    {
      "cell_type": "code",
      "metadata": {
        "id": "qUsFiPHQoMCS",
        "colab_type": "code",
        "colab": {
          "base_uri": "https://localhost:8080/",
          "height": 834
        },
        "outputId": "06c6f22b-dd24-4679-d3e0-ce645086fdcb"
      },
      "source": [
        "df0 = pd.DataFrame({'Actual': y_test, 'Predicted': y_pred})\n",
        "df1 = df0.head(25)\n",
        "df1"
      ],
      "execution_count": null,
      "outputs": [
        {
          "output_type": "execute_result",
          "data": {
            "text/html": [
              "<div>\n",
              "<style scoped>\n",
              "    .dataframe tbody tr th:only-of-type {\n",
              "        vertical-align: middle;\n",
              "    }\n",
              "\n",
              "    .dataframe tbody tr th {\n",
              "        vertical-align: top;\n",
              "    }\n",
              "\n",
              "    .dataframe thead th {\n",
              "        text-align: right;\n",
              "    }\n",
              "</style>\n",
              "<table border=\"1\" class=\"dataframe\">\n",
              "  <thead>\n",
              "    <tr style=\"text-align: right;\">\n",
              "      <th></th>\n",
              "      <th>Actual</th>\n",
              "      <th>Predicted</th>\n",
              "    </tr>\n",
              "  </thead>\n",
              "  <tbody>\n",
              "    <tr>\n",
              "      <th>40</th>\n",
              "      <td>225000000</td>\n",
              "      <td>1.124441e+08</td>\n",
              "    </tr>\n",
              "    <tr>\n",
              "      <th>22</th>\n",
              "      <td>37000000</td>\n",
              "      <td>1.617482e+08</td>\n",
              "    </tr>\n",
              "    <tr>\n",
              "      <th>55</th>\n",
              "      <td>37000000</td>\n",
              "      <td>6.601671e+07</td>\n",
              "    </tr>\n",
              "    <tr>\n",
              "      <th>72</th>\n",
              "      <td>105000000</td>\n",
              "      <td>1.246503e+08</td>\n",
              "    </tr>\n",
              "    <tr>\n",
              "      <th>0</th>\n",
              "      <td>85000000</td>\n",
              "      <td>1.579052e+08</td>\n",
              "    </tr>\n",
              "    <tr>\n",
              "      <th>26</th>\n",
              "      <td>70000000</td>\n",
              "      <td>1.390082e+08</td>\n",
              "    </tr>\n",
              "    <tr>\n",
              "      <th>39</th>\n",
              "      <td>178000000</td>\n",
              "      <td>1.124441e+08</td>\n",
              "    </tr>\n",
              "    <tr>\n",
              "      <th>67</th>\n",
              "      <td>80000000</td>\n",
              "      <td>6.826347e+07</td>\n",
              "    </tr>\n",
              "    <tr>\n",
              "      <th>10</th>\n",
              "      <td>140000000</td>\n",
              "      <td>5.071335e+07</td>\n",
              "    </tr>\n",
              "    <tr>\n",
              "      <th>44</th>\n",
              "      <td>180000000</td>\n",
              "      <td>1.124341e+08</td>\n",
              "    </tr>\n",
              "    <tr>\n",
              "      <th>83</th>\n",
              "      <td>90000000</td>\n",
              "      <td>8.647283e+07</td>\n",
              "    </tr>\n",
              "    <tr>\n",
              "      <th>35</th>\n",
              "      <td>170000000</td>\n",
              "      <td>1.124476e+08</td>\n",
              "    </tr>\n",
              "    <tr>\n",
              "      <th>90</th>\n",
              "      <td>200000000</td>\n",
              "      <td>6.593738e+07</td>\n",
              "    </tr>\n",
              "    <tr>\n",
              "      <th>62</th>\n",
              "      <td>120000000</td>\n",
              "      <td>1.615492e+08</td>\n",
              "    </tr>\n",
              "    <tr>\n",
              "      <th>12</th>\n",
              "      <td>95000000</td>\n",
              "      <td>3.769712e+07</td>\n",
              "    </tr>\n",
              "    <tr>\n",
              "      <th>4</th>\n",
              "      <td>150000000</td>\n",
              "      <td>2.364302e+08</td>\n",
              "    </tr>\n",
              "    <tr>\n",
              "      <th>18</th>\n",
              "      <td>79000000</td>\n",
              "      <td>1.374720e+08</td>\n",
              "    </tr>\n",
              "    <tr>\n",
              "      <th>28</th>\n",
              "      <td>130000000</td>\n",
              "      <td>8.127015e+07</td>\n",
              "    </tr>\n",
              "    <tr>\n",
              "      <th>49</th>\n",
              "      <td>150000000</td>\n",
              "      <td>1.064624e+08</td>\n",
              "    </tr>\n",
              "    <tr>\n",
              "      <th>65</th>\n",
              "      <td>90000000</td>\n",
              "      <td>2.196192e+08</td>\n",
              "    </tr>\n",
              "    <tr>\n",
              "      <th>15</th>\n",
              "      <td>18500000</td>\n",
              "      <td>1.152678e+08</td>\n",
              "    </tr>\n",
              "    <tr>\n",
              "      <th>68</th>\n",
              "      <td>220000000</td>\n",
              "      <td>1.584994e+08</td>\n",
              "    </tr>\n",
              "    <tr>\n",
              "      <th>78</th>\n",
              "      <td>200000000</td>\n",
              "      <td>1.384323e+08</td>\n",
              "    </tr>\n",
              "    <tr>\n",
              "      <th>30</th>\n",
              "      <td>170000000</td>\n",
              "      <td>9.094777e+07</td>\n",
              "    </tr>\n",
              "    <tr>\n",
              "      <th>33</th>\n",
              "      <td>90000000</td>\n",
              "      <td>8.910255e+07</td>\n",
              "    </tr>\n",
              "  </tbody>\n",
              "</table>\n",
              "</div>"
            ],
            "text/plain": [
              "       Actual     Predicted\n",
              "40  225000000  1.124441e+08\n",
              "22   37000000  1.617482e+08\n",
              "55   37000000  6.601671e+07\n",
              "72  105000000  1.246503e+08\n",
              "0    85000000  1.579052e+08\n",
              "26   70000000  1.390082e+08\n",
              "39  178000000  1.124441e+08\n",
              "67   80000000  6.826347e+07\n",
              "10  140000000  5.071335e+07\n",
              "44  180000000  1.124341e+08\n",
              "83   90000000  8.647283e+07\n",
              "35  170000000  1.124476e+08\n",
              "90  200000000  6.593738e+07\n",
              "62  120000000  1.615492e+08\n",
              "12   95000000  3.769712e+07\n",
              "4   150000000  2.364302e+08\n",
              "18   79000000  1.374720e+08\n",
              "28  130000000  8.127015e+07\n",
              "49  150000000  1.064624e+08\n",
              "65   90000000  2.196192e+08\n",
              "15   18500000  1.152678e+08\n",
              "68  220000000  1.584994e+08\n",
              "78  200000000  1.384323e+08\n",
              "30  170000000  9.094777e+07\n",
              "33   90000000  8.910255e+07"
            ]
          },
          "metadata": {
            "tags": []
          },
          "execution_count": 59
        }
      ]
    },
    {
      "cell_type": "code",
      "metadata": {
        "id": "9S0yCrwyoayg",
        "colab_type": "code",
        "colab": {
          "base_uri": "https://localhost:8080/",
          "height": 497
        },
        "outputId": "46a1a4d3-3a33-4004-9aa5-6bcff7a63702"
      },
      "source": [
        "df1.plot(kind='bar',figsize=(10,8))\n",
        "plt.grid(which='major', linestyle='-', linewidth='0.5', color='green')\n",
        "plt.grid(which='minor', linestyle=':', linewidth='0.5', color='black')\n",
        "plt.show()"
      ],
      "execution_count": null,
      "outputs": [
        {
          "output_type": "display_data",
          "data": {
            "image/png": "[encoded data removed]",
            "text/plain": [
              "<Figure size 720x576 with 1 Axes>"
            ]
          },
          "metadata": {
            "tags": [],
            "needs_background": "light"
          }
        }
      ]
    },
    {
      "cell_type": "code",
      "metadata": {
        "id": "2ABm5s7mofhj",
        "colab_type": "code",
        "colab": {
          "base_uri": "https://localhost:8080/",
          "height": 71
        },
        "outputId": "9781b32d-75d4-47be-c0ab-f32d6d0425fc"
      },
      "source": [
        "print('Mean Absolute Error:', metrics.mean_absolute_error(y_test, y_pred))  \n",
        "print('Mean Squared Error:', metrics.mean_squared_error(y_test, y_pred))  \n",
        "print('Root Mean Squared Error:', np.sqrt(metrics.mean_squared_error(y_test, y_pred)))"
      ],
      "execution_count": null,
      "outputs": [
        {
          "output_type": "stream",
          "text": [
            "Mean Absolute Error: 64197566.56853049\n",
            "Mean Squared Error: 5450239966979054.0\n",
            "Root Mean Squared Error: 73825740.54473856\n"
          ],
          "name": "stdout"
        }
      ]
    },
    {
      "cell_type": "markdown",
      "metadata": {
        "id": "NVPVqVsmwRF6",
        "colab_type": "text"
      },
      "source": [
        "## Neural Networks"
      ]
    },
    {
      "cell_type": "code",
      "metadata": {
        "id": "EdEp-k3SwYPw",
        "colab_type": "code",
        "colab": {}
      },
      "source": [
        "# Import required libraries\n",
        "import pandas as pd\n",
        "import numpy as np \n",
        "import matplotlib.pyplot as plt\n",
        "import sklearn\n",
        "from sklearn.neural_network import MLPClassifier\n",
        "from sklearn.neural_network import MLPRegressor\n",
        "\n",
        "# Import necessary modules\n",
        "from sklearn.model_selection import train_test_split\n",
        "from sklearn.metrics import mean_squared_error\n",
        "from math import sqrt\n",
        "from sklearn.metrics import r2_score"
      ],
      "execution_count": null,
      "outputs": []
    },
    {
      "cell_type": "code",
      "metadata": {
        "id": "bOF0-S6_wu2e",
        "colab_type": "code",
        "colab": {
          "base_uri": "https://localhost:8080/",
          "height": 73
        },
        "outputId": "8a2a7f2b-e38c-4116-f2b4-de7c69c19a96"
      },
      "source": [
        "from sklearn.neural_network import MLPClassifier\n",
        "\n",
        "mlp = MLPClassifier(hidden_layer_sizes=(8,8,8), activation='relu', solver='adam', max_iter=500)\n",
        "mlp.fit(X_train,y_train)\n",
        "\n",
        "predict_train = mlp.predict(X_train)\n",
        "predict_test = mlp.predict(X_test)"
      ],
      "execution_count": null,
      "outputs": [
        {
          "output_type": "stream",
          "text": [
            "/usr/local/lib/python3.6/dist-packages/sklearn/neural_network/_multilayer_perceptron.py:571: ConvergenceWarning: Stochastic Optimizer: Maximum iterations (500) reached and the optimization hasn't converged yet.\n",
            "  % self.max_iter, ConvergenceWarning)\n"
          ],
          "name": "stderr"
        }
      ]
    },
    {
      "cell_type": "code",
      "metadata": {
        "id": "9RTssIo6wzK6",
        "colab_type": "code",
        "colab": {
          "base_uri": "https://localhost:8080/",
          "height": 1000
        },
        "outputId": "98113d27-5db2-4b92-9890-539a20e9fa6c"
      },
      "source": [
        "from sklearn.metrics import classification_report,confusion_matrix\n",
        "print(confusion_matrix(y_train,predict_train))\n",
        "print(classification_report(y_train,predict_train))"
      ],
      "execution_count": null,
      "outputs": [
        {
          "output_type": "stream",
          "text": [
            "[[ 0  0  0  0  0  0  0  0  0  0  0  0  0  0  0  0  0  1  0  0  0  0  0  0\n",
            "   0  0]\n",
            " [ 0  0  0  0  0  0  0  0  0  0  0  0  0  0  0  0  0  2  0  0  0  0  0  0\n",
            "   0  0]\n",
            " [ 0  0  0  0  0  0  0  0  0  0  0  0  0  0  0  0  0  1  0  0  0  0  0  0\n",
            "   0  0]\n",
            " [ 0  0  0  0  0  0  0  0  0  0  0  0  0  0  0  0  0  1  0  0  0  0  0  0\n",
            "   0  0]\n",
            " [ 0  0  0  0  0  0  0  0  0  0  0  0  0  0  0  0  0  1  0  0  0  0  0  0\n",
            "   0  0]\n",
            " [ 0  0  0  0  0  0  0  0  0  0  0  0  0  0  0  0  0  1  0  0  0  0  0  0\n",
            "   0  0]\n",
            " [ 0  0  0  0  0  0  1  0  0  0  0  0  0  0  0  0  0  6  0  0  0  0  0  0\n",
            "   0  0]\n",
            " [ 0  0  0  0  0  0  0  0  0  0  0  0  0  0  0  0  0  2  0  0  0  0  0  0\n",
            "   0  0]\n",
            " [ 0  0  0  0  0  0  0  0  0  0  0  0  0  0  0  0  0  1  0  0  0  0  0  0\n",
            "   0  0]\n",
            " [ 0  0  0  0  0  0  0  0  0  0  0  0  0  0  0  0  0  5  0  0  0  0  0  0\n",
            "   0  0]\n",
            " [ 0  0  0  0  0  0  0  0  0  0  0  0  0  0  0  0  0  6  0  0  0  0  0  0\n",
            "   0  0]\n",
            " [ 0  0  0  0  0  0  0  0  0  0  0  0  0  0  0  0  0  3  0  0  0  0  0  0\n",
            "   0  0]\n",
            " [ 0  0  0  0  0  0  0  0  0  0  0  0  0  0  0  0  0  2  0  0  0  0  0  0\n",
            "   0  0]\n",
            " [ 0  0  0  0  0  0  0  0  0  0  0  0  0  0  0  0  0  1  0  0  0  0  0  0\n",
            "   0  0]\n",
            " [ 0  0  0  0  0  0  0  0  0  0  0  0  0  0  0  0  0  1  0  0  0  0  0  0\n",
            "   0  0]\n",
            " [ 0  0  0  0  0  0  1  0  0  0  0  0  0  0  0  0  0  2  0  0  0  0  0  0\n",
            "   0  0]\n",
            " [ 0  0  0  0  0  0  0  0  0  0  0  0  0  0  0  0  0  2  0  0  0  0  0  0\n",
            "   0  0]\n",
            " [ 0  0  0  0  0  0  0  0  0  0  0  0  0  0  0  0  0 10  0  0  0  0  0  0\n",
            "   0  0]\n",
            " [ 0  0  0  0  0  0  0  0  0  0  0  0  0  0  0  0  0  1  0  0  0  0  0  0\n",
            "   0  0]\n",
            " [ 0  0  0  0  0  0  0  0  0  0  0  0  0  0  0  0  0  2  0  0  0  0  0  0\n",
            "   0  0]\n",
            " [ 0  0  0  0  0  0  0  0  0  0  0  0  0  0  0  0  0  1  0  0  0  0  0  0\n",
            "   0  0]\n",
            " [ 0  0  0  0  0  0  0  0  0  0  0  0  0  0  0  0  0  1  0  0  0  0  0  0\n",
            "   0  0]\n",
            " [ 0  0  0  0  0  0  0  0  0  0  0  0  0  0  0  0  0  3  0  0  0  0  0  0\n",
            "   0  0]\n",
            " [ 0  0  0  0  0  0  0  0  0  0  0  0  0  0  0  0  0  2  0  0  0  0  0  0\n",
            "   0  0]\n",
            " [ 0  0  0  0  0  0  0  0  0  0  0  0  0  0  0  0  0  4  0  0  0  0  0  0\n",
            "   0  0]\n",
            " [ 0  0  0  0  0  0  0  0  0  0  0  0  0  0  0  0  0  1  0  0  0  0  0  0\n",
            "   0  0]]\n",
            "              precision    recall  f1-score   support\n",
            "\n",
            "      340000       0.00      0.00      0.00         1\n",
            "    28000000       0.00      0.00      0.00         2\n",
            "    34000000       0.00      0.00      0.00         1\n",
            "    36000000       0.00      0.00      0.00         1\n",
            "    37000000       0.00      0.00      0.00         1\n",
            "    65000000       0.00      0.00      0.00         1\n",
            "    75000000       0.50      0.14      0.22         7\n",
            "    80000000       0.00      0.00      0.00         2\n",
            "    83000000       0.00      0.00      0.00         1\n",
            "    85000000       0.00      0.00      0.00         5\n",
            "    90000000       0.00      0.00      0.00         6\n",
            "    95000000       0.00      0.00      0.00         3\n",
            "   100000000       0.00      0.00      0.00         2\n",
            "   115000000       0.00      0.00      0.00         1\n",
            "   120000000       0.00      0.00      0.00         1\n",
            "   130000000       0.00      0.00      0.00         3\n",
            "   140000000       0.00      0.00      0.00         2\n",
            "   150000000       0.16      1.00      0.27        10\n",
            "   155000000       0.00      0.00      0.00         1\n",
            "   160000000       0.00      0.00      0.00         2\n",
            "   170000000       0.00      0.00      0.00         1\n",
            "   180000000       0.00      0.00      0.00         1\n",
            "   200000000       0.00      0.00      0.00         3\n",
            "   210000000       0.00      0.00      0.00         2\n",
            "   220000000       0.00      0.00      0.00         4\n",
            "   260000000       0.00      0.00      0.00         1\n",
            "\n",
            "    accuracy                           0.17        65\n",
            "   macro avg       0.03      0.04      0.02        65\n",
            "weighted avg       0.08      0.17      0.07        65\n",
            "\n"
          ],
          "name": "stdout"
        },
        {
          "output_type": "stream",
          "text": [
            "/usr/local/lib/python3.6/dist-packages/sklearn/metrics/_classification.py:1272: UndefinedMetricWarning: Precision and F-score are ill-defined and being set to 0.0 in labels with no predicted samples. Use `zero_division` parameter to control this behavior.\n",
            "  _warn_prf(average, modifier, msg_start, len(result))\n"
          ],
          "name": "stderr"
        }
      ]
    },
    {
      "cell_type": "code",
      "metadata": {
        "id": "re6ctWQww8EY",
        "colab_type": "code",
        "colab": {
          "base_uri": "https://localhost:8080/",
          "height": 984
        },
        "outputId": "f8e66d76-c45c-445f-ef47-745775c93f99"
      },
      "source": [
        "print(confusion_matrix(y_test,predict_test))\n",
        "print(classification_report(y_test,predict_test))"
      ],
      "execution_count": null,
      "outputs": [
        {
          "output_type": "stream",
          "text": [
            "[[0 0 0 0 0 0 0 0 0 0 0 0 0 1 0 0 0 0 0 0 0]\n",
            " [0 0 0 0 0 0 0 0 0 0 0 0 0 2 0 0 0 0 0 0 0]\n",
            " [0 0 0 1 0 0 0 0 0 0 0 0 0 0 0 0 0 0 0 0 0]\n",
            " [0 0 0 0 0 0 0 0 0 0 0 0 0 0 0 0 0 0 0 0 0]\n",
            " [0 0 0 0 0 0 0 0 0 0 0 0 0 1 0 0 0 0 0 0 0]\n",
            " [0 0 0 0 0 0 0 0 0 0 0 0 0 1 0 0 0 0 0 0 0]\n",
            " [0 0 0 0 0 0 0 0 0 0 0 0 0 1 0 0 0 0 0 0 0]\n",
            " [0 0 0 0 0 0 0 0 0 0 0 0 0 3 0 0 0 0 0 0 0]\n",
            " [0 0 0 0 0 0 0 0 0 0 0 0 0 1 0 0 0 0 0 0 0]\n",
            " [0 0 0 1 0 0 0 0 0 0 0 0 0 0 0 0 0 0 0 0 0]\n",
            " [0 0 0 0 0 0 0 0 0 0 0 0 0 1 0 0 0 0 0 0 0]\n",
            " [0 0 0 0 0 0 0 0 0 0 0 0 0 2 0 0 0 0 0 0 0]\n",
            " [0 0 0 0 0 0 0 0 0 0 0 0 0 1 0 0 0 0 0 0 0]\n",
            " [0 0 0 0 0 0 0 0 0 0 0 0 0 3 0 0 0 0 0 0 0]\n",
            " [0 0 0 0 0 0 0 0 0 0 0 0 0 1 0 0 0 0 0 0 0]\n",
            " [0 0 0 0 0 0 0 0 0 0 0 0 0 2 0 0 0 0 0 0 0]\n",
            " [0 0 0 0 0 0 0 0 0 0 0 0 0 1 0 0 0 0 0 0 0]\n",
            " [0 0 0 0 0 0 0 0 0 0 0 0 0 1 0 0 0 0 0 0 0]\n",
            " [0 0 0 0 0 0 0 0 0 0 0 0 0 3 0 0 0 0 0 0 0]\n",
            " [0 0 0 0 0 0 0 0 0 0 0 0 0 1 0 0 0 0 0 0 0]\n",
            " [0 0 0 0 0 0 0 0 0 0 0 0 0 1 0 0 0 0 0 0 0]]\n",
            "              precision    recall  f1-score   support\n",
            "\n",
            "    18500000       0.00      0.00      0.00         1\n",
            "    37000000       0.00      0.00      0.00         2\n",
            "    70000000       0.00      0.00      0.00         1\n",
            "    75000000       0.00      0.00      0.00         0\n",
            "    79000000       0.00      0.00      0.00         1\n",
            "    80000000       0.00      0.00      0.00         1\n",
            "    85000000       0.00      0.00      0.00         1\n",
            "    90000000       0.00      0.00      0.00         3\n",
            "    95000000       0.00      0.00      0.00         1\n",
            "   105000000       0.00      0.00      0.00         1\n",
            "   120000000       0.00      0.00      0.00         1\n",
            "   130000000       0.00      0.00      0.00         2\n",
            "   140000000       0.00      0.00      0.00         1\n",
            "   150000000       0.11      1.00      0.20         3\n",
            "   160000000       0.00      0.00      0.00         1\n",
            "   170000000       0.00      0.00      0.00         2\n",
            "   178000000       0.00      0.00      0.00         1\n",
            "   180000000       0.00      0.00      0.00         1\n",
            "   200000000       0.00      0.00      0.00         3\n",
            "   220000000       0.00      0.00      0.00         1\n",
            "   225000000       0.00      0.00      0.00         1\n",
            "\n",
            "    accuracy                           0.10        29\n",
            "   macro avg       0.01      0.05      0.01        29\n",
            "weighted avg       0.01      0.10      0.02        29\n",
            "\n"
          ],
          "name": "stdout"
        },
        {
          "output_type": "stream",
          "text": [
            "/usr/local/lib/python3.6/dist-packages/sklearn/metrics/_classification.py:1272: UndefinedMetricWarning: Precision and F-score are ill-defined and being set to 0.0 in labels with no predicted samples. Use `zero_division` parameter to control this behavior.\n",
            "  _warn_prf(average, modifier, msg_start, len(result))\n",
            "/usr/local/lib/python3.6/dist-packages/sklearn/metrics/_classification.py:1272: UndefinedMetricWarning: Recall and F-score are ill-defined and being set to 0.0 in labels with no true samples. Use `zero_division` parameter to control this behavior.\n",
            "  _warn_prf(average, modifier, msg_start, len(result))\n"
          ],
          "name": "stderr"
        }
      ]
    },
    {
      "cell_type": "markdown",
      "metadata": {
        "id": "7KvlZxCKFiMG",
        "colab_type": "text"
      },
      "source": [
        "# MODEL ANALYSIS"
      ]
    },
    {
      "cell_type": "markdown",
      "metadata": {
        "id": "OxJ3gvLbFkXR",
        "colab_type": "text"
      },
      "source": [
        "# CONCLUSION"
      ]
    }
  ]
}